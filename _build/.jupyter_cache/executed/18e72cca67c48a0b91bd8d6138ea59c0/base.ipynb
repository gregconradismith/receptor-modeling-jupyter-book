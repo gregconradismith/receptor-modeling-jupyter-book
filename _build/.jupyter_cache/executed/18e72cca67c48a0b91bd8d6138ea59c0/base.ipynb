{
 "cells": [
  {
   "cell_type": "code",
   "execution_count": 1,
   "metadata": {
    "collapsed": false
   },
   "outputs": [],
   "source": [
    "def foo(arg1,arg2):         \n",
    "    \"\"\"Return the square of a.\"\"\"\n",
    "    a = arg1 + arg2         \n",
    "    return a  "
   ]
  },
  {
   "cell_type": "code",
   "execution_count": 2,
   "metadata": {
    "collapsed": false
   },
   "outputs": [
    {
     "data": {
      "text/plain": [
       "81"
      ]
     },
     "execution_count": 2,
     "metadata": {},
     "output_type": "execute_result"
    }
   ],
   "source": [
    "foo(3,78)"
   ]
  },
  {
   "cell_type": "code",
   "execution_count": 3,
   "metadata": {
    "collapsed": false
   },
   "outputs": [
    {
     "name": "stdout",
     "output_type": "stream",
     "text": [
      "def foo(arg1,arg2):         \n",
      "    \"\"\"Return the square of a.\"\"\"\n",
      "    a = arg1 + arg2         \n",
      "    return a  \n",
      "\n"
     ]
    }
   ],
   "source": [
    "import inspect\n",
    "lines = inspect.getsource(foo)\n",
    "print(lines)"
   ]
  },
  {
   "cell_type": "code",
   "execution_count": 4,
   "metadata": {
    "collapsed": false
   },
   "outputs": [
    {
     "data": {
      "text/markdown": [
       "Return the point `(x^5,y)`.\n",
       "\n",
       "INPUT:\n",
       "\n",
       "- ``x`` -- integer (default: `1`); the description of the\n",
       "  argument ``x`` goes here. If it contains multiple lines, all\n",
       "  the lines after the first need to begin at the same indentation\n",
       "  as the backtick.\n",
       "\n",
       "- ``y`` -- integer (default: `2`); the description of the\n",
       "  argument ``y``"
      ],
      "text/plain": [
       "<IPython.core.display.Markdown object>"
      ]
     },
     "metadata": {},
     "output_type": "display_data"
    }
   ],
   "source": [
    "import inspect\n",
    "from IPython.display import display, Markdown, Latex, display_markdown\n",
    "\n",
    "def func():\n",
    "    r\"\"\"\n",
    "    Return the point `(x^5,y)`.\n",
    "\n",
    "    INPUT:\n",
    "\n",
    "    - ``x`` -- integer (default: `1`); the description of the\n",
    "      argument ``x`` goes here. If it contains multiple lines, all\n",
    "      the lines after the first need to begin at the same indentation\n",
    "      as the backtick.\n",
    "\n",
    "    - ``y`` -- integer (default: `2`); the description of the\n",
    "      argument ``y``\n",
    "    \"\"\"\n",
    "    display(Markdown(inspect.getdoc(func)))\n",
    "func()"
   ]
  },
  {
   "cell_type": "code",
   "execution_count": 5,
   "metadata": {
    "collapsed": false
   },
   "outputs": [
    {
     "data": {
      "text/markdown": [
       "Return (really!) return the point `(x^5,y)`.\n",
       "\n",
       "INPUT:\n",
       "\n",
       "- ``z`` -- integer (default: `1`); the description of the\n",
       "  argument ``x`` goes here. If it contains multiple lines, all\n",
       "  the lines after the first need to begin at the same indentation\n",
       "  as the backtick.\n",
       "\n",
       "- ``w`` -- integer (default: `2`); the description of the\n",
       "  argument ``y``"
      ],
      "text/plain": [
       "<IPython.core.display.Markdown object>"
      ]
     },
     "metadata": {},
     "output_type": "display_data"
    }
   ],
   "source": [
    "def func2():\n",
    "    r\"\"\"\n",
    "    Return (really!) return the point `(x^5,y)`.\n",
    "\n",
    "    INPUT:\n",
    "\n",
    "    - ``z`` -- integer (default: `1`); the description of the\n",
    "      argument ``x`` goes here. If it contains multiple lines, all\n",
    "      the lines after the first need to begin at the same indentation\n",
    "      as the backtick.\n",
    "\n",
    "    - ``w`` -- integer (default: `2`); the description of the\n",
    "      argument ``y``\n",
    "    \"\"\"\n",
    "    return\n",
    "display(Markdown(inspect.getdoc(func2)))\n"
   ]
  },
  {
   "cell_type": "code",
   "execution_count": 6,
   "metadata": {
    "collapsed": false
   },
   "outputs": [
    {
     "name": "stdout",
     "output_type": "stream",
     "text": [
      "Help on function foo in module __main__:\n",
      "\n",
      "foo(arg1, arg2)\n",
      "    Return the square of a.\n",
      "\n"
     ]
    }
   ],
   "source": [
    "help(foo)"
   ]
  },
  {
   "cell_type": "code",
   "execution_count": 7,
   "metadata": {
    "collapsed": false
   },
   "outputs": [],
   "source": [
    "def point(self, x=1, y=2):\n",
    "    r\"\"\"\n",
    "    Return the point `(x^5,y)`.\n",
    "\n",
    "    INPUT:\n",
    "\n",
    "    - ``x`` -- integer (default: `1`); the description of the\n",
    "      argument ``x`` goes here. If it contains multiple lines, all\n",
    "      the lines after the first need to begin at the same indentation\n",
    "      as the backtick.\n",
    "\n",
    "    - ``y`` -- integer (default: `2`); the description of the\n",
    "      argument ``y``\n",
    "\n",
    "    OUTPUT: the point as a tuple\n",
    "\n",
    "    EXAMPLES:\n",
    "\n",
    "    This example illustrates ... ::\n",
    "\n",
    "        sage: A = ModuliSpace()\n",
    "        sage: A.point(2,3)\n",
    "        xxx\n",
    "\n",
    "    We now ... ::\n",
    "\n",
    "        sage: B = A.point(5,6)\n",
    "        sage: xxx\n",
    "\n",
    "    It is an error to ... ::\n",
    "\n",
    "        sage: C = A.point('x',7)\n",
    "        Traceback (most recent call last):\n",
    "        ...\n",
    "        TypeError: unable to convert 'r' to an integer\n",
    "\n",
    "    .. NOTE::\n",
    "\n",
    "        This function uses the algorithm of [BCDT2001]_ to determine\n",
    "        whether an elliptic curve `E` over `Q` is modular.\n",
    "\n",
    "    ...\n",
    "\n",
    "    .. SEEALSO::\n",
    "\n",
    "        :func:`line`\n",
    "\n",
    "    TESTS::\n",
    "\n",
    "        sage: A.point(42, 0)  # Check for corner case y=0\n",
    "        xxx\n",
    "    \"\"\""
   ]
  },
  {
   "cell_type": "code",
   "execution_count": 8,
   "metadata": {
    "collapsed": false
   },
   "outputs": [
    {
     "name": "stdout",
     "output_type": "stream",
     "text": [
      "Help on function point in module __main__:\n",
      "\n",
      "point(self, x=1, y=2)\n",
      "    Return the point `(x^5,y)`.\n",
      "    \n",
      "    INPUT:\n",
      "    \n",
      "    - ``x`` -- integer (default: `1`); the description of the\n",
      "      argument ``x`` goes here. If it contains multiple lines, all\n",
      "      the lines after the first need to begin at the same indentation\n",
      "      as the backtick.\n",
      "    \n",
      "    - ``y`` -- integer (default: `2`); the description of the\n",
      "      argument ``y``\n",
      "    \n",
      "    OUTPUT: the point as a tuple\n",
      "    \n",
      "    EXAMPLES:\n",
      "    \n",
      "    This example illustrates ... ::\n",
      "    \n",
      "        sage: A = ModuliSpace()\n",
      "        sage: A.point(2,3)\n",
      "        xxx\n",
      "    \n",
      "    We now ... ::\n",
      "    \n",
      "        sage: B = A.point(5,6)\n",
      "        sage: xxx\n",
      "    \n",
      "    It is an error to ... ::\n",
      "    \n",
      "        sage: C = A.point('x',7)\n",
      "        Traceback (most recent call last):\n",
      "        ...\n",
      "        TypeError: unable to convert 'r' to an integer\n",
      "    \n",
      "    .. NOTE::\n",
      "    \n",
      "        This function uses the algorithm of [BCDT2001]_ to determine\n",
      "        whether an elliptic curve `E` over `Q` is modular.\n",
      "    \n",
      "    ...\n",
      "    \n",
      "    .. SEEALSO::\n",
      "    \n",
      "        :func:`line`\n",
      "    \n",
      "    TESTS::\n",
      "    \n",
      "        sage: A.point(42, 0)  # Check for corner case y=0\n",
      "        xxx\n",
      "\n"
     ]
    }
   ],
   "source": [
    "help(point)"
   ]
  },
  {
   "cell_type": "code",
   "execution_count": 9,
   "metadata": {
    "collapsed": false
   },
   "outputs": [],
   "source": [
    "%pdoc point"
   ]
  },
  {
   "cell_type": "code",
   "execution_count": 0,
   "metadata": {
    "collapsed": false
   },
   "outputs": [],
   "source": []
  },
  {
   "cell_type": "code",
   "execution_count": 10,
   "metadata": {
    "collapsed": false
   },
   "outputs": [
    {
     "data": {
      "text/markdown": [
       "Help on function point in module __main__:\n",
       "\n",
       "point(self, x=1, y=2)\n",
       "    Return the point `(x^5,y)`.\n",
       "    \n",
       "    INPUT:\n",
       "    \n",
       "    - ``x`` -- integer (default: `1`); the description of the\n",
       "      argument ``x`` goes here. If it contains multiple lines, all\n",
       "      the lines after the first need to begin at the same indentation\n",
       "      as the backtick.\n",
       "    \n",
       "    - ``y`` -- integer (default: `2`); the description of the\n",
       "      argument ``y``\n",
       "    \n",
       "    OUTPUT: the point as a tuple\n",
       "    \n",
       "    EXAMPLES:\n",
       "    \n",
       "    This example illustrates ... ::\n",
       "    \n",
       "        sage: A = ModuliSpace()\n",
       "        sage: A.point(2,3)\n",
       "        xxx\n",
       "    \n",
       "    We now ... ::\n",
       "    \n",
       "        sage: B = A.point(5,6)\n",
       "        sage: xxx\n",
       "    \n",
       "    It is an error to ... ::\n",
       "    \n",
       "        sage: C = A.point('x',7)\n",
       "        Traceback (most recent call last):\n",
       "        ...\n",
       "        TypeError: unable to convert 'r' to an integer\n",
       "    \n",
       "    .. NOTE::\n",
       "    \n",
       "        This function uses the algorithm of [BCDT2001]_ to determine\n",
       "        whether an elliptic curve `E` over `Q` is modular.\n",
       "    \n",
       "    ...\n",
       "    \n",
       "    .. SEEALSO::\n",
       "    \n",
       "        :func:`line`\n",
       "    \n",
       "    TESTS::\n",
       "    \n",
       "        sage: A.point(42, 0)  # Check for corner case y=0\n",
       "        xxx\n",
       "\n"
      ]
     },
     "metadata": {},
     "output_type": "display_data"
    }
   ],
   "source": [
    "from IPython.display import display, Markdown, Latex, display_markdown\n",
    "import io\n",
    "from contextlib import redirect_stdout\n",
    "\n",
    "# Create a string buffer to capture the output\n",
    "output_buffer = io.StringIO()\n",
    "\n",
    "# Use redirect_stdout to capture the output of help(\"IPython.display.Markdown\")\n",
    "with redirect_stdout(output_buffer):\n",
    "    help(point)\n",
    "\n",
    "# Get the captured output as a string\n",
    "help_output = output_buffer.getvalue()\n",
    "\n",
    "# Display or use the captured output as needed\n",
    "#display(Markdown(help_output))\n",
    "display_markdown(help_output,raw=True)"
   ]
  },
  {
   "cell_type": "code",
   "execution_count": 17,
   "metadata": {
    "collapsed": false
   },
   "outputs": [
    {
     "data": {
      "text/markdown": [
       "## heading\n",
       "- ordered\n",
       "- list\n",
       "\n",
       "The table below:\n",
       "\n",
       "| id |value|\n",
       "|:---|----:|\n",
       "| a  |  1  |\n",
       "| b  |  2  |\n"
      ]
     },
     "execution_count": 17,
     "metadata": {},
     "output_type": "execute_result"
    }
   ],
   "source": []
  },
  {
   "cell_type": "code",
   "execution_count": 0,
   "metadata": {
    "collapsed": false
   },
   "outputs": [],
   "source": []
  },
  {
   "cell_type": "code",
   "execution_count": 0,
   "metadata": {
    "collapsed": false
   },
   "outputs": [],
   "source": []
  }
 ],
 "metadata": {
  "kernelspec": {
   "argv": [
    "sage-10.0",
    "--python",
    "-m",
    "sage.repl.ipython_kernel",
    "--matplotlib=inline",
    "-f",
    "{connection_file}"
   ],
   "display_name": "SageMath 10.0",
   "env": {},
   "language": "sagemath",
   "metadata": {
    "cocalc": {
     "description": "Open-source mathematical software system",
     "priority": 1,
     "url": "https://www.sagemath.org/"
    }
   },
   "name": "sage-10.0",
   "resource_dir": "/ext/jupyter/kernels/sage-10.0"
  },
  "language_info": {
   "codemirror_mode": {
    "name": "ipython",
    "version": 3
   },
   "file_extension": ".py",
   "mimetype": "text/x-python",
   "name": "python",
   "nbconvert_exporter": "python",
   "pygments_lexer": "ipython3",
   "version": "3.11.1"
  }
 },
 "nbformat": 4,
 "nbformat_minor": 4
}