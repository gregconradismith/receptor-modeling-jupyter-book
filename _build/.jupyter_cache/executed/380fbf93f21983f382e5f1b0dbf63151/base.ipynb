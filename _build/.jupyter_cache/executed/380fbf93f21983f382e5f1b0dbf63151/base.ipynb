{
 "cells": [
  {
   "cell_type": "code",
   "execution_count": 1,
   "id": "fc3ec432",
   "metadata": {},
   "outputs": [
    {
     "data": {
      "image/png": "[encoded data removed]",
      "text/plain": [
       "Graphics object consisting of 25 graphics primitives"
      ]
     },
     "execution_count": 1,
     "metadata": {},
     "output_type": "execute_result"
    }
   ],
   "source": [
    "var('a12, a21, a13, a31, a23, a32, a34, a43')\n",
    "d = {1: {2:a12, 3:a13}, 2: {1:a21, 3:a23}, 3: {2:a32, 1:a31, 4:a34}, 4: {3:a43}};\n",
    "G = DiGraph(d,weighted=True)\n",
    "vertex_positions = {1: (0, 0), 2: (1, 1.41), 3: (2, 0), 4: (4,0)}\n",
    "G.plot(figsize=8,edge_labels=True,pos=vertex_positions,graph_border=True)"
   ]
  },
  {
   "cell_type": "code",
   "execution_count": 2,
   "id": "2296b254",
   "metadata": {},
   "outputs": [
    {
     "data": {
      "text/html": [
       "<html>\\(\\displaystyle \\left(\\begin{array}{rrrr}\n",
       "0 & a_{12} & a_{13} & 0 \\\\\n",
       "a_{21} & 0 & a_{23} & 0 \\\\\n",
       "a_{31} & a_{32} & 0 & a_{34} \\\\\n",
       "0 & 0 & a_{43} & 0\n",
       "\\end{array}\\right)\\)</html>"
      ],
      "text/latex": [
       "$\\displaystyle \\left(\\begin{array}{rrrr}\n",
       "0 & a_{12} & a_{13} & 0 \\\\\n",
       "a_{21} & 0 & a_{23} & 0 \\\\\n",
       "a_{31} & a_{32} & 0 & a_{34} \\\\\n",
       "0 & 0 & a_{43} & 0\n",
       "\\end{array}\\right)$"
      ],
      "text/plain": [
       "[  0 a12 a13   0]\n",
       "[a21   0 a23   0]\n",
       "[a31 a32   0 a34]\n",
       "[  0   0 a43   0]"
      ]
     },
     "metadata": {},
     "output_type": "display_data"
    },
    {
     "name": "stdout",
     "output_type": "stream",
     "text": [
      "The rank of A is 4\n"
     ]
    }
   ],
   "source": [
    "A = G.weighted_adjacency_matrix(sparse=False)\n",
    "show(A)\n",
    "print('The rank of A is', A.rank())"
   ]
  },
  {
   "cell_type": "code",
   "execution_count": 3,
   "id": "dcffd2d7",
   "metadata": {},
   "outputs": [
    {
     "data": {
      "text/html": [
       "<html>\\(\\displaystyle \\left(\\begin{array}{rrrr}\n",
       "-a_{12} - a_{13} & a_{12} & a_{13} & 0 \\\\\n",
       "a_{21} & -a_{21} - a_{23} & a_{23} & 0 \\\\\n",
       "a_{31} & a_{32} & -a_{31} - a_{32} - a_{34} & a_{34} \\\\\n",
       "0 & 0 & a_{43} & -a_{43}\n",
       "\\end{array}\\right)\\)</html>"
      ],
      "text/latex": [
       "$\\displaystyle \\left(\\begin{array}{rrrr}\n",
       "-a_{12} - a_{13} & a_{12} & a_{13} & 0 \\\\\n",
       "a_{21} & -a_{21} - a_{23} & a_{23} & 0 \\\\\n",
       "a_{31} & a_{32} & -a_{31} - a_{32} - a_{34} & a_{34} \\\\\n",
       "0 & 0 & a_{43} & -a_{43}\n",
       "\\end{array}\\right)$"
      ],
      "text/plain": [
       "[      -a12 - a13              a12              a13                0]\n",
       "[             a21       -a21 - a23              a23                0]\n",
       "[             a31              a32 -a31 - a32 - a34              a34]\n",
       "[               0                0              a43             -a43]"
      ]
     },
     "metadata": {},
     "output_type": "display_data"
    },
    {
     "name": "stdout",
     "output_type": "stream",
     "text": [
      "The rank of Q is 3\n"
     ]
    }
   ],
   "source": [
    "Q = A - diagonal_matrix(sum(A.T))\n",
    "show(Q)\n",
    "print('The rank of Q is',Q.rank())"
   ]
  },
  {
   "cell_type": "code",
   "execution_count": 4,
   "id": "2d5ee092",
   "metadata": {},
   "outputs": [
    {
     "name": "stdout",
     "output_type": "stream",
     "text": [
      "[0]\n",
      "[0]\n",
      "[0]\n",
      "[0]\n"
     ]
    }
   ],
   "source": [
    "e = matrix([1,1,1,1]).T\n",
    "print(Q*e)"
   ]
  },
  {
   "cell_type": "code",
   "execution_count": 5,
   "id": "eed28ca6",
   "metadata": {},
   "outputs": [
    {
     "name": "stdout",
     "output_type": "stream",
     "text": [
      "-(a12 + a13)*p1 + a21*p2 + a31*p3 == 0\n",
      "a12*p1 - (a21 + a23)*p2 + a32*p3 == 0\n",
      "a13*p1 + a23*p2 - (a31 + a32 + a34)*p3 + a43*p4 == 0\n",
      "a34*p3 - a43*p4 == 0\n"
     ]
    }
   ],
   "source": [
    "var('p1 p2 p3 p4')\n",
    "p = vector([p1, p2, p3, p4])\n",
    "pQ = p*Q\n",
    "eq =[]\n",
    "for lhs in pQ:\n",
    "    print(lhs == 0)\n",
    "    eq.append(lhs == 0)"
   ]
  },
  {
   "cell_type": "code",
   "execution_count": 6,
   "id": "f80eee93",
   "metadata": {},
   "outputs": [
    {
     "name": "stdout",
     "output_type": "stream",
     "text": [
      "3\n"
     ]
    }
   ],
   "source": [
    "print(Q.rank())"
   ]
  },
  {
   "cell_type": "code",
   "execution_count": 7,
   "id": "8e729a13",
   "metadata": {},
   "outputs": [
    {
     "name": "stdout",
     "output_type": "stream",
     "text": [
      "-(a12 + a13)*p1 + a21*p2 + a31*p3 == 0\n",
      "a12*p1 - (a21 + a23)*p2 + a32*p3 == 0\n",
      "a13*p1 + a23*p2 - (a31 + a32 + a34)*p3 + a43*p4 == 0\n",
      "p1 + p2 + p3 + p4 == 1\n"
     ]
    }
   ],
   "source": [
    "eq[-1] = p1+p2+p3+p4 == 1\n",
    "for q in eq:\n",
    "    print(q)"
   ]
  },
  {
   "cell_type": "code",
   "execution_count": 8,
   "id": "f9e00a30",
   "metadata": {},
   "outputs": [
    {
     "name": "stdout",
     "output_type": "stream",
     "text": [
      "p1 = (a21*a31 + a23*a31 + a21*a32)*a43/(a13*a21*a34 + a12*a23*a34 + a13*a23*a34 + a13*a21*a43 + a12*a23*a43 + a13*a23*a43 + a12*a31*a43 + a21*a31*a43 + a23*a31*a43 + a12*a32*a43 + a13*a32*a43 + a21*a32*a43)\n",
      "p2 = (a12*a31 + a12*a32 + a13*a32)*a43/(a13*a21*a34 + a12*a23*a34 + a13*a23*a34 + a13*a21*a43 + a12*a23*a43 + a13*a23*a43 + a12*a31*a43 + a21*a31*a43 + a23*a31*a43 + a12*a32*a43 + a13*a32*a43 + a21*a32*a43)\n",
      "p3 = (a13*a21 + a12*a23 + a13*a23)*a43/(a13*a21*a34 + a12*a23*a34 + a13*a23*a34 + a13*a21*a43 + a12*a23*a43 + a13*a23*a43 + a12*a31*a43 + a21*a31*a43 + a23*a31*a43 + a12*a32*a43 + a13*a32*a43 + a21*a32*a43)\n",
      "p4 = (a13*a21 + a12*a23 + a13*a23)*a34/(a13*a21*a34 + a12*a23*a34 + a13*a23*a34 + a13*a21*a43 + a12*a23*a43 + a13*a23*a43 + a12*a31*a43 + a21*a31*a43 + a23*a31*a43 + a12*a32*a43 + a13*a32*a43 + a21*a32*a43)\n"
     ]
    }
   ],
   "source": [
    "z = solve(eq,list(p))\n",
    "for i in range(4):\n",
    "    f = z[0][i].rhs()\n",
    "    print('p%s' % (i+1),'=',f.expand().factor())"
   ]
  },
  {
   "cell_type": "code",
   "execution_count": 9,
   "id": "fbc1bcb5",
   "metadata": {
    "tags": [
     "hide-cell"
    ]
   },
   "outputs": [],
   "source": [
    "def mysolve(p,Q):\n",
    "    pQ = p*Q\n",
    "    eq =[]\n",
    "    for lhs in pQ:\n",
    "       eq.append(lhs == 0)\n",
    "    eq[-1] = p1+p2+p3+p4 == 1\n",
    "    z = solve(eq,list(p))\n",
    "    for i in range(4):\n",
    "        f = z[0][i].rhs()\n",
    "        print('p%s' % (i+1),'=',f.expand().factor())"
   ]
  },
  {
   "cell_type": "code",
   "execution_count": 10,
   "id": "394a515e",
   "metadata": {},
   "outputs": [
    {
     "name": "stdout",
     "output_type": "stream",
     "text": [
      "p1 = a21*a32*a43/(a12*a23*a34 + a12*a23*a43 + a12*a32*a43 + a21*a32*a43)\n",
      "p2 = a12*a32*a43/(a12*a23*a34 + a12*a23*a43 + a12*a32*a43 + a21*a32*a43)\n",
      "p3 = a12*a23*a43/(a12*a23*a34 + a12*a23*a43 + a12*a32*a43 + a21*a32*a43)\n",
      "p4 = a12*a23*a34/(a12*a23*a34 + a12*a23*a43 + a12*a32*a43 + a21*a32*a43)\n"
     ]
    }
   ],
   "source": [
    "Q = Q.subs(a31=a13*a32*a21/(a12*a23))\n",
    "mysolve(p,Q)"
   ]
  },
  {
   "cell_type": "code",
   "execution_count": 11,
   "id": "c78bce54",
   "metadata": {},
   "outputs": [
    {
     "data": {
      "image/png": "[encoded data removed]",
      "text/plain": [
       "Graphics object consisting of 12 graphics primitives"
      ]
     },
     "execution_count": 11,
     "metadata": {},
     "output_type": "execute_result"
    }
   ],
   "source": [
    "var('kappa_2, kappa_3, kappa_4')\n",
    "d = {2: {1:kappa_2}, 3: {2:kappa_3}, 4: {3:kappa_4}};\n",
    "G = DiGraph(d,weighted=True)\n",
    "vertex_positions = {1: (0, 0), 2: (1, 1.41), 3: (2, 0), 4: (4,0)}\n",
    "G.plot(figsize=8,edge_labels=True,pos=vertex_positions,graph_border=True)"
   ]
  }
 ],
 "metadata": {
  "jupytext": {
   "cell_metadata_filter": "-all",
   "formats": "md:myst",
   "text_representation": {
    "extension": ".md",
    "format_name": "myst",
    "format_version": 0.13,
    "jupytext_version": "1.10.3"
   }
  },
  "kernelspec": {
   "display_name": "SageMath 10",
   "language": "sage",
   "name": "sage-10.0"
  },
  "language_info": {
   "codemirror_mode": {
    "name": "ipython",
    "version": 3
   },
   "file_extension": ".py",
   "mimetype": "text/x-python",
   "name": "python",
   "nbconvert_exporter": "python",
   "pygments_lexer": "ipython3",
   "version": "3.11.1"
  },
  "source_map": [
   14,
   29,
   35,
   40,
   46,
   50,
   54,
   57,
   76,
   84,
   87,
   89,
   93,
   97,
   101,
   106,
   133,
   145,
   148,
   151,
   168,
   174
  ]
 },
 "nbformat": 4,
 "nbformat_minor": 5
}