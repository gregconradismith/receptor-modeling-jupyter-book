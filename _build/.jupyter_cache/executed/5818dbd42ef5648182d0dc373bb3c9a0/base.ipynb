{
 "cells": [
  {
   "cell_type": "code",
   "execution_count": 1,
   "id": "3e484983",
   "metadata": {},
   "outputs": [
    {
     "data": {
      "image/png": "[encoded data removed]",
      "text/plain": [
       "Graphics object consisting of 14 graphics primitives"
      ]
     },
     "metadata": {},
     "output_type": "display_data"
    }
   ],
   "source": [
    "var('p0 p1 p2 a01 a10 a12 a21')\n",
    "G=graphs.PathGraph(3).to_directed()\n",
    "G.relabel({0:p0,1:p1,2:p2})\n",
    "G.set_edge_label(p0,p1,a01)\n",
    "G.set_edge_label(p1,p0,a10)\n",
    "G.set_edge_label(p1,p2,a12)\n",
    "G.set_edge_label(p2,p1,a21)\n",
    "G.show(figsize=4,edge_labels=True)"
   ]
  },
  {
   "cell_type": "code",
   "execution_count": 2,
   "id": "a8b063d4",
   "metadata": {},
   "outputs": [],
   "source": [
    "A = G.weighted_adjacency_matrix()"
   ]
  },
  {
   "cell_type": "code",
   "execution_count": 3,
   "id": "5d797b14",
   "metadata": {},
   "outputs": [
    {
     "data": {
      "text/html": [
       "<html>\\(\\displaystyle \\left(\\begin{array}{rrr}\n",
       "a_{01} & -a_{01} & 0 \\\\\n",
       "-a_{10} & a_{10} + a_{12} & -a_{12} \\\\\n",
       "0 & -a_{21} & a_{21}\n",
       "\\end{array}\\right)\\)</html>"
      ],
      "text/latex": [
       "$\\displaystyle \\left(\\begin{array}{rrr}\n",
       "a_{01} & -a_{01} & 0 \\\\\n",
       "-a_{10} & a_{10} + a_{12} & -a_{12} \\\\\n",
       "0 & -a_{21} & a_{21}\n",
       "\\end{array}\\right)$"
      ],
      "text/plain": [
       "[      a01      -a01         0]\n",
       "[     -a10 a10 + a12      -a12]\n",
       "[        0      -a21       a21]"
      ]
     },
     "metadata": {},
     "output_type": "display_data"
    }
   ],
   "source": [
    "L = diagonal_matrix(sum(A.T))-A\n",
    "show(L)"
   ]
  },
  {
   "cell_type": "code",
   "execution_count": 4,
   "id": "79c3c70b",
   "metadata": {},
   "outputs": [
    {
     "data": {
      "text/plain": [
       "True"
      ]
     },
     "execution_count": 4,
     "metadata": {},
     "output_type": "execute_result"
    }
   ],
   "source": [
    "sum(A.T) == sum(A.columns())"
   ]
  },
  {
   "cell_type": "code",
   "execution_count": 5,
   "id": "5f04c288",
   "metadata": {},
   "outputs": [],
   "source": [
    "def generator(A):\n",
    "    return A-diagonal_matrix(sum(A.T))"
   ]
  },
  {
   "cell_type": "code",
   "execution_count": 6,
   "id": "d3031dfc",
   "metadata": {},
   "outputs": [
    {
     "data": {
      "text/html": [
       "<html>\\(\\displaystyle \\left(\\begin{array}{rrr}\n",
       "-a_{01} & a_{01} & 0 \\\\\n",
       "a_{10} & -a_{10} - a_{12} & a_{12} \\\\\n",
       "0 & a_{21} & -a_{21}\n",
       "\\end{array}\\right)\\)</html>"
      ],
      "text/latex": [
       "$\\displaystyle \\left(\\begin{array}{rrr}\n",
       "-a_{01} & a_{01} & 0 \\\\\n",
       "a_{10} & -a_{10} - a_{12} & a_{12} \\\\\n",
       "0 & a_{21} & -a_{21}\n",
       "\\end{array}\\right)$"
      ],
      "text/plain": [
       "[      -a01        a01          0]\n",
       "[       a10 -a10 - a12        a12]\n",
       "[         0        a21       -a21]"
      ]
     },
     "metadata": {},
     "output_type": "display_data"
    }
   ],
   "source": [
    "Q = generator(A)\n",
    "show(Q)"
   ]
  },
  {
   "cell_type": "code",
   "execution_count": 7,
   "id": "86c20008",
   "metadata": {},
   "outputs": [
    {
     "data": {
      "text/plain": [
       "True"
      ]
     },
     "execution_count": 7,
     "metadata": {},
     "output_type": "execute_result"
    }
   ],
   "source": [
    "sum(Q.columns()) == sum(Q.T)"
   ]
  },
  {
   "cell_type": "code",
   "execution_count": 8,
   "id": "ec17de68",
   "metadata": {
    "tags": [
     "hide-input"
    ]
   },
   "outputs": [
    {
     "data": {
      "image/png": "[encoded data removed]",
      "text/plain": [
       "Graphics object consisting of 8 graphics primitives"
      ]
     },
     "metadata": {},
     "output_type": "display_data"
    },
    {
     "data": {
      "image/png": "[encoded data removed]",
      "text/plain": [
       "Graphics object consisting of 8 graphics primitives"
      ]
     },
     "metadata": {},
     "output_type": "display_data"
    },
    {
     "data": {
      "image/png": "[encoded data removed]",
      "text/plain": [
       "Graphics object consisting of 8 graphics primitives"
      ]
     },
     "metadata": {},
     "output_type": "display_data"
    }
   ],
   "source": [
    "T0 = G.copy()\n",
    "T1 = G.copy()\n",
    "T2 = G.copy()\n",
    "\n",
    "T0.delete_edge(p0,p1)\n",
    "T0.delete_edge(p1,p2)\n",
    "\n",
    "T1.delete_edge(p1,p0)\n",
    "T1.delete_edge(p1,p2)\n",
    "\n",
    "T2.delete_edge(p1,p0)\n",
    "T2.delete_edge(p2,p1)\n",
    "\n",
    "T0.show(figsize=4,edge_labels=True)\n",
    "T1.show(figsize=4,edge_labels=True)\n",
    "T2.show(figsize=4,edge_labels=True)"
   ]
  },
  {
   "cell_type": "code",
   "execution_count": 9,
   "id": "3013ee28",
   "metadata": {},
   "outputs": [
    {
     "name": "stdout",
     "output_type": "stream",
     "text": [
      "[ z0 : z1 : z2 ] = [ a10*a21 : a01*a21 : a01*a12 ]\n"
     ]
    }
   ],
   "source": [
    "z0 = Q[[1,2],[1,2]].determinant().simplify_full()\n",
    "z1 = Q[[0,2],[0,2]].determinant().simplify_full()\n",
    "z2 = Q[[0,1],[0,1]].determinant().simplify_full()\n",
    "print(f'[ z0 : z1 : z2 ] = [ {z0} : {z1} : {z2} ]')"
   ]
  },
  {
   "cell_type": "code",
   "execution_count": 10,
   "id": "dfa9362f",
   "metadata": {},
   "outputs": [
    {
     "data": {
      "text/html": [
       "<div class=\"notruncate\">\n",
       "<table  class=\"table_form\">\n",
       "<tbody>\n",
       "<tr class =\"row-a\">\n",
       "<td style=\"text-align:left\">p0=a10*a21/(a01*a12 + a01*a21 + a10*a21)</td>\n",
       "</tr>\n",
       "<tr class =\"row-b\">\n",
       "<td style=\"text-align:left\">p1=a01*a21/(a01*a12 + a01*a21 + a10*a21)</td>\n",
       "</tr>\n",
       "<tr class =\"row-a\">\n",
       "<td style=\"text-align:left\">p2=a01*a12/(a01*a12 + a01*a21 + a10*a21)</td>\n",
       "</tr>\n",
       "</tbody>\n",
       "</table>\n",
       "</div>"
      ],
      "text/plain": [
       "  p0=a10*a21/(a01*a12 + a01*a21 + a10*a21)\n",
       "  p1=a01*a21/(a01*a12 + a01*a21 + a10*a21)\n",
       "  p2=a01*a12/(a01*a12 + a01*a21 + a10*a21)"
      ]
     },
     "metadata": {},
     "output_type": "display_data"
    }
   ],
   "source": [
    "zT = z0+z1+z2\n",
    "p0 = z0/zT\n",
    "p1 = z1/zT\n",
    "p2 = z2/zT\n",
    "show(table([[f'{p0=}'],[f'{p1=}'],[f'{p2=}']]))"
   ]
  }
 ],
 "metadata": {
  "jupytext": {
   "cell_metadata_filter": "-all",
   "formats": "md:myst",
   "text_representation": {
    "extension": ".md",
    "format_name": "myst",
    "format_version": 0.13,
    "jupytext_version": "1.10.3"
   }
  },
  "kernelspec": {
   "display_name": "SageMath 10",
   "language": "sage",
   "name": "sage-10.0"
  },
  "language_info": {
   "codemirror_mode": {
    "name": "ipython",
    "version": 3
   },
   "file_extension": ".py",
   "mimetype": "text/x-python",
   "name": "python",
   "nbconvert_exporter": "python",
   "pygments_lexer": "ipython3",
   "version": "3.11.1"
  },
  "source_map": [
   14,
   21,
   30,
   34,
   36,
   40,
   43,
   49,
   51,
   57,
   60,
   64,
   67,
   71,
   73,
   80,
   98,
   103,
   108,
   112
  ]
 },
 "nbformat": 4,
 "nbformat_minor": 5
}