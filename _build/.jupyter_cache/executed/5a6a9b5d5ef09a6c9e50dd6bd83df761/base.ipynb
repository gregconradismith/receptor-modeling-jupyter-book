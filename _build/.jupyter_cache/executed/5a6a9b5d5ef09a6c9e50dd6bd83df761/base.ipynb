{
 "cells": [
  {
   "cell_type": "code",
   "execution_count": 1,
   "id": "b81d2bea",
   "metadata": {},
   "outputs": [
    {
     "data": {
      "image/png": "[encoded data removed]",
      "text/plain": [
       "Graphics object consisting of 14 graphics primitives"
      ]
     },
     "metadata": {},
     "output_type": "display_data"
    }
   ],
   "source": [
    "var('p0 p1 p2 a01 a10 a12 a21')\n",
    "G=graphs.PathGraph(3).to_directed()\n",
    "G.relabel({0:p0,1:p1,2:p2})\n",
    "G.set_edge_label(p0,p1,a01)\n",
    "G.set_edge_label(p1,p0,a10)\n",
    "G.set_edge_label(p1,p2,a12)\n",
    "G.set_edge_label(p2,p1,a21)\n",
    "G.show(figsize=4,edge_labels=True)"
   ]
  },
  {
   "cell_type": "code",
   "execution_count": 2,
   "id": "1af2ecb9",
   "metadata": {},
   "outputs": [],
   "source": [
    "A = G.weighted_adjacency_matrix()"
   ]
  },
  {
   "cell_type": "code",
   "execution_count": 3,
   "id": "9e3c37cd",
   "metadata": {},
   "outputs": [
    {
     "data": {
      "text/html": [
       "<html>\\(\\displaystyle \\left(\\begin{array}{rrr}\n",
       "a_{01} & -a_{01} & 0 \\\\\n",
       "-a_{10} & a_{10} + a_{12} & -a_{12} \\\\\n",
       "0 & -a_{21} & a_{21}\n",
       "\\end{array}\\right)\\)</html>"
      ],
      "text/latex": [
       "$\\displaystyle \\left(\\begin{array}{rrr}\n",
       "a_{01} & -a_{01} & 0 \\\\\n",
       "-a_{10} & a_{10} + a_{12} & -a_{12} \\\\\n",
       "0 & -a_{21} & a_{21}\n",
       "\\end{array}\\right)$"
      ],
      "text/plain": [
       "[      a01      -a01         0]\n",
       "[     -a10 a10 + a12      -a12]\n",
       "[        0      -a21       a21]"
      ]
     },
     "metadata": {},
     "output_type": "display_data"
    }
   ],
   "source": [
    "L = diagonal_matrix(sum(A.T))-A\n",
    "show(L)"
   ]
  },
  {
   "cell_type": "code",
   "execution_count": 4,
   "id": "0eca77ad",
   "metadata": {},
   "outputs": [
    {
     "data": {
      "text/plain": [
       "True"
      ]
     },
     "execution_count": 4,
     "metadata": {},
     "output_type": "execute_result"
    }
   ],
   "source": [
    "sum(A.T) == sum(A.columns())"
   ]
  },
  {
   "cell_type": "code",
   "execution_count": 5,
   "id": "9623f5d8",
   "metadata": {},
   "outputs": [],
   "source": [
    "def generator(A):\n",
    "    return A-diagonal_matrix(sum(A.T))"
   ]
  },
  {
   "cell_type": "code",
   "execution_count": 6,
   "id": "45de74be",
   "metadata": {},
   "outputs": [
    {
     "data": {
      "text/html": [
       "<html>\\(\\displaystyle \\left(\\begin{array}{rrr}\n",
       "-a_{01} & a_{01} & 0 \\\\\n",
       "a_{10} & -a_{10} - a_{12} & a_{12} \\\\\n",
       "0 & a_{21} & -a_{21}\n",
       "\\end{array}\\right)\\)</html>"
      ],
      "text/latex": [
       "$\\displaystyle \\left(\\begin{array}{rrr}\n",
       "-a_{01} & a_{01} & 0 \\\\\n",
       "a_{10} & -a_{10} - a_{12} & a_{12} \\\\\n",
       "0 & a_{21} & -a_{21}\n",
       "\\end{array}\\right)$"
      ],
      "text/plain": [
       "[      -a01        a01          0]\n",
       "[       a10 -a10 - a12        a12]\n",
       "[         0        a21       -a21]"
      ]
     },
     "metadata": {},
     "output_type": "display_data"
    }
   ],
   "source": [
    "Q = generator(A)\n",
    "show(Q)"
   ]
  },
  {
   "cell_type": "code",
   "execution_count": 7,
   "id": "bf7eb80e",
   "metadata": {},
   "outputs": [
    {
     "data": {
      "text/plain": [
       "True"
      ]
     },
     "execution_count": 7,
     "metadata": {},
     "output_type": "execute_result"
    }
   ],
   "source": [
    "sum(Q.columns()) == sum(Q.T)"
   ]
  },
  {
   "cell_type": "code",
   "execution_count": 8,
   "id": "97ca9f8a",
   "metadata": {},
   "outputs": [
    {
     "name": "stdout",
     "output_type": "stream",
     "text": [
      "[ a10*a21 : a01*a21 : a01*a12]\n"
     ]
    }
   ],
   "source": [
    "z0 = Q[[1,2],[1,2]].determinant().simplify_full()\n",
    "z1 = Q[[0,2],[0,2]].determinant().simplify_full()\n",
    "z2 = Q[[0,1],[0,1]].determinant().simplify_full()\n",
    "print(f'[ {z0} : {z1} : {z2}]')"
   ]
  },
  {
   "cell_type": "code",
   "execution_count": 9,
   "id": "d573f54d",
   "metadata": {},
   "outputs": [
    {
     "data": {
      "text/html": [
       "<div class=\"notruncate\">\n",
       "<table  class=\"table_form\">\n",
       "<tbody>\n",
       "<tr class =\"row-a\">\n",
       "<td style=\"text-align:left\">p0=a10*a21/(a01*a12 + a01*a21 + a10*a21)</td>\n",
       "</tr>\n",
       "<tr class =\"row-b\">\n",
       "<td style=\"text-align:left\">p1=a01*a21/(a01*a12 + a01*a21 + a10*a21)</td>\n",
       "</tr>\n",
       "<tr class =\"row-a\">\n",
       "<td style=\"text-align:left\">p2=a01*a12/(a01*a12 + a01*a21 + a10*a21)</td>\n",
       "</tr>\n",
       "</tbody>\n",
       "</table>\n",
       "</div>"
      ],
      "text/plain": [
       "  p0=a10*a21/(a01*a12 + a01*a21 + a10*a21)\n",
       "  p1=a01*a21/(a01*a12 + a01*a21 + a10*a21)\n",
       "  p2=a01*a12/(a01*a12 + a01*a21 + a10*a21)"
      ]
     },
     "metadata": {},
     "output_type": "display_data"
    }
   ],
   "source": [
    "zT = z0+z1+z2\n",
    "p0 = z0/zT\n",
    "p1 = z1/zT\n",
    "p2 = z2/zT\n",
    "show(table([[f'{p0=}'],[f'{p1=}'],[f'{p2=}']]))"
   ]
  },
  {
   "cell_type": "code",
   "execution_count": 10,
   "id": "ecfba6a8",
   "metadata": {},
   "outputs": [],
   "source": [
    "def hill_diagramatic_method(Q):\n",
    "    n = Q.nrows()\n",
    "    if Q.ncols() != n:\n",
    "        raise ValueError\n",
    "    z = [0]*n\n",
    "    for i in range(n):\n",
    "        a = [ j for j in range(n) ]\n",
    "        a.remove(i)\n",
    "        z[i] = Q[a,a].determinant().simplify_full()\n",
    "    return z"
   ]
  },
  {
   "cell_type": "code",
   "execution_count": 11,
   "id": "e24e6107",
   "metadata": {},
   "outputs": [
    {
     "data": {
      "image/png": "[encoded data removed]",
      "text/plain": [
       "Graphics object consisting of 35 graphics primitives"
      ]
     },
     "execution_count": 11,
     "metadata": {},
     "output_type": "execute_result"
    }
   ],
   "source": [
    "var('p1 p2 p3 p4 p5 a12 a21 a13 a31 a15 a51 a23 a32 a34 a43 a45 a54')\n",
    "d = {1: {2:a12, 3:a13, 5:a15}, 2: {1:a21, 3:a23}, 3: {2:a32, 1:a31, 4:a34}, 4: {3:a43, 5:a45}, 5: {4:a54,1:a51}};\n",
    "G = DiGraph(d,weighted=True)\n",
    "vertex_positions = {1: (0, 0), 2: (1, 1.41), 3: (2, 0), 4: (2,-2), 5: (0,-2)}\n",
    "G.plot(figsize=8,edge_labels=True,pos=vertex_positions,graph_border=True)"
   ]
  },
  {
   "cell_type": "code",
   "execution_count": 12,
   "id": "869f6cd2",
   "metadata": {},
   "outputs": [],
   "source": [
    "A = G.weighted_adjacency_matrix()\n",
    "Q = generator(A)"
   ]
  },
  {
   "cell_type": "code",
   "execution_count": 13,
   "id": "f34369a9",
   "metadata": {},
   "outputs": [
    {
     "name": "stdout",
     "output_type": "stream",
     "text": [
      "[((a21 + a23)*a31 + a21*a32)*a43*a54 + (((a21 + a23)*a31 + a21*a32)*a43 + ((a21 + a23)*a31 + a21*a32 + (a21 + a23)*a34)*a45)*a51, (a12*a31 + (a12 + a13 + a15)*a32)*a43*a54 + ((a12*a31 + (a12 + a13)*a32)*a43 + (a12*a31 + (a12 + a13)*a32 + a12*a34)*a45)*a51, ((a13 + a15)*a21 + (a12 + a13 + a15)*a23)*a43*a54 + ((a13*a21 + (a12 + a13)*a23)*a43 + (a13*a21 + (a12 + a13)*a23)*a45)*a51, (a13*a21 + (a12 + a13)*a23)*a34*a51 + (a15*a21*a32 + (a15*a21 + a15*a23)*a31 + ((a13 + a15)*a21 + (a12 + a13 + a15)*a23)*a34)*a54, (a15*a21*a32 + (a15*a21 + a15*a23)*a31)*a43 + (a15*a21*a32 + (a15*a21 + a15*a23)*a31 + ((a13 + a15)*a21 + (a12 + a13 + a15)*a23)*a34)*a45]\n"
     ]
    }
   ],
   "source": [
    "z = hill_diagramatic_method(Q)\n",
    "print(z)"
   ]
  }
 ],
 "metadata": {
  "jupytext": {
   "cell_metadata_filter": "-all",
   "formats": "md:myst",
   "text_representation": {
    "extension": ".md",
    "format_name": "myst",
    "format_version": 0.13,
    "jupytext_version": "1.10.3"
   }
  },
  "kernelspec": {
   "display_name": "SageMath 10",
   "language": "sage",
   "name": "sage-10.0"
  },
  "language_info": {
   "codemirror_mode": {
    "name": "ipython",
    "version": 3
   },
   "file_extension": ".py",
   "mimetype": "text/x-python",
   "name": "python",
   "nbconvert_exporter": "python",
   "pygments_lexer": "ipython3",
   "version": "3.11.1"
  },
  "source_map": [
   14,
   21,
   30,
   34,
   36,
   40,
   43,
   49,
   51,
   57,
   60,
   64,
   67,
   71,
   73,
   79,
   84,
   88,
   94,
   98,
   109,
   113,
   119,
   123,
   126,
   130
  ]
 },
 "nbformat": 4,
 "nbformat_minor": 5
}