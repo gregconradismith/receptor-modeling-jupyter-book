{
 "cells": [
  {
   "cell_type": "code",
   "execution_count": 1,
   "metadata": {
    "collapsed": false
   },
   "outputs": [],
   "source": [
    "def foo(arg1=10,arg2=100):\n",
    "    \"\"\"Return the square of a.\"\"\"\n",
    "    a = arg1 + arg2\n",
    "    return a"
   ]
  },
  {
   "cell_type": "code",
   "execution_count": 2,
   "metadata": {
    "collapsed": false
   },
   "outputs": [
    {
     "name": "stdout",
     "output_type": "stream",
     "text": [
      " \u001b[0mfoo\u001b[0m\u001b[0;34m(\u001b[0m\u001b[0marg1\u001b[0m\u001b[0;34m=\u001b[0m\u001b[0;36m10\u001b[0m\u001b[0;34m,\u001b[0m \u001b[0marg2\u001b[0m\u001b[0;34m=\u001b[0m\u001b[0;36m100\u001b[0m\u001b[0;34m)\u001b[0m\u001b[0;34m\u001b[0m\u001b[0;34m\u001b[0m\u001b[0m\n",
      " "
     ]
    }
   ],
   "source": [
    "%pdef foo"
   ]
  },
  {
   "cell_type": "code",
   "execution_count": 3,
   "metadata": {
    "collapsed": false
   },
   "outputs": [
    {
     "name": "stdout",
     "output_type": "stream",
     "text": [
      "def foo(arg1=Integer(10),arg2=Integer(100)):\n",
      "    \"\"\"Return the square of a.\"\"\"\n",
      "    a = arg1 + arg2\n",
      "    return a\n",
      "\n"
     ]
    }
   ],
   "source": [
    "import inspect\n",
    "lines = inspect.getsource(foo)\n",
    "print(lines)"
   ]
  },
  {
   "cell_type": "code",
   "execution_count": 4,
   "metadata": {
    "collapsed": false
   },
   "outputs": [],
   "source": [
    "import inspect\n",
    "from IPython.display import display, Markdown, Latex, display_markdown"
   ]
  },
  {
   "cell_type": "code",
   "execution_count": 5,
   "metadata": {
    "collapsed": false
   },
   "outputs": [
    {
     "data": {
      "text/markdown": [
       "Return the point `(x^5,y)`.\n",
       "\n",
       "INPUT:\n",
       "\n",
       "- ``z`` -- integer (default: `1`); the description of the\n",
       "  argument ``x`` goes here. If it contains multiple lines, all\n",
       "  the lines after the first need to begin at the same indentation\n",
       "  as the backtick.\n",
       "\n",
       "- ``w`` -- integer (default: `2`); the description of the\n",
       "  argument ``y``"
      ],
      "text/plain": [
       "<IPython.core.display.Markdown object>"
      ]
     },
     "metadata": {},
     "output_type": "display_data"
    }
   ],
   "source": [
    "def func2():\n",
    "    r\"\"\"\n",
    "    Return the point `(x^5,y)`.\n",
    "\n",
    "    INPUT:\n",
    "\n",
    "    - ``z`` -- integer (default: `1`); the description of the\n",
    "      argument ``x`` goes here. If it contains multiple lines, all\n",
    "      the lines after the first need to begin at the same indentation\n",
    "      as the backtick.\n",
    "\n",
    "    - ``w`` -- integer (default: `2`); the description of the\n",
    "      argument ``y``\n",
    "    \"\"\"\n",
    "    x=1\n",
    "    return x\n",
    "display(Markdown(inspect.getdoc(func2)))\n"
   ]
  },
  {
   "cell_type": "code",
   "execution_count": 6,
   "metadata": {
    "collapsed": false
   },
   "outputs": [
    {
     "name": "stdout",
     "output_type": "stream",
     "text": [
      "Help on function func2 in module __main__:\n",
      "\n",
      "func2()\n",
      "    Return the point `(x^5,y)`.\n",
      "    \n",
      "    INPUT:\n",
      "    \n",
      "    - ``z`` -- integer (default: `1`); the description of the\n",
      "      argument ``x`` goes here. If it contains multiple lines, all\n",
      "      the lines after the first need to begin at the same indentation\n",
      "      as the backtick.\n",
      "    \n",
      "    - ``w`` -- integer (default: `2`); the description of the\n",
      "      argument ``y``\n",
      "\n"
     ]
    }
   ],
   "source": [
    "help(func2)"
   ]
  },
  {
   "cell_type": "code",
   "execution_count": 7,
   "metadata": {
    "collapsed": false
   },
   "outputs": [],
   "source": [
    "%pdoc func2"
   ]
  },
  {
   "cell_type": "code",
   "execution_count": 0,
   "metadata": {
    "collapsed": false
   },
   "outputs": [],
   "source": []
  },
  {
   "cell_type": "code",
   "execution_count": 0,
   "metadata": {
    "collapsed": false
   },
   "outputs": [],
   "source": []
  },
  {
   "cell_type": "code",
   "execution_count": 0,
   "metadata": {
    "collapsed": false
   },
   "outputs": [],
   "source": []
  },
  {
   "cell_type": "code",
   "execution_count": 0,
   "metadata": {
    "collapsed": false
   },
   "outputs": [],
   "source": []
  }
 ],
 "metadata": {
  "kernelspec": {
   "argv": [
    "sage-10.0",
    "--python",
    "-m",
    "sage.repl.ipython_kernel",
    "--matplotlib=inline",
    "-f",
    "{connection_file}"
   ],
   "display_name": "SageMath 10.0",
   "env": {},
   "language": "sagemath",
   "metadata": {
    "cocalc": {
     "description": "Open-source mathematical software system",
     "priority": 1,
     "url": "https://www.sagemath.org/"
    }
   },
   "name": "sage-10.0",
   "resource_dir": "/ext/jupyter/kernels/sage-10.0"
  },
  "language_info": {
   "codemirror_mode": {
    "name": "ipython",
    "version": 3
   },
   "file_extension": ".py",
   "mimetype": "text/x-python",
   "name": "python",
   "nbconvert_exporter": "python",
   "pygments_lexer": "ipython3",
   "version": "3.11.1"
  }
 },
 "nbformat": 4,
 "nbformat_minor": 4
}