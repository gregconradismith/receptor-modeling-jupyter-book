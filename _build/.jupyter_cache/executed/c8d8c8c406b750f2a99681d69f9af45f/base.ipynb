{
 "cells": [
  {
   "cell_type": "code",
   "execution_count": 1,
   "id": "76e08b19",
   "metadata": {},
   "outputs": [
    {
     "data": {
      "image/png": "[encoded data removed]",
      "text/plain": [
       "Graphics object consisting of 9 graphics primitives"
      ]
     },
     "execution_count": 1,
     "metadata": {},
     "output_type": "execute_result"
    }
   ],
   "source": [
    "var('a b c kappa_b kappa_c')\n",
    "T = DiGraph([[a,b,c],[(b,a),(c,b)]])\n",
    "T.set_edge_label(b,a,kappa_b)\n",
    "T.set_edge_label(c,b,kappa_c)\n",
    "T.plot(figsize=4,pos={a:(0,0),b:(1,0),c:(2,0)},edge_labels=True,graph_border=True,vertex_size=1000)"
   ]
  },
  {
   "cell_type": "code",
   "execution_count": 2,
   "id": "08f3def0",
   "metadata": {},
   "outputs": [
    {
     "data": {
      "image/png": "[encoded data removed]",
      "text/plain": [
       "Graphics object consisting of 9 graphics primitives"
      ]
     },
     "execution_count": 2,
     "metadata": {},
     "output_type": "execute_result"
    }
   ],
   "source": [
    "var('a b c x kb kc')\n",
    "T = DiGraph([[a,b,c],[(b,a),(c,b)]])\n",
    "T.set_edge_label(b,a,kb*x)\n",
    "T.set_edge_label(c,b,kc*x)\n",
    "T.plot(figsize=6,pos={a:(0,0),b:(1,0),c:(2,0)},edge_labels=True,graph_border=True,vertex_size=1000)"
   ]
  },
  {
   "cell_type": "code",
   "execution_count": 3,
   "id": "6039c8e1",
   "metadata": {},
   "outputs": [
    {
     "name": "stdout",
     "output_type": "stream",
     "text": [
      "[[a], [b, a], [c, b, a]]\n"
     ]
    }
   ],
   "source": [
    "paths = T.all_simple_paths(ending_vertices=[a],trivial=True)\n",
    "print(paths)"
   ]
  },
  {
   "cell_type": "code",
   "execution_count": 4,
   "id": "298aa30b",
   "metadata": {},
   "outputs": [
    {
     "name": "stdout",
     "output_type": "stream",
     "text": [
      "b a\n",
      "c b\n",
      "b a\n",
      "[1, kb*x, kb*kc*x^2]\n"
     ]
    }
   ],
   "source": [
    "z = []\n",
    "for p in paths:\n",
    "    el = 1\n",
    "    for i in range(len(p)-1):\n",
    "        print(p[i],p[i+1])\n",
    "        el = el*T.edge_label(p[i],p[i+1])\n",
    "    z.append(el)\n",
    "print(z)"
   ]
  }
 ],
 "metadata": {
  "jupytext": {
   "cell_metadata_filter": "-all",
   "formats": "md:myst",
   "text_representation": {
    "extension": ".md",
    "format_name": "myst",
    "format_version": 0.13,
    "jupytext_version": "1.10.3"
   }
  },
  "kernelspec": {
   "display_name": "SageMath 10",
   "language": "sage",
   "name": "sage-10.0"
  },
  "language_info": {
   "codemirror_mode": {
    "name": "ipython",
    "version": 3
   },
   "file_extension": ".py",
   "mimetype": "text/x-python",
   "name": "python",
   "nbconvert_exporter": "python",
   "pygments_lexer": "ipython3",
   "version": "3.11.1"
  },
  "source_map": [
   14,
   33,
   39,
   43,
   49,
   84,
   87,
   90,
   99
  ]
 },
 "nbformat": 4,
 "nbformat_minor": 5
}