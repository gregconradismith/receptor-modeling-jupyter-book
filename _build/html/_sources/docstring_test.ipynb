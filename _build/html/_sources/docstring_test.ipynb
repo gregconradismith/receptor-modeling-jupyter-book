{
 "cells": [
  {
   "cell_type": "markdown",
   "metadata": {
    "collapsed": false
   },
   "source": [
    "# docstring test"
   ]
  },
  {
   "cell_type": "markdown",
   "metadata": {
    "collapsed": false
   },
   "source": [
    "Here is where I got this from:\n",
    "\n",
    "https://stackoverflow.com/questions/8822701/how-to-print-docstring-of-python-function-from-inside-the-function-itself"
   ]
  },
  {
   "cell_type": "code",
   "execution_count": 154,
   "metadata": {
    "collapsed": false
   },
   "outputs": [
   ],
   "source": [
    "def foo(arg1=10,arg2=100):\n",
    "    \"\"\"Return the square of a.\"\"\"\n",
    "    a = arg1 + arg2\n",
    "    return a"
   ]
  },
  {
   "cell_type": "code",
   "execution_count": 148,
   "metadata": {
    "collapsed": false
   },
   "outputs": [
    {
     "name": "stdout",
     "output_type": "stream",
     "text": [
      " \u001b[0mfoo\u001b[0m\u001b[0;34m(\u001b[0m\u001b[0marg1\u001b[0m\u001b[0;34m=\u001b[0m\u001b[0;36m10\u001b[0m\u001b[0;34m,\u001b[0m \u001b[0marg2\u001b[0m\u001b[0;34m=\u001b[0m\u001b[0;36m100\u001b[0m\u001b[0;34m)\u001b[0m\u001b[0;34m\u001b[0m\u001b[0;34m\u001b[0m\u001b[0m\n",
      " "
     ]
    }
   ],
   "source": [
    "%pdef foo"
   ]
  },
  {
   "cell_type": "code",
   "execution_count": 149,
   "metadata": {
    "collapsed": false
   },
   "outputs": [
    {
     "name": "stdout",
     "output_type": "stream",
     "text": [
      "def foo(arg1=Integer(10),arg2=Integer(100)):         \n",
      "    \"\"\"Return the square of a.\"\"\"\n",
      "    a = arg1 + arg2         \n",
      "    return a\n",
      "\n"
     ]
    }
   ],
   "source": [
    "import inspect\n",
    "lines = inspect.getsource(foo)\n",
    "print(lines)"
   ]
  },
  {
   "cell_type": "code",
   "execution_count": 150,
   "metadata": {
    "collapsed": false
   },
   "outputs": [
   ],
   "source": [
    "import inspect\n",
    "from IPython.display import display, Markdown, Latex, display_markdown"
   ]
  },
  {
   "cell_type": "code",
   "execution_count": 151,
   "metadata": {
    "collapsed": false
   },
   "outputs": [
    {
     "data": {
      "text/markdown": [
       "Return the point `(x^5,y)`.\n",
       "\n",
       "INPUT:\n",
       "\n",
       "- ``z`` -- integer (default: `1`); the description of the\n",
       "  argument ``x`` goes here. If it contains multiple lines, all\n",
       "  the lines after the first need to begin at the same indentation\n",
       "  as the backtick.\n",
       "\n",
       "- ``w`` -- integer (default: `2`); the description of the\n",
       "  argument ``y``"
      ],
      "text/plain": [
       "<IPython.core.display.Markdown object>"
      ]
     },
     "execution_count": 151,
     "metadata": {
     },
     "output_type": "execute_result"
    }
   ],
   "source": [
    "def func2():\n",
    "    r\"\"\"\n",
    "    Return the point `(x^5,y)`.\n",
    "\n",
    "    INPUT:\n",
    "\n",
    "    - ``z`` -- integer (default: `1`); the description of the\n",
    "      argument ``x`` goes here. If it contains multiple lines, all\n",
    "      the lines after the first need to begin at the same indentation\n",
    "      as the backtick.\n",
    "\n",
    "    - ``w`` -- integer (default: `2`); the description of the\n",
    "      argument ``y``\n",
    "    \"\"\"\n",
    "    x=1\n",
    "    return x\n",
    "display(Markdown(inspect.getdoc(func2)))\n"
   ]
  },
  {
   "cell_type": "code",
   "execution_count": 152,
   "metadata": {
    "collapsed": false
   },
   "outputs": [
    {
     "name": "stdout",
     "output_type": "stream",
     "text": [
      "Help on function func2 in module __main__:\n",
      "\n",
      "func2()\n",
      "    Return the point `(x^5,y)`.\n",
      "    \n",
      "    INPUT:\n",
      "    \n",
      "    - ``z`` -- integer (default: `1`); the description of the\n",
      "      argument ``x`` goes here. If it contains multiple lines, all\n",
      "      the lines after the first need to begin at the same indentation\n",
      "      as the backtick.\n",
      "    \n",
      "    - ``w`` -- integer (default: `2`); the description of the\n",
      "      argument ``y``\n",
      "\n"
     ]
    }
   ],
   "source": [
    "help(func2)"
   ]
  },
  {
   "cell_type": "markdown",
   "metadata": {
    "collapsed": false
   },
   "source": [
    "The following %pdoc magic does not work in jupyter-book, even thought it works in .ipnb"
   ]
  },
  {
   "cell_type": "code",
   "execution_count": 153,
   "metadata": {
    "collapsed": false
   },
   "outputs": [
    {
     "data": {
      "text/plain": [
       "\u001b[0;31mClass docstring:\u001b[0m\n",
       "       Return the point (x^5,y).\n",
       "    \n",
       "       INPUT:\n",
       "    \n",
       "       * \"z\" -- integer (default: 1); the description of the argument \"x\"\n",
       "         goes here. If it contains multiple lines, all the lines after the\n",
       "         first need to begin at the same indentation as the backtick.\n",
       "    \n",
       "       * \"w\" -- integer (default: 2); the description of the argument \"y\"\n",
       "\n",
       "\u001b[0;31mCall docstring:\u001b[0m\n",
       "    Call self as a function.\n"
      ]
     },
     "execution_count": 153,
     "metadata": {
     },
     "output_type": "execute_result",
     "start": 0
    }
   ],
   "source": [
    "%pdoc func2"
   ]
  },
  {
   "cell_type": "code",
   "execution_count": 0,
   "metadata": {
    "collapsed": false
   },
   "outputs": [
   ],
   "source": [
   ]
  },
  {
   "cell_type": "code",
   "execution_count": 0,
   "metadata": {
    "collapsed": false
   },
   "outputs": [
   ],
   "source": [
   ]
  },
  {
   "cell_type": "code",
   "execution_count": 0,
   "metadata": {
    "collapsed": false
   },
   "outputs": [
   ],
   "source": [
   ]
  },
  {
   "cell_type": "code",
   "execution_count": 0,
   "metadata": {
    "collapsed": false
   },
   "outputs": [
   ],
   "source": [
   ]
  }
 ],
 "metadata": {
  "kernelspec": {
   "argv": [
    "sage-10.0",
    "--python",
    "-m",
    "sage.repl.ipython_kernel",
    "--matplotlib=inline",
    "-f",
    "{connection_file}"
   ],
   "display_name": "SageMath 10.0",
   "env": {
   },
   "language": "sagemath",
   "metadata": {
    "cocalc": {
     "description": "Open-source mathematical software system",
     "priority": 1,
     "url": "https://www.sagemath.org/"
    }
   },
   "name": "sage-10.0",
   "resource_dir": "/ext/jupyter/kernels/sage-10.0"
  }
 },
 "nbformat": 4,
 "nbformat_minor": 4
}