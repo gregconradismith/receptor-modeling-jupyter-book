{
 "cells": [
  {
   "cell_type": "markdown",
   "id": "5189ce42",
   "metadata": {},
   "source": [
    "# Example Reduced Graph Powers  \n",
    "\n",
    "Some understanding of reduced graph powers can be obtained by looking at examples.\n",
    "\n",
    "For a simple graph $G=(V,E)$, we will sometimes write $|V(G)|$ and $|E(G)|$ \n",
    "for the number of vertices and edges of $G$.  We assume the graph $G$ is connected, so the Betti number is given by $\\beta(G)=|E(G)|-|V(G)|+1$.   When the graph G   is understood from context, we will often use $v(G)$ and $e(G)$, or simply $v$ and $e$, for the number of vertices and edges of G.\n",
    "\n",
    "The number of vertices in the reduced graph power $G^{(k)}$ is \n",
    "\n",
    "```{math}\n",
    "|V(G^{(k)})|=\\binom{v+k-1}{k} \n",
    "```\n",
    "\n",
    "where $v=|V(G)|$.\n",
    "The number of edges in the reduced graph power $G^{(k)}$ is  \n",
    "\n",
    "```{math}\n",
    ":label: edges\n",
    "|E(G^{(k)})|=e\\binom{v+k-2}{k-1}   \n",
    "```\n",
    "\n",
    "where $e=|E(G)|$.\n",
    "When the graph $G$ is understood, will sometimes abbreviate the number of vertices and edges in its reduced graph power by $v^{(k)} = |V(G^{(k)})|$ and $e^{(k)} = |E(G^{(k)})|$.\n",
    "\n",
    "## The path graph $P_n$\n",
    "\n",
    "A `path graph` is a graph whose $n$ vertices can be listed in the order $0, 1, \\ldots , n-1$ such that the edges are $(i, i+1)$ for $i = 0, 1 \\ldots , n-2$.  For example,"
   ]
  },
  {
   "cell_type": "code",
   "execution_count": null,
   "id": "9a714c60",
   "metadata": {},
   "outputs": [],
   "source": [
    "for n in [2,4,7]:\n",
    "    graphs.PathGraph(n).show(figsize=3,title='P%s:' %(n))"
   ]
  },
  {
   "cell_type": "markdown",
   "id": "bee7dabd",
   "metadata": {},
   "source": [
    "Evidently, $|V(P_n)|=n$, $|E(P_n)|=n-1$, and $\\beta(P_n)=0$. \n",
    "The number of vertices of the reduced graph power $P_n^{(k)}$ is $|V(P_n^{(k)})|=\\binom{n+k-1}{k}$. The number of edges is $|E(P_n^{(k)})|=(n-1)\\binom{n+k-2}{k-1}$. Consequently, the Betti number of the path graph on $n$ vertices is  \n",
    "\n",
    "```{math}\n",
    "\\begin{equation}\n",
    "\\beta(P_n^{(k)}) = (n-1)\\binom{n+k-2}{k-1}-\\binom{n+k-1}{k}+1 \\, . \n",
    "\\end{equation}\n",
    "```\n",
    "\n",
    "Specializing to the case of a dimer ($k=2$), we have $|V(P_n^{(2)})|=\\binom{n+1}{2}$,  $|E(P_n^{(2)})|=n(n-1)$, and $\\beta(P_n^{(2)}) = \\binom{n-1}{2}$.\n",
    "\n",
    "```{math}\n",
    ":label: path_graph\n",
    "\\beta(P_n^{(k)}) = (n-1)\\binom{n+k-2}{k-1}-\\binom{n+k-1}{k}+1 \\, . \n",
    "```\n",
    "\n",
    "## The cycle graph $C_n$\n",
    "\n",
    "The  `cycle graph` $C_n$ is a graph whose $n$ vertices can be listed in the order $0, 1, \\ldots , n$ such that the edges are $(i, i+1)$ for $i = 0, 1, \\ldots , n-2$, \n",
    "and also $(0,n-1)$.  For example, $C_5$ is"
   ]
  },
  {
   "cell_type": "code",
   "execution_count": null,
   "id": "1fce22d5",
   "metadata": {
    "tags": [
     "hide-input"
    ]
   },
   "outputs": [],
   "source": [
    "for n in [3,5,12]:\n",
    "    graphs.CycleGraph(n).show(figsize=3,title='K%s:' %(n))"
   ]
  },
  {
   "cell_type": "markdown",
   "id": "f276869d",
   "metadata": {},
   "source": [
    "For the cycle graph $|E(C_n)|=n$ and $\\beta(C_n)=1$.\n",
    "\n",
    "The number of vertices of the reduced graph power $C_n^{(k)}$ is $|V(C_n^{(k)})|=\\binom{n+k-1}{k}$. The number of edges is $|E(C_n^{(k)})|=n\\binom{n+k-2}{k-1}$. The Betti number is \n",
    "\n",
    "```{math}\n",
    "\\beta(C_n^{(k)}) = n\\binom{n+k-2}{k-1}-\\binom{n+k-1}{k}+1 \\, . \n",
    "```\n",
    "\n",
    "Specializing to the case of a dimer ($k=2$), we have $v^{(2)}=\\binom{n+1}{2}$,  $e^{(2)}=n^2$, and \n",
    "\n",
    "```{math}\n",
    "\\beta(C_n^{(2)}) =  \\binom{n}{2}+1 \n",
    "= n(n-1)/2+1 \\,.\n",
    "```\n",
    "\n",
    "## The complete graph $K_n$ \n",
    "\n",
    "The   `complete graph` $K_n$ is a graph with $n$ vertices and $|E(K_n)|=\\binom{n}{2}$ edges.  \n",
    "For example, $K_5$ is"
   ]
  },
  {
   "cell_type": "code",
   "execution_count": null,
   "id": "97915cab",
   "metadata": {
    "tags": [
     "hide-input"
    ]
   },
   "outputs": [],
   "source": [
    "for n in [2,4,7]:\n",
    "    graphs.CompleteGraph(n).show(figsize=3,title='C%s:' %(n))"
   ]
  },
  {
   "cell_type": "markdown",
   "id": "9c8d2046",
   "metadata": {},
   "source": [
    "For the complete graph, $\\beta(K_n)=\\binom{n-1}{2}=(n-1)(n-2)/2$. \n",
    "\n",
    "The number of vertices of the reduced graph power $K_n^{(k)}$ is $|V(K_n^{(k)})|=\\binom{n+k-1}{k}$, the number of edges is $|E(K_n^{(k)})|=\\binom{n}{2}\\binom{n+k-2}{k-1}$, and the Betti number is \n",
    "\n",
    "```{math}\n",
    "\\beta(K_n^{(k)}) = \\binom{n}{2}\\binom{n+k-2}{k-1}-\\binom{n+k-1}{k}+1 \\, . \n",
    "```\n",
    "\n",
    "For a dimer ($k=2$), we have $v^{(2)}=\\binom{n+1}{2}$,  $e^{(2)}=\\binom{n}{2} n = n^2(n-1)/2$, and \n",
    "\n",
    "```{math}\n",
    "\\beta(K_n^{(2)}) = (n+1)(n-1)(n-2)/2 \\, . \n",
    "```\n",
    "\n",
    "## The hypercube graph $Q_n$\n",
    "\n",
    "The `hypercube graph`  $Q_n$ has $|V(Q_n)|=2^n$ vertices and $|E(Q_n)|=2^{n-1}n $ edges.  For example, $Q_4$ is"
   ]
  },
  {
   "cell_type": "code",
   "execution_count": null,
   "id": "1a6543d9",
   "metadata": {
    "tags": [
     "hide-input"
    ]
   },
   "outputs": [],
   "source": [
    "for n in [2,4,5]:\n",
    "    if n>3:\n",
    "        graphs.CubeGraph(n).show(figsize=3,vertex_size=20,vertex_labels=false,title='Q%s:' %(n))\n",
    "    else:\n",
    "        graphs.CubeGraph(n).show(figsize=3,title='Q%s:' %(n))"
   ]
  },
  {
   "cell_type": "code",
   "execution_count": null,
   "id": "58af6d73",
   "metadata": {
    "tags": [
     "hide-input"
    ]
   },
   "outputs": [],
   "source": [
    "n=3\n",
    "graphs.CubeGraph(n).show3d(title='Q%s:' %(n))"
   ]
  },
  {
   "cell_type": "markdown",
   "id": "63a53367",
   "metadata": {},
   "source": [
    "For the hypercube graph, $\\beta(Q_n)= 2^{n-1} (n-2)+1$.\n",
    "\n",
    "The number of vertices of the reduced graph power $Q_n^{(k)}$ is $|V(Q_n^{(k)})|=\\binom{2^n+k-1}{k}$.  The number of edges is $|E(Q_n^{(k)})|=2^{n-1} n \\binom{2^n+k-2}{k-1}$. The Betti number is \n",
    "\n",
    "```{math}\n",
    "\\beta(Q_n^{(k)}) =2^{n-1} n \\binom{2^n+k-2}{k-1}-\\binom{2^n+k-1}{k}+1 \\, .\n",
    "```\n",
    "\n",
    "The reduced graph product of two hypercube graphs, has $|V(Q_n^{(2)})|=2^{n-1} (2^n+1)$ vertices,  $|E(Q_n^{(2)})| = 2^{2n-1} n$ edges, and Betti number \n",
    "\n",
    "```{math}\n",
    "\\beta(Q_n^{(2)}) =  2^{2n-1} (n-1) - 2^{n-1}+1 \\, . \n",
    "```\n",
    "\n",
    "In particular, $\\beta(Q_2^{(2)}) = 7$ and  $\\beta(Q_3^{(2)}) = 61$.\n",
    "\n",
    "## The bipartite graph $K_{n,m}$\n",
    "\n",
    "The `complete bipartite graph` or `biclique`, denoted by $K_{n,m}$, \n",
    "is a bipartite graph where the vertices are partitioned into two sets.  Every vertex of the first set, $\\{0, 1, \\ldots, n-1\\}$, is connected to every vertex of the second set, $\\{n, n+1, \\ldots, n+m-1\\}$."
   ]
  },
  {
   "cell_type": "code",
   "execution_count": null,
   "id": "6e39e1f5",
   "metadata": {
    "tags": [
     "hide-input"
    ]
   },
   "outputs": [],
   "source": [
    "graphs.CompleteBipartiteGraph(3,4).show(figsize=3,title='K%s,%s:' %(3,4))\n",
    "graphs.CompleteBipartiteGraph(5,7).show(figsize=4,title='K%s,%s:' %(5,7))"
   ]
  },
  {
   "cell_type": "markdown",
   "id": "cc7d7202",
   "metadata": {},
   "source": [
    "The complete bipartite graph has \n",
    "has $|V(K_{n,m})|=n+m$ vertices,  $|E(K_{n,m})|=nm $ edges, and Betti number\n",
    "\n",
    "```{math}\n",
    "\\beta(K_{n,m})= nm-(n+m)+1 =  (n-1)(m-1) \\, . \n",
    "```\n",
    "\n",
    "The number of vertices of the reduced graph power $K_{n,m}^{(k)}$ is $|V(K_{n,m}^{(k)})|=\\binom{n+m+k-1}{k}$. The number of edges is $|E(K_{n,m}^{(k)})|=nm\\binom{n+m+k-2}{k-1}$.  This gives the Betti number \n",
    "\n",
    "```{math}\n",
    "\\beta(K_{n,m}^{(k)}) = nm\\binom{n+m+k-2}{k-1} - \\binom{n+m+k-1}{k} +1 \\, . \n",
    "```\n",
    "\n",
    "Specializing to the case of a dimer ($k=2$), we have $v^{(2)}= \\binom{n+m+1}{2}$,  $e^{(2)}=nm (n+m)$, and \n",
    "\n",
    "```{math}\n",
    "\\begin{eqnarray}\n",
    "\\beta(K_{n,m}^{(2)}) & = &nm (n+m) - (n+m+1)(n+m)/2  +1 \\\\\n",
    "& = & \n",
    "(n+m)[nm+(n-1)(m-1)]/2+1 \\, . \n",
    "\\end{eqnarray}\n",
    "```\n",
    "\n",
    "## References \n",
    "\n",
    "```{bibliography}\n",
    ":filter: docname in docnames\n",
    "```"
   ]
  }
 ],
 "metadata": {
  "jupytext": {
   "cell_metadata_filter": "-all",
   "formats": "md:myst",
   "text_representation": {
    "extension": ".md",
    "format_name": "myst",
    "format_version": 0.13,
    "jupytext_version": "1.10.3"
   }
  },
  "kernelspec": {
   "display_name": "SageMath 10",
   "language": "sage",
   "name": "sage-10.0"
  },
  "source_map": [
   14,
   43,
   46,
   69,
   74,
   96,
   101,
   121,
   131,
   136,
   159,
   164
  ]
 },
 "nbformat": 4,
 "nbformat_minor": 5
}