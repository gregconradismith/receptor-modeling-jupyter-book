{
 "cells": [
  {
   "cell_type": "markdown",
   "id": "0cd0492d",
   "metadata": {},
   "source": [
    "# Hill's diagrammatic method\n",
    "\n",
    "As discusssed earlier [earlier](markov_chain_tree_theorem_intro), the [Markov chain tree theorem](https://en.wikipedia.org/wiki/Markov_chain_tree_theorem) (also called Hill's diagrammatic method) provides algebraic expressions for the steady-state probabilities of a receptor model.    The function `hill_diagramatic_method()` below takes a symbolic generator matrix for such a Markov chain as input and, using the Markov chain tree theorem, calculates the steady-state probability of each state."
   ]
  },
  {
   "cell_type": "code",
   "execution_count": null,
   "id": "c5f71fd3",
   "metadata": {},
   "outputs": [],
   "source": [
    "def hill_diagramatic_method(Q):\n",
    "    n = Q.nrows()\n",
    "    if Q.ncols() != n:\n",
    "        raise ValueError\n",
    "    z = [0]*n\n",
    "    for i in range(n):\n",
    "        a = [ j for j in range(n) ]\n",
    "        a.remove(i)\n",
    "        z[i] = (-1)^(n-1)*Q[a,a].determinant().simplify_full()\n",
    "    return z"
   ]
  },
  {
   "cell_type": "markdown",
   "id": "96285f86",
   "metadata": {},
   "source": [
    "```{note}\n",
    "The receptor models considered here have state-transition diagrams with the topology of a simple symmetric directed graph (connected, no loops). The Markov chain tree theorem always applies to receptor models with these properties.  However, there are Markov chains that can not be analyzed in this way (e.g., Markov chains with an infinite number of states).\n",
    "```\n",
    "\n",
    "## Receptor model with the topology of the cycle graph [{math}`C_3`](example_graphs:cycle_graph)\n",
    "\n",
    "To illustrate the function `hill_diagramatic_method()`, consider a three-state receptor model that has a [cycle](example_graphs:cycle_graph)."
   ]
  },
  {
   "cell_type": "code",
   "execution_count": null,
   "id": "b45e8e9f",
   "metadata": {},
   "outputs": [],
   "source": [
    "var('p0 p1 p2 a01 a10 a02 a20 a12 a21')\n",
    "d = {0: {1:a01, 2:a02}, 1: {0:a10, 2:a12}, 2: {1:a21, 0:a20}};\n",
    "G = DiGraph(d,weighted=True)\n",
    "vertex_positions = {0: (0, 0), 1: (1, 1.41), 2: (2, 0)}\n",
    "G.plot(figsize=4,edge_labels=True,pos=vertex_positions,graph_border=True)"
   ]
  },
  {
   "cell_type": "markdown",
   "id": "84f59b23",
   "metadata": {},
   "source": [
    "Because every edge has an associated symbolic variable, we can produce the generator matrix as follows."
   ]
  },
  {
   "cell_type": "code",
   "execution_count": null,
   "id": "3aaafc38",
   "metadata": {},
   "outputs": [],
   "source": [
    "def generator(A):\n",
    "    return A-diagonal_matrix(sum(A.T))\n",
    "\n",
    "Q = generator(G.weighted_adjacency_matrix(sparse=False))\n",
    "show(Q)"
   ]
  },
  {
   "cell_type": "markdown",
   "id": "23ede3ee",
   "metadata": {},
   "source": [
    "The relative probabilities according to `hill_diagramatic_method()` are:"
   ]
  },
  {
   "cell_type": "code",
   "execution_count": null,
   "id": "dca298c5",
   "metadata": {},
   "outputs": [],
   "source": [
    "z = hill_diagramatic_method(Q)\n",
    "for i in range(3):\n",
    "    print('z[%s] ='%i, f'{expand(z[i])}')"
   ]
  },
  {
   "cell_type": "markdown",
   "id": "37903e33",
   "metadata": {},
   "source": [
    "Each relative probability, when expanded, is a multinomial with three terms, because there are three spanning trees rooted in each vertex. Each term has two factors because any spanning tree of the cycle graph {math}`C_3` has two edges.\n",
    "\n",
    "## Receptor model with topology of the House Graph \n",
    "\n",
    "We conclude this section with a receptor model that has more than one cycle, namely, the [house graph](https://doc.sagemath.org/html/en/reference/graphs/sage/graphs/generators/basic.html#sage.graphs.generators.basic.HouseGraph)."
   ]
  },
  {
   "cell_type": "code",
   "execution_count": null,
   "id": "35442015",
   "metadata": {},
   "outputs": [],
   "source": [
    "var('p0 p1 p2 p3 p4 a01 a10 a02 a20 a04 a40 a12 a21 a23 a32 a34 a43')\n",
    "d = {0: {1:a01, 2:a02, 4:a04}, 1: {0:a10, 2:a12}, 2: {1:a21, 0:a20, 3:a23}, 3: {2:a32, 4:a34}, 4: {3:a43, 0:a40}};\n",
    "G = DiGraph(d,weighted=True)\n",
    "vertex_positions = {0: (0, 0), 1: (1, 1.41), 2: (2, 0), 3: (2,-2), 4: (0,-2)}\n",
    "G.plot(figsize=8,edge_labels=True,pos=vertex_positions,graph_border=True)"
   ]
  },
  {
   "cell_type": "code",
   "execution_count": null,
   "id": "3527bf63",
   "metadata": {},
   "outputs": [],
   "source": [
    "Q = generator(G.weighted_adjacency_matrix(sparse=False))\n",
    "show(Q)"
   ]
  },
  {
   "cell_type": "code",
   "execution_count": null,
   "id": "4898bccd",
   "metadata": {},
   "outputs": [],
   "source": [
    "z = hill_diagramatic_method(Q)\n",
    "for i in range(5):\n",
    "    print('z[%s] ='%i, f'{expand(z[i])}')"
   ]
  },
  {
   "cell_type": "markdown",
   "id": "ff3fa0b1",
   "metadata": {},
   "source": [
    "In this case, each of the five relative probabilities is a multinomial with 10 terms because there are 10 rooted spanning trees associated to each state (vertex).  Each term has 4 factors because any spanning tree of the house graph has 4 edges."
   ]
  }
 ],
 "metadata": {
  "jupytext": {
   "cell_metadata_filter": "-all",
   "formats": "md:myst",
   "text_representation": {
    "extension": ".md",
    "format_name": "myst",
    "format_version": 0.13,
    "jupytext_version": "1.10.3"
   }
  },
  "kernelspec": {
   "display_name": "SageMath 10",
   "language": "sage",
   "name": "sage-10.0"
  },
  "source_map": [
   14,
   19,
   30,
   40,
   46,
   50,
   56,
   60,
   64,
   72,
   80,
   85,
   89
  ]
 },
 "nbformat": 4,
 "nbformat_minor": 5
}