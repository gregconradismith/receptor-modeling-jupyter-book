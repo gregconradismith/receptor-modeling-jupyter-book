{
 "cells": [
  {
   "cell_type": "markdown",
   "id": "2844144f",
   "metadata": {},
   "source": [
    "# Markov chain receptor models \n",
    "\n",
    "## Symbolic vertex and edge labels\n",
    "\n",
    "Recall the [three state model](ligands:three_state_model) discussed above ([Ligands](ligands)).  Using generic notation for the [path graph](example_graphs:path_graph) on three vertices,"
   ]
  },
  {
   "cell_type": "code",
   "execution_count": 1,
   "id": "1f25a110",
   "metadata": {},
   "outputs": [
    {
     "data": {
      "image/png": "[encoded data removed]",
      "text/plain": [
       "Graphics object consisting of 14 graphics primitives"
      ]
     },
     "metadata": {},
     "output_type": "display_data"
    }
   ],
   "source": [
    "var('p0 p1 p2 a01 a10 a12 a21')\n",
    "G=graphs.PathGraph(3).to_directed()\n",
    "G.relabel({0:p0,1:p1,2:p2})\n",
    "G.set_edge_label(p0,p1,a01)\n",
    "G.set_edge_label(p1,p0,a10)\n",
    "G.set_edge_label(p1,p2,a12)\n",
    "G.set_edge_label(p2,p1,a21)\n",
    "G.show(figsize=4,edge_labels=True)"
   ]
  },
  {
   "cell_type": "markdown",
   "id": "24184e52",
   "metadata": {},
   "source": [
    "We assign symbolic variables to the vertices and edges of {math}`G` because this allows us to produce symbolic expressions important quantities using methods available in `Sagemath`'s [module for graphs and digraphs](https://doc.sagemath.org/html/en/reference/graphs/index.html). For example, the weighted adjacency matrix associated with graph $G$ above is"
   ]
  },
  {
   "cell_type": "code",
   "execution_count": 2,
   "id": "da70f001",
   "metadata": {},
   "outputs": [],
   "source": [
    "A = G.weighted_adjacency_matrix()"
   ]
  },
  {
   "cell_type": "markdown",
   "id": "c16d5189",
   "metadata": {},
   "source": [
    "The combinatorial Laplacian matrix is {math}`L=D-A` where {math}`D` is a diagonal matrix given by the column sum of {math}`A`."
   ]
  },
  {
   "cell_type": "code",
   "execution_count": 3,
   "id": "3cc1eae4",
   "metadata": {},
   "outputs": [
    {
     "data": {
      "text/html": [
       "<html>\\(\\displaystyle \\left(\\begin{array}{rrr}\n",
       "a_{01} & -a_{01} & 0 \\\\\n",
       "-a_{10} & a_{10} + a_{12} & -a_{12} \\\\\n",
       "0 & -a_{21} & a_{21}\n",
       "\\end{array}\\right)\\)</html>"
      ],
      "text/latex": [
       "$\\displaystyle \\left(\\begin{array}{rrr}\n",
       "a_{01} & -a_{01} & 0 \\\\\n",
       "-a_{10} & a_{10} + a_{12} & -a_{12} \\\\\n",
       "0 & -a_{21} & a_{21}\n",
       "\\end{array}\\right)$"
      ],
      "text/plain": [
       "[      a01      -a01         0]\n",
       "[     -a10 a10 + a12      -a12]\n",
       "[        0      -a21       a21]"
      ]
     },
     "metadata": {},
     "output_type": "display_data"
    }
   ],
   "source": [
    "L = diagonal_matrix(sum(A.T))-A\n",
    "show(L)"
   ]
  },
  {
   "cell_type": "markdown",
   "id": "fa8bc38c",
   "metadata": {},
   "source": [
    "```{note}\n",
    "In the code block above, I prefer to write ```sum(A.T)``` rather than ```sum(A.columns())```, but these are equal.\n",
    "```"
   ]
  },
  {
   "cell_type": "code",
   "execution_count": 4,
   "id": "e590b4e9",
   "metadata": {},
   "outputs": [
    {
     "data": {
      "text/plain": [
       "True"
      ]
     },
     "execution_count": 4,
     "metadata": {},
     "output_type": "execute_result"
    }
   ],
   "source": [
    "sum(A.T) == sum(A.columns())"
   ]
  },
  {
   "cell_type": "markdown",
   "id": "61cd9e11",
   "metadata": {},
   "source": [
    "## Generator matrix of Markov chain \n",
    "\n",
    "The Markov chain with states and transistions of {math}`G` has a generator matrix {math}`Q` that is the opposite (additive inverse) of the Laplacian matrix ({math}`L`). That is, {math}`Q=-L=A-D`. We define a function that calculates the symbolic generator matrix $Q$ from the weighted adjacency matrix {math}`A`."
   ]
  },
  {
   "cell_type": "code",
   "execution_count": 5,
   "id": "ebd0b19e",
   "metadata": {},
   "outputs": [],
   "source": [
    "def generator(A):\n",
    "    return A-diagonal_matrix(sum(A.T))"
   ]
  },
  {
   "cell_type": "markdown",
   "id": "d087b1e4",
   "metadata": {},
   "source": [
    "Calling the function ```generator()``` gives the result we expect:"
   ]
  },
  {
   "cell_type": "code",
   "execution_count": 6,
   "id": "ec9b2ff6",
   "metadata": {},
   "outputs": [
    {
     "data": {
      "text/html": [
       "<html>\\(\\displaystyle \\left(\\begin{array}{rrr}\n",
       "-a_{01} & a_{01} & 0 \\\\\n",
       "a_{10} & -a_{10} - a_{12} & a_{12} \\\\\n",
       "0 & a_{21} & -a_{21}\n",
       "\\end{array}\\right)\\)</html>"
      ],
      "text/latex": [
       "$\\displaystyle \\left(\\begin{array}{rrr}\n",
       "-a_{01} & a_{01} & 0 \\\\\n",
       "a_{10} & -a_{10} - a_{12} & a_{12} \\\\\n",
       "0 & a_{21} & -a_{21}\n",
       "\\end{array}\\right)$"
      ],
      "text/plain": [
       "[      -a01        a01          0]\n",
       "[       a10 -a10 - a12        a12]\n",
       "[         0        a21       -a21]"
      ]
     },
     "metadata": {},
     "output_type": "display_data"
    }
   ],
   "source": [
    "Q = generator(A)\n",
    "show(Q)"
   ]
  },
  {
   "cell_type": "markdown",
   "id": "0a94839f",
   "metadata": {},
   "source": [
    "Note that the sums of the columns are zero, reflecting the conservation of probability."
   ]
  },
  {
   "cell_type": "code",
   "execution_count": 7,
   "id": "79adcef3",
   "metadata": {},
   "outputs": [
    {
     "data": {
      "text/plain": [
       "True"
      ]
     },
     "execution_count": 7,
     "metadata": {},
     "output_type": "execute_result"
    }
   ],
   "source": [
    "sum(Q.columns()) == sum(Q.T)"
   ]
  },
  {
   "cell_type": "markdown",
   "id": "32b49aa1",
   "metadata": {},
   "source": [
    "(markov_chain_tree_theorem_intro)=\n",
    "## Markov chain tree theorem\n",
    "\n",
    "Using the [Markov chain tree theorem](https://en.wikipedia.org/wiki/Markov_chain_tree_theorem), it is straightforward to find symbolic expressions for the steady-state probabilities of each receptor state (`p0`, `p1`, `p2`). The relative probabilities are given by the sum of the weights of all the spanning trees rooted in vertex `i`. Because this three-state receptor model has no cycles, there is only one directed spanning tree rooted in each vertex (shown below)."
   ]
  },
  {
   "cell_type": "code",
   "execution_count": 8,
   "id": "ba4b6649",
   "metadata": {
    "tags": [
     "hide-input"
    ]
   },
   "outputs": [
    {
     "data": {
      "image/png": "[encoded data removed]",
      "text/plain": [
       "Graphics object consisting of 9 graphics primitives"
      ]
     },
     "metadata": {},
     "output_type": "display_data"
    },
    {
     "data": {
      "image/png": "[encoded data removed]",
      "text/plain": [
       "Graphics object consisting of 9 graphics primitives"
      ]
     },
     "metadata": {},
     "output_type": "display_data"
    },
    {
     "data": {
      "image/png": "[encoded data removed]",
      "text/plain": [
       "Graphics object consisting of 9 graphics primitives"
      ]
     },
     "metadata": {},
     "output_type": "display_data"
    }
   ],
   "source": [
    "T0 = G.copy()\n",
    "T1 = G.copy()\n",
    "T2 = G.copy()\n",
    "\n",
    "T0.delete_edge(p0,p1)\n",
    "T0.delete_edge(p1,p2)\n",
    "\n",
    "T1.delete_edge(p1,p0)\n",
    "T1.delete_edge(p1,p2)\n",
    "\n",
    "T2.delete_edge(p1,p0)\n",
    "T2.delete_edge(p2,p1)\n",
    "\n",
    "T0.show(figsize=4,edge_labels=True,title='root = p0',graph_border=True)\n",
    "T1.show(figsize=4,edge_labels=True,title='root = p1',graph_border=True)\n",
    "T2.show(figsize=4,edge_labels=True,title='root = p2',graph_border=True)"
   ]
  },
  {
   "cell_type": "markdown",
   "id": "fcf03081",
   "metadata": {},
   "source": [
    "The relative probability of state `i` is given by the determinant of the Laplacian matrix with row `i` and column `i` removed. \n",
    "In this case, each relative probability is a monomial with two factors."
   ]
  },
  {
   "cell_type": "code",
   "execution_count": 9,
   "id": "6818d7af",
   "metadata": {},
   "outputs": [
    {
     "name": "stdout",
     "output_type": "stream",
     "text": [
      "[ z0 : z1 : z2 ] = [ a10*a21 : a01*a21 : a01*a12 ]\n"
     ]
    }
   ],
   "source": [
    "z0 = Q[[1,2],[1,2]].determinant().simplify_full()\n",
    "z1 = Q[[0,2],[0,2]].determinant().simplify_full()\n",
    "z2 = Q[[0,1],[0,1]].determinant().simplify_full()\n",
    "print(f'[ z0 : z1 : z2 ] = [ {z0} : {z1} : {z2} ]')"
   ]
  },
  {
   "cell_type": "markdown",
   "id": "20371273",
   "metadata": {},
   "source": [
    "The normalized probabilities are:"
   ]
  },
  {
   "cell_type": "code",
   "execution_count": 10,
   "id": "46cfadcb",
   "metadata": {},
   "outputs": [
    {
     "data": {
      "text/html": [
       "<div class=\"notruncate\">\n",
       "<table  class=\"table_form\">\n",
       "<tbody>\n",
       "<tr class =\"row-a\">\n",
       "<td style=\"text-align:left\">p0=a10*a21/(a01*a12 + a01*a21 + a10*a21)</td>\n",
       "</tr>\n",
       "<tr class =\"row-b\">\n",
       "<td style=\"text-align:left\">p1=a01*a21/(a01*a12 + a01*a21 + a10*a21)</td>\n",
       "</tr>\n",
       "<tr class =\"row-a\">\n",
       "<td style=\"text-align:left\">p2=a01*a12/(a01*a12 + a01*a21 + a10*a21)</td>\n",
       "</tr>\n",
       "</tbody>\n",
       "</table>\n",
       "</div>"
      ],
      "text/plain": [
       "  p0=a10*a21/(a01*a12 + a01*a21 + a10*a21)\n",
       "  p1=a01*a21/(a01*a12 + a01*a21 + a10*a21)\n",
       "  p2=a01*a12/(a01*a12 + a01*a21 + a10*a21)"
      ]
     },
     "metadata": {},
     "output_type": "display_data"
    }
   ],
   "source": [
    "zT = z0+z1+z2\n",
    "p0 = z0/zT\n",
    "p1 = z1/zT\n",
    "p2 = z2/zT\n",
    "show(table([[f'{p0=}'],[f'{p1=}'],[f'{p2=}']]))"
   ]
  },
  {
   "cell_type": "markdown",
   "id": "0fd47f20",
   "metadata": {},
   "source": [
    "This three-state receptor model has no cycles.  For this reason the steady-state probabilities will satisfy detailed balance. This  implies that the steady-state probability distribution can be written in terms of equilibrium constants (as opposed to rate constants).  Define equilibrium constants as {math}`\\kappa_{j}=a_{ij}/a_{ji}` for {math}`i < j` whenever vertex {math}`i` and {math}`j` are adjacent. \n",
    "Dividing the numerator and denominator of each {math}`p_i` by {math}`a_{10}a_{21}` yields\n",
    "\n",
    "\\begin{equation}\n",
    "p_0 = \\frac{1}{1+\\kappa_1+\\kappa_1\\kappa_2} \\quad p_1 = \\frac{\\kappa_1}{1+\\kappa_1+\\kappa_1\\kappa_2} \\quad p_2 = \\frac{\\kappa_1 \\kappa_2}{1+\\kappa_1+\\kappa_1\\kappa_2}\n",
    "\\end{equation}\n",
    "\n",
    "This confirms that the steady-state probabilities of this three-state receptor model can be written in terms of equilibrium constants."
   ]
  }
 ],
 "metadata": {
  "jupytext": {
   "cell_metadata_filter": "-all",
   "formats": "md:myst",
   "text_representation": {
    "extension": ".md",
    "format_name": "myst",
    "format_version": 0.13,
    "jupytext_version": "1.10.3"
   }
  },
  "kernelspec": {
   "display_name": "SageMath 10",
   "language": "sage",
   "name": "sage-10.0"
  },
  "language_info": {
   "codemirror_mode": {
    "name": "ipython",
    "version": 3
   },
   "file_extension": ".py",
   "mimetype": "text/x-python",
   "name": "python",
   "nbconvert_exporter": "python",
   "pygments_lexer": "ipython3",
   "version": "3.11.1"
  },
  "source_map": [
   14,
   21,
   30,
   34,
   36,
   40,
   43,
   49,
   51,
   57,
   60,
   64,
   67,
   71,
   73,
   81,
   99,
   104,
   109,
   113,
   119
  ]
 },
 "nbformat": 4,
 "nbformat_minor": 5
}