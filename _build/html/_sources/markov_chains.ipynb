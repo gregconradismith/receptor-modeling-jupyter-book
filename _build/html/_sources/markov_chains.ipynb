{
 "cells": [
  {
   "cell_type": "markdown",
   "id": "8d56ef66",
   "metadata": {},
   "source": [
    "# Markov chain receptor models \n",
    "\n",
    "## Symbolic vertex and edge labels\n",
    "\n",
    "Recall the [three state model](receptor_modeling_ligands:three_state_model) discussed above ([Ligands](receptor_modeling_ligands)).  Using generic notation for the [path graph](example_graphs:path_graph) on three vertices,"
   ]
  },
  {
   "cell_type": "code",
   "execution_count": null,
   "id": "8bccbcd4",
   "metadata": {},
   "outputs": [],
   "source": [
    "var('p0 p1 p2 a01 a10 a12 a21')\n",
    "G=graphs.PathGraph(3).to_directed()\n",
    "G.relabel({0:p0,1:p1,2:p2})\n",
    "G.set_edge_label(p0,p1,a01)\n",
    "G.set_edge_label(p1,p0,a10)\n",
    "G.set_edge_label(p1,p2,a12)\n",
    "G.set_edge_label(p2,p1,a21)\n",
    "G.show(figsize=4,edge_labels=True,talk=True)"
   ]
  },
  {
   "cell_type": "markdown",
   "id": "e5a74da4",
   "metadata": {},
   "source": [
    "We assign symbolic variables to the vertices and edges of $G$ because this allows us to produce symbolic expressions important quantities using methods available in `Sagemath`'s [module for graphs and digraphs](https://doc.sagemath.org/html/en/reference/graphs/index.html). For example, the weighted adjacency matrix associated with graph $G$ above is"
   ]
  },
  {
   "cell_type": "code",
   "execution_count": null,
   "id": "8a1442c7",
   "metadata": {},
   "outputs": [],
   "source": [
    "A = G.weighted_adjacency_matrix()"
   ]
  },
  {
   "cell_type": "markdown",
   "id": "0e27da0a",
   "metadata": {},
   "source": [
    "The combinatorial Laplacian matrix is $L=D-A$ where $D$ is a diagonal matrix given by the column sum of $A$."
   ]
  },
  {
   "cell_type": "code",
   "execution_count": null,
   "id": "2b57aa34",
   "metadata": {},
   "outputs": [],
   "source": [
    "L = diagonal_matrix(sum(A.T))-A\n",
    "show(L)"
   ]
  },
  {
   "cell_type": "markdown",
   "id": "99e9ce1c",
   "metadata": {},
   "source": [
    "```{note}\n",
    "In the code block above, I prefer to write ```sum(A.T)``` rather than ```sum(A.columns())```, but these are equal.\n",
    "```"
   ]
  },
  {
   "cell_type": "code",
   "execution_count": null,
   "id": "29014e8b",
   "metadata": {},
   "outputs": [],
   "source": [
    "sum(A.T) == sum(A.columns())"
   ]
  },
  {
   "cell_type": "markdown",
   "id": "d91e0313",
   "metadata": {},
   "source": [
    "## Generator matrix of Markov chain \n",
    "\n",
    "The Markov chain with states and transistions of $G$ has a generator matrix $Q$ that is the opposite (additive inverse) of the Laplacian matrix ($L$). That is, $Q=-L=A-D$. We define a function that calculates the symbolic generator matrix $Q$ from the weighted adjacency matrix $A$."
   ]
  },
  {
   "cell_type": "code",
   "execution_count": null,
   "id": "ea5e9b5a",
   "metadata": {},
   "outputs": [],
   "source": [
    "def generator(A):\n",
    "    return A-diagonal_matrix(sum(A.T))"
   ]
  },
  {
   "cell_type": "markdown",
   "id": "886d3a99",
   "metadata": {},
   "source": [
    "Calling the function ```generator()``` gives the result we expect:"
   ]
  },
  {
   "cell_type": "code",
   "execution_count": null,
   "id": "070e2569",
   "metadata": {},
   "outputs": [],
   "source": [
    "Q = generator(A)\n",
    "show(Q)"
   ]
  },
  {
   "cell_type": "markdown",
   "id": "dd2c8836",
   "metadata": {},
   "source": [
    "Note that the sums of the columns are zero, reflecting the conservation of probability."
   ]
  },
  {
   "cell_type": "code",
   "execution_count": null,
   "id": "7ff839c9",
   "metadata": {},
   "outputs": [],
   "source": [
    "sum(Q.columns()) == sum(Q.T)"
   ]
  },
  {
   "cell_type": "markdown",
   "id": "76c8ca1c",
   "metadata": {},
   "source": [
    "## Markov chain tree theorem (Hill's diagrammatic method)\n",
    "\n",
    "Using the Markov chain tree theorem \\(CHECK\\), it is straightforward to find symbolic expressions for the steady\\-state probabilities of each state \\(p0,p1,p2\\).  The relative probabilities are:"
   ]
  },
  {
   "cell_type": "code",
   "execution_count": null,
   "id": "e28e0ffd",
   "metadata": {},
   "outputs": [],
   "source": [
    "z0 = Q[[1,2],[1,2]].determinant().simplify_full()\n",
    "z1 = Q[[0,2],[0,2]].determinant().simplify_full()\n",
    "z2 = Q[[0,1],[0,1]].determinant().simplify_full()\n",
    "print(f'[ {z0} : {z1} : {z2}]')"
   ]
  },
  {
   "cell_type": "markdown",
   "id": "8f77b51e",
   "metadata": {},
   "source": [
    "The normalized probabilities are:"
   ]
  },
  {
   "cell_type": "code",
   "execution_count": null,
   "id": "7ccd4304",
   "metadata": {},
   "outputs": [],
   "source": [
    "zT = z0+z1+z2\n",
    "p0 = z0/zT\n",
    "p1 = z1/zT\n",
    "p2 = z2/zT\n",
    "show(table([[f'{p0=}'],[f'{p1=}'],[f'{p2=}']]))"
   ]
  },
  {
   "cell_type": "markdown",
   "id": "6e197a41",
   "metadata": {},
   "source": [
    "This calculation can be peformed for a Markov chain whose topology is a simple directed graph (connected, no loops) that is also symmetric."
   ]
  },
  {
   "cell_type": "code",
   "execution_count": null,
   "id": "95569988",
   "metadata": {},
   "outputs": [],
   "source": [
    "def hill_diagramatic_method(Q):\n",
    "    n = Q.nrows()\n",
    "    if Q.ncols() != n:\n",
    "        raise ValueError\n",
    "    z = [0]*n\n",
    "    for i in range(n):\n",
    "        a = [ j for j in range(n) ]\n",
    "        a.remove(i)\n",
    "        z[i] = Q[a,a].determinant().simplify_full()\n",
    "    return z\n",
    "\n",
    "G=graphs.HouseGraph().to_directed()\n",
    "# put values on each edge ... \n",
    "zz = hill_diagramatic_method(Q)\n",
    "print(zz)"
   ]
  },
  {
   "cell_type": "code",
   "execution_count": null,
   "id": "82bcf23f",
   "metadata": {},
   "outputs": [],
   "source": [
    "# define this? G.weighted_laplacian_matrix()"
   ]
  }
 ],
 "metadata": {
  "jupytext": {
   "cell_metadata_filter": "-all",
   "formats": "md:myst",
   "text_representation": {
    "extension": ".md",
    "format_name": "myst",
    "format_version": 0.13,
    "jupytext_version": "1.10.3"
   }
  },
  "kernelspec": {
   "display_name": "SageMath 10",
   "language": "sage",
   "name": "sage-10.0"
  },
  "source_map": [
   14,
   21,
   30,
   34,
   36,
   40,
   43,
   49,
   51,
   57,
   60,
   64,
   67,
   71,
   73,
   79,
   84,
   88,
   94,
   98,
   116
  ]
 },
 "nbformat": 4,
 "nbformat_minor": 5
}