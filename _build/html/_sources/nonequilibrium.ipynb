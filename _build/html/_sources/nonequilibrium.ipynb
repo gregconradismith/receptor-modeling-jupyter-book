{
 "cells": [
  {
   "cell_type": "markdown",
   "id": "d8fe26ab",
   "metadata": {},
   "source": [
    "```{math}\n",
    "\\def\\bpi{\\boldsymbol{\\pi}}\n",
    "\\def\\bpit{\\boldsymbol{\\pi}^{\\,T}}\n",
    "\\def\\bzero{\\boldsymbol{0}}\n",
    "\\def\\be{\\boldsymbol{e}}\n",
    "```\n",
    "\n",
    "(nonequilibrium=)\n",
    "# Non-equilibrium steady states\n",
    "\n",
    "The equilibrium formulation assumes detailed balance. However, when the state-transition diagram of a receptor model includes cycles, the steady-state probability distribution may not satisfy detailed balance.\n",
    "\n",
    "Let us consider again the following state-transition diagram."
   ]
  },
  {
   "cell_type": "code",
   "execution_count": null,
   "id": "529c20a6",
   "metadata": {},
   "outputs": [],
   "source": [
    "var('a12, a21, a13, a31, a23, a32, a34, a43')\n",
    "d = {1: {2:a12, 3:a13}, 2: {1:a21, 3:a23}, 3: {2:a32, 1:a31, 4:a34}, 4: {3:a43}};\n",
    "G = DiGraph(d,weighted=True)\n",
    "vertex_positions = {1: (0, 0), 2: (1, 1.41), 3: (2, 0), 4: (4,0)}\n",
    "G.plot(figsize=8,edge_labels=True,pos=vertex_positions,graph_border=True)"
   ]
  },
  {
   "cell_type": "markdown",
   "id": "840d77b9",
   "metadata": {},
   "source": [
    "## Generator matrix \n",
    "\n",
    "The generator matrix {math}`Q` for the Markov chain associated to {math}`G` can be constructed from the weighted adjacency matrix {math}`A`, as follows"
   ]
  },
  {
   "cell_type": "code",
   "execution_count": null,
   "id": "f2f9db56",
   "metadata": {},
   "outputs": [],
   "source": [
    "A = G.weighted_adjacency_matrix(sparse=False)\n",
    "Q = A - diagonal_matrix(sum(A.T))\n",
    "show(Q)\n",
    "print('The rank of Q is',Q.rank())"
   ]
  },
  {
   "cell_type": "markdown",
   "id": "b7f7cd48",
   "metadata": {},
   "source": [
    "The generator of a Markov chain receptor model with {math}`n` states has rank {math}`n-1` due to conservation of probability. The four-state receptor model under consideration has a 4 states.  The {math}`4 \\times 4` generator matrix {math}`Q` has rank {math}`4-1=3`."
   ]
  },
  {
   "cell_type": "code",
   "execution_count": null,
   "id": "cebfffbb",
   "metadata": {},
   "outputs": [],
   "source": [
    "print('The rank of Q is',Q.rank())"
   ]
  },
  {
   "cell_type": "markdown",
   "id": "af5d5a1b",
   "metadata": {},
   "source": [
    "## The probability distribution solves a linear system of ordinary differential equations\n",
    "\n",
    "The relationship between the adjacency matrix {math}`A` and generator matrix {math}`Q` can be written as\n",
    "\\begin{equation}\n",
    "Q = A - \\text{diag}(A\\be)\n",
    "\\end{equation}\n",
    "where {math}`\\be` is a commensurate column vector of 1s. The following code confirms that {math}`Q \\be = \\bzero`, i.e., each row of {math}`Q` sums to zero."
   ]
  },
  {
   "cell_type": "code",
   "execution_count": null,
   "id": "006fba7f",
   "metadata": {},
   "outputs": [],
   "source": [
    "e = matrix([1,1,1,1]).T\n",
    "show(Q*e)"
   ]
  },
  {
   "cell_type": "markdown",
   "id": "ecb4c09b",
   "metadata": {},
   "source": [
    "The matrix \n",
    "{math}`Q` is referred to as the generator matrix for the Markov chain because the probability distribution {math}`\\bpit` solves \n",
    "```{math}\n",
    ":label: mc_ode\n",
    "d\\bpit/dt = \\bpit Q \\, . \n",
    "```\n",
    "\n",
    "```{note}\n",
    "In the above expressions, the probability distribution {math}`\\bpit` is a row vector that multiplies {math}`Q` on the left, while {math}`\\be` is a column vector that multiplies {math}`Q` on the right.  If one prefers to represent the steady-state probability distribution as a column vector, one can write {math}`\\be^T Q^T = \\bzero^T` and {math}`d\\bpi/dt = Q^T \\bpi`.  \n",
    "```\n",
    "\n",
    "Setting the left side of {eq}`mc_ode` to zero, it is evident that steady-state probability distribution {math}`\\bpit` solves {math}`\\bpit Q = \\bzero` subject to {math}`\\bpit \\be = 1`.  This expression is equivalent to {math}`\\sum_i \\pi_i = 1` (conservation of probability).\n",
    "\n",
    "\n",
    "## Symbolic calcualtion of steady-state probability distribution\n",
    "\n",
    "\n",
    "Using `Sagemath` we can symbolically solve {math}`\\bpit Q = \\bzero` subject to {math}`\\bpit \\be = 1`.  \n",
    "\n",
    "To begin, we will unpack the four linear equations of {math}`\\bpit Q = \\bzero`, which is compact notation for four linear equations."
   ]
  },
  {
   "cell_type": "code",
   "execution_count": null,
   "id": "f5264fe9",
   "metadata": {},
   "outputs": [],
   "source": [
    "var('p1 p2 p3 p4')\n",
    "p = vector([p1, p2, p3, p4])\n",
    "pQ = p*Q\n",
    "eq =[]\n",
    "for lhs in pQ:\n",
    "    show(lhs == 0)\n",
    "    eq.append(lhs == 0)"
   ]
  },
  {
   "cell_type": "markdown",
   "id": "16b1ce6d",
   "metadata": {},
   "source": [
    "As discussed above, the generator matrix {math}`Q` is rank 3.  Thus, the fourth equation (`a34*p3 - a43*p4 == 0`) is superfluous.  We replace this equation by the condition `p1+p2+p3+p4 == 1` (the solution should be a normalized probability distribution)."
   ]
  },
  {
   "cell_type": "code",
   "execution_count": null,
   "id": "dfe003ab",
   "metadata": {},
   "outputs": [],
   "source": [
    "eq[-1] = p1+p2+p3+p4 == 1\n",
    "for q in eq:\n",
    "    show(q)"
   ]
  },
  {
   "cell_type": "markdown",
   "id": "ed05b76c",
   "metadata": {},
   "source": [
    "This system of four linear equations can now be solved to obtain the steady-state probability distribution."
   ]
  },
  {
   "cell_type": "code",
   "execution_count": null,
   "id": "53625469",
   "metadata": {},
   "outputs": [],
   "source": [
    "z = solve(eq,list(p))\n",
    "for i in range(4):\n",
    "    f = z[0][i].rhs()\n",
    "    print('p%s' % (i+1),'=',f.expand().factor())"
   ]
  },
  {
   "cell_type": "markdown",
   "id": "e901d014",
   "metadata": {},
   "source": [
    "This solution can be written more compactly as follows.\n",
    "\n",
    "```{math}\n",
    ":label: Eq:P1234\n",
    "p_1 & = \\frac{z_1}{z_1+z_2+z_3+z_4}\\\\\n",
    "p_2 & = \\frac{z_2}{z_1+z_2+z_3+z_4}\\\\\n",
    "p_3 & = \\frac{z_3}{z_1+z_2+z_3+z_4}\\\\\n",
    "p_4 & = \\frac{z_4}{z_1+z_2+z_3+z_4}\n",
    "```\n",
    "where\n",
    "\\begin{align*}\n",
    "z_1 & = (a_{21} a_{31} + a_{23} a_{31} + a_{21} a_{32} ) a_{43}\\\\\n",
    "z_2 & = (a_{12} a_{31} + a_{12} a_{32} + a_{13} a_{32} ) a_{43}\\\\\n",
    "z_3 & = (a_{13} a_{21} + a_{12} a_{23} + a_{13} a_{23} ) a_{43}\\\\\n",
    "z_4 & = (a_{13} a_{21} + a_{12} a_{23} + a_{13} a_{23} ) a_{34} \\, .\n",
    "\\end{align*}\n",
    "\n",
    "In general, this probability distribution is a _non-equilibrium steady state_.  To see this, check to see if the distribution satisfies detailed balance, i.e., {math}`a_{ij} \\pi_i = a_{ji} \\pi_j`. Using the note above, we see that detailed balance implies {math}`a_{ij} z_i = a_{ji} z_j`, but {math}`a_{01} z_0 \\neq a_{10} z_1` in general.\n",
    "\n",
    "\n",
    "## [Komolgorov's criterion](https://en.wikipedia.org/wiki/Kolmogorov%27s_criterion) and equilibrium\n",
    "\n",
    "If the product of rate constants around the cycle is the same in both directions, i.e., `a12*a23*a31=a13*a32*a21` [Komolgorov's criterion](https://en.wikipedia.org/wiki/Kolmogorov%27s_criterion) is satisfied.  In this case, the steady-state probability distribution is guaranteed to satisfy detailed balance.  The code below usings this condition to repace `a12` by `a13*a32*a21/(a23*a31)`."
   ]
  },
  {
   "cell_type": "code",
   "execution_count": null,
   "id": "4ac38fc5",
   "metadata": {
    "tags": [
     "hide-cell"
    ]
   },
   "outputs": [],
   "source": [
    "def mysolve(p,Q):\n",
    "    pQ = p*Q\n",
    "    eq =[]\n",
    "    for lhs in pQ:\n",
    "       eq.append(lhs == 0)\n",
    "    eq[-1] = p1+p2+p3+p4 == 1\n",
    "    z = solve(eq,list(p))\n",
    "    for i in range(4):\n",
    "        f = z[0][i].rhs()\n",
    "        print('p%s' % (i+1),'=',f.expand().factor())"
   ]
  },
  {
   "cell_type": "markdown",
   "id": "2a554f2d",
   "metadata": {},
   "source": [
    "The equilibrium steady-state probability distribution assuming the Komolgorov condition is"
   ]
  },
  {
   "cell_type": "code",
   "execution_count": null,
   "id": "6265d0b1",
   "metadata": {},
   "outputs": [],
   "source": [
    "Q = Q.subs(a31=a13*a32*a21/(a12*a23))\n",
    "mysolve(p,Q)"
   ]
  },
  {
   "cell_type": "markdown",
   "id": "c247dcd5",
   "metadata": {},
   "source": [
    "which can be written more compactly using {eq}`Eq:P1234` and\n",
    "\\begin{align*}\n",
    "z_1 & = a_{21} a_{32} a_{43} &\n",
    "z_2 & = a_{12} a_{32} a_{43} &\n",
    "z_3 & = a_{12} a_{23} a_{43} &\n",
    "z_4 & = a_{12} a_{23} a_{34} \\, .\n",
    "\\end{align*}\n",
    "\n",
    "This distribution satisfies detailed balance, i.e., {math}`a_{ij} \\pi_i = a_{ji} \\pi_j`.  As discussed previously, detailed balance implies that the steady-state probability distribution can be written in terms of equilibrium constants (as opposed to rate constants).  Define {math}`\\kappa_{j}=a_{ij}/a_{ji}` for {math}`i < j` whenever vertex {math}`i` and {math}`j` are adjacent.\n",
    "Dividing the numerator and denominator of each {math}`\\pi_i` by {math}`a_{12}a_{23}a_{34}` yields the relative probabilities {math}`z_1 = 1`,   {math}`z_2 = \\kappa_{2}`,  {math}`z_3 = \\kappa_{2}\\kappa_{3}`, and {math}`z_4 =  \\kappa_{2} \\kappa_{3} \\kappa_{4}`.  Substituting these values into {eq}`Eq:P1234` gives the solution in terms of the equilibrium constants {math}`\\kappa_{2}`, {math}`\\kappa_{3}`, and {math}`\\kappa_{4}`.\n",
    "\n",
    "In the notation of the [equilibrium formulation](equilibrium), this probability distribution, \n",
    "\\begin{equation}\n",
    " [ \\pi_1  :  \\pi_2 :  \\pi_3 :  \\pi_4] = [1 :\\kappa_{2} : \\kappa_{2} \\kappa_{3} :  \\kappa_{2} \\kappa_{3} \\kappa_{4} ]  \\, ,\n",
    "\\end{equation}\n",
    "corresponds to the following spanning tree rooted in state 1."
   ]
  },
  {
   "cell_type": "code",
   "execution_count": null,
   "id": "cbc90205",
   "metadata": {},
   "outputs": [],
   "source": [
    "var('kappa_2, kappa_3, kappa_4')\n",
    "d = {2: {1:kappa_2}, 3: {2:kappa_3}, 4: {3:kappa_4}};\n",
    "G = DiGraph(d,weighted=True)\n",
    "vertex_positions = {1: (0, 0), 2: (1, 1.41), 3: (2, 0), 4: (4,0)}\n",
    "G.plot(figsize=8,edge_labels=True,pos=vertex_positions,graph_border=True)"
   ]
  }
 ],
 "metadata": {
  "jupytext": {
   "cell_metadata_filter": "-all",
   "formats": "md:myst",
   "text_representation": {
    "extension": ".md",
    "format_name": "myst",
    "format_version": 0.13,
    "jupytext_version": "1.10.3"
   }
  },
  "kernelspec": {
   "display_name": "SageMath 10",
   "language": "sage",
   "name": "sage-10.0"
  },
  "source_map": [
   14,
   30,
   36,
   41,
   46,
   50,
   52,
   62,
   65,
   88,
   96,
   100,
   104,
   108,
   113,
   139,
   151,
   154,
   157,
   174
  ]
 },
 "nbformat": 4,
 "nbformat_minor": 5
}