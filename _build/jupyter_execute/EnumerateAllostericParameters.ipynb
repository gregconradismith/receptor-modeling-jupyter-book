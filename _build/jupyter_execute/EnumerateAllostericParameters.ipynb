{
 "cells": [
  {
   "cell_type": "markdown",
   "metadata": {
    "collapsed": false
   },
   "source": [
    "# Allosteric parameters in receptor dimers\n",
    "\n",
    "Quantitative pharmacologists construct Markov chain models to give insight into the relationship between ligand concentration and the fraction of cell surface receptors in each of several molecular conformations. Pharmacologists use these stochastic models to understand the action of natural ligands and drugs on receptor\\-mediated cell responses. When receptors function as two or more similar protein subunits working in concert \\(i.e., homodimers or oligomers\\), receptor models must\n",
    "\n",
    "1. account for symmetry,\n",
    "\n",
    "2. satisfy thermodynamic constraints, and\n",
    "\n",
    "3. properly account for subunit interactions \\(allostery\\) mediated by conformational coupling.\n",
    "\n",
    "The modeling framework presented below satisfies these three requirements.  \n",
    "\n"
   ]
  },
  {
   "cell_type": "markdown",
   "metadata": {
    "collapsed": false
   },
   "source": [
    "The file `MyTools.ipynb` is includes several function definitions whose use is illustrated below.\n"
   ]
  },
  {
   "cell_type": "code",
   "execution_count": 1,
   "metadata": {
    "collapsed": false
   },
   "outputs": [],
   "source": [
    "%run MyTools.ipynb"
   ]
  },
  {
   "cell_type": "code",
   "execution_count": 2,
   "metadata": {
    "collapsed": false
   },
   "outputs": [],
   "source": [
    "verbose = True"
   ]
  },
  {
   "cell_type": "markdown",
   "metadata": {
    "collapsed": false
   },
   "source": [
    "Below`sagemath` methods are used to create and plot a graph that represents the topology of the states and transitions of the receptor model.  The vertices are integers. The edge labels are currently `None` so these are not shown \\(the `show` method includes `edge_labels=False)`\n"
   ]
  },
  {
   "cell_type": "code",
   "execution_count": 3,
   "metadata": {
    "collapsed": false
   },
   "outputs": [
    {
     "data": {
      "image/png": "[encoded data removed]",
      "text/plain": [
       "Graphics object consisting of 12 graphics primitives"
      ]
     },
     "metadata": {},
     "output_type": "display_data"
    }
   ],
   "source": [
    "G=graphs.HouseGraph();\n",
    "G.show(edge_labels=False)"
   ]
  },
  {
   "cell_type": "markdown",
   "metadata": {
    "collapsed": false
   },
   "source": [
    "The following commands produces a spanning tree of the receptor model rooted in vertex 0.  The function `add_edge_monomials(G)` defined variables from a polynomial ring and applies them edge labels to the graph.  The default method uses $e_1, e_2, \\ldots$. Using `method='alpha'` in `add_edge_monomials()` creates single digit edge labels \\($b,c,\\ldots$\\).\n"
   ]
  },
  {
   "cell_type": "code",
   "execution_count": 4,
   "metadata": {
    "collapsed": false
   },
   "outputs": [],
   "source": [
    "#my_method = 'alpha'\n",
    "my_method = 'integer'"
   ]
  },
  {
   "cell_type": "code",
   "execution_count": 5,
   "metadata": {
    "collapsed": false
   },
   "outputs": [
    {
     "name": "stdout",
     "output_type": "stream",
     "text": [
      "The edge labels (e1, e2, e3, e4) are indeterminants in a Multivariate Polynomial Ring in e1, e2, e3, e4 over Integer Ring\n"
     ]
    },
    {
     "data": {
      "image/png": "[encoded data removed]",
      "text/plain": [
       "Graphics object consisting of 14 graphics primitives"
      ]
     },
     "metadata": {},
     "output_type": "display_data"
    }
   ],
   "source": [
    "(BFS_Vertices,BFS_Tree) = G.lex_BFS(tree=True,initial_vertex=0)\n",
    "(T,E)=add_edge_monomials(BFS_Tree,method=my_method,ring=True,short_name=True)\n",
    "if verbose: print(f'The edge labels {E.gens()} are indeterminants in a {E}')\n",
    "T.set_pos(G.get_pos())\n",
    "T.show(edge_labels=True)"
   ]
  },
  {
   "cell_type": "code",
   "execution_count": 6,
   "metadata": {
    "collapsed": false
   },
   "outputs": [
    {
     "data": {
      "text/html": [
       "<html>\\(\\displaystyle \\left[0, e_{1}, e_{2}, e_{3} + e_{2}, e_{4} + e_{3} + e_{2}\\right]\\)</html>"
      ],
      "text/latex": [
       "$\\displaystyle \\left[0, e_{1}, e_{2}, e_{3} + e_{2}, e_{4} + e_{3} + e_{2}\\right]$"
      ],
      "text/plain": [
       "[0, e1, e2, e3 + e2, e4 + e3 + e2]"
      ]
     },
     "metadata": {},
     "output_type": "display_data"
    }
   ],
   "source": [
    "F = [E(0)]\n",
    "for v in BFS_Vertices[1:]: # every elemenet except the first (the root 0, which has been set to E(0)\n",
    "    P = T.all_paths(v, 0, use_multiedges=False, report_edges=True, labels=True)\n",
    "    f=0\n",
    "    for p in P[0]:  # there is only one path, so take the first, which is P[0]\n",
    "        f = f+p[2] # p[0] & p[1] are vertices; p[2] is edge_label\n",
    "    F.append(f)\n",
    "show(F)"
   ]
  },
  {
   "cell_type": "code",
   "execution_count": 7,
   "metadata": {
    "collapsed": false
   },
   "outputs": [
    {
     "name": "stdout",
     "output_type": "stream",
     "text": [
      "['kappa_1', 'kappa_2', 'kappa_3', 'kappa_4']\n",
      "['\\\\kappa_{\\\\mathit{1}}', '\\\\kappa_{\\\\mathit{2}}', '\\\\kappa_{\\\\mathit{3}}', '\\\\kappa_{\\\\mathit{4}}']\n"
     ]
    }
   ],
   "source": [
    "KappaVars = []; KappaNames = []\n",
    "for e in E.gens():\n",
    "    estr = str(e)\n",
    "    if len(estr)!=1:\n",
    "        estr=estr.replace('e','')\n",
    "    var = 'kappa_'+estr\n",
    "    KappaVars.append(var)\n",
    "    KappaNames.append('\\\\kappa_{\\\\mathit{' + estr + '}}')\n",
    "if verbose: print(KappaVars); print(KappaNames)"
   ]
  },
  {
   "cell_type": "code",
   "execution_count": 8,
   "metadata": {
    "collapsed": false
   },
   "outputs": [
    {
     "data": {
      "text/html": [
       "<div class=\"notruncate\">\n",
       "<table  class=\"table_form\">\n",
       "<tbody>\n",
       "<tr class =\"row-a\">\n",
       "<td style=\"text-align:left\">\\(0\\)</td>\n",
       "<td style=\"text-align:left\">\\(0\\)</td>\n",
       "<td style=\"text-align:left\">\\(0\\)</td>\n",
       "<td style=\"text-align:left\">\\(0\\)</td>\n",
       "<td style=\"text-align:left\">\\(0\\)</td>\n",
       "</tr>\n",
       "<tr class =\"row-b\">\n",
       "<td style=\"text-align:left\">\\(0\\)</td>\n",
       "<td style=\"text-align:left\">\\(e_{1}^{2}\\)</td>\n",
       "<td style=\"text-align:left\">\\(e_{1} e_{2}\\)</td>\n",
       "<td style=\"text-align:left\">\\(e_{1} e_{3} + e_{1} e_{2}\\)</td>\n",
       "<td style=\"text-align:left\">\\(e_{1} e_{4} + e_{1} e_{3} + e_{1} e_{2}\\)</td>\n",
       "</tr>\n",
       "<tr class =\"row-a\">\n",
       "<td style=\"text-align:left\">\\(0\\)</td>\n",
       "<td style=\"text-align:left\">\\(0\\)</td>\n",
       "<td style=\"text-align:left\">\\(e_{2}^{2}\\)</td>\n",
       "<td style=\"text-align:left\">\\(e_{2} e_{3} + e_{2}^{2}\\)</td>\n",
       "<td style=\"text-align:left\">\\(e_{2} e_{4} + e_{2} e_{3} + e_{2}^{2}\\)</td>\n",
       "</tr>\n",
       "<tr class =\"row-b\">\n",
       "<td style=\"text-align:left\">\\(0\\)</td>\n",
       "<td style=\"text-align:left\">\\(0\\)</td>\n",
       "<td style=\"text-align:left\">\\(0\\)</td>\n",
       "<td style=\"text-align:left\">\\(e_{3}^{2} + 2 e_{2} e_{3} + e_{2}^{2}\\)</td>\n",
       "<td style=\"text-align:left\">\\(e_{3} e_{4} + e_{2} e_{4} + e_{3}^{2} + 2 e_{2} e_{3} + e_{2}^{2}\\)</td>\n",
       "</tr>\n",
       "<tr class =\"row-a\">\n",
       "<td style=\"text-align:left\">\\(0\\)</td>\n",
       "<td style=\"text-align:left\">\\(0\\)</td>\n",
       "<td style=\"text-align:left\">\\(0\\)</td>\n",
       "<td style=\"text-align:left\">\\(0\\)</td>\n",
       "<td style=\"text-align:left\">\\(e_{4}^{2} + 2 e_{3} e_{4} + 2 e_{2} e_{4} + e_{3}^{2} + 2 e_{2} e_{3} + e_{2}^{2}\\)</td>\n",
       "</tr>\n",
       "</tbody>\n",
       "</table>\n",
       "</div>"
      ],
      "text/plain": [
       "  0   0      0       0                       0\n",
       "  0   e1^2   e1*e2   e1*e3 + e1*e2           e1*e4 + e1*e3 + e1*e2\n",
       "  0   0      e2^2    e2*e3 + e2^2            e2*e4 + e2*e3 + e2^2\n",
       "  0   0      0       e3^2 + 2*e2*e3 + e2^2   e3*e4 + e2*e4 + e3^2 + 2*e2*e3 + e2^2\n",
       "  0   0      0       0                       e4^2 + 2*e3*e4 + 2*e2*e4 + e3^2 + 2*e2*e3 + e2^2"
      ]
     },
     "metadata": {},
     "output_type": "display_data"
    },
    {
     "data": {
      "text/html": [
       "<div class=\"notruncate\">\n",
       "<table  class=\"table_form\">\n",
       "<tbody>\n",
       "<tr class =\"row-a\">\n",
       "<td style=\"text-align:left\">\\(\\left[\\right]\\)</td>\n",
       "<td style=\"text-align:left\">\\(\\left[\\right]\\)</td>\n",
       "<td style=\"text-align:left\">\\(\\left[\\right]\\)</td>\n",
       "<td style=\"text-align:left\">\\(\\left[\\right]\\)</td>\n",
       "<td style=\"text-align:left\">\\(\\left[\\right]\\)</td>\n",
       "</tr>\n",
       "<tr class =\"row-b\">\n",
       "<td style=\"text-align:left\">\\(0\\)</td>\n",
       "<td style=\"text-align:left\">\\(\\left[e_{1}^{2}\\right]\\)</td>\n",
       "<td style=\"text-align:left\">\\(\\left[e_{1} e_{2}\\right]\\)</td>\n",
       "<td style=\"text-align:left\">\\(\\left[e_{1} e_{3}, e_{1} e_{2}\\right]\\)</td>\n",
       "<td style=\"text-align:left\">\\(\\left[e_{1} e_{4}, e_{1} e_{3}, e_{1} e_{2}\\right]\\)</td>\n",
       "</tr>\n",
       "<tr class =\"row-a\">\n",
       "<td style=\"text-align:left\">\\(0\\)</td>\n",
       "<td style=\"text-align:left\">\\(0\\)</td>\n",
       "<td style=\"text-align:left\">\\(\\left[e_{2}^{2}\\right]\\)</td>\n",
       "<td style=\"text-align:left\">\\(\\left[e_{2} e_{3}, e_{2}^{2}\\right]\\)</td>\n",
       "<td style=\"text-align:left\">\\(\\left[e_{2} e_{4}, e_{2} e_{3}, e_{2}^{2}\\right]\\)</td>\n",
       "</tr>\n",
       "<tr class =\"row-b\">\n",
       "<td style=\"text-align:left\">\\(0\\)</td>\n",
       "<td style=\"text-align:left\">\\(0\\)</td>\n",
       "<td style=\"text-align:left\">\\(0\\)</td>\n",
       "<td style=\"text-align:left\">\\(\\left[e_{3}^{2}, e_{2} e_{3}, e_{2}^{2}\\right]\\)</td>\n",
       "<td style=\"text-align:left\">\\(\\left[e_{3} e_{4}, e_{2} e_{4}, e_{3}^{2}, e_{2} e_{3}, e_{2}^{2}\\right]\\)</td>\n",
       "</tr>\n",
       "<tr class =\"row-a\">\n",
       "<td style=\"text-align:left\">\\(0\\)</td>\n",
       "<td style=\"text-align:left\">\\(0\\)</td>\n",
       "<td style=\"text-align:left\">\\(0\\)</td>\n",
       "<td style=\"text-align:left\">\\(0\\)</td>\n",
       "<td style=\"text-align:left\">\\(\\left[e_{4}^{2}, e_{3} e_{4}, e_{2} e_{4}, e_{3}^{2}, e_{2} e_{3}, e_{2}^{2}\\right]\\)</td>\n",
       "</tr>\n",
       "</tbody>\n",
       "</table>\n",
       "</div>"
      ],
      "text/plain": [
       "  []   []       []        []                    []\n",
       "  0    [e1^2]   [e1*e2]   [e1*e3, e1*e2]        [e1*e4, e1*e3, e1*e2]\n",
       "  0    0        [e2^2]    [e2*e3, e2^2]         [e2*e4, e2*e3, e2^2]\n",
       "  0    0        0         [e3^2, e2*e3, e2^2]   [e3*e4, e2*e4, e3^2, e2*e3, e2^2]\n",
       "  0    0        0         0                     [e4^2, e3*e4, e2*e4, e3^2, e2*e3, e2^2]"
      ]
     },
     "metadata": {},
     "output_type": "display_data"
    },
    {
     "data": {
      "text/html": [
       "<div class=\"notruncate\">\n",
       "<table  class=\"table_form\">\n",
       "<tbody>\n",
       "<tr class =\"row-a\">\n",
       "<td style=\"text-align:left\">\\(\\left[\\right]\\)</td>\n",
       "<td style=\"text-align:left\">\\(\\left[\\right]\\)</td>\n",
       "<td style=\"text-align:left\">\\(\\left[\\right]\\)</td>\n",
       "<td style=\"text-align:left\">\\(\\left[\\right]\\)</td>\n",
       "<td style=\"text-align:left\">\\(\\left[\\right]\\)</td>\n",
       "</tr>\n",
       "<tr class =\"row-b\">\n",
       "<td style=\"text-align:left\">\\(0\\)</td>\n",
       "<td style=\"text-align:left\">\\(\\left[1\\right]\\)</td>\n",
       "<td style=\"text-align:left\">\\(\\left[1\\right]\\)</td>\n",
       "<td style=\"text-align:left\">\\(\\left[1, 1\\right]\\)</td>\n",
       "<td style=\"text-align:left\">\\(\\left[1, 1, 1\\right]\\)</td>\n",
       "</tr>\n",
       "<tr class =\"row-a\">\n",
       "<td style=\"text-align:left\">\\(0\\)</td>\n",
       "<td style=\"text-align:left\">\\(0\\)</td>\n",
       "<td style=\"text-align:left\">\\(\\left[1\\right]\\)</td>\n",
       "<td style=\"text-align:left\">\\(\\left[1, 1\\right]\\)</td>\n",
       "<td style=\"text-align:left\">\\(\\left[1, 1, 1\\right]\\)</td>\n",
       "</tr>\n",
       "<tr class =\"row-b\">\n",
       "<td style=\"text-align:left\">\\(0\\)</td>\n",
       "<td style=\"text-align:left\">\\(0\\)</td>\n",
       "<td style=\"text-align:left\">\\(0\\)</td>\n",
       "<td style=\"text-align:left\">\\(\\left[1, 2, 1\\right]\\)</td>\n",
       "<td style=\"text-align:left\">\\(\\left[1, 1, 1, 2, 1\\right]\\)</td>\n",
       "</tr>\n",
       "<tr class =\"row-a\">\n",
       "<td style=\"text-align:left\">\\(0\\)</td>\n",
       "<td style=\"text-align:left\">\\(0\\)</td>\n",
       "<td style=\"text-align:left\">\\(0\\)</td>\n",
       "<td style=\"text-align:left\">\\(0\\)</td>\n",
       "<td style=\"text-align:left\">\\(\\left[1, 2, 2, 1, 2, 1\\right]\\)</td>\n",
       "</tr>\n",
       "</tbody>\n",
       "</table>\n",
       "</div>"
      ],
      "text/plain": [
       "  []   []    []    []          []\n",
       "  0    [1]   [1]   [1, 1]      [1, 1, 1]\n",
       "  0    0     [1]   [1, 1]      [1, 1, 1]\n",
       "  0    0     0     [1, 2, 1]   [1, 1, 1, 2, 1]\n",
       "  0    0     0     0           [1, 2, 2, 1, 2, 1]"
      ]
     },
     "metadata": {},
     "output_type": "display_data"
    }
   ],
   "source": [
    "nv = len(F) # nv = G.order()\n",
    "EtaProb = zeros(nv); EtaMons = zeros(nv); EtaCoef = zeros(nv)\n",
    "for i0 in range(nv):\n",
    "    for i1 in range(i0,nv):\n",
    "        fprod=F[i0]*F[i1]\n",
    "        EtaProb[i0][i1]=fprod\n",
    "        EtaMons[i0][i1]=fprod.monomials()\n",
    "        EtaCoef[i0][i1]=fprod.coefficients()\n",
    "if verbose: show(table(EtaProb)); show(table(EtaMons)); show(table(EtaCoef))"
   ]
  },
  {
   "cell_type": "code",
   "execution_count": 9,
   "metadata": {
    "collapsed": false
   },
   "outputs": [
    {
     "data": {
      "text/html": [
       "<html>\\(\\displaystyle \\left[0, e_{1}^{2}, e_{1} e_{2}, e_{2}^{2}, e_{1} e_{3}, e_{2} e_{3}, e_{3}^{2}, e_{1} e_{4}, e_{2} e_{4}, e_{3} e_{4}, e_{4}^{2}\\right]\\)</html>"
      ],
      "text/latex": [
       "$\\displaystyle \\left[0, e_{1}^{2}, e_{1} e_{2}, e_{2}^{2}, e_{1} e_{3}, e_{2} e_{3}, e_{3}^{2}, e_{1} e_{4}, e_{2} e_{4}, e_{3} e_{4}, e_{4}^{2}\\right]$"
      ],
      "text/plain": [
       "[0, e1^2, e1*e2, e2^2, e1*e3, e2*e3, e3^2, e1*e4, e2*e4, e3*e4, e4^2]"
      ]
     },
     "metadata": {},
     "output_type": "display_data"
    }
   ],
   "source": [
    "UniqueMons = []\n",
    "for mon in sorted(set(flatten(EtaMons))):\n",
    "    UniqueMons.append(mon)\n",
    "if verbose: show(UniqueMons)"
   ]
  },
  {
   "cell_type": "code",
   "execution_count": 10,
   "metadata": {
    "collapsed": false
   },
   "outputs": [
    {
     "name": "stdout",
     "output_type": "stream",
     "text": [
      "['eta_0', 'eta_e1e1', 'eta_e1e2', 'eta_e2e2', 'eta_e1e3', 'eta_e2e3', 'eta_e3e3', 'eta_e1e4', 'eta_e2e4', 'eta_e3e4', 'eta_e4e4']\n",
      "['\\\\eta_{\\\\mathit{0}}', '\\\\eta_{\\\\mathit{11}}', '\\\\eta_{\\\\mathit{12}}', '\\\\eta_{\\\\mathit{22}}', '\\\\eta_{\\\\mathit{13}}', '\\\\eta_{\\\\mathit{23}}', '\\\\eta_{\\\\mathit{33}}', '\\\\eta_{\\\\mathit{14}}', '\\\\eta_{\\\\mathit{24}}', '\\\\eta_{\\\\mathit{34}}', '\\\\eta_{\\\\mathit{44}}']\n"
     ]
    }
   ],
   "source": [
    "EtaVars = []; EtaNames = []\n",
    "for mon in UniqueMons:\n",
    "    var = str(mon)\n",
    "    var = var.replace('*', '')\n",
    "    if my_method=='alpha':\n",
    "        nchar=1\n",
    "    else:\n",
    "        nchar=2\n",
    "    var = replace_powers(var,nchar)\n",
    "    EtaVars.append('eta_'+var)\n",
    "    if my_method=='alpha':\n",
    "        EtaNames.append('\\\\eta_{\\\\mathit{' + var + '}}')\n",
    "    else:\n",
    "        EtaNames.append('\\\\eta_{\\\\mathit{' + var.replace('e','') + '}}')\n",
    "if verbose: print(EtaVars); print(EtaNames)"
   ]
  },
  {
   "cell_type": "code",
   "execution_count": 11,
   "metadata": {
    "collapsed": false
   },
   "outputs": [
    {
     "name": "stdout",
     "output_type": "stream",
     "text": [
      "['p0', 'p1', 'p2', 'p3', 'p4']\n",
      "['\\\\pi_{\\\\mathit{0}}', '\\\\pi_{\\\\mathit{1}}', '\\\\pi_{\\\\mathit{2}}', '\\\\pi_{\\\\mathit{3}}', '\\\\pi_{\\\\mathit{4}}']\n"
     ]
    }
   ],
   "source": [
    "PiVars = [ 'p'+str(i) for i in range(len(F))]\n",
    "PiNames = [ '\\\\pi_{\\\\mathit{' + str(i) + '}}' for i in range(len(F))]\n",
    "if verbose: print(PiVars)\n",
    "if verbose: print(PiNames)"
   ]
  },
  {
   "cell_type": "code",
   "execution_count": 12,
   "metadata": {
    "collapsed": false
   },
   "outputs": [
    {
     "name": "stdout",
     "output_type": "stream",
     "text": [
      "Defining p0, p1, p2, p3, p4, kappa_1, kappa_2, kappa_3, kappa_4, eta_0, eta_e1e1, eta_e1e2, eta_e2e2, eta_e1e3, eta_e2e3, eta_e3e3, eta_e1e4, eta_e2e4, eta_e3e4, eta_e4e4\n"
     ]
    }
   ],
   "source": [
    "A=PolynomialRing(ZZ,names=PiVars+KappaVars+EtaVars,order='invlex')\n",
    "A.inject_variables()\n",
    "A._latex_names = PiNames+KappaNames+EtaNames \n",
    "# https://ask.sagemath.org/question/8202/how-to-give-latex-names-to-generators-of-polynomial-rings/"
   ]
  },
  {
   "cell_type": "code",
   "execution_count": 13,
   "metadata": {
    "collapsed": false
   },
   "outputs": [
    {
     "name": "stdout",
     "output_type": "stream",
     "text": [
      "{e1: kappa_1, e2: kappa_2, e3: kappa_3, e4: kappa_4, 0: eta_0, e1^2: eta_e1e1, e1*e2: eta_e1e2, e2^2: eta_e2e2, e1*e3: eta_e1e3, e2*e3: eta_e2e3, e3^2: eta_e3e3, e1*e4: eta_e1e4, e2*e4: eta_e2e4, e3*e4: eta_e3e4, e4^2: eta_e4e4, 1: 1}\n"
     ]
    }
   ],
   "source": [
    "d_vars=dict(zip(list(E.gens())+UniqueMons,list(A.gens()[nv:]))) # len(F): because we do not want to include p1,p2,...\n",
    "d_vars[E(1)]=1\n",
    "if verbose: print(d_vars)"
   ]
  },
  {
   "cell_type": "code",
   "execution_count": 14,
   "metadata": {
    "collapsed": false
   },
   "outputs": [
    {
     "data": {
      "text/html": [
       "<div class=\"notruncate\">\n",
       "<table  class=\"table_form\">\n",
       "<tbody>\n",
       "<tr class =\"row-a\">\n",
       "<td style=\"text-align:left\">\\(0\\)</td>\n",
       "<td style=\"text-align:left\">\\(e_{1}\\)</td>\n",
       "<td style=\"text-align:left\">\\(e_{2}\\)</td>\n",
       "<td style=\"text-align:left\">\\(e_{3} + e_{2}\\)</td>\n",
       "<td style=\"text-align:left\">\\(e_{4} + e_{3} + e_{2}\\)</td>\n",
       "</tr>\n",
       "<tr class =\"row-b\">\n",
       "<td style=\"text-align:left\">\\(0\\)</td>\n",
       "<td style=\"text-align:left\">\\(2 e_{1}\\)</td>\n",
       "<td style=\"text-align:left\">\\(e_{2} + e_{1}\\)</td>\n",
       "<td style=\"text-align:left\">\\(e_{3} + e_{2} + e_{1}\\)</td>\n",
       "<td style=\"text-align:left\">\\(e_{4} + e_{3} + e_{2} + e_{1}\\)</td>\n",
       "</tr>\n",
       "<tr class =\"row-a\">\n",
       "<td style=\"text-align:left\">\\(0\\)</td>\n",
       "<td style=\"text-align:left\">\\(0\\)</td>\n",
       "<td style=\"text-align:left\">\\(2 e_{2}\\)</td>\n",
       "<td style=\"text-align:left\">\\(e_{3} + 2 e_{2}\\)</td>\n",
       "<td style=\"text-align:left\">\\(e_{4} + e_{3} + 2 e_{2}\\)</td>\n",
       "</tr>\n",
       "<tr class =\"row-b\">\n",
       "<td style=\"text-align:left\">\\(0\\)</td>\n",
       "<td style=\"text-align:left\">\\(0\\)</td>\n",
       "<td style=\"text-align:left\">\\(0\\)</td>\n",
       "<td style=\"text-align:left\">\\(2 e_{3} + 2 e_{2}\\)</td>\n",
       "<td style=\"text-align:left\">\\(e_{4} + 2 e_{3} + 2 e_{2}\\)</td>\n",
       "</tr>\n",
       "<tr class =\"row-a\">\n",
       "<td style=\"text-align:left\">\\(0\\)</td>\n",
       "<td style=\"text-align:left\">\\(0\\)</td>\n",
       "<td style=\"text-align:left\">\\(0\\)</td>\n",
       "<td style=\"text-align:left\">\\(0\\)</td>\n",
       "<td style=\"text-align:left\">\\(2 e_{4} + 2 e_{3} + 2 e_{2}\\)</td>\n",
       "</tr>\n",
       "</tbody>\n",
       "</table>\n",
       "</div>"
      ],
      "text/plain": [
       "  0   e1     e2        e3 + e2        e4 + e3 + e2\n",
       "  0   2*e1   e2 + e1   e3 + e2 + e1   e4 + e3 + e2 + e1\n",
       "  0   0      2*e2      e3 + 2*e2      e4 + e3 + 2*e2\n",
       "  0   0      0         2*e3 + 2*e2    e4 + 2*e3 + 2*e2\n",
       "  0   0      0         0              2*e4 + 2*e3 + 2*e2"
      ]
     },
     "metadata": {},
     "output_type": "display_data"
    },
    {
     "data": {
      "text/html": [
       "<div class=\"notruncate\">\n",
       "<table  class=\"table_form\">\n",
       "<tbody>\n",
       "<tr class =\"row-a\">\n",
       "<td style=\"text-align:left\">\\(\\left[\\right]\\)</td>\n",
       "<td style=\"text-align:left\">\\(\\left[e_{1}\\right]\\)</td>\n",
       "<td style=\"text-align:left\">\\(\\left[e_{2}\\right]\\)</td>\n",
       "<td style=\"text-align:left\">\\(\\left[e_{3}, e_{2}\\right]\\)</td>\n",
       "<td style=\"text-align:left\">\\(\\left[e_{4}, e_{3}, e_{2}\\right]\\)</td>\n",
       "</tr>\n",
       "<tr class =\"row-b\">\n",
       "<td style=\"text-align:left\">\\(0\\)</td>\n",
       "<td style=\"text-align:left\">\\(\\left[e_{1}\\right]\\)</td>\n",
       "<td style=\"text-align:left\">\\(\\left[e_{2}, e_{1}\\right]\\)</td>\n",
       "<td style=\"text-align:left\">\\(\\left[e_{3}, e_{2}, e_{1}\\right]\\)</td>\n",
       "<td style=\"text-align:left\">\\(\\left[e_{4}, e_{3}, e_{2}, e_{1}\\right]\\)</td>\n",
       "</tr>\n",
       "<tr class =\"row-a\">\n",
       "<td style=\"text-align:left\">\\(0\\)</td>\n",
       "<td style=\"text-align:left\">\\(0\\)</td>\n",
       "<td style=\"text-align:left\">\\(\\left[e_{2}\\right]\\)</td>\n",
       "<td style=\"text-align:left\">\\(\\left[e_{3}, e_{2}\\right]\\)</td>\n",
       "<td style=\"text-align:left\">\\(\\left[e_{4}, e_{3}, e_{2}\\right]\\)</td>\n",
       "</tr>\n",
       "<tr class =\"row-b\">\n",
       "<td style=\"text-align:left\">\\(0\\)</td>\n",
       "<td style=\"text-align:left\">\\(0\\)</td>\n",
       "<td style=\"text-align:left\">\\(0\\)</td>\n",
       "<td style=\"text-align:left\">\\(\\left[e_{3}, e_{2}\\right]\\)</td>\n",
       "<td style=\"text-align:left\">\\(\\left[e_{4}, e_{3}, e_{2}\\right]\\)</td>\n",
       "</tr>\n",
       "<tr class =\"row-a\">\n",
       "<td style=\"text-align:left\">\\(0\\)</td>\n",
       "<td style=\"text-align:left\">\\(0\\)</td>\n",
       "<td style=\"text-align:left\">\\(0\\)</td>\n",
       "<td style=\"text-align:left\">\\(0\\)</td>\n",
       "<td style=\"text-align:left\">\\(\\left[e_{4}, e_{3}, e_{2}\\right]\\)</td>\n",
       "</tr>\n",
       "</tbody>\n",
       "</table>\n",
       "</div>"
      ],
      "text/plain": [
       "  []   [e1]   [e2]       [e3, e2]       [e4, e3, e2]\n",
       "  0    [e1]   [e2, e1]   [e3, e2, e1]   [e4, e3, e2, e1]\n",
       "  0    0      [e2]       [e3, e2]       [e4, e3, e2]\n",
       "  0    0      0          [e3, e2]       [e4, e3, e2]\n",
       "  0    0      0          0              [e4, e3, e2]"
      ]
     },
     "metadata": {},
     "output_type": "display_data"
    },
    {
     "data": {
      "text/html": [
       "<div class=\"notruncate\">\n",
       "<table  class=\"table_form\">\n",
       "<tbody>\n",
       "<tr class =\"row-a\">\n",
       "<td style=\"text-align:left\">\\(\\left[\\right]\\)</td>\n",
       "<td style=\"text-align:left\">\\(\\left[1\\right]\\)</td>\n",
       "<td style=\"text-align:left\">\\(\\left[1\\right]\\)</td>\n",
       "<td style=\"text-align:left\">\\(\\left[1, 1\\right]\\)</td>\n",
       "<td style=\"text-align:left\">\\(\\left[1, 1, 1\\right]\\)</td>\n",
       "</tr>\n",
       "<tr class =\"row-b\">\n",
       "<td style=\"text-align:left\">\\(0\\)</td>\n",
       "<td style=\"text-align:left\">\\(\\left[2\\right]\\)</td>\n",
       "<td style=\"text-align:left\">\\(\\left[1, 1\\right]\\)</td>\n",
       "<td style=\"text-align:left\">\\(\\left[1, 1, 1\\right]\\)</td>\n",
       "<td style=\"text-align:left\">\\(\\left[1, 1, 1, 1\\right]\\)</td>\n",
       "</tr>\n",
       "<tr class =\"row-a\">\n",
       "<td style=\"text-align:left\">\\(0\\)</td>\n",
       "<td style=\"text-align:left\">\\(0\\)</td>\n",
       "<td style=\"text-align:left\">\\(\\left[2\\right]\\)</td>\n",
       "<td style=\"text-align:left\">\\(\\left[1, 2\\right]\\)</td>\n",
       "<td style=\"text-align:left\">\\(\\left[1, 1, 2\\right]\\)</td>\n",
       "</tr>\n",
       "<tr class =\"row-b\">\n",
       "<td style=\"text-align:left\">\\(0\\)</td>\n",
       "<td style=\"text-align:left\">\\(0\\)</td>\n",
       "<td style=\"text-align:left\">\\(0\\)</td>\n",
       "<td style=\"text-align:left\">\\(\\left[2, 2\\right]\\)</td>\n",
       "<td style=\"text-align:left\">\\(\\left[1, 2, 2\\right]\\)</td>\n",
       "</tr>\n",
       "<tr class =\"row-a\">\n",
       "<td style=\"text-align:left\">\\(0\\)</td>\n",
       "<td style=\"text-align:left\">\\(0\\)</td>\n",
       "<td style=\"text-align:left\">\\(0\\)</td>\n",
       "<td style=\"text-align:left\">\\(0\\)</td>\n",
       "<td style=\"text-align:left\">\\(\\left[2, 2, 2\\right]\\)</td>\n",
       "</tr>\n",
       "</tbody>\n",
       "</table>\n",
       "</div>"
      ],
      "text/plain": [
       "  []   [1]   [1]      [1, 1]      [1, 1, 1]\n",
       "  0    [2]   [1, 1]   [1, 1, 1]   [1, 1, 1, 1]\n",
       "  0    0     [2]      [1, 2]      [1, 1, 2]\n",
       "  0    0     0        [2, 2]      [1, 2, 2]\n",
       "  0    0     0        0           [2, 2, 2]"
      ]
     },
     "metadata": {},
     "output_type": "display_data"
    },
    {
     "data": {
      "text/html": [
       "<div class=\"notruncate\">\n",
       "<table  class=\"table_form\">\n",
       "<tbody>\n",
       "<tr class =\"row-a\">\n",
       "<td style=\"text-align:left\">\\(1\\)</td>\n",
       "<td style=\"text-align:left\">\\(2 \\kappa_{\\mathit{1}}\\)</td>\n",
       "<td style=\"text-align:left\">\\(2 \\kappa_{\\mathit{2}}\\)</td>\n",
       "<td style=\"text-align:left\">\\(2 \\kappa_{\\mathit{2}} \\kappa_{\\mathit{3}}\\)</td>\n",
       "<td style=\"text-align:left\">\\(2 \\kappa_{\\mathit{2}} \\kappa_{\\mathit{3}} \\kappa_{\\mathit{4}}\\)</td>\n",
       "</tr>\n",
       "<tr class =\"row-b\">\n",
       "<td style=\"text-align:left\">\\(0\\)</td>\n",
       "<td style=\"text-align:left\">\\(\\kappa_{\\mathit{1}}^{2}\\)</td>\n",
       "<td style=\"text-align:left\">\\(2 \\kappa_{\\mathit{1}} \\kappa_{\\mathit{2}}\\)</td>\n",
       "<td style=\"text-align:left\">\\(2 \\kappa_{\\mathit{1}} \\kappa_{\\mathit{2}} \\kappa_{\\mathit{3}}\\)</td>\n",
       "<td style=\"text-align:left\">\\(2 \\kappa_{\\mathit{1}} \\kappa_{\\mathit{2}} \\kappa_{\\mathit{3}} \\kappa_{\\mathit{4}}\\)</td>\n",
       "</tr>\n",
       "<tr class =\"row-a\">\n",
       "<td style=\"text-align:left\">\\(0\\)</td>\n",
       "<td style=\"text-align:left\">\\(0\\)</td>\n",
       "<td style=\"text-align:left\">\\(\\kappa_{\\mathit{2}}^{2}\\)</td>\n",
       "<td style=\"text-align:left\">\\(2 \\kappa_{\\mathit{2}}^{2} \\kappa_{\\mathit{3}}\\)</td>\n",
       "<td style=\"text-align:left\">\\(2 \\kappa_{\\mathit{2}}^{2} \\kappa_{\\mathit{3}} \\kappa_{\\mathit{4}}\\)</td>\n",
       "</tr>\n",
       "<tr class =\"row-b\">\n",
       "<td style=\"text-align:left\">\\(0\\)</td>\n",
       "<td style=\"text-align:left\">\\(0\\)</td>\n",
       "<td style=\"text-align:left\">\\(0\\)</td>\n",
       "<td style=\"text-align:left\">\\(\\kappa_{\\mathit{2}}^{2} \\kappa_{\\mathit{3}}^{2}\\)</td>\n",
       "<td style=\"text-align:left\">\\(2 \\kappa_{\\mathit{2}}^{2} \\kappa_{\\mathit{3}}^{2} \\kappa_{\\mathit{4}}\\)</td>\n",
       "</tr>\n",
       "<tr class =\"row-a\">\n",
       "<td style=\"text-align:left\">\\(0\\)</td>\n",
       "<td style=\"text-align:left\">\\(0\\)</td>\n",
       "<td style=\"text-align:left\">\\(0\\)</td>\n",
       "<td style=\"text-align:left\">\\(0\\)</td>\n",
       "<td style=\"text-align:left\">\\(\\kappa_{\\mathit{2}}^{2} \\kappa_{\\mathit{3}}^{2} \\kappa_{\\mathit{4}}^{2}\\)</td>\n",
       "</tr>\n",
       "</tbody>\n",
       "</table>\n",
       "</div>"
      ],
      "text/plain": [
       "  1   2*kappa_1   2*kappa_2           2*kappa_2*kappa_3           2*kappa_2*kappa_3*kappa_4\n",
       "  0   kappa_1^2   2*kappa_1*kappa_2   2*kappa_1*kappa_2*kappa_3   2*kappa_1*kappa_2*kappa_3*kappa_4\n",
       "  0   0           kappa_2^2           2*kappa_2^2*kappa_3         2*kappa_2^2*kappa_3*kappa_4\n",
       "  0   0           0                   kappa_2^2*kappa_3^2         2*kappa_2^2*kappa_3^2*kappa_4\n",
       "  0   0           0                   0                           kappa_2^2*kappa_3^2*kappa_4^2"
      ]
     },
     "metadata": {},
     "output_type": "display_data"
    }
   ],
   "source": [
    "KappaProb = zeros(nv); KappaMons = zeros(nv); KappaCoef = zeros(nv);\n",
    "Kappa = repmat(A(1),nv)\n",
    "for i0 in range(nv):\n",
    "    for i1 in range(nv):\n",
    "        if i0 <= i1:\n",
    "            fsum = F[i0]+F[i1]\n",
    "            KappaProb[i0][i1]=fsum\n",
    "            KappaMons[i0][i1]=fsum.monomials()\n",
    "            KappaCoef[i0][i1]=fsum.coefficients()\n",
    "            for m in range(len(KappaMons[i0][i1])):\n",
    "                mon = KappaMons[i0][i1][m]\n",
    "                Kappa[i0][i1]*= d_vars[mon]^KappaCoef[i0][i1][m]\n",
    "            if i0!=i1:\n",
    "                Kappa[i0][i1]*=2\n",
    "        else:\n",
    "            Kappa[i0][i1]=0\n",
    "if verbose:\n",
    "    show(table(KappaProb)); show(table(KappaMons)); show(table(KappaCoef)); show(table(Kappa))"
   ]
  },
  {
   "cell_type": "code",
   "execution_count": 15,
   "metadata": {
    "collapsed": false
   },
   "outputs": [
    {
     "data": {
      "text/html": [
       "<div class=\"notruncate\">\n",
       "<table  class=\"table_form\">\n",
       "<tbody>\n",
       "<tr class =\"row-a\">\n",
       "<td style=\"text-align:left\">\\(1\\)</td>\n",
       "<td style=\"text-align:left\">\\(1\\)</td>\n",
       "<td style=\"text-align:left\">\\(1\\)</td>\n",
       "<td style=\"text-align:left\">\\(1\\)</td>\n",
       "<td style=\"text-align:left\">\\(1\\)</td>\n",
       "</tr>\n",
       "<tr class =\"row-b\">\n",
       "<td style=\"text-align:left\">\\(0\\)</td>\n",
       "<td style=\"text-align:left\">\\(\\eta_{\\mathit{11}}\\)</td>\n",
       "<td style=\"text-align:left\">\\(\\eta_{\\mathit{12}}\\)</td>\n",
       "<td style=\"text-align:left\">\\(\\eta_{\\mathit{12}} \\eta_{\\mathit{13}}\\)</td>\n",
       "<td style=\"text-align:left\">\\(\\eta_{\\mathit{12}} \\eta_{\\mathit{13}} \\eta_{\\mathit{14}}\\)</td>\n",
       "</tr>\n",
       "<tr class =\"row-a\">\n",
       "<td style=\"text-align:left\">\\(0\\)</td>\n",
       "<td style=\"text-align:left\">\\(0\\)</td>\n",
       "<td style=\"text-align:left\">\\(\\eta_{\\mathit{22}}\\)</td>\n",
       "<td style=\"text-align:left\">\\(\\eta_{\\mathit{22}} \\eta_{\\mathit{23}}\\)</td>\n",
       "<td style=\"text-align:left\">\\(\\eta_{\\mathit{22}} \\eta_{\\mathit{23}} \\eta_{\\mathit{24}}\\)</td>\n",
       "</tr>\n",
       "<tr class =\"row-b\">\n",
       "<td style=\"text-align:left\">\\(0\\)</td>\n",
       "<td style=\"text-align:left\">\\(0\\)</td>\n",
       "<td style=\"text-align:left\">\\(0\\)</td>\n",
       "<td style=\"text-align:left\">\\(\\eta_{\\mathit{22}} \\eta_{\\mathit{23}}^{2} \\eta_{\\mathit{33}}\\)</td>\n",
       "<td style=\"text-align:left\">\\(\\eta_{\\mathit{22}} \\eta_{\\mathit{23}}^{2} \\eta_{\\mathit{33}} \\eta_{\\mathit{24}} \\eta_{\\mathit{34}}\\)</td>\n",
       "</tr>\n",
       "<tr class =\"row-a\">\n",
       "<td style=\"text-align:left\">\\(0\\)</td>\n",
       "<td style=\"text-align:left\">\\(0\\)</td>\n",
       "<td style=\"text-align:left\">\\(0\\)</td>\n",
       "<td style=\"text-align:left\">\\(0\\)</td>\n",
       "<td style=\"text-align:left\">\\(\\eta_{\\mathit{22}} \\eta_{\\mathit{23}}^{2} \\eta_{\\mathit{33}} \\eta_{\\mathit{24}}^{2} \\eta_{\\mathit{34}}^{2} \\eta_{\\mathit{44}}\\)</td>\n",
       "</tr>\n",
       "</tbody>\n",
       "</table>\n",
       "</div>"
      ],
      "text/plain": [
       "  1   1          1          1                              1\n",
       "  0   eta_e1e1   eta_e1e2   eta_e1e2*eta_e1e3              eta_e1e2*eta_e1e3*eta_e1e4\n",
       "  0   0          eta_e2e2   eta_e2e2*eta_e2e3              eta_e2e2*eta_e2e3*eta_e2e4\n",
       "  0   0          0          eta_e2e2*eta_e2e3^2*eta_e3e3   eta_e2e2*eta_e2e3^2*eta_e3e3*eta_e2e4*eta_e3e4\n",
       "  0   0          0          0                              eta_e2e2*eta_e2e3^2*eta_e3e3*eta_e2e4^2*eta_e3e4^2*eta_e4e4"
      ]
     },
     "execution_count": 15,
     "metadata": {},
     "output_type": "execute_result"
    }
   ],
   "source": [
    "Eta = repmat(A(1),nv)\n",
    "for i0 in range(nv):\n",
    "    for i1 in range(nv):\n",
    "        if i0 <= i1:\n",
    "            for m in range(len(EtaMons[i0][i1])):\n",
    "                mon = EtaMons[i0][i1][m]\n",
    "                Eta[i0][i1] *= d_vars[mon] ** EtaCoef[i0][i1][m]\n",
    "        else:\n",
    "            Eta[i0][i1] = 0\n",
    "table(Eta)"
   ]
  },
  {
   "cell_type": "code",
   "execution_count": 16,
   "metadata": {
    "collapsed": false
   },
   "outputs": [
    {
     "data": {
      "text/html": [
       "<div class=\"notruncate\">\n",
       "<table  class=\"table_form\">\n",
       "<tbody>\n",
       "<tr class =\"row-a\">\n",
       "<td style=\"text-align:left\">\\(\\pi_{\\mathit{0}}^{2}\\)</td>\n",
       "<td style=\"text-align:left\">\\(2 \\pi_{\\mathit{0}} \\pi_{\\mathit{1}}\\)</td>\n",
       "<td style=\"text-align:left\">\\(2 \\pi_{\\mathit{0}} \\pi_{\\mathit{2}}\\)</td>\n",
       "<td style=\"text-align:left\">\\(2 \\pi_{\\mathit{0}} \\pi_{\\mathit{3}}\\)</td>\n",
       "<td style=\"text-align:left\">\\(2 \\pi_{\\mathit{0}} \\pi_{\\mathit{4}}\\)</td>\n",
       "</tr>\n",
       "<tr class =\"row-b\">\n",
       "<td style=\"text-align:left\">\\(0\\)</td>\n",
       "<td style=\"text-align:left\">\\(\\pi_{\\mathit{1}}^{2}\\)</td>\n",
       "<td style=\"text-align:left\">\\(2 \\pi_{\\mathit{1}} \\pi_{\\mathit{2}}\\)</td>\n",
       "<td style=\"text-align:left\">\\(2 \\pi_{\\mathit{1}} \\pi_{\\mathit{3}}\\)</td>\n",
       "<td style=\"text-align:left\">\\(2 \\pi_{\\mathit{1}} \\pi_{\\mathit{4}}\\)</td>\n",
       "</tr>\n",
       "<tr class =\"row-a\">\n",
       "<td style=\"text-align:left\">\\(0\\)</td>\n",
       "<td style=\"text-align:left\">\\(0\\)</td>\n",
       "<td style=\"text-align:left\">\\(\\pi_{\\mathit{2}}^{2}\\)</td>\n",
       "<td style=\"text-align:left\">\\(2 \\pi_{\\mathit{2}} \\pi_{\\mathit{3}}\\)</td>\n",
       "<td style=\"text-align:left\">\\(2 \\pi_{\\mathit{2}} \\pi_{\\mathit{4}}\\)</td>\n",
       "</tr>\n",
       "<tr class =\"row-b\">\n",
       "<td style=\"text-align:left\">\\(0\\)</td>\n",
       "<td style=\"text-align:left\">\\(0\\)</td>\n",
       "<td style=\"text-align:left\">\\(0\\)</td>\n",
       "<td style=\"text-align:left\">\\(\\pi_{\\mathit{3}}^{2}\\)</td>\n",
       "<td style=\"text-align:left\">\\(2 \\pi_{\\mathit{3}} \\pi_{\\mathit{4}}\\)</td>\n",
       "</tr>\n",
       "<tr class =\"row-a\">\n",
       "<td style=\"text-align:left\">\\(0\\)</td>\n",
       "<td style=\"text-align:left\">\\(0\\)</td>\n",
       "<td style=\"text-align:left\">\\(0\\)</td>\n",
       "<td style=\"text-align:left\">\\(0\\)</td>\n",
       "<td style=\"text-align:left\">\\(\\pi_{\\mathit{4}}^{2}\\)</td>\n",
       "</tr>\n",
       "</tbody>\n",
       "</table>\n",
       "</div>"
      ],
      "text/plain": [
       "  p0^2   2*p0*p1   2*p0*p2   2*p0*p3   2*p0*p4\n",
       "  0      p1^2      2*p1*p2   2*p1*p3   2*p1*p4\n",
       "  0      0         p2^2      2*p2*p3   2*p2*p4\n",
       "  0      0         0         p3^2      2*p3*p4\n",
       "  0      0         0         0         p4^2"
      ]
     },
     "execution_count": 16,
     "metadata": {},
     "output_type": "execute_result"
    }
   ],
   "source": [
    "Pi = zeros(nv)\n",
    "for i0 in range(nv):\n",
    "    for i1 in range(0, i0):\n",
    "        Eta[i0][i1] = 0\n",
    "    for i1 in range(i0,nv):\n",
    "        Pi[i0][i1]=A.gen(i0)*A.gen(i1)\n",
    "        if i0!=i1:\n",
    "            Pi[i0][i1]*=2\n",
    "table(Pi)"
   ]
  },
  {
   "cell_type": "code",
   "execution_count": 17,
   "metadata": {
    "collapsed": false
   },
   "outputs": [
    {
     "name": "stdout",
     "output_type": "stream",
     "text": [
      "[[1, 2*kappa_1, 2*kappa_2, 2*kappa_2*kappa_3, 2*kappa_2*kappa_3*kappa_4], [0, kappa_1^2*eta_e1e1, 2*kappa_1*kappa_2*eta_e1e2, 2*kappa_1*kappa_2*kappa_3*eta_e1e2*eta_e1e3, 2*kappa_1*kappa_2*kappa_3*kappa_4*eta_e1e2*eta_e1e3*eta_e1e4], [0, 0, kappa_2^2*eta_e2e2, 2*kappa_2^2*kappa_3*eta_e2e2*eta_e2e3, 2*kappa_2^2*kappa_3*kappa_4*eta_e2e2*eta_e2e3*eta_e2e4], [0, 0, 0, kappa_2^2*kappa_3^2*eta_e2e2*eta_e2e3^2*eta_e3e3, 2*kappa_2^2*kappa_3^2*kappa_4*eta_e2e2*eta_e2e3^2*eta_e3e3*eta_e2e4*eta_e3e4], [0, 0, 0, 0, kappa_2^2*kappa_3^2*kappa_4^2*eta_e2e2*eta_e2e3^2*eta_e3e3*eta_e2e4^2*eta_e3e4^2*eta_e4e4]]\n"
     ]
    }
   ],
   "source": [
    "KappaEta = table_multiply(Kappa,Eta)\n",
    "table(KappaEta)\n",
    "print(KappaEta)"
   ]
  },
  {
   "cell_type": "code",
   "execution_count": 18,
   "metadata": {
    "collapsed": false
   },
   "outputs": [
    {
     "data": {
      "text/html": [
       "<div class=\"notruncate\">\n",
       "<table  class=\"table_form\">\n",
       "<tbody>\n",
       "<tr class =\"row-a\">\n",
       "<td style=\"text-align:left\">\\(\\pi_{\\mathit{0}}^{2}\\)</td>\n",
       "<td style=\"text-align:left\">\\(2 \\pi_{\\mathit{0}} \\pi_{\\mathit{1}}\\)</td>\n",
       "<td style=\"text-align:left\">\\(2 \\pi_{\\mathit{0}} \\pi_{\\mathit{2}}\\)</td>\n",
       "<td style=\"text-align:left\">\\(2 \\pi_{\\mathit{0}} \\pi_{\\mathit{3}}\\)</td>\n",
       "<td style=\"text-align:left\">\\(2 \\pi_{\\mathit{0}} \\pi_{\\mathit{4}}\\)</td>\n",
       "</tr>\n",
       "<tr class =\"row-b\">\n",
       "<td style=\"text-align:left\">\\(0\\)</td>\n",
       "<td style=\"text-align:left\">\\(\\pi_{\\mathit{1}}^{2} \\eta_{\\mathit{11}}\\)</td>\n",
       "<td style=\"text-align:left\">\\(2 \\pi_{\\mathit{1}} \\pi_{\\mathit{2}} \\eta_{\\mathit{12}}\\)</td>\n",
       "<td style=\"text-align:left\">\\(2 \\pi_{\\mathit{1}} \\pi_{\\mathit{3}} \\eta_{\\mathit{12}} \\eta_{\\mathit{13}}\\)</td>\n",
       "<td style=\"text-align:left\">\\(2 \\pi_{\\mathit{1}} \\pi_{\\mathit{4}} \\eta_{\\mathit{12}} \\eta_{\\mathit{13}} \\eta_{\\mathit{14}}\\)</td>\n",
       "</tr>\n",
       "<tr class =\"row-a\">\n",
       "<td style=\"text-align:left\">\\(0\\)</td>\n",
       "<td style=\"text-align:left\">\\(0\\)</td>\n",
       "<td style=\"text-align:left\">\\(\\pi_{\\mathit{2}}^{2} \\eta_{\\mathit{22}}\\)</td>\n",
       "<td style=\"text-align:left\">\\(2 \\pi_{\\mathit{2}} \\pi_{\\mathit{3}} \\eta_{\\mathit{22}} \\eta_{\\mathit{23}}\\)</td>\n",
       "<td style=\"text-align:left\">\\(2 \\pi_{\\mathit{2}} \\pi_{\\mathit{4}} \\eta_{\\mathit{22}} \\eta_{\\mathit{23}} \\eta_{\\mathit{24}}\\)</td>\n",
       "</tr>\n",
       "<tr class =\"row-b\">\n",
       "<td style=\"text-align:left\">\\(0\\)</td>\n",
       "<td style=\"text-align:left\">\\(0\\)</td>\n",
       "<td style=\"text-align:left\">\\(0\\)</td>\n",
       "<td style=\"text-align:left\">\\(\\pi_{\\mathit{3}}^{2} \\eta_{\\mathit{22}} \\eta_{\\mathit{23}}^{2} \\eta_{\\mathit{33}}\\)</td>\n",
       "<td style=\"text-align:left\">\\(2 \\pi_{\\mathit{3}} \\pi_{\\mathit{4}} \\eta_{\\mathit{22}} \\eta_{\\mathit{23}}^{2} \\eta_{\\mathit{33}} \\eta_{\\mathit{24}} \\eta_{\\mathit{34}}\\)</td>\n",
       "</tr>\n",
       "<tr class =\"row-a\">\n",
       "<td style=\"text-align:left\">\\(0\\)</td>\n",
       "<td style=\"text-align:left\">\\(0\\)</td>\n",
       "<td style=\"text-align:left\">\\(0\\)</td>\n",
       "<td style=\"text-align:left\">\\(0\\)</td>\n",
       "<td style=\"text-align:left\">\\(\\pi_{\\mathit{4}}^{2} \\eta_{\\mathit{22}} \\eta_{\\mathit{23}}^{2} \\eta_{\\mathit{33}} \\eta_{\\mathit{24}}^{2} \\eta_{\\mathit{34}}^{2} \\eta_{\\mathit{44}}\\)</td>\n",
       "</tr>\n",
       "</tbody>\n",
       "</table>\n",
       "</div>"
      ],
      "text/plain": [
       "  p0^2   2*p0*p1         2*p0*p2            2*p0*p3                             2*p0*p4\n",
       "  0      p1^2*eta_e1e1   2*p1*p2*eta_e1e2   2*p1*p3*eta_e1e2*eta_e1e3           2*p1*p4*eta_e1e2*eta_e1e3*eta_e1e4\n",
       "  0      0               p2^2*eta_e2e2      2*p2*p3*eta_e2e2*eta_e2e3           2*p2*p4*eta_e2e2*eta_e2e3*eta_e2e4\n",
       "  0      0               0                  p3^2*eta_e2e2*eta_e2e3^2*eta_e3e3   2*p3*p4*eta_e2e2*eta_e2e3^2*eta_e3e3*eta_e2e4*eta_e3e4\n",
       "  0      0               0                  0                                   p4^2*eta_e2e2*eta_e2e3^2*eta_e3e3*eta_e2e4^2*eta_e3e4^2*eta_e4e4"
      ]
     },
     "execution_count": 18,
     "metadata": {},
     "output_type": "execute_result"
    }
   ],
   "source": [
    "PiEta = table_multiply(Pi,Eta)\n",
    "table(PiEta)"
   ]
  },
  {
   "cell_type": "markdown",
   "metadata": {
    "collapsed": false
   },
   "source": []
  },
  {
   "cell_type": "code",
   "execution_count": 19,
   "metadata": {
    "collapsed": false
   },
   "outputs": [
    {
     "data": {
      "image/png": "[encoded data removed]",
      "text/plain": [
       "Graphics object consisting of 12 graphics primitives"
      ]
     },
     "metadata": {},
     "output_type": "display_data"
    },
    {
     "data": {
      "image/png": "[encoded data removed]",
      "text/plain": [
       "Graphics object consisting of 14 graphics primitives"
      ]
     },
     "metadata": {},
     "output_type": "display_data"
    },
    {
     "data": {
      "text/html": [
       "<html>\\(\\displaystyle \\newcommand{\\Bold}[1]{\\mathbf{#1}}\\Bold{Z}[b, c, d, e]\\)</html>"
      ],
      "text/latex": [
       "$\\displaystyle \\newcommand{\\Bold}[1]{\\mathbf{#1}}\\Bold{Z}[b, c, d, e]$"
      ],
      "text/plain": [
       "Multivariate Polynomial Ring in b, c, d, e over Integer Ring"
      ]
     },
     "metadata": {},
     "output_type": "display_data"
    },
    {
     "data": {
      "text/html": [
       "<html>\\(\\displaystyle \\left[0, b, c, d + c, e + d + c\\right]\\)</html>"
      ],
      "text/latex": [
       "$\\displaystyle \\left[0, b, c, d + c, e + d + c\\right]$"
      ],
      "text/plain": [
       "[0, b, c, d + c, e + d + c]"
      ]
     },
     "metadata": {},
     "output_type": "display_data"
    },
    {
     "name": "stdout",
     "output_type": "stream",
     "text": [
      "['kappa_b', 'kappa_c', 'kappa_d', 'kappa_e']\n",
      "['\\\\kappa_{\\\\mathit{b}}', '\\\\kappa_{\\\\mathit{c}}', '\\\\kappa_{\\\\mathit{d}}', '\\\\kappa_{\\\\mathit{e}}']\n"
     ]
    },
    {
     "data": {
      "text/html": [
       "<div class=\"notruncate\">\n",
       "<table  class=\"table_form\">\n",
       "<tbody>\n",
       "<tr class =\"row-a\">\n",
       "<td style=\"text-align:left\">\\(0\\)</td>\n",
       "<td style=\"text-align:left\">\\(0\\)</td>\n",
       "<td style=\"text-align:left\">\\(0\\)</td>\n",
       "<td style=\"text-align:left\">\\(0\\)</td>\n",
       "<td style=\"text-align:left\">\\(0\\)</td>\n",
       "</tr>\n",
       "<tr class =\"row-b\">\n",
       "<td style=\"text-align:left\">\\(0\\)</td>\n",
       "<td style=\"text-align:left\">\\(b^{2}\\)</td>\n",
       "<td style=\"text-align:left\">\\(b c\\)</td>\n",
       "<td style=\"text-align:left\">\\(b d + b c\\)</td>\n",
       "<td style=\"text-align:left\">\\(b e + b d + b c\\)</td>\n",
       "</tr>\n",
       "<tr class =\"row-a\">\n",
       "<td style=\"text-align:left\">\\(0\\)</td>\n",
       "<td style=\"text-align:left\">\\(b c\\)</td>\n",
       "<td style=\"text-align:left\">\\(c^{2}\\)</td>\n",
       "<td style=\"text-align:left\">\\(c d + c^{2}\\)</td>\n",
       "<td style=\"text-align:left\">\\(c e + c d + c^{2}\\)</td>\n",
       "</tr>\n",
       "<tr class =\"row-b\">\n",
       "<td style=\"text-align:left\">\\(0\\)</td>\n",
       "<td style=\"text-align:left\">\\(b d + b c\\)</td>\n",
       "<td style=\"text-align:left\">\\(c d + c^{2}\\)</td>\n",
       "<td style=\"text-align:left\">\\(d^{2} + 2 c d + c^{2}\\)</td>\n",
       "<td style=\"text-align:left\">\\(d e + c e + d^{2} + 2 c d + c^{2}\\)</td>\n",
       "</tr>\n",
       "<tr class =\"row-a\">\n",
       "<td style=\"text-align:left\">\\(0\\)</td>\n",
       "<td style=\"text-align:left\">\\(b e + b d + b c\\)</td>\n",
       "<td style=\"text-align:left\">\\(c e + c d + c^{2}\\)</td>\n",
       "<td style=\"text-align:left\">\\(d e + c e + d^{2} + 2 c d + c^{2}\\)</td>\n",
       "<td style=\"text-align:left\">\\(e^{2} + 2 d e + 2 c e + d^{2} + 2 c d + c^{2}\\)</td>\n",
       "</tr>\n",
       "</tbody>\n",
       "</table>\n",
       "</div>"
      ],
      "text/plain": [
       "  0   0                 0                 0                               0\n",
       "  0   b^2               b*c               b*d + b*c                       b*e + b*d + b*c\n",
       "  0   b*c               c^2               c*d + c^2                       c*e + c*d + c^2\n",
       "  0   b*d + b*c         c*d + c^2         d^2 + 2*c*d + c^2               d*e + c*e + d^2 + 2*c*d + c^2\n",
       "  0   b*e + b*d + b*c   c*e + c*d + c^2   d*e + c*e + d^2 + 2*c*d + c^2   e^2 + 2*d*e + 2*c*e + d^2 + 2*c*d + c^2"
      ]
     },
     "metadata": {},
     "output_type": "display_data"
    },
    {
     "data": {
      "text/html": [
       "<div class=\"notruncate\">\n",
       "<table  class=\"table_form\">\n",
       "<tbody>\n",
       "<tr class =\"row-a\">\n",
       "<td style=\"text-align:left\">\\(\\left[\\right]\\)</td>\n",
       "<td style=\"text-align:left\">\\(\\left[\\right]\\)</td>\n",
       "<td style=\"text-align:left\">\\(\\left[\\right]\\)</td>\n",
       "<td style=\"text-align:left\">\\(\\left[\\right]\\)</td>\n",
       "<td style=\"text-align:left\">\\(\\left[\\right]\\)</td>\n",
       "</tr>\n",
       "<tr class =\"row-b\">\n",
       "<td style=\"text-align:left\">\\(\\left[\\right]\\)</td>\n",
       "<td style=\"text-align:left\">\\(\\left[b^{2}\\right]\\)</td>\n",
       "<td style=\"text-align:left\">\\(\\left[b c\\right]\\)</td>\n",
       "<td style=\"text-align:left\">\\(\\left[b d, b c\\right]\\)</td>\n",
       "<td style=\"text-align:left\">\\(\\left[b e, b d, b c\\right]\\)</td>\n",
       "</tr>\n",
       "<tr class =\"row-a\">\n",
       "<td style=\"text-align:left\">\\(\\left[\\right]\\)</td>\n",
       "<td style=\"text-align:left\">\\(\\left[b c\\right]\\)</td>\n",
       "<td style=\"text-align:left\">\\(\\left[c^{2}\\right]\\)</td>\n",
       "<td style=\"text-align:left\">\\(\\left[c d, c^{2}\\right]\\)</td>\n",
       "<td style=\"text-align:left\">\\(\\left[c e, c d, c^{2}\\right]\\)</td>\n",
       "</tr>\n",
       "<tr class =\"row-b\">\n",
       "<td style=\"text-align:left\">\\(\\left[\\right]\\)</td>\n",
       "<td style=\"text-align:left\">\\(\\left[b d, b c\\right]\\)</td>\n",
       "<td style=\"text-align:left\">\\(\\left[c d, c^{2}\\right]\\)</td>\n",
       "<td style=\"text-align:left\">\\(\\left[d^{2}, c d, c^{2}\\right]\\)</td>\n",
       "<td style=\"text-align:left\">\\(\\left[d e, c e, d^{2}, c d, c^{2}\\right]\\)</td>\n",
       "</tr>\n",
       "<tr class =\"row-a\">\n",
       "<td style=\"text-align:left\">\\(\\left[\\right]\\)</td>\n",
       "<td style=\"text-align:left\">\\(\\left[b e, b d, b c\\right]\\)</td>\n",
       "<td style=\"text-align:left\">\\(\\left[c e, c d, c^{2}\\right]\\)</td>\n",
       "<td style=\"text-align:left\">\\(\\left[d e, c e, d^{2}, c d, c^{2}\\right]\\)</td>\n",
       "<td style=\"text-align:left\">\\(\\left[e^{2}, d e, c e, d^{2}, c d, c^{2}\\right]\\)</td>\n",
       "</tr>\n",
       "</tbody>\n",
       "</table>\n",
       "</div>"
      ],
      "text/plain": [
       "  []   []                []                []                          []\n",
       "  []   [b^2]             [b*c]             [b*d, b*c]                  [b*e, b*d, b*c]\n",
       "  []   [b*c]             [c^2]             [c*d, c^2]                  [c*e, c*d, c^2]\n",
       "  []   [b*d, b*c]        [c*d, c^2]        [d^2, c*d, c^2]             [d*e, c*e, d^2, c*d, c^2]\n",
       "  []   [b*e, b*d, b*c]   [c*e, c*d, c^2]   [d*e, c*e, d^2, c*d, c^2]   [e^2, d*e, c*e, d^2, c*d, c^2]"
      ]
     },
     "metadata": {},
     "output_type": "display_data"
    },
    {
     "data": {
      "text/html": [
       "<div class=\"notruncate\">\n",
       "<table  class=\"table_form\">\n",
       "<tbody>\n",
       "<tr class =\"row-a\">\n",
       "<td style=\"text-align:left\">\\(\\left[\\right]\\)</td>\n",
       "<td style=\"text-align:left\">\\(\\left[\\right]\\)</td>\n",
       "<td style=\"text-align:left\">\\(\\left[\\right]\\)</td>\n",
       "<td style=\"text-align:left\">\\(\\left[\\right]\\)</td>\n",
       "<td style=\"text-align:left\">\\(\\left[\\right]\\)</td>\n",
       "</tr>\n",
       "<tr class =\"row-b\">\n",
       "<td style=\"text-align:left\">\\(\\left[\\right]\\)</td>\n",
       "<td style=\"text-align:left\">\\(\\left[1\\right]\\)</td>\n",
       "<td style=\"text-align:left\">\\(\\left[1\\right]\\)</td>\n",
       "<td style=\"text-align:left\">\\(\\left[1, 1\\right]\\)</td>\n",
       "<td style=\"text-align:left\">\\(\\left[1, 1, 1\\right]\\)</td>\n",
       "</tr>\n",
       "<tr class =\"row-a\">\n",
       "<td style=\"text-align:left\">\\(\\left[\\right]\\)</td>\n",
       "<td style=\"text-align:left\">\\(\\left[1\\right]\\)</td>\n",
       "<td style=\"text-align:left\">\\(\\left[1\\right]\\)</td>\n",
       "<td style=\"text-align:left\">\\(\\left[1, 1\\right]\\)</td>\n",
       "<td style=\"text-align:left\">\\(\\left[1, 1, 1\\right]\\)</td>\n",
       "</tr>\n",
       "<tr class =\"row-b\">\n",
       "<td style=\"text-align:left\">\\(\\left[\\right]\\)</td>\n",
       "<td style=\"text-align:left\">\\(\\left[1, 1\\right]\\)</td>\n",
       "<td style=\"text-align:left\">\\(\\left[1, 1\\right]\\)</td>\n",
       "<td style=\"text-align:left\">\\(\\left[1, 2, 1\\right]\\)</td>\n",
       "<td style=\"text-align:left\">\\(\\left[1, 1, 1, 2, 1\\right]\\)</td>\n",
       "</tr>\n",
       "<tr class =\"row-a\">\n",
       "<td style=\"text-align:left\">\\(\\left[\\right]\\)</td>\n",
       "<td style=\"text-align:left\">\\(\\left[1, 1, 1\\right]\\)</td>\n",
       "<td style=\"text-align:left\">\\(\\left[1, 1, 1\\right]\\)</td>\n",
       "<td style=\"text-align:left\">\\(\\left[1, 1, 1, 2, 1\\right]\\)</td>\n",
       "<td style=\"text-align:left\">\\(\\left[1, 2, 2, 1, 2, 1\\right]\\)</td>\n",
       "</tr>\n",
       "</tbody>\n",
       "</table>\n",
       "</div>"
      ],
      "text/plain": [
       "  []   []          []          []                []\n",
       "  []   [1]         [1]         [1, 1]            [1, 1, 1]\n",
       "  []   [1]         [1]         [1, 1]            [1, 1, 1]\n",
       "  []   [1, 1]      [1, 1]      [1, 2, 1]         [1, 1, 1, 2, 1]\n",
       "  []   [1, 1, 1]   [1, 1, 1]   [1, 1, 1, 2, 1]   [1, 2, 2, 1, 2, 1]"
      ]
     },
     "metadata": {},
     "output_type": "display_data"
    },
    {
     "data": {
      "text/html": [
       "<html>\\(\\displaystyle \\left[b^{2}, b c, c^{2}, b d, c d, d^{2}, b e, c e, d e, e^{2}\\right]\\)</html>"
      ],
      "text/latex": [
       "$\\displaystyle \\left[b^{2}, b c, c^{2}, b d, c d, d^{2}, b e, c e, d e, e^{2}\\right]$"
      ],
      "text/plain": [
       "[b^2, b*c, c^2, b*d, c*d, d^2, b*e, c*e, d*e, e^2]"
      ]
     },
     "metadata": {},
     "output_type": "display_data"
    },
    {
     "name": "stdout",
     "output_type": "stream",
     "text": [
      "['eta_bb', 'eta_bc', 'eta_cc', 'eta_bd', 'eta_cd', 'eta_dd', 'eta_be', 'eta_ce', 'eta_de', 'eta_ee']\n",
      "['\\\\eta_{\\\\mathit{bb}}', '\\\\eta_{\\\\mathit{bc}}', '\\\\eta_{\\\\mathit{cc}}', '\\\\eta_{\\\\mathit{bd}}', '\\\\eta_{\\\\mathit{cd}}', '\\\\eta_{\\\\mathit{dd}}', '\\\\eta_{\\\\mathit{be}}', '\\\\eta_{\\\\mathit{ce}}', '\\\\eta_{\\\\mathit{de}}', '\\\\eta_{\\\\mathit{ee}}']\n",
      "{b: kappa_b, c: kappa_c, d: kappa_d, e: kappa_e, b^2: eta_bb, b*c: eta_bc, c^2: eta_cc, b*d: eta_bd, c*d: eta_cd, d^2: eta_dd, b*e: eta_be, c*e: eta_ce, d*e: eta_de, e^2: eta_ee, 1: 1}\n",
      "[[0, b, c, d + c, e + d + c], [0, 2*b, c + b, d + c + b, e + d + c + b], [0, 0, 2*c, d + 2*c, e + d + 2*c], [0, 0, 0, 2*d + 2*c, e + 2*d + 2*c], [0, 0, 0, 0, 2*e + 2*d + 2*c]]\n",
      "[[[], [b], [c], [d, c], [e, d, c]], [0, [b], [c, b], [d, c, b], [e, d, c, b]], [0, 0, [c], [d, c], [e, d, c]], [0, 0, 0, [d, c], [e, d, c]], [0, 0, 0, 0, [e, d, c]]]\n",
      "[[[], [1], [1], [1, 1], [1, 1, 1]], [0, [2], [1, 1], [1, 1, 1], [1, 1, 1, 1]], [0, 0, [2], [1, 2], [1, 1, 2]], [0, 0, 0, [2, 2], [1, 2, 2]], [0, 0, 0, 0, [2, 2, 2]]]\n",
      "[[1, 2*kappa_b, 2*kappa_c, 2*kappa_c*kappa_d, 2*kappa_c*kappa_d*kappa_e], [0, kappa_b^2, 2*kappa_b*kappa_c, 2*kappa_b*kappa_c*kappa_d, 2*kappa_b*kappa_c*kappa_d*kappa_e], [0, 0, kappa_c^2, 2*kappa_c^2*kappa_d, 2*kappa_c^2*kappa_d*kappa_e], [0, 0, 0, kappa_c^2*kappa_d^2, 2*kappa_c^2*kappa_d^2*kappa_e], [0, 0, 0, 0, kappa_c^2*kappa_d^2*kappa_e^2]]\n",
      "[[1, 1, 1, 1, 1], [0, eta_bb, eta_bc, eta_bc*eta_bd, eta_bc*eta_bd*eta_be], [0, 0, eta_cc, eta_cc*eta_cd, eta_cc*eta_cd*eta_ce], [0, 0, 0, eta_cc*eta_cd^2*eta_dd, eta_cc*eta_cd^2*eta_dd*eta_ce*eta_de], [0, 0, 0, 0, eta_cc*eta_cd^2*eta_dd*eta_ce^2*eta_de^2*eta_ee]]\n"
     ]
    },
    {
     "data": {
      "text/html": [
       "<html>\\(\\displaystyle \\left[\\left[1, 2 \\kappa_{\\mathit{b}}, 2 \\kappa_{\\mathit{c}}, 2 \\kappa_{\\mathit{c}} \\kappa_{\\mathit{d}}, 2 \\kappa_{\\mathit{c}} \\kappa_{\\mathit{d}} \\kappa_{\\mathit{e}}\\right], \\left[0, \\kappa_{\\mathit{b}}^{2} \\eta_{\\mathit{bb}}, 2 \\kappa_{\\mathit{b}} \\kappa_{\\mathit{c}} \\eta_{\\mathit{bc}}, 2 \\kappa_{\\mathit{b}} \\kappa_{\\mathit{c}} \\kappa_{\\mathit{d}} \\eta_{\\mathit{bc}} \\eta_{\\mathit{bd}}, 2 \\kappa_{\\mathit{b}} \\kappa_{\\mathit{c}} \\kappa_{\\mathit{d}} \\kappa_{\\mathit{e}} \\eta_{\\mathit{bc}} \\eta_{\\mathit{bd}} \\eta_{\\mathit{be}}\\right], \\left[0, 0, \\kappa_{\\mathit{c}}^{2} \\eta_{\\mathit{cc}}, 2 \\kappa_{\\mathit{c}}^{2} \\kappa_{\\mathit{d}} \\eta_{\\mathit{cc}} \\eta_{\\mathit{cd}}, 2 \\kappa_{\\mathit{c}}^{2} \\kappa_{\\mathit{d}} \\kappa_{\\mathit{e}} \\eta_{\\mathit{cc}} \\eta_{\\mathit{cd}} \\eta_{\\mathit{ce}}\\right], \\left[0, 0, 0, \\kappa_{\\mathit{c}}^{2} \\kappa_{\\mathit{d}}^{2} \\eta_{\\mathit{cc}} \\eta_{\\mathit{cd}}^{2} \\eta_{\\mathit{dd}}, 2 \\kappa_{\\mathit{c}}^{2} \\kappa_{\\mathit{d}}^{2} \\kappa_{\\mathit{e}} \\eta_{\\mathit{cc}} \\eta_{\\mathit{cd}}^{2} \\eta_{\\mathit{dd}} \\eta_{\\mathit{ce}} \\eta_{\\mathit{de}}\\right], \\left[0, 0, 0, 0, \\kappa_{\\mathit{c}}^{2} \\kappa_{\\mathit{d}}^{2} \\kappa_{\\mathit{e}}^{2} \\eta_{\\mathit{cc}} \\eta_{\\mathit{cd}}^{2} \\eta_{\\mathit{dd}} \\eta_{\\mathit{ce}}^{2} \\eta_{\\mathit{de}}^{2} \\eta_{\\mathit{ee}}\\right]\\right]\\)</html>"
      ],
      "text/latex": [
       "$\\displaystyle \\left[\\left[1, 2 \\kappa_{\\mathit{b}}, 2 \\kappa_{\\mathit{c}}, 2 \\kappa_{\\mathit{c}} \\kappa_{\\mathit{d}}, 2 \\kappa_{\\mathit{c}} \\kappa_{\\mathit{d}} \\kappa_{\\mathit{e}}\\right], \\left[0, \\kappa_{\\mathit{b}}^{2} \\eta_{\\mathit{bb}}, 2 \\kappa_{\\mathit{b}} \\kappa_{\\mathit{c}} \\eta_{\\mathit{bc}}, 2 \\kappa_{\\mathit{b}} \\kappa_{\\mathit{c}} \\kappa_{\\mathit{d}} \\eta_{\\mathit{bc}} \\eta_{\\mathit{bd}}, 2 \\kappa_{\\mathit{b}} \\kappa_{\\mathit{c}} \\kappa_{\\mathit{d}} \\kappa_{\\mathit{e}} \\eta_{\\mathit{bc}} \\eta_{\\mathit{bd}} \\eta_{\\mathit{be}}\\right], \\left[0, 0, \\kappa_{\\mathit{c}}^{2} \\eta_{\\mathit{cc}}, 2 \\kappa_{\\mathit{c}}^{2} \\kappa_{\\mathit{d}} \\eta_{\\mathit{cc}} \\eta_{\\mathit{cd}}, 2 \\kappa_{\\mathit{c}}^{2} \\kappa_{\\mathit{d}} \\kappa_{\\mathit{e}} \\eta_{\\mathit{cc}} \\eta_{\\mathit{cd}} \\eta_{\\mathit{ce}}\\right], \\left[0, 0, 0, \\kappa_{\\mathit{c}}^{2} \\kappa_{\\mathit{d}}^{2} \\eta_{\\mathit{cc}} \\eta_{\\mathit{cd}}^{2} \\eta_{\\mathit{dd}}, 2 \\kappa_{\\mathit{c}}^{2} \\kappa_{\\mathit{d}}^{2} \\kappa_{\\mathit{e}} \\eta_{\\mathit{cc}} \\eta_{\\mathit{cd}}^{2} \\eta_{\\mathit{dd}} \\eta_{\\mathit{ce}} \\eta_{\\mathit{de}}\\right], \\left[0, 0, 0, 0, \\kappa_{\\mathit{c}}^{2} \\kappa_{\\mathit{d}}^{2} \\kappa_{\\mathit{e}}^{2} \\eta_{\\mathit{cc}} \\eta_{\\mathit{cd}}^{2} \\eta_{\\mathit{dd}} \\eta_{\\mathit{ce}}^{2} \\eta_{\\mathit{de}}^{2} \\eta_{\\mathit{ee}}\\right]\\right]$"
      ],
      "text/plain": [
       "[[1, 2*kappa_b, 2*kappa_c, 2*kappa_c*kappa_d, 2*kappa_c*kappa_d*kappa_e],\n",
       " [0,\n",
       "  kappa_b^2*eta_bb,\n",
       "  2*kappa_b*kappa_c*eta_bc,\n",
       "  2*kappa_b*kappa_c*kappa_d*eta_bc*eta_bd,\n",
       "  2*kappa_b*kappa_c*kappa_d*kappa_e*eta_bc*eta_bd*eta_be],\n",
       " [0,\n",
       "  0,\n",
       "  kappa_c^2*eta_cc,\n",
       "  2*kappa_c^2*kappa_d*eta_cc*eta_cd,\n",
       "  2*kappa_c^2*kappa_d*kappa_e*eta_cc*eta_cd*eta_ce],\n",
       " [0,\n",
       "  0,\n",
       "  0,\n",
       "  kappa_c^2*kappa_d^2*eta_cc*eta_cd^2*eta_dd,\n",
       "  2*kappa_c^2*kappa_d^2*kappa_e*eta_cc*eta_cd^2*eta_dd*eta_ce*eta_de],\n",
       " [0,\n",
       "  0,\n",
       "  0,\n",
       "  0,\n",
       "  kappa_c^2*kappa_d^2*kappa_e^2*eta_cc*eta_cd^2*eta_dd*eta_ce^2*eta_de^2*eta_ee]]"
      ]
     },
     "metadata": {},
     "output_type": "display_data"
    }
   ],
   "source": [
    "(G, T, KappaEta, A) = enumerate_allosteric_parameters(method='alpha',verbose=True)"
   ]
  },
  {
   "cell_type": "code",
   "execution_count": 20,
   "metadata": {
    "collapsed": false
   },
   "outputs": [
    {
     "data": {
      "image/png": "[encoded data removed]",
      "text/plain": [
       "Graphics object consisting of 12 graphics primitives"
      ]
     },
     "metadata": {},
     "output_type": "display_data"
    }
   ],
   "source": [
    "G.show()"
   ]
  },
  {
   "cell_type": "code",
   "execution_count": 21,
   "metadata": {
    "collapsed": false
   },
   "outputs": [
    {
     "data": {
      "image/png": "[encoded data removed]",
      "text/plain": [
       "Graphics object consisting of 14 graphics primitives"
      ]
     },
     "metadata": {},
     "output_type": "display_data"
    }
   ],
   "source": [
    "T.show(edge_labels=True)"
   ]
  },
  {
   "cell_type": "code",
   "execution_count": 22,
   "metadata": {
    "collapsed": false
   },
   "outputs": [
    {
     "data": {
      "text/html": [
       "<div class=\"notruncate\">\n",
       "<table  class=\"table_form\">\n",
       "<tbody>\n",
       "<tr class =\"row-a\">\n",
       "<td style=\"text-align:left\">\\(1\\)</td>\n",
       "<td style=\"text-align:left\">\\(2 \\kappa_{\\mathit{b}}\\)</td>\n",
       "<td style=\"text-align:left\">\\(2 \\kappa_{\\mathit{c}}\\)</td>\n",
       "<td style=\"text-align:left\">\\(2 \\kappa_{\\mathit{c}} \\kappa_{\\mathit{d}}\\)</td>\n",
       "<td style=\"text-align:left\">\\(2 \\kappa_{\\mathit{c}} \\kappa_{\\mathit{d}} \\kappa_{\\mathit{e}}\\)</td>\n",
       "</tr>\n",
       "<tr class =\"row-b\">\n",
       "<td style=\"text-align:left\">\\(0\\)</td>\n",
       "<td style=\"text-align:left\">\\(\\kappa_{\\mathit{b}}^{2} \\eta_{\\mathit{bb}}\\)</td>\n",
       "<td style=\"text-align:left\">\\(2 \\kappa_{\\mathit{b}} \\kappa_{\\mathit{c}} \\eta_{\\mathit{bc}}\\)</td>\n",
       "<td style=\"text-align:left\">\\(2 \\kappa_{\\mathit{b}} \\kappa_{\\mathit{c}} \\kappa_{\\mathit{d}} \\eta_{\\mathit{bc}} \\eta_{\\mathit{bd}}\\)</td>\n",
       "<td style=\"text-align:left\">\\(2 \\kappa_{\\mathit{b}} \\kappa_{\\mathit{c}} \\kappa_{\\mathit{d}} \\kappa_{\\mathit{e}} \\eta_{\\mathit{bc}} \\eta_{\\mathit{bd}} \\eta_{\\mathit{be}}\\)</td>\n",
       "</tr>\n",
       "<tr class =\"row-a\">\n",
       "<td style=\"text-align:left\">\\(0\\)</td>\n",
       "<td style=\"text-align:left\">\\(0\\)</td>\n",
       "<td style=\"text-align:left\">\\(\\kappa_{\\mathit{c}}^{2} \\eta_{\\mathit{cc}}\\)</td>\n",
       "<td style=\"text-align:left\">\\(2 \\kappa_{\\mathit{c}}^{2} \\kappa_{\\mathit{d}} \\eta_{\\mathit{cc}} \\eta_{\\mathit{cd}}\\)</td>\n",
       "<td style=\"text-align:left\">\\(2 \\kappa_{\\mathit{c}}^{2} \\kappa_{\\mathit{d}} \\kappa_{\\mathit{e}} \\eta_{\\mathit{cc}} \\eta_{\\mathit{cd}} \\eta_{\\mathit{ce}}\\)</td>\n",
       "</tr>\n",
       "<tr class =\"row-b\">\n",
       "<td style=\"text-align:left\">\\(0\\)</td>\n",
       "<td style=\"text-align:left\">\\(0\\)</td>\n",
       "<td style=\"text-align:left\">\\(0\\)</td>\n",
       "<td style=\"text-align:left\">\\(\\kappa_{\\mathit{c}}^{2} \\kappa_{\\mathit{d}}^{2} \\eta_{\\mathit{cc}} \\eta_{\\mathit{cd}}^{2} \\eta_{\\mathit{dd}}\\)</td>\n",
       "<td style=\"text-align:left\">\\(2 \\kappa_{\\mathit{c}}^{2} \\kappa_{\\mathit{d}}^{2} \\kappa_{\\mathit{e}} \\eta_{\\mathit{cc}} \\eta_{\\mathit{cd}}^{2} \\eta_{\\mathit{dd}} \\eta_{\\mathit{ce}} \\eta_{\\mathit{de}}\\)</td>\n",
       "</tr>\n",
       "<tr class =\"row-a\">\n",
       "<td style=\"text-align:left\">\\(0\\)</td>\n",
       "<td style=\"text-align:left\">\\(0\\)</td>\n",
       "<td style=\"text-align:left\">\\(0\\)</td>\n",
       "<td style=\"text-align:left\">\\(0\\)</td>\n",
       "<td style=\"text-align:left\">\\(\\kappa_{\\mathit{c}}^{2} \\kappa_{\\mathit{d}}^{2} \\kappa_{\\mathit{e}}^{2} \\eta_{\\mathit{cc}} \\eta_{\\mathit{cd}}^{2} \\eta_{\\mathit{dd}} \\eta_{\\mathit{ce}}^{2} \\eta_{\\mathit{de}}^{2} \\eta_{\\mathit{ee}}\\)</td>\n",
       "</tr>\n",
       "</tbody>\n",
       "</table>\n",
       "</div>"
      ],
      "text/plain": [
       "  1   2*kappa_b          2*kappa_c                  2*kappa_c*kappa_d                            2*kappa_c*kappa_d*kappa_e\n",
       "  0   kappa_b^2*eta_bb   2*kappa_b*kappa_c*eta_bc   2*kappa_b*kappa_c*kappa_d*eta_bc*eta_bd      2*kappa_b*kappa_c*kappa_d*kappa_e*eta_bc*eta_bd*eta_be\n",
       "  0   0                  kappa_c^2*eta_cc           2*kappa_c^2*kappa_d*eta_cc*eta_cd            2*kappa_c^2*kappa_d*kappa_e*eta_cc*eta_cd*eta_ce\n",
       "  0   0                  0                          kappa_c^2*kappa_d^2*eta_cc*eta_cd^2*eta_dd   2*kappa_c^2*kappa_d^2*kappa_e*eta_cc*eta_cd^2*eta_dd*eta_ce*eta_de\n",
       "  0   0                  0                          0                                            kappa_c^2*kappa_d^2*kappa_e^2*eta_cc*eta_cd^2*eta_dd*eta_ce^2*eta_de^2*eta_ee"
      ]
     },
     "execution_count": 22,
     "metadata": {},
     "output_type": "execute_result"
    }
   ],
   "source": [
    "table(KappaEta)"
   ]
  },
  {
   "cell_type": "code",
   "execution_count": 23,
   "metadata": {
    "collapsed": false
   },
   "outputs": [
    {
     "data": {
      "text/html": [
       "<html>\\(\\displaystyle \\newcommand{\\Bold}[1]{\\mathbf{#1}}\\Bold{Z}[\\kappa_{\\mathit{b}}, \\kappa_{\\mathit{c}}, \\kappa_{\\mathit{d}}, \\kappa_{\\mathit{e}}, \\eta_{\\mathit{bb}}, \\eta_{\\mathit{bc}}, \\eta_{\\mathit{cc}}, \\eta_{\\mathit{bd}}, \\eta_{\\mathit{cd}}, \\eta_{\\mathit{dd}}, \\eta_{\\mathit{be}}, \\eta_{\\mathit{ce}}, \\eta_{\\mathit{de}}, \\eta_{\\mathit{ee}}]\\)</html>"
      ],
      "text/latex": [
       "$\\displaystyle \\newcommand{\\Bold}[1]{\\mathbf{#1}}\\Bold{Z}[\\kappa_{\\mathit{b}}, \\kappa_{\\mathit{c}}, \\kappa_{\\mathit{d}}, \\kappa_{\\mathit{e}}, \\eta_{\\mathit{bb}}, \\eta_{\\mathit{bc}}, \\eta_{\\mathit{cc}}, \\eta_{\\mathit{bd}}, \\eta_{\\mathit{cd}}, \\eta_{\\mathit{dd}}, \\eta_{\\mathit{be}}, \\eta_{\\mathit{ce}}, \\eta_{\\mathit{de}}, \\eta_{\\mathit{ee}}]$"
      ],
      "text/plain": [
       "Multivariate Polynomial Ring in kappa_b, kappa_c, kappa_d, kappa_e, eta_bb, eta_bc, eta_cc, eta_bd, eta_cd, eta_dd, eta_be, eta_ce, eta_de, eta_ee over Integer Ring"
      ]
     },
     "metadata": {},
     "output_type": "display_data"
    }
   ],
   "source": [
    "show(A)"
   ]
  },
  {
   "cell_type": "code",
   "execution_count": 0,
   "metadata": {
    "collapsed": false
   },
   "outputs": [],
   "source": []
  }
 ],
 "metadata": {
  "interpreter": {
   "hash": "31f2aee4e71d21fbe5cf8b01ff0e069b9275f58929596ceb00d14d90e3e16cd6"
  },
  "kernelspec": {
   "argv": [
    "sage-10.0",
    "--python",
    "-m",
    "sage.repl.ipython_kernel",
    "--matplotlib=inline",
    "-f",
    "{connection_file}"
   ],
   "display_name": "SageMath 10.0",
   "env": {},
   "language": "sagemath",
   "metadata": {
    "cocalc": {
     "description": "Open-source mathematical software system",
     "priority": 10,
     "url": "https://www.sagemath.org/"
    }
   },
   "name": "sage-10.0",
   "resource_dir": "/ext/jupyter/kernels/sage-10.0"
  },
  "language_info": {
   "codemirror_mode": {
    "name": "ipython",
    "version": 3
   },
   "file_extension": ".py",
   "mimetype": "text/x-python",
   "name": "python",
   "nbconvert_exporter": "python",
   "pygments_lexer": "ipython3",
   "version": "3.11.1"
  }
 },
 "nbformat": 4,
 "nbformat_minor": 4
}