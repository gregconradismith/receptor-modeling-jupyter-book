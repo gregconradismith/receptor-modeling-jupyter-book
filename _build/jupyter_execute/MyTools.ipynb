{
 "cells": [
  {
   "cell_type": "markdown",
   "metadata": {
    "collapsed": false
   },
   "source": [
    "# My Tools"
   ]
  },
  {
   "cell_type": "markdown",
   "metadata": {
    "collapsed": false
   },
   "source": [
    "This Jupyter notebook called \"MyTools.ipynb\" uses the SageMath 10.0 kernel."
   ]
  },
  {
   "cell_type": "markdown",
   "metadata": {
    "collapsed": false
   },
   "source": [
    "The following code block sets some default options for plotting graphs in SageMath. It sets the default figure size, makes the plots transparent, displays edge labels, uses the spring layout algorithm for graph layouts, and sets the background color for edge labels.\n"
   ]
  },
  {
   "cell_type": "code",
   "execution_count": 1,
   "metadata": {
    "collapsed": false
   },
   "outputs": [],
   "source": [
    "# See https://doc.sagemath.org/html/en/reference/graphs/sage/graphs/graph_plot.html\n",
    "import sage.graphs.graph_plot\n",
    "\n",
    "# Set the default figure size for plots\n",
    "sage.graphs.graph_plot.DEFAULT_PLOT_OPTIONS['figsize'] = [3,3]\n",
    "\n",
    "# Make the plots transparent\n",
    "sage.graphs.graph_plot.DEFAULT_PLOT_OPTIONS['transparent'] = True\n",
    "\n",
    "# Display edge labels in the plots\n",
    "sage.graphs.graph_plot.DEFAULT_PLOT_OPTIONS['edge_labels'] = False\n",
    "\n",
    "# Set the background color for edge labels to cyan\n",
    "sage.graphs.graph_plot.DEFAULT_PLOT_OPTIONS['edge_labels_background'] = 'cyan'"
   ]
  },
  {
   "cell_type": "markdown",
   "metadata": {
    "collapsed": false
   },
   "source": [
    "The function \"my_graph_show\" takes a graph object as input and prints the vertices and edges of the graph, as well as a visualization of the graph. Edge labels are show if \"eshow\" is set to True, which is the default behavior."
   ]
  },
  {
   "cell_type": "code",
   "execution_count": 2,
   "metadata": {
    "collapsed": false
   },
   "outputs": [],
   "source": [
    "def my_graph_show(G,edge_labels=True):\n",
    "    print('vertices:',G.vertices(sort=True))\n",
    "    print('edges:',G.edges(sort=True))\n",
    "    G.show(edge_labels=edge_labels)"
   ]
  },
  {
   "cell_type": "code",
   "execution_count": 3,
   "metadata": {
    "collapsed": false
   },
   "outputs": [],
   "source": [
    "def replace_powers(s,nchar=1):\n",
    "    result=''\n",
    "    i=0\n",
    "    while i<len(s):\n",
    "        if s[i:i+2]=='^2':\n",
    "            result+=s[i-nchar:i]\n",
    "            i+=2\n",
    "        else:\n",
    "            result+=s[i]\n",
    "            i+=1\n",
    "    return result"
   ]
  },
  {
   "cell_type": "code",
   "execution_count": 4,
   "metadata": {
    "collapsed": false
   },
   "outputs": [],
   "source": [
    "def table_multiply(Alpha,Beta):\n",
    "    AlphaBeta=[]\n",
    "    for A,B in zip(Alpha,Beta):\n",
    "        AlphaBeta.append([a*b for a,b in zip(A,B)])\n",
    "    return AlphaBeta"
   ]
  },
  {
   "cell_type": "code",
   "execution_count": 5,
   "metadata": {
    "collapsed": false
   },
   "outputs": [],
   "source": [
    "def repmat(value,n,*args):\n",
    "    # n rows and m columns\n",
    "    if args:\n",
    "        m=args[0]\n",
    "    else:\n",
    "        m=n\n",
    "    return [[value] * m for _ in range(n)]"
   ]
  },
  {
   "cell_type": "code",
   "execution_count": 6,
   "metadata": {
    "collapsed": false
   },
   "outputs": [],
   "source": [
    "def zeros(n,*args):\n",
    "    if args:\n",
    "        m=args[0]\n",
    "    else:\n",
    "        m=n\n",
    "    return repmat(0,n,m)"
   ]
  },
  {
   "cell_type": "code",
   "execution_count": 7,
   "metadata": {
    "collapsed": false
   },
   "outputs": [],
   "source": [
    "def ones(n,*args):\n",
    "    if args:\n",
    "        m=args[0]\n",
    "    else:\n",
    "        m=n\n",
    "    return repmat(1,n,m)"
   ]
  },
  {
   "cell_type": "markdown",
   "metadata": {
    "collapsed": false
   },
   "source": [
    "The add_vertex_monomials function takes a graph G, as well as optional parameters method and ring. The function creates a new graph H with vertices labeled by monomials. The monomials are chosen based on the number of vertices in G. If the method parameter is set to 'alpha' and the number of vertices in G is less than or equal to 10, the monomials are chosen as alphabetical letters ('a' to 'k'). Otherwise, the monomials are chosen as strings of the form 'a0', 'a1', ..., 'an-1', where n is the number of vertices in G. The function then adds the vertices from G to H using the monomials as labels, and adds the edges from G to H using the monomials as endpoints. If the ring parameter is set to True, the function also creates a polynomial ring V with the chosen monomials and 'invlex' order, and returns both H and V. Otherwise, it returns only H."
   ]
  },
  {
   "cell_type": "code",
   "execution_count": 8,
   "metadata": {
    "collapsed": false
   },
   "outputs": [],
   "source": [
    "def add_vertex_monomials(G,method='integer',ring=False):\n",
    "    # define a list of possible monomials as strings\n",
    "    monomials_integer=['A','B','C','D','E','F','G','H','I','J','K','L','M','N','O','P','Q','R','S','T','U','V','W','X','Y','Z']\n",
    "    if method=='alpha' and G.order() <= len(monomials_integer):\n",
    "        monomials=monomials_integer[:G.order()]  # use only a subset of the monomials\n",
    "    else: # method='integer' or too many alpha\n",
    "        monomials=['a%s' %(i) for i in range(G.order())]\n",
    "\n",
    "    # create a polynomial ring with names as specified monomials\n",
    "    V=PolynomialRing(ZZ,names=monomials,order='invlex')\n",
    "    # V = symbols(monomials)\n",
    "\n",
    "    # create a new graph H of the same type (directed or undirected) as G\n",
    "    if G.is_directed():\n",
    "        H = DiGraph()\n",
    "    else:\n",
    "        H = Graph()\n",
    "\n",
    "    # add vertices to H as generators of the polynomial ring V\n",
    "    if G.get_pos():\n",
    "        d_pos_G = G.get_pos()\n",
    "        d_pos_H = dict()\n",
    "        for v in G.vertices(sort=True):\n",
    "            H.add_vertex(V.gen(v))\n",
    "            d_pos_H[V.gen(v)]=d_pos_G[v]\n",
    "        H.set_pos(d_pos_H)\n",
    "    else:\n",
    "        for v in G.vertices(sort=True):\n",
    "            H.add_vertex(V.gen(v))\n",
    "            \n",
    "    # add edges to H while mapping the vertices to their corresponding generators in V\n",
    "    for e in G.edges(sort=True):\n",
    "        H.add_edge(V.gen(e[0]),V.gen(e[1]),e[2])\n",
    "\n",
    "    # optionally inject the variable names as symbols in the current namespace\n",
    "    if ring:\n",
    "        # V.inject_variables()\n",
    "        return (H, V)  # return both the created graph H and the polynomial ring V\n",
    "        #var_names = [str(var) for var in V]\n",
    "        #inject_variables(\",\".join(var_names))\n",
    "        #return H, var_names  # return both the created graph H and the variable names\n",
    "    else:\n",
    "        return H  # only return the created graph H"
   ]
  },
  {
   "cell_type": "markdown",
   "metadata": {
    "collapsed": false
   },
   "source": [
    "The function add\\_edge\\_monomials takes in a graph object G and optional parameters method, edge\\_vars, ring, and short\\_name.\n",
    "\n",
    "If method is set to 'integer', the function creates a polynomial ring using the given edge variables and assigns variables to the edges of the graph. The edge variables can be represented either as 'e' followed by the first vertex label or the first and second vertex labels concatenated. If the vertex labels are integers and the short_name parameter is set to True, the edge variables are created using only the first vertex label.\n",
    "\n",
    "If method is set to 'alpha', the function creates a polynomial ring using the given edge variables and assigns variables to the edges of the graph in reverse order. The number of edge variables used is determined by the size of the graph.\n",
    "\n",
    "The ring parameter, if set to True, injects the polynomial variables into the global namespace and returns the graph and the polynomial ring. Otherwise, it simply returns the graph.\n",
    "\n"
   ]
  },
  {
   "cell_type": "code",
   "execution_count": 9,
   "metadata": {
    "collapsed": false
   },
   "outputs": [],
   "source": [
    "def add_edge_monomials(G,method='integer',\n",
    "                       edge_vars=['b','c','d','e','f','g','h','i','j','k','l','m','n','o','p','q','r','s','t','u','v','w','x','y','z'], # no \"a\" here!\n",
    "                       ring=False,short_name=False):\n",
    "\n",
    "    if method=='integer': # method parameter is set to 'integer'\n",
    "        if G.vertices(sort=True)[0]==0: # checking if the vertex labels are integers\n",
    "            if short_name:\n",
    "                edge_vars = ['e%s' %e[0] for e in G.edges(sort=True)] # create a list of edge variables using the first vertex label\n",
    "            else:\n",
    "                edge_vars = ['e%s%s' %(e[0],e[1]) for e in G.edges(sort=True)] # create a list of edge variables using both vertex labels\n",
    "            E=PolynomialRing(ZZ,names=edge_vars,order='invlex') # create a polynomial ring using the edge variables\n",
    "        else:\n",
    "            if short_name:\n",
    "                edge_vars = ['e%s' %e[0] for e in G.edges(sort=True)] # create a list of edge variables using the first vertex label\n",
    "                edge_vars = [ ev.replace('a','') for ev in edge_vars ] # remove 'a' from the edge variables\n",
    "                edge_subscripts = ['%s' %(e[0],e[1]) for e in G.edges(sort=True)] # create a list of edge subscripts using both vertex labels\n",
    "                edge_subscripts = [ ss.replace('a','') for ss in edge_subscripts ] # remove 'a' from edge subscripts\n",
    "            else:\n",
    "                edge_vars = ['e_%s%s' %(e[0],e[1]) for e in G.edges(sort=True)] # create a list of edge variables using both vertex labels\n",
    "                edge_subscripts = ['%s%s' %(e[0],e[1]) for e in G.edges(sort=True)] # create a list of edge subscripts using both vertex labels\n",
    "            edge_names = []\n",
    "            for sub in edge_subscripts:\n",
    "                edge_names.append('e_{\\\\mathit{' + sub.replace('e','e_') + '}}') # create a list of latex names for the edge variables\n",
    "            E=PolynomialRing(ZZ,names=edge_vars,order='invlex') # create a polynomial ring using the edge variables\n",
    "            E._latex_names = edge_names # assign latex names to the polynomial variables\n",
    "        gen=0;\n",
    "        for e in G.edges(sort=True):\n",
    "            G.add_edge(e[0],e[1],E.gen(gen)) # add an edge with the corresponding variable to the graph\n",
    "            gen=gen+1\n",
    "    else: # method parameter is set to 'alpha'\n",
    "        edge_vars = edge_vars[:G.size()] # get the first G.size() edge variables\n",
    "        E=PolynomialRing(ZZ,names=edge_vars,order='invlex') # create a polynomial ring using the edge variables\n",
    "        evars = list(E.gens()[:G.size()]) # create a list of the polynomial variables\n",
    "        evars.reverse()\n",
    "        for e in G.edges(sort=True):\n",
    "            G.add_edge(e[0],e[1],evars.pop()) # add an edge with the corresponding variable to the graph\n",
    "    if ring:\n",
    "        # E.inject_variables() # inject the polynomial variables into the global namespace\n",
    "        return (G, E) # return the graph and the polynomial ring\n",
    "    else:\n",
    "        return G # return the graph"
   ]
  },
  {
   "cell_type": "code",
   "execution_count": 10,
   "metadata": {
    "collapsed": false
   },
   "outputs": [],
   "source": [
    "def enumerate_allosteric_parameters(G=graphs.HouseGraph(),**kwargs):\n",
    "\n",
    "    defaultKwargs = { 'method': 'integer', 'verbose': False, 'show': False}\n",
    "    kwargs = { **defaultKwargs, **kwargs }\n",
    "    #print(kwargs)\n",
    "\n",
    "    my_method = kwargs['method']\n",
    "    if my_method not in ['integer','alpha']:\n",
    "        raise ValueError(\"enumerate_allosteric_parameters says: method must be 'integer' or 'alpha'.\")\n",
    "\n",
    "    verbose = kwargs['verbose']\n",
    "    myshow = kwargs['show']\n",
    "\n",
    "    if my_method=='alpha':\n",
    "        (G, V) = add_vertex_monomials(G,method='alpha',ring=True)\n",
    "        Groot=V.gen(0)\n",
    "    else:\n",
    "        Groot=0\n",
    "\n",
    "    if verbose or myshow:\n",
    "        G.show(edge_labels=False)\n",
    "\n",
    "    (BFSVertexList,BFSTree) = G.lex_BFS(tree=True,initial_vertex=Groot)\n",
    "    (T,E)=add_edge_monomials(BFSTree,method=my_method,ring=True,short_name=True)\n",
    "    T.set_pos(G.get_pos())\n",
    "\n",
    "    if verbose or myshow:\n",
    "        T.show(edge_labels=True)\n",
    "    if verbose:\n",
    "        show(E)\n",
    "\n",
    "    F = [E(0)]\n",
    "    for v in BFSVertexList[1:]: # every element except the first (the root 0, which has been set to E(0))\n",
    "        P = T.all_paths(v, BFSVertexList[0], use_multiedges=False, report_edges=True, labels=True)\n",
    "        P = P[0] # there is only one path, so take the first\n",
    "        f=0\n",
    "        for p in P:\n",
    "            f = f+p[2]\n",
    "        F.append(f)\n",
    "    nf = len(F) # this should be equal to G.order()\n",
    "\n",
    "    if verbose:\n",
    "        show(F)\n",
    "\n",
    "    KappaVars = []; KappaNames = []\n",
    "    for e in E.gens():\n",
    "        estr = str(e)\n",
    "        if len(estr)!=1:\n",
    "            estr=estr.replace('e','')\n",
    "        KappaVars.append('kappa_'+estr)\n",
    "        KappaNames.append('\\\\kappa_{\\\\mathit{' + estr + '}}')\n",
    "\n",
    "    if verbose:\n",
    "        print(KappaVars)\n",
    "        print(KappaNames)\n",
    "\n",
    "    EtaProb = zeros(nf); EtaMons = zeros(nf); EtaCoef = zeros(nf)\n",
    "    for i0 in range(len(F)):\n",
    "        for i1 in range(len(F)):\n",
    "            fprod=F[i0]*F[i1]\n",
    "            EtaProb[i0][i1]=fprod\n",
    "            EtaMons[i0][i1]=fprod.monomials()\n",
    "            EtaCoef[i0][i1]=fprod.coefficients()\n",
    "\n",
    "    if verbose:\n",
    "        show(table(EtaProb))\n",
    "        show(table(EtaMons))\n",
    "        show(table(EtaCoef))\n",
    "\n",
    "    UniqueMons = []\n",
    "    for mon in sorted(set(flatten(EtaMons))):\n",
    "        UniqueMons.append(mon)\n",
    "\n",
    "    if verbose:\n",
    "        show(UniqueMons)\n",
    "\n",
    "    EtaVars = []; EtaNames = []\n",
    "    for mon in UniqueMons:\n",
    "        vvar = str(mon)\n",
    "        vvar = vvar.replace('*', '')\n",
    "\n",
    "        if my_method=='alpha':\n",
    "            nchar=1\n",
    "        else:\n",
    "            nchar=2\n",
    "        vvar = replace_powers(vvar,nchar)\n",
    "\n",
    "        if my_method=='integer':\n",
    "            vvar = vvar.replace('e','')\n",
    "        EtaVars.append('eta_'+vvar)\n",
    "        EtaNames.append('\\\\eta_{\\\\mathit{' + vvar + '}}')\n",
    "\n",
    "    if verbose:\n",
    "        print(EtaVars)\n",
    "        print(EtaNames)\n",
    "\n",
    "    A=PolynomialRing(ZZ,names=KappaVars+EtaVars,order='invlex')\n",
    "    # A.inject_variables()\n",
    "    A._latex_names = KappaNames+EtaNames\n",
    "    # https://ask.sagemath.org/question/8202/how-to-give-latex-names-to-generators-of-polynomial-rings/\n",
    "\n",
    "    d_vars=dict(zip(list(E.gens())+UniqueMons,list(A.gens())))\n",
    "    d_vars[E(1)]=1\n",
    "\n",
    "    if verbose:\n",
    "        print(d_vars)\n",
    "\n",
    "    KappaProb = zeros(nf); KappaMons = zeros(nf); KappaCoef = zeros(nf);\n",
    "    Kappa = repmat(A(1),nf)\n",
    "    for i0 in range(len(F)):\n",
    "        for i1 in range(0,i0):\n",
    "            Kappa[i0][i1]=0\n",
    "        for i1 in range(i0,len(F)):\n",
    "            fsum = F[i0]+F[i1]\n",
    "            KappaProb[i0][i1]=fsum\n",
    "            KappaMons[i0][i1]=fsum.monomials()\n",
    "            KappaCoef[i0][i1]=fsum.coefficients()\n",
    "            for m in range(len(KappaMons[i0][i1])):\n",
    "                mon = KappaMons[i0][i1][m]\n",
    "                Kappa[i0][i1]*= d_vars[mon]^KappaCoef[i0][i1][m]\n",
    "            if i0!=i1:\n",
    "                Kappa[i0][i1]*=2\n",
    "\n",
    "    if verbose:\n",
    "        print(KappaProb)\n",
    "        print(KappaMons)\n",
    "        print(KappaCoef)\n",
    "        print(Kappa)\n",
    "\n",
    "    Eta = repmat(A(1),nf)\n",
    "    for i0 in range(len(F)):\n",
    "        for i1 in range(0, i0):\n",
    "            Eta[i0][i1] = 0\n",
    "        for i1 in range(i0, len(F)):\n",
    "            for m in range(len(EtaMons[i0][i1])):\n",
    "                mon = EtaMons[i0][i1][m]\n",
    "                Eta[i0][i1] *= d_vars[mon] ** EtaCoef[i0][i1][m]\n",
    "\n",
    "    if verbose:\n",
    "        print(Eta)\n",
    "\n",
    "    KappaEta = table_multiply(Kappa,Eta)\n",
    "\n",
    "    if verbose or myshow:\n",
    "        show(KappaEta)\n",
    "\n",
    "    return (G, T, KappaEta, A)"
   ]
  },
  {
   "cell_type": "code",
   "execution_count": 11,
   "metadata": {
    "collapsed": false
   },
   "outputs": [],
   "source": [
    "def normalize(phi):\n",
    "    import numpy as np\n",
    "    phi_sum = np.sum(phi)\n",
    "    return np.array([np.divide(p,phi_sum) for p in phi])"
   ]
  },
  {
   "cell_type": "code",
   "execution_count": 12,
   "metadata": {
    "collapsed": false
   },
   "outputs": [],
   "source": [
    "def random_binary_array(n_states):\n",
    "    import numpy as np\n",
    "    import random\n",
    "    return np.random.randint(2, size=n_states)"
   ]
  },
  {
   "cell_type": "code",
   "execution_count": 13,
   "metadata": {
    "collapsed": false
   },
   "outputs": [],
   "source": [
    "def make_random_q(n_states):\n",
    "    import numpy as np\n",
    "    import random\n",
    "    q = np.random.uniform(low=0,high=10,size=n_states)\n",
    "    q[0]=1\n",
    "    return q"
   ]
  },
  {
   "cell_type": "code",
   "execution_count": 14,
   "metadata": {
    "collapsed": false
   },
   "outputs": [],
   "source": [
    "def pade(phi_list,q_list,x_list):\n",
    "    import numpy as np\n",
    "\n",
    "    num = np.zeros(x_list.size)\n",
    "    den = np.zeros(x_list.size)\n",
    "    for i, (phi, q) in enumerate(zip(phi_list,q_list)):\n",
    "        num = np.add(num,[phi*q*x**i for x in x_list])\n",
    "        den = np.add(den,[q*x**i for x in x_list])\n",
    "    return np.divide(num,den)"
   ]
  },
  {
   "cell_type": "code",
   "execution_count": 15,
   "metadata": {
    "collapsed": false
   },
   "outputs": [],
   "source": [
    "def make_simulated_data(phi,q,xlogmin=-3,xlogmax=3,xnum=20,noise=0):\n",
    "    import numpy as np\n",
    "    import random\n",
    "\n",
    "    if len(q)!=len(phi):\n",
    "        raise ValueError(\"make_simulated_data says: phi and q are not the same length.\")\n",
    "    if q[0]!=1:\n",
    "        print('Warning: Setting q0 to 1.')\n",
    "        q[0]=1\n",
    "\n",
    "    x = np.logspace(xlogmin,xlogmax,xnum)\n",
    "    y = pade(phi,q,x) + np.random.normal(size=x.size, scale=noise)\n",
    "    return (x,y)"
   ]
  },
  {
   "cell_type": "code",
   "execution_count": 16,
   "metadata": {
    "collapsed": false
   },
   "outputs": [],
   "source": [
    "def dimerize(phi):\n",
    "    n = len(phi)\n",
    "    Phi = zeros(n)\n",
    "    for i0 in range(n):\n",
    "        for i1 in range(i0,n):\n",
    "            Phi[i0][i1] = phi[i0]*phi[i1]\n",
    "            if i0==i1:\n",
    "                Phi[i0][i1]*=2\n",
    "    return Phi"
   ]
  },
  {
   "cell_type": "code",
   "execution_count": 17,
   "metadata": {
    "collapsed": false
   },
   "outputs": [],
   "source": [
    "def make_symbolic_dimer_binding_curve(Phi,KappaEta):\n",
    "    n=len(Phi)\n",
    "    num=0; den = 0;\n",
    "    for i0 in range(n):\n",
    "        for i1 in range(i0,n):\n",
    "            num += Phi[i0][i1]*KappaEta[i0][i1]\n",
    "            den += KappaEta[i0][i1]\n",
    "    return num/den"
   ]
  },
  {
   "cell_type": "code",
   "execution_count": 4,
   "metadata": {
    "collapsed": false
   },
   "outputs": [],
   "source": [
    "\n",
    "    "
   ]
  },
  {
   "cell_type": "code",
   "execution_count": 0,
   "metadata": {
    "collapsed": false
   },
   "outputs": [],
   "source": []
  },
  {
   "cell_type": "code",
   "execution_count": 0,
   "metadata": {
    "collapsed": false
   },
   "outputs": [],
   "source": []
  }
 ],
 "metadata": {
  "interpreter": {
   "hash": "31f2aee4e71d21fbe5cf8b01ff0e069b9275f58929596ceb00d14d90e3e16cd6"
  },
  "kernelspec": {
   "argv": [
    "sage-10.0",
    "--python",
    "-m",
    "sage.repl.ipython_kernel",
    "--matplotlib=inline",
    "-f",
    "{connection_file}"
   ],
   "display_name": "SageMath 10.0",
   "env": {},
   "language": "sagemath",
   "metadata": {
    "cocalc": {
     "description": "Open-source mathematical software system",
     "priority": 10,
     "url": "https://www.sagemath.org/"
    }
   },
   "name": "sage-10.0",
   "resource_dir": "/ext/jupyter/kernels/sage-10.0"
  },
  "language_info": {
   "codemirror_mode": {
    "name": "ipython",
    "version": 3
   },
   "file_extension": ".py",
   "mimetype": "text/x-python",
   "name": "python",
   "nbconvert_exporter": "python",
   "pygments_lexer": "ipython3",
   "version": "3.11.1"
  }
 },
 "nbformat": 4,
 "nbformat_minor": 4
}