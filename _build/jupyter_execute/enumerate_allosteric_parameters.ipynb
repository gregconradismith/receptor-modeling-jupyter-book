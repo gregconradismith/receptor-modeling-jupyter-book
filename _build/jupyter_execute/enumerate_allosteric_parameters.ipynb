{
 "cells": [
  {
   "cell_type": "markdown",
   "metadata": {
    "collapsed": false
   },
   "source": [
    "# Enumerating allosteric parameters"
   ]
  },
  {
   "cell_type": "markdown",
   "metadata": {
    "collapsed": false
   },
   "source": [
    "The notebook titled  `receptor_tools.ipynb` includes the function `enumerate_allosteric_parameters(G)` which takes a graph G and returns the {math}`\\kappa` and {math}`\\eta` values for a dimer model with the topology of the reduced graph power {math}`G^{(2)}`.  The default method uses {math}`e_1, e_2, \\ldots , e_v` while `method='alpha'` gives single digit edge labels \\({math}`b,c,\\ldots`\\)."
   ]
  },
  {
   "cell_type": "code",
   "execution_count": 1,
   "metadata": {
    "collapsed": false
   },
   "outputs": [],
   "source": [
    "%%capture\n",
    "%run receptor_tools.ipynb"
   ]
  },
  {
   "cell_type": "markdown",
   "metadata": {
    "collapsed": false
   },
   "source": [
    "Below we will consider a receptor model with the topology of the house graph.   To begin, we construct the graph `G` with integer vertices.  This graph is the input argument for  `enumerate_allosteric_parameters(G)`, which returns the 4-tuple `(H, T, KappaEta, A)`.  The following code blocks describe each element of this tuple of outputs. "
   ]
  },
  {
   "cell_type": "code",
   "execution_count": 2,
   "metadata": {
    "collapsed": false
   },
   "outputs": [
    {
     "data": {
      "image/png": "[encoded data removed]",
      "text/plain": [
       "Graphics object consisting of 13 graphics primitives"
      ]
     },
     "metadata": {},
     "output_type": "display_data"
    }
   ],
   "source": [
    "G=graphs.HouseGraph()\n",
    "G.show(figsize=4,graph_border=True)"
   ]
  },
  {
   "cell_type": "markdown",
   "metadata": {
    "collapsed": false
   },
   "source": []
  },
  {
   "cell_type": "code",
   "execution_count": 3,
   "metadata": {
    "collapsed": false
   },
   "outputs": [],
   "source": [
    "(H, T, KappaEta, A) = enumerate_allosteric_parameters(G,method='alpha')"
   ]
  },
  {
   "cell_type": "markdown",
   "metadata": {
    "collapsed": false
   },
   "source": [
    "The `method = alpha`  in  `enumerate_allosteric_parameters(G)` evokes the construction of the corresponding graph with monomial vertices.  The resulting graph is returned as first element of a 4-tuple output, which in this case is `H`."
   ]
  },
  {
   "cell_type": "code",
   "execution_count": 4,
   "metadata": {
    "collapsed": false
   },
   "outputs": [
    {
     "data": {
      "image/png": "[encoded data removed]",
      "text/plain": [
       "Graphics object consisting of 13 graphics primitives"
      ]
     },
     "metadata": {},
     "output_type": "display_data"
    }
   ],
   "source": [
    "H.show(figsize=4,graph_border=True)"
   ]
  },
  {
   "cell_type": "markdown",
   "metadata": {
    "collapsed": false
   },
   "source": [
    "The 2nd element of the 4-tuple output is a spanning tree `T` of `G` constructed by  `enumerate_allosteric_parameters()` so that the vertex labels are consistent with a breadth first traversal. "
   ]
  },
  {
   "cell_type": "code",
   "execution_count": 5,
   "metadata": {
    "collapsed": false
   },
   "outputs": [
    {
     "data": {
      "image/png": "[encoded data removed]",
      "text/plain": [
       "Graphics object consisting of 11 graphics primitives"
      ]
     },
     "metadata": {},
     "output_type": "display_data"
    }
   ],
   "source": [
    "T.show(figsize=4,graph_border=True)"
   ]
  },
  {
   "cell_type": "markdown",
   "metadata": {
    "collapsed": false
   },
   "source": [
    "The 3rd element of the output, `KappaEta`, is a list of lists of the relative probability of each state. "
   ]
  },
  {
   "cell_type": "code",
   "execution_count": 6,
   "metadata": {
    "collapsed": false
   },
   "outputs": [
    {
     "data": {
      "text/plain": [
       "[[1, 2*kappa_b, 2*kappa_c, 2*kappa_c*kappa_d, 2*kappa_c*kappa_d*kappa_e],\n",
       " [0,\n",
       "  kappa_b^2*eta_bb,\n",
       "  2*kappa_b*kappa_c*eta_bc,\n",
       "  2*kappa_b*kappa_c*kappa_d*eta_bc*eta_bd,\n",
       "  2*kappa_b*kappa_c*kappa_d*kappa_e*eta_bc*eta_bd*eta_be],\n",
       " [0,\n",
       "  0,\n",
       "  kappa_c^2*eta_cc,\n",
       "  2*kappa_c^2*kappa_d*eta_cc*eta_cd,\n",
       "  2*kappa_c^2*kappa_d*kappa_e*eta_cc*eta_cd*eta_ce],\n",
       " [0,\n",
       "  0,\n",
       "  0,\n",
       "  kappa_c^2*kappa_d^2*eta_cc*eta_cd^2*eta_dd,\n",
       "  2*kappa_c^2*kappa_d^2*kappa_e*eta_cc*eta_cd^2*eta_dd*eta_ce*eta_de],\n",
       " [0,\n",
       "  0,\n",
       "  0,\n",
       "  0,\n",
       "  kappa_c^2*kappa_d^2*kappa_e^2*eta_cc*eta_cd^2*eta_dd*eta_ce^2*eta_de^2*eta_ee]]"
      ]
     },
     "execution_count": 6,
     "metadata": {},
     "output_type": "execute_result"
    }
   ],
   "source": [
    "KappaEta"
   ]
  },
  {
   "cell_type": "markdown",
   "metadata": {
    "collapsed": false
   },
   "source": [
    "The command `show(table(KappaEta))`  displays these symbolic expressions as a table with LaTeX formated entries. "
   ]
  },
  {
   "cell_type": "code",
   "execution_count": 7,
   "metadata": {
    "collapsed": false
   },
   "outputs": [
    {
     "data": {
      "text/html": [
       "<div class=\"notruncate\">\n",
       "<table  class=\"table_form\">\n",
       "<tbody>\n",
       "<tr class =\"row-a\">\n",
       "<td style=\"text-align:left\">\\(1\\)</td>\n",
       "<td style=\"text-align:left\">\\(2 \\kappa_{\\mathit{b}}\\)</td>\n",
       "<td style=\"text-align:left\">\\(2 \\kappa_{\\mathit{c}}\\)</td>\n",
       "<td style=\"text-align:left\">\\(2 \\kappa_{\\mathit{c}} \\kappa_{\\mathit{d}}\\)</td>\n",
       "<td style=\"text-align:left\">\\(2 \\kappa_{\\mathit{c}} \\kappa_{\\mathit{d}} \\kappa_{\\mathit{e}}\\)</td>\n",
       "</tr>\n",
       "<tr class =\"row-b\">\n",
       "<td style=\"text-align:left\">\\(0\\)</td>\n",
       "<td style=\"text-align:left\">\\(\\kappa_{\\mathit{b}}^{2} \\eta_{\\mathit{bb}}\\)</td>\n",
       "<td style=\"text-align:left\">\\(2 \\kappa_{\\mathit{b}} \\kappa_{\\mathit{c}} \\eta_{\\mathit{bc}}\\)</td>\n",
       "<td style=\"text-align:left\">\\(2 \\kappa_{\\mathit{b}} \\kappa_{\\mathit{c}} \\kappa_{\\mathit{d}} \\eta_{\\mathit{bc}} \\eta_{\\mathit{bd}}\\)</td>\n",
       "<td style=\"text-align:left\">\\(2 \\kappa_{\\mathit{b}} \\kappa_{\\mathit{c}} \\kappa_{\\mathit{d}} \\kappa_{\\mathit{e}} \\eta_{\\mathit{bc}} \\eta_{\\mathit{bd}} \\eta_{\\mathit{be}}\\)</td>\n",
       "</tr>\n",
       "<tr class =\"row-a\">\n",
       "<td style=\"text-align:left\">\\(0\\)</td>\n",
       "<td style=\"text-align:left\">\\(0\\)</td>\n",
       "<td style=\"text-align:left\">\\(\\kappa_{\\mathit{c}}^{2} \\eta_{\\mathit{cc}}\\)</td>\n",
       "<td style=\"text-align:left\">\\(2 \\kappa_{\\mathit{c}}^{2} \\kappa_{\\mathit{d}} \\eta_{\\mathit{cc}} \\eta_{\\mathit{cd}}\\)</td>\n",
       "<td style=\"text-align:left\">\\(2 \\kappa_{\\mathit{c}}^{2} \\kappa_{\\mathit{d}} \\kappa_{\\mathit{e}} \\eta_{\\mathit{cc}} \\eta_{\\mathit{cd}} \\eta_{\\mathit{ce}}\\)</td>\n",
       "</tr>\n",
       "<tr class =\"row-b\">\n",
       "<td style=\"text-align:left\">\\(0\\)</td>\n",
       "<td style=\"text-align:left\">\\(0\\)</td>\n",
       "<td style=\"text-align:left\">\\(0\\)</td>\n",
       "<td style=\"text-align:left\">\\(\\kappa_{\\mathit{c}}^{2} \\kappa_{\\mathit{d}}^{2} \\eta_{\\mathit{cc}} \\eta_{\\mathit{cd}}^{2} \\eta_{\\mathit{dd}}\\)</td>\n",
       "<td style=\"text-align:left\">\\(2 \\kappa_{\\mathit{c}}^{2} \\kappa_{\\mathit{d}}^{2} \\kappa_{\\mathit{e}} \\eta_{\\mathit{cc}} \\eta_{\\mathit{cd}}^{2} \\eta_{\\mathit{dd}} \\eta_{\\mathit{ce}} \\eta_{\\mathit{de}}\\)</td>\n",
       "</tr>\n",
       "<tr class =\"row-a\">\n",
       "<td style=\"text-align:left\">\\(0\\)</td>\n",
       "<td style=\"text-align:left\">\\(0\\)</td>\n",
       "<td style=\"text-align:left\">\\(0\\)</td>\n",
       "<td style=\"text-align:left\">\\(0\\)</td>\n",
       "<td style=\"text-align:left\">\\(\\kappa_{\\mathit{c}}^{2} \\kappa_{\\mathit{d}}^{2} \\kappa_{\\mathit{e}}^{2} \\eta_{\\mathit{cc}} \\eta_{\\mathit{cd}}^{2} \\eta_{\\mathit{dd}} \\eta_{\\mathit{ce}}^{2} \\eta_{\\mathit{de}}^{2} \\eta_{\\mathit{ee}}\\)</td>\n",
       "</tr>\n",
       "</tbody>\n",
       "</table>\n",
       "</div>"
      ],
      "text/plain": [
       "  1   2*kappa_b          2*kappa_c                  2*kappa_c*kappa_d                            2*kappa_c*kappa_d*kappa_e\n",
       "  0   kappa_b^2*eta_bb   2*kappa_b*kappa_c*eta_bc   2*kappa_b*kappa_c*kappa_d*eta_bc*eta_bd      2*kappa_b*kappa_c*kappa_d*kappa_e*eta_bc*eta_bd*eta_be\n",
       "  0   0                  kappa_c^2*eta_cc           2*kappa_c^2*kappa_d*eta_cc*eta_cd            2*kappa_c^2*kappa_d*kappa_e*eta_cc*eta_cd*eta_ce\n",
       "  0   0                  0                          kappa_c^2*kappa_d^2*eta_cc*eta_cd^2*eta_dd   2*kappa_c^2*kappa_d^2*kappa_e*eta_cc*eta_cd^2*eta_dd*eta_ce*eta_de\n",
       "  0   0                  0                          0                                            kappa_c^2*kappa_d^2*kappa_e^2*eta_cc*eta_cd^2*eta_dd*eta_ce^2*eta_de^2*eta_ee"
      ]
     },
     "metadata": {},
     "output_type": "display_data"
    }
   ],
   "source": [
    "show(table(KappaEta))"
   ]
  },
  {
   "cell_type": "markdown",
   "metadata": {
    "collapsed": false
   },
   "source": [
    "The 4th element of the output is the relevant polynomial ring where the indeterminants are the {math}`\\kappa_i` and {math}`\\eta_{ij}` as symbolic variables for {math}`0 \\leq i,j \\leq v-1`."
   ]
  },
  {
   "cell_type": "code",
   "execution_count": 8,
   "metadata": {
    "collapsed": false
   },
   "outputs": [
    {
     "data": {
      "text/html": [
       "<html>\\(\\displaystyle \\newcommand{\\Bold}[1]{\\mathbf{#1}}\\Bold{Z}[\\kappa_{\\mathit{b}}, \\kappa_{\\mathit{c}}, \\kappa_{\\mathit{d}}, \\kappa_{\\mathit{e}}, \\eta_{\\mathit{bb}}, \\eta_{\\mathit{bc}}, \\eta_{\\mathit{cc}}, \\eta_{\\mathit{bd}}, \\eta_{\\mathit{cd}}, \\eta_{\\mathit{dd}}, \\eta_{\\mathit{be}}, \\eta_{\\mathit{ce}}, \\eta_{\\mathit{de}}, \\eta_{\\mathit{ee}}]\\)</html>"
      ],
      "text/latex": [
       "$\\displaystyle \\newcommand{\\Bold}[1]{\\mathbf{#1}}\\Bold{Z}[\\kappa_{\\mathit{b}}, \\kappa_{\\mathit{c}}, \\kappa_{\\mathit{d}}, \\kappa_{\\mathit{e}}, \\eta_{\\mathit{bb}}, \\eta_{\\mathit{bc}}, \\eta_{\\mathit{cc}}, \\eta_{\\mathit{bd}}, \\eta_{\\mathit{cd}}, \\eta_{\\mathit{dd}}, \\eta_{\\mathit{be}}, \\eta_{\\mathit{ce}}, \\eta_{\\mathit{de}}, \\eta_{\\mathit{ee}}]$"
      ],
      "text/plain": [
       "Multivariate Polynomial Ring in kappa_b, kappa_c, kappa_d, kappa_e, eta_bb, eta_bc, eta_cc, eta_bd, eta_cd, eta_dd, eta_be, eta_ce, eta_de, eta_ee over Integer Ring"
      ]
     },
     "metadata": {},
     "output_type": "display_data"
    }
   ],
   "source": [
    "show(A)"
   ]
  },
  {
   "cell_type": "markdown",
   "metadata": {
    "collapsed": false
   },
   "source": [
    "##  The cubic ternary complex model\n",
    "\n",
    "The next example is reminicent of the  [cubic ternary complex model](https://www.sciencedirect.com/science/article/abs/pii/S0022519396900144).  Note that `graphs.GridGraph([2,2,2])` has tuples as vertices.  We use `cannonical_label()` to make the vertices `integers`.  This is necessary because `enumerate_allosteric_parameters()` requires a graph `G` with `integer` vertices."
   ]
  },
  {
   "cell_type": "code",
   "execution_count": 9,
   "metadata": {
    "collapsed": false
   },
   "outputs": [
    {
     "data": {
      "image/png": "[encoded data removed]",
      "text/plain": [
       "Graphics object consisting of 22 graphics primitives"
      ]
     },
     "metadata": {},
     "output_type": "display_data"
    }
   ],
   "source": [
    "G=graphs.GridGraph([2,2,2])\n",
    "G.show(figsize=6,graph_border=True,vertex_size=2000)"
   ]
  },
  {
   "cell_type": "code",
   "execution_count": 10,
   "metadata": {
    "collapsed": false
   },
   "outputs": [
    {
     "data": {
      "image/png": "[encoded data removed]",
      "text/plain": [
       "Graphics object consisting of 22 graphics primitives"
      ]
     },
     "metadata": {},
     "output_type": "display_data"
    }
   ],
   "source": [
    "G=G.canonical_label()\n",
    "G.show(figsize=4,graph_border=True)"
   ]
  },
  {
   "cell_type": "markdown",
   "metadata": {
    "collapsed": false
   },
   "source": [
    "Using the cube {math}`Q_3` as the topology of a receptor monomer,  `enumerate_allosteric_parameters()` enumerates the allosteric parameters for the receptor dimer with topology {math}`Q_3^{(2)}`. The argument `show=True` in `enumerate_allosteric_parameters()` causes the display of `H`, `T`and `KappaEta`.   "
   ]
  },
  {
   "cell_type": "code",
   "execution_count": 11,
   "metadata": {
    "collapsed": false
   },
   "outputs": [
    {
     "data": {
      "image/png": "[encoded data removed]",
      "text/plain": [
       "Graphics object consisting of 22 graphics primitives"
      ]
     },
     "metadata": {},
     "output_type": "display_data"
    },
    {
     "data": {
      "image/png": "[encoded data removed]",
      "text/plain": [
       "Graphics object consisting of 24 graphics primitives"
      ]
     },
     "metadata": {},
     "output_type": "display_data"
    },
    {
     "data": {
      "text/html": [
       "<div class=\"notruncate\">\n",
       "<table  class=\"table_form\">\n",
       "<tbody>\n",
       "<tr class =\"row-a\">\n",
       "<td style=\"text-align:left\">\\(1\\)</td>\n",
       "<td style=\"text-align:left\">\\(2 \\kappa_{\\mathit{b}}\\)</td>\n",
       "<td style=\"text-align:left\">\\(2 \\kappa_{\\mathit{c}}\\)</td>\n",
       "<td style=\"text-align:left\">\\(2 \\kappa_{\\mathit{d}}\\)</td>\n",
       "<td style=\"text-align:left\">\\(2 \\kappa_{\\mathit{c}} \\kappa_{\\mathit{e}}\\)</td>\n",
       "<td style=\"text-align:left\">\\(2 \\kappa_{\\mathit{d}} \\kappa_{\\mathit{f}}\\)</td>\n",
       "<td style=\"text-align:left\">\\(2 \\kappa_{\\mathit{d}} \\kappa_{\\mathit{g}}\\)</td>\n",
       "<td style=\"text-align:left\">\\(2 \\kappa_{\\mathit{d}} \\kappa_{\\mathit{g}} \\kappa_{\\mathit{h}}\\)</td>\n",
       "</tr>\n",
       "<tr class =\"row-b\">\n",
       "<td style=\"text-align:left\">\\(0\\)</td>\n",
       "<td style=\"text-align:left\">\\(\\kappa_{\\mathit{b}}^{2} \\eta_{\\mathit{bb}}\\)</td>\n",
       "<td style=\"text-align:left\">\\(2 \\kappa_{\\mathit{b}} \\kappa_{\\mathit{c}} \\eta_{\\mathit{bc}}\\)</td>\n",
       "<td style=\"text-align:left\">\\(2 \\kappa_{\\mathit{b}} \\kappa_{\\mathit{d}} \\eta_{\\mathit{bd}}\\)</td>\n",
       "<td style=\"text-align:left\">\\(2 \\kappa_{\\mathit{b}} \\kappa_{\\mathit{c}} \\kappa_{\\mathit{e}} \\eta_{\\mathit{bc}} \\eta_{\\mathit{be}}\\)</td>\n",
       "<td style=\"text-align:left\">\\(2 \\kappa_{\\mathit{b}} \\kappa_{\\mathit{d}} \\kappa_{\\mathit{f}} \\eta_{\\mathit{bd}} \\eta_{\\mathit{bf}}\\)</td>\n",
       "<td style=\"text-align:left\">\\(2 \\kappa_{\\mathit{b}} \\kappa_{\\mathit{d}} \\kappa_{\\mathit{g}} \\eta_{\\mathit{bd}} \\eta_{\\mathit{bg}}\\)</td>\n",
       "<td style=\"text-align:left\">\\(2 \\kappa_{\\mathit{b}} \\kappa_{\\mathit{d}} \\kappa_{\\mathit{g}} \\kappa_{\\mathit{h}} \\eta_{\\mathit{bd}} \\eta_{\\mathit{bg}} \\eta_{\\mathit{bh}}\\)</td>\n",
       "</tr>\n",
       "<tr class =\"row-a\">\n",
       "<td style=\"text-align:left\">\\(0\\)</td>\n",
       "<td style=\"text-align:left\">\\(0\\)</td>\n",
       "<td style=\"text-align:left\">\\(\\kappa_{\\mathit{c}}^{2} \\eta_{\\mathit{cc}}\\)</td>\n",
       "<td style=\"text-align:left\">\\(2 \\kappa_{\\mathit{c}} \\kappa_{\\mathit{d}} \\eta_{\\mathit{cd}}\\)</td>\n",
       "<td style=\"text-align:left\">\\(2 \\kappa_{\\mathit{c}}^{2} \\kappa_{\\mathit{e}} \\eta_{\\mathit{cc}} \\eta_{\\mathit{ce}}\\)</td>\n",
       "<td style=\"text-align:left\">\\(2 \\kappa_{\\mathit{c}} \\kappa_{\\mathit{d}} \\kappa_{\\mathit{f}} \\eta_{\\mathit{cd}} \\eta_{\\mathit{cf}}\\)</td>\n",
       "<td style=\"text-align:left\">\\(2 \\kappa_{\\mathit{c}} \\kappa_{\\mathit{d}} \\kappa_{\\mathit{g}} \\eta_{\\mathit{cd}} \\eta_{\\mathit{cg}}\\)</td>\n",
       "<td style=\"text-align:left\">\\(2 \\kappa_{\\mathit{c}} \\kappa_{\\mathit{d}} \\kappa_{\\mathit{g}} \\kappa_{\\mathit{h}} \\eta_{\\mathit{cd}} \\eta_{\\mathit{cg}} \\eta_{\\mathit{ch}}\\)</td>\n",
       "</tr>\n",
       "<tr class =\"row-b\">\n",
       "<td style=\"text-align:left\">\\(0\\)</td>\n",
       "<td style=\"text-align:left\">\\(0\\)</td>\n",
       "<td style=\"text-align:left\">\\(0\\)</td>\n",
       "<td style=\"text-align:left\">\\(\\kappa_{\\mathit{d}}^{2} \\eta_{\\mathit{dd}}\\)</td>\n",
       "<td style=\"text-align:left\">\\(2 \\kappa_{\\mathit{c}} \\kappa_{\\mathit{d}} \\kappa_{\\mathit{e}} \\eta_{\\mathit{cd}} \\eta_{\\mathit{de}}\\)</td>\n",
       "<td style=\"text-align:left\">\\(2 \\kappa_{\\mathit{d}}^{2} \\kappa_{\\mathit{f}} \\eta_{\\mathit{dd}} \\eta_{\\mathit{df}}\\)</td>\n",
       "<td style=\"text-align:left\">\\(2 \\kappa_{\\mathit{d}}^{2} \\kappa_{\\mathit{g}} \\eta_{\\mathit{dd}} \\eta_{\\mathit{dg}}\\)</td>\n",
       "<td style=\"text-align:left\">\\(2 \\kappa_{\\mathit{d}}^{2} \\kappa_{\\mathit{g}} \\kappa_{\\mathit{h}} \\eta_{\\mathit{dd}} \\eta_{\\mathit{dg}} \\eta_{\\mathit{dh}}\\)</td>\n",
       "</tr>\n",
       "<tr class =\"row-a\">\n",
       "<td style=\"text-align:left\">\\(0\\)</td>\n",
       "<td style=\"text-align:left\">\\(0\\)</td>\n",
       "<td style=\"text-align:left\">\\(0\\)</td>\n",
       "<td style=\"text-align:left\">\\(0\\)</td>\n",
       "<td style=\"text-align:left\">\\(\\kappa_{\\mathit{c}}^{2} \\kappa_{\\mathit{e}}^{2} \\eta_{\\mathit{cc}} \\eta_{\\mathit{ce}}^{2} \\eta_{\\mathit{ee}}\\)</td>\n",
       "<td style=\"text-align:left\">\\(2 \\kappa_{\\mathit{c}} \\kappa_{\\mathit{d}} \\kappa_{\\mathit{e}} \\kappa_{\\mathit{f}} \\eta_{\\mathit{cd}} \\eta_{\\mathit{de}} \\eta_{\\mathit{cf}} \\eta_{\\mathit{ef}}\\)</td>\n",
       "<td style=\"text-align:left\">\\(2 \\kappa_{\\mathit{c}} \\kappa_{\\mathit{d}} \\kappa_{\\mathit{e}} \\kappa_{\\mathit{g}} \\eta_{\\mathit{cd}} \\eta_{\\mathit{de}} \\eta_{\\mathit{cg}} \\eta_{\\mathit{eg}}\\)</td>\n",
       "<td style=\"text-align:left\">\\(2 \\kappa_{\\mathit{c}} \\kappa_{\\mathit{d}} \\kappa_{\\mathit{e}} \\kappa_{\\mathit{g}} \\kappa_{\\mathit{h}} \\eta_{\\mathit{cd}} \\eta_{\\mathit{de}} \\eta_{\\mathit{cg}} \\eta_{\\mathit{eg}} \\eta_{\\mathit{ch}} \\eta_{\\mathit{eh}}\\)</td>\n",
       "</tr>\n",
       "<tr class =\"row-b\">\n",
       "<td style=\"text-align:left\">\\(0\\)</td>\n",
       "<td style=\"text-align:left\">\\(0\\)</td>\n",
       "<td style=\"text-align:left\">\\(0\\)</td>\n",
       "<td style=\"text-align:left\">\\(0\\)</td>\n",
       "<td style=\"text-align:left\">\\(0\\)</td>\n",
       "<td style=\"text-align:left\">\\(\\kappa_{\\mathit{d}}^{2} \\kappa_{\\mathit{f}}^{2} \\eta_{\\mathit{dd}} \\eta_{\\mathit{df}}^{2} \\eta_{\\mathit{ff}}\\)</td>\n",
       "<td style=\"text-align:left\">\\(2 \\kappa_{\\mathit{d}}^{2} \\kappa_{\\mathit{f}} \\kappa_{\\mathit{g}} \\eta_{\\mathit{dd}} \\eta_{\\mathit{df}} \\eta_{\\mathit{dg}} \\eta_{\\mathit{fg}}\\)</td>\n",
       "<td style=\"text-align:left\">\\(2 \\kappa_{\\mathit{d}}^{2} \\kappa_{\\mathit{f}} \\kappa_{\\mathit{g}} \\kappa_{\\mathit{h}} \\eta_{\\mathit{dd}} \\eta_{\\mathit{df}} \\eta_{\\mathit{dg}} \\eta_{\\mathit{fg}} \\eta_{\\mathit{dh}} \\eta_{\\mathit{fh}}\\)</td>\n",
       "</tr>\n",
       "<tr class =\"row-a\">\n",
       "<td style=\"text-align:left\">\\(0\\)</td>\n",
       "<td style=\"text-align:left\">\\(0\\)</td>\n",
       "<td style=\"text-align:left\">\\(0\\)</td>\n",
       "<td style=\"text-align:left\">\\(0\\)</td>\n",
       "<td style=\"text-align:left\">\\(0\\)</td>\n",
       "<td style=\"text-align:left\">\\(0\\)</td>\n",
       "<td style=\"text-align:left\">\\(\\kappa_{\\mathit{d}}^{2} \\kappa_{\\mathit{g}}^{2} \\eta_{\\mathit{dd}} \\eta_{\\mathit{dg}}^{2} \\eta_{\\mathit{gg}}\\)</td>\n",
       "<td style=\"text-align:left\">\\(2 \\kappa_{\\mathit{d}}^{2} \\kappa_{\\mathit{g}}^{2} \\kappa_{\\mathit{h}} \\eta_{\\mathit{dd}} \\eta_{\\mathit{dg}}^{2} \\eta_{\\mathit{gg}} \\eta_{\\mathit{dh}} \\eta_{\\mathit{gh}}\\)</td>\n",
       "</tr>\n",
       "<tr class =\"row-b\">\n",
       "<td style=\"text-align:left\">\\(0\\)</td>\n",
       "<td style=\"text-align:left\">\\(0\\)</td>\n",
       "<td style=\"text-align:left\">\\(0\\)</td>\n",
       "<td style=\"text-align:left\">\\(0\\)</td>\n",
       "<td style=\"text-align:left\">\\(0\\)</td>\n",
       "<td style=\"text-align:left\">\\(0\\)</td>\n",
       "<td style=\"text-align:left\">\\(0\\)</td>\n",
       "<td style=\"text-align:left\">\\(\\kappa_{\\mathit{d}}^{2} \\kappa_{\\mathit{g}}^{2} \\kappa_{\\mathit{h}}^{2} \\eta_{\\mathit{dd}} \\eta_{\\mathit{dg}}^{2} \\eta_{\\mathit{gg}} \\eta_{\\mathit{dh}}^{2} \\eta_{\\mathit{gh}}^{2} \\eta_{\\mathit{hh}}\\)</td>\n",
       "</tr>\n",
       "</tbody>\n",
       "</table>\n",
       "</div>"
      ],
      "text/plain": [
       "  1   2*kappa_b          2*kappa_c                  2*kappa_d                  2*kappa_c*kappa_e                            2*kappa_d*kappa_f                                               2*kappa_d*kappa_g                                               2*kappa_d*kappa_g*kappa_h\n",
       "  0   kappa_b^2*eta_bb   2*kappa_b*kappa_c*eta_bc   2*kappa_b*kappa_d*eta_bd   2*kappa_b*kappa_c*kappa_e*eta_bc*eta_be      2*kappa_b*kappa_d*kappa_f*eta_bd*eta_bf                         2*kappa_b*kappa_d*kappa_g*eta_bd*eta_bg                         2*kappa_b*kappa_d*kappa_g*kappa_h*eta_bd*eta_bg*eta_bh\n",
       "  0   0                  kappa_c^2*eta_cc           2*kappa_c*kappa_d*eta_cd   2*kappa_c^2*kappa_e*eta_cc*eta_ce            2*kappa_c*kappa_d*kappa_f*eta_cd*eta_cf                         2*kappa_c*kappa_d*kappa_g*eta_cd*eta_cg                         2*kappa_c*kappa_d*kappa_g*kappa_h*eta_cd*eta_cg*eta_ch\n",
       "  0   0                  0                          kappa_d^2*eta_dd           2*kappa_c*kappa_d*kappa_e*eta_cd*eta_de      2*kappa_d^2*kappa_f*eta_dd*eta_df                               2*kappa_d^2*kappa_g*eta_dd*eta_dg                               2*kappa_d^2*kappa_g*kappa_h*eta_dd*eta_dg*eta_dh\n",
       "  0   0                  0                          0                          kappa_c^2*kappa_e^2*eta_cc*eta_ce^2*eta_ee   2*kappa_c*kappa_d*kappa_e*kappa_f*eta_cd*eta_de*eta_cf*eta_ef   2*kappa_c*kappa_d*kappa_e*kappa_g*eta_cd*eta_de*eta_cg*eta_eg   2*kappa_c*kappa_d*kappa_e*kappa_g*kappa_h*eta_cd*eta_de*eta_cg*eta_eg*eta_ch*eta_eh\n",
       "  0   0                  0                          0                          0                                            kappa_d^2*kappa_f^2*eta_dd*eta_df^2*eta_ff                      2*kappa_d^2*kappa_f*kappa_g*eta_dd*eta_df*eta_dg*eta_fg         2*kappa_d^2*kappa_f*kappa_g*kappa_h*eta_dd*eta_df*eta_dg*eta_fg*eta_dh*eta_fh\n",
       "  0   0                  0                          0                          0                                            0                                                               kappa_d^2*kappa_g^2*eta_dd*eta_dg^2*eta_gg                      2*kappa_d^2*kappa_g^2*kappa_h*eta_dd*eta_dg^2*eta_gg*eta_dh*eta_gh\n",
       "  0   0                  0                          0                          0                                            0                                                               0                                                               kappa_d^2*kappa_g^2*kappa_h^2*eta_dd*eta_dg^2*eta_gg*eta_dh^2*eta_gh^2*eta_hh"
      ]
     },
     "metadata": {},
     "output_type": "display_data"
    }
   ],
   "source": [
    "(H, T, KappaEta, A) = enumerate_allosteric_parameters(G,method='alpha',show=True)"
   ]
  },
  {
   "cell_type": "markdown",
   "metadata": {
    "collapsed": false
   },
   "source": [
    "## Larger example\n",
    "\n",
    "We conclude with an example of a receptor model with more states.  The topology used for the monomer model is given by the Petersen graph.  Here we use the method `integer`  rather than `alpha`.  Using `show=False` suppresses the output.  One can still work with the ring `A`, show the BFS spanning tree, and list the probability of each state."
   ]
  },
  {
   "cell_type": "code",
   "execution_count": 12,
   "metadata": {
    "collapsed": false
   },
   "outputs": [],
   "source": [
    "(G, T, KappaEta, A) = enumerate_allosteric_parameters(graphs.PetersenGraph(),method='integer',show=False)"
   ]
  },
  {
   "cell_type": "code",
   "execution_count": 13,
   "metadata": {
    "collapsed": false
   },
   "outputs": [
    {
     "name": "stdout",
     "output_type": "stream",
     "text": [
      "Defining kappa_1, kappa_2, kappa_3, kappa_4, kappa_5, kappa_6, kappa_7, kappa_8, kappa_9, eta_11, eta_12, eta_22, eta_13, eta_23, eta_33, eta_14, eta_24, eta_34, eta_44, eta_15, eta_25, eta_35, eta_45, eta_55, eta_16, eta_26, eta_36, eta_46, eta_56, eta_66, eta_17, eta_27, eta_37, eta_47, eta_57, eta_67, eta_77, eta_18, eta_28, eta_38, eta_48, eta_58, eta_68, eta_78, eta_88, eta_19, eta_29, eta_39, eta_49, eta_59, eta_69, eta_79, eta_89, eta_99\n"
     ]
    }
   ],
   "source": [
    "A.inject_variables()"
   ]
  },
  {
   "cell_type": "code",
   "execution_count": 14,
   "metadata": {
    "collapsed": false
   },
   "outputs": [
    {
     "data": {
      "image/png": "[encoded data removed]",
      "text/plain": [
       "Graphics object consisting of 30 graphics primitives"
      ]
     },
     "metadata": {},
     "output_type": "display_data"
    }
   ],
   "source": [
    "T.show(figsize=6,graph_border=True,edge_labels=True)"
   ]
  },
  {
   "cell_type": "markdown",
   "metadata": {
    "collapsed": false
   },
   "source": [
    "The code block below shows how one can list the symbolic expressions for the relative probabilities of each state in the model receptor dimer."
   ]
  },
  {
   "cell_type": "code",
   "execution_count": 15,
   "metadata": {
    "collapsed": false
   },
   "outputs": [
    {
     "data": {
      "text/latex": [
       "$\\displaystyle 0 : 1$"
      ],
      "text/plain": [
       "<IPython.core.display.Math object>"
      ]
     },
     "metadata": {},
     "output_type": "display_data"
    },
    {
     "data": {
      "text/latex": [
       "$\\displaystyle 1 : 2 \\kappa_{\\mathit{1}}$"
      ],
      "text/plain": [
       "<IPython.core.display.Math object>"
      ]
     },
     "metadata": {},
     "output_type": "display_data"
    },
    {
     "data": {
      "text/latex": [
       "$\\displaystyle 2 : 2 \\kappa_{\\mathit{4}}$"
      ],
      "text/plain": [
       "<IPython.core.display.Math object>"
      ]
     },
     "metadata": {},
     "output_type": "display_data"
    },
    {
     "data": {
      "text/latex": [
       "$\\displaystyle 3 : 2 \\kappa_{\\mathit{5}}$"
      ],
      "text/plain": [
       "<IPython.core.display.Math object>"
      ]
     },
     "metadata": {},
     "output_type": "display_data"
    },
    {
     "data": {
      "text/latex": [
       "$\\displaystyle 4 : 2 \\kappa_{\\mathit{1}} \\kappa_{\\mathit{2}}$"
      ],
      "text/plain": [
       "<IPython.core.display.Math object>"
      ]
     },
     "metadata": {},
     "output_type": "display_data"
    },
    {
     "data": {
      "text/latex": [
       "$\\displaystyle 5 : 2 \\kappa_{\\mathit{1}} \\kappa_{\\mathit{6}}$"
      ],
      "text/plain": [
       "<IPython.core.display.Math object>"
      ]
     },
     "metadata": {},
     "output_type": "display_data"
    },
    {
     "data": {
      "text/latex": [
       "$\\displaystyle 6 : 2 \\kappa_{\\mathit{1}} \\kappa_{\\mathit{2}} \\kappa_{\\mathit{3}}$"
      ],
      "text/plain": [
       "<IPython.core.display.Math object>"
      ]
     },
     "metadata": {},
     "output_type": "display_data"
    },
    {
     "data": {
      "text/latex": [
       "$\\displaystyle 7 : 2 \\kappa_{\\mathit{1}} \\kappa_{\\mathit{6}} \\kappa_{\\mathit{9}}$"
      ],
      "text/plain": [
       "<IPython.core.display.Math object>"
      ]
     },
     "metadata": {},
     "output_type": "display_data"
    },
    {
     "data": {
      "text/latex": [
       "$\\displaystyle 8 : 2 \\kappa_{\\mathit{1}} \\kappa_{\\mathit{6}} \\kappa_{\\mathit{7}} \\kappa_{\\mathit{9}}$"
      ],
      "text/plain": [
       "<IPython.core.display.Math object>"
      ]
     },
     "metadata": {},
     "output_type": "display_data"
    },
    {
     "data": {
      "text/latex": [
       "$\\displaystyle 9 : 2 \\kappa_{\\mathit{1}} \\kappa_{\\mathit{2}} \\kappa_{\\mathit{3}} \\kappa_{\\mathit{8}}$"
      ],
      "text/plain": [
       "<IPython.core.display.Math object>"
      ]
     },
     "metadata": {},
     "output_type": "display_data"
    },
    {
     "data": {
      "text/latex": [
       "$\\displaystyle 11 : \\kappa_{\\mathit{1}}^{2} \\eta_{\\mathit{11}}$"
      ],
      "text/plain": [
       "<IPython.core.display.Math object>"
      ]
     },
     "metadata": {},
     "output_type": "display_data"
    },
    {
     "data": {
      "text/latex": [
       "$\\displaystyle 12 : 2 \\kappa_{\\mathit{1}} \\kappa_{\\mathit{4}} \\eta_{\\mathit{14}}$"
      ],
      "text/plain": [
       "<IPython.core.display.Math object>"
      ]
     },
     "metadata": {},
     "output_type": "display_data"
    },
    {
     "data": {
      "text/latex": [
       "$\\displaystyle 13 : 2 \\kappa_{\\mathit{1}} \\kappa_{\\mathit{5}} \\eta_{\\mathit{15}}$"
      ],
      "text/plain": [
       "<IPython.core.display.Math object>"
      ]
     },
     "metadata": {},
     "output_type": "display_data"
    },
    {
     "data": {
      "text/latex": [
       "$\\displaystyle 14 : 2 \\kappa_{\\mathit{1}}^{2} \\kappa_{\\mathit{2}} \\eta_{\\mathit{11}} \\eta_{\\mathit{12}}$"
      ],
      "text/plain": [
       "<IPython.core.display.Math object>"
      ]
     },
     "metadata": {},
     "output_type": "display_data"
    },
    {
     "data": {
      "text/latex": [
       "$\\displaystyle 15 : 2 \\kappa_{\\mathit{1}}^{2} \\kappa_{\\mathit{6}} \\eta_{\\mathit{11}} \\eta_{\\mathit{16}}$"
      ],
      "text/plain": [
       "<IPython.core.display.Math object>"
      ]
     },
     "metadata": {},
     "output_type": "display_data"
    },
    {
     "data": {
      "text/latex": [
       "$\\displaystyle 16 : 2 \\kappa_{\\mathit{1}}^{2} \\kappa_{\\mathit{2}} \\kappa_{\\mathit{3}} \\eta_{\\mathit{11}} \\eta_{\\mathit{12}} \\eta_{\\mathit{13}}$"
      ],
      "text/plain": [
       "<IPython.core.display.Math object>"
      ]
     },
     "metadata": {},
     "output_type": "display_data"
    },
    {
     "data": {
      "text/latex": [
       "$\\displaystyle 17 : 2 \\kappa_{\\mathit{1}}^{2} \\kappa_{\\mathit{6}} \\kappa_{\\mathit{9}} \\eta_{\\mathit{11}} \\eta_{\\mathit{16}} \\eta_{\\mathit{19}}$"
      ],
      "text/plain": [
       "<IPython.core.display.Math object>"
      ]
     },
     "metadata": {},
     "output_type": "display_data"
    },
    {
     "data": {
      "text/latex": [
       "$\\displaystyle 18 : 2 \\kappa_{\\mathit{1}}^{2} \\kappa_{\\mathit{6}} \\kappa_{\\mathit{7}} \\kappa_{\\mathit{9}} \\eta_{\\mathit{11}} \\eta_{\\mathit{16}} \\eta_{\\mathit{17}} \\eta_{\\mathit{19}}$"
      ],
      "text/plain": [
       "<IPython.core.display.Math object>"
      ]
     },
     "metadata": {},
     "output_type": "display_data"
    },
    {
     "data": {
      "text/latex": [
       "$\\displaystyle 19 : 2 \\kappa_{\\mathit{1}}^{2} \\kappa_{\\mathit{2}} \\kappa_{\\mathit{3}} \\kappa_{\\mathit{8}} \\eta_{\\mathit{11}} \\eta_{\\mathit{12}} \\eta_{\\mathit{13}} \\eta_{\\mathit{18}}$"
      ],
      "text/plain": [
       "<IPython.core.display.Math object>"
      ]
     },
     "metadata": {},
     "output_type": "display_data"
    },
    {
     "data": {
      "text/latex": [
       "$\\displaystyle 22 : \\kappa_{\\mathit{4}}^{2} \\eta_{\\mathit{44}}$"
      ],
      "text/plain": [
       "<IPython.core.display.Math object>"
      ]
     },
     "metadata": {},
     "output_type": "display_data"
    },
    {
     "data": {
      "text/latex": [
       "$\\displaystyle 23 : 2 \\kappa_{\\mathit{4}} \\kappa_{\\mathit{5}} \\eta_{\\mathit{45}}$"
      ],
      "text/plain": [
       "<IPython.core.display.Math object>"
      ]
     },
     "metadata": {},
     "output_type": "display_data"
    },
    {
     "data": {
      "text/latex": [
       "$\\displaystyle 24 : 2 \\kappa_{\\mathit{1}} \\kappa_{\\mathit{2}} \\kappa_{\\mathit{4}} \\eta_{\\mathit{14}} \\eta_{\\mathit{24}}$"
      ],
      "text/plain": [
       "<IPython.core.display.Math object>"
      ]
     },
     "metadata": {},
     "output_type": "display_data"
    },
    {
     "data": {
      "text/latex": [
       "$\\displaystyle 25 : 2 \\kappa_{\\mathit{1}} \\kappa_{\\mathit{4}} \\kappa_{\\mathit{6}} \\eta_{\\mathit{14}} \\eta_{\\mathit{46}}$"
      ],
      "text/plain": [
       "<IPython.core.display.Math object>"
      ]
     },
     "metadata": {},
     "output_type": "display_data"
    },
    {
     "data": {
      "text/latex": [
       "$\\displaystyle 26 : 2 \\kappa_{\\mathit{1}} \\kappa_{\\mathit{2}} \\kappa_{\\mathit{3}} \\kappa_{\\mathit{4}} \\eta_{\\mathit{14}} \\eta_{\\mathit{24}} \\eta_{\\mathit{34}}$"
      ],
      "text/plain": [
       "<IPython.core.display.Math object>"
      ]
     },
     "metadata": {},
     "output_type": "display_data"
    },
    {
     "data": {
      "text/latex": [
       "$\\displaystyle 27 : 2 \\kappa_{\\mathit{1}} \\kappa_{\\mathit{4}} \\kappa_{\\mathit{6}} \\kappa_{\\mathit{9}} \\eta_{\\mathit{14}} \\eta_{\\mathit{46}} \\eta_{\\mathit{49}}$"
      ],
      "text/plain": [
       "<IPython.core.display.Math object>"
      ]
     },
     "metadata": {},
     "output_type": "display_data"
    },
    {
     "data": {
      "text/latex": [
       "$\\displaystyle 28 : 2 \\kappa_{\\mathit{1}} \\kappa_{\\mathit{4}} \\kappa_{\\mathit{6}} \\kappa_{\\mathit{7}} \\kappa_{\\mathit{9}} \\eta_{\\mathit{14}} \\eta_{\\mathit{46}} \\eta_{\\mathit{47}} \\eta_{\\mathit{49}}$"
      ],
      "text/plain": [
       "<IPython.core.display.Math object>"
      ]
     },
     "metadata": {},
     "output_type": "display_data"
    },
    {
     "data": {
      "text/latex": [
       "$\\displaystyle 29 : 2 \\kappa_{\\mathit{1}} \\kappa_{\\mathit{2}} \\kappa_{\\mathit{3}} \\kappa_{\\mathit{4}} \\kappa_{\\mathit{8}} \\eta_{\\mathit{14}} \\eta_{\\mathit{24}} \\eta_{\\mathit{34}} \\eta_{\\mathit{48}}$"
      ],
      "text/plain": [
       "<IPython.core.display.Math object>"
      ]
     },
     "metadata": {},
     "output_type": "display_data"
    },
    {
     "data": {
      "text/latex": [
       "$\\displaystyle 33 : \\kappa_{\\mathit{5}}^{2} \\eta_{\\mathit{55}}$"
      ],
      "text/plain": [
       "<IPython.core.display.Math object>"
      ]
     },
     "metadata": {},
     "output_type": "display_data"
    },
    {
     "data": {
      "text/latex": [
       "$\\displaystyle 34 : 2 \\kappa_{\\mathit{1}} \\kappa_{\\mathit{2}} \\kappa_{\\mathit{5}} \\eta_{\\mathit{15}} \\eta_{\\mathit{25}}$"
      ],
      "text/plain": [
       "<IPython.core.display.Math object>"
      ]
     },
     "metadata": {},
     "output_type": "display_data"
    },
    {
     "data": {
      "text/latex": [
       "$\\displaystyle 35 : 2 \\kappa_{\\mathit{1}} \\kappa_{\\mathit{5}} \\kappa_{\\mathit{6}} \\eta_{\\mathit{15}} \\eta_{\\mathit{56}}$"
      ],
      "text/plain": [
       "<IPython.core.display.Math object>"
      ]
     },
     "metadata": {},
     "output_type": "display_data"
    },
    {
     "data": {
      "text/latex": [
       "$\\displaystyle 36 : 2 \\kappa_{\\mathit{1}} \\kappa_{\\mathit{2}} \\kappa_{\\mathit{3}} \\kappa_{\\mathit{5}} \\eta_{\\mathit{15}} \\eta_{\\mathit{25}} \\eta_{\\mathit{35}}$"
      ],
      "text/plain": [
       "<IPython.core.display.Math object>"
      ]
     },
     "metadata": {},
     "output_type": "display_data"
    },
    {
     "data": {
      "text/latex": [
       "$\\displaystyle 37 : 2 \\kappa_{\\mathit{1}} \\kappa_{\\mathit{5}} \\kappa_{\\mathit{6}} \\kappa_{\\mathit{9}} \\eta_{\\mathit{15}} \\eta_{\\mathit{56}} \\eta_{\\mathit{59}}$"
      ],
      "text/plain": [
       "<IPython.core.display.Math object>"
      ]
     },
     "metadata": {},
     "output_type": "display_data"
    },
    {
     "data": {
      "text/latex": [
       "$\\displaystyle 38 : 2 \\kappa_{\\mathit{1}} \\kappa_{\\mathit{5}} \\kappa_{\\mathit{6}} \\kappa_{\\mathit{7}} \\kappa_{\\mathit{9}} \\eta_{\\mathit{15}} \\eta_{\\mathit{56}} \\eta_{\\mathit{57}} \\eta_{\\mathit{59}}$"
      ],
      "text/plain": [
       "<IPython.core.display.Math object>"
      ]
     },
     "metadata": {},
     "output_type": "display_data"
    },
    {
     "data": {
      "text/latex": [
       "$\\displaystyle 39 : 2 \\kappa_{\\mathit{1}} \\kappa_{\\mathit{2}} \\kappa_{\\mathit{3}} \\kappa_{\\mathit{5}} \\kappa_{\\mathit{8}} \\eta_{\\mathit{15}} \\eta_{\\mathit{25}} \\eta_{\\mathit{35}} \\eta_{\\mathit{58}}$"
      ],
      "text/plain": [
       "<IPython.core.display.Math object>"
      ]
     },
     "metadata": {},
     "output_type": "display_data"
    },
    {
     "data": {
      "text/latex": [
       "$\\displaystyle 44 : \\kappa_{\\mathit{1}}^{2} \\kappa_{\\mathit{2}}^{2} \\eta_{\\mathit{11}} \\eta_{\\mathit{12}}^{2} \\eta_{\\mathit{22}}$"
      ],
      "text/plain": [
       "<IPython.core.display.Math object>"
      ]
     },
     "metadata": {},
     "output_type": "display_data"
    },
    {
     "data": {
      "text/latex": [
       "$\\displaystyle 45 : 2 \\kappa_{\\mathit{1}}^{2} \\kappa_{\\mathit{2}} \\kappa_{\\mathit{6}} \\eta_{\\mathit{11}} \\eta_{\\mathit{12}} \\eta_{\\mathit{16}} \\eta_{\\mathit{26}}$"
      ],
      "text/plain": [
       "<IPython.core.display.Math object>"
      ]
     },
     "metadata": {},
     "output_type": "display_data"
    },
    {
     "data": {
      "text/latex": [
       "$\\displaystyle 46 : 2 \\kappa_{\\mathit{1}}^{2} \\kappa_{\\mathit{2}}^{2} \\kappa_{\\mathit{3}} \\eta_{\\mathit{11}} \\eta_{\\mathit{12}}^{2} \\eta_{\\mathit{22}} \\eta_{\\mathit{13}} \\eta_{\\mathit{23}}$"
      ],
      "text/plain": [
       "<IPython.core.display.Math object>"
      ]
     },
     "metadata": {},
     "output_type": "display_data"
    },
    {
     "data": {
      "text/latex": [
       "$\\displaystyle 47 : 2 \\kappa_{\\mathit{1}}^{2} \\kappa_{\\mathit{2}} \\kappa_{\\mathit{6}} \\kappa_{\\mathit{9}} \\eta_{\\mathit{11}} \\eta_{\\mathit{12}} \\eta_{\\mathit{16}} \\eta_{\\mathit{26}} \\eta_{\\mathit{19}} \\eta_{\\mathit{29}}$"
      ],
      "text/plain": [
       "<IPython.core.display.Math object>"
      ]
     },
     "metadata": {},
     "output_type": "display_data"
    },
    {
     "data": {
      "text/latex": [
       "$\\displaystyle 48 : 2 \\kappa_{\\mathit{1}}^{2} \\kappa_{\\mathit{2}} \\kappa_{\\mathit{6}} \\kappa_{\\mathit{7}} \\kappa_{\\mathit{9}} \\eta_{\\mathit{11}} \\eta_{\\mathit{12}} \\eta_{\\mathit{16}} \\eta_{\\mathit{26}} \\eta_{\\mathit{17}} \\eta_{\\mathit{27}} \\eta_{\\mathit{19}} \\eta_{\\mathit{29}}$"
      ],
      "text/plain": [
       "<IPython.core.display.Math object>"
      ]
     },
     "metadata": {},
     "output_type": "display_data"
    },
    {
     "data": {
      "text/latex": [
       "$\\displaystyle 49 : 2 \\kappa_{\\mathit{1}}^{2} \\kappa_{\\mathit{2}}^{2} \\kappa_{\\mathit{3}} \\kappa_{\\mathit{8}} \\eta_{\\mathit{11}} \\eta_{\\mathit{12}}^{2} \\eta_{\\mathit{22}} \\eta_{\\mathit{13}} \\eta_{\\mathit{23}} \\eta_{\\mathit{18}} \\eta_{\\mathit{28}}$"
      ],
      "text/plain": [
       "<IPython.core.display.Math object>"
      ]
     },
     "metadata": {},
     "output_type": "display_data"
    },
    {
     "data": {
      "text/latex": [
       "$\\displaystyle 55 : \\kappa_{\\mathit{1}}^{2} \\kappa_{\\mathit{6}}^{2} \\eta_{\\mathit{11}} \\eta_{\\mathit{16}}^{2} \\eta_{\\mathit{66}}$"
      ],
      "text/plain": [
       "<IPython.core.display.Math object>"
      ]
     },
     "metadata": {},
     "output_type": "display_data"
    },
    {
     "data": {
      "text/latex": [
       "$\\displaystyle 56 : 2 \\kappa_{\\mathit{1}}^{2} \\kappa_{\\mathit{2}} \\kappa_{\\mathit{3}} \\kappa_{\\mathit{6}} \\eta_{\\mathit{11}} \\eta_{\\mathit{12}} \\eta_{\\mathit{13}} \\eta_{\\mathit{16}} \\eta_{\\mathit{26}} \\eta_{\\mathit{36}}$"
      ],
      "text/plain": [
       "<IPython.core.display.Math object>"
      ]
     },
     "metadata": {},
     "output_type": "display_data"
    },
    {
     "data": {
      "text/latex": [
       "$\\displaystyle 57 : 2 \\kappa_{\\mathit{1}}^{2} \\kappa_{\\mathit{6}}^{2} \\kappa_{\\mathit{9}} \\eta_{\\mathit{11}} \\eta_{\\mathit{16}}^{2} \\eta_{\\mathit{66}} \\eta_{\\mathit{19}} \\eta_{\\mathit{69}}$"
      ],
      "text/plain": [
       "<IPython.core.display.Math object>"
      ]
     },
     "metadata": {},
     "output_type": "display_data"
    },
    {
     "data": {
      "text/latex": [
       "$\\displaystyle 58 : 2 \\kappa_{\\mathit{1}}^{2} \\kappa_{\\mathit{6}}^{2} \\kappa_{\\mathit{7}} \\kappa_{\\mathit{9}} \\eta_{\\mathit{11}} \\eta_{\\mathit{16}}^{2} \\eta_{\\mathit{66}} \\eta_{\\mathit{17}} \\eta_{\\mathit{67}} \\eta_{\\mathit{19}} \\eta_{\\mathit{69}}$"
      ],
      "text/plain": [
       "<IPython.core.display.Math object>"
      ]
     },
     "metadata": {},
     "output_type": "display_data"
    },
    {
     "data": {
      "text/latex": [
       "$\\displaystyle 59 : 2 \\kappa_{\\mathit{1}}^{2} \\kappa_{\\mathit{2}} \\kappa_{\\mathit{3}} \\kappa_{\\mathit{6}} \\kappa_{\\mathit{8}} \\eta_{\\mathit{11}} \\eta_{\\mathit{12}} \\eta_{\\mathit{13}} \\eta_{\\mathit{16}} \\eta_{\\mathit{26}} \\eta_{\\mathit{36}} \\eta_{\\mathit{18}} \\eta_{\\mathit{68}}$"
      ],
      "text/plain": [
       "<IPython.core.display.Math object>"
      ]
     },
     "metadata": {},
     "output_type": "display_data"
    },
    {
     "data": {
      "text/latex": [
       "$\\displaystyle 66 : \\kappa_{\\mathit{1}}^{2} \\kappa_{\\mathit{2}}^{2} \\kappa_{\\mathit{3}}^{2} \\eta_{\\mathit{11}} \\eta_{\\mathit{12}}^{2} \\eta_{\\mathit{22}} \\eta_{\\mathit{13}}^{2} \\eta_{\\mathit{23}}^{2} \\eta_{\\mathit{33}}$"
      ],
      "text/plain": [
       "<IPython.core.display.Math object>"
      ]
     },
     "metadata": {},
     "output_type": "display_data"
    },
    {
     "data": {
      "text/latex": [
       "$\\displaystyle 67 : 2 \\kappa_{\\mathit{1}}^{2} \\kappa_{\\mathit{2}} \\kappa_{\\mathit{3}} \\kappa_{\\mathit{6}} \\kappa_{\\mathit{9}} \\eta_{\\mathit{11}} \\eta_{\\mathit{12}} \\eta_{\\mathit{13}} \\eta_{\\mathit{16}} \\eta_{\\mathit{26}} \\eta_{\\mathit{36}} \\eta_{\\mathit{19}} \\eta_{\\mathit{29}} \\eta_{\\mathit{39}}$"
      ],
      "text/plain": [
       "<IPython.core.display.Math object>"
      ]
     },
     "metadata": {},
     "output_type": "display_data"
    },
    {
     "data": {
      "text/latex": [
       "$\\displaystyle 68 : 2 \\kappa_{\\mathit{1}}^{2} \\kappa_{\\mathit{2}} \\kappa_{\\mathit{3}} \\kappa_{\\mathit{6}} \\kappa_{\\mathit{7}} \\kappa_{\\mathit{9}} \\eta_{\\mathit{11}} \\eta_{\\mathit{12}} \\eta_{\\mathit{13}} \\eta_{\\mathit{16}} \\eta_{\\mathit{26}} \\eta_{\\mathit{36}} \\eta_{\\mathit{17}} \\eta_{\\mathit{27}} \\eta_{\\mathit{37}} \\eta_{\\mathit{19}} \\eta_{\\mathit{29}} \\eta_{\\mathit{39}}$"
      ],
      "text/plain": [
       "<IPython.core.display.Math object>"
      ]
     },
     "metadata": {},
     "output_type": "display_data"
    },
    {
     "data": {
      "text/latex": [
       "$\\displaystyle 69 : 2 \\kappa_{\\mathit{1}}^{2} \\kappa_{\\mathit{2}}^{2} \\kappa_{\\mathit{3}}^{2} \\kappa_{\\mathit{8}} \\eta_{\\mathit{11}} \\eta_{\\mathit{12}}^{2} \\eta_{\\mathit{22}} \\eta_{\\mathit{13}}^{2} \\eta_{\\mathit{23}}^{2} \\eta_{\\mathit{33}} \\eta_{\\mathit{18}} \\eta_{\\mathit{28}} \\eta_{\\mathit{38}}$"
      ],
      "text/plain": [
       "<IPython.core.display.Math object>"
      ]
     },
     "metadata": {},
     "output_type": "display_data"
    },
    {
     "data": {
      "text/latex": [
       "$\\displaystyle 77 : \\kappa_{\\mathit{1}}^{2} \\kappa_{\\mathit{6}}^{2} \\kappa_{\\mathit{9}}^{2} \\eta_{\\mathit{11}} \\eta_{\\mathit{16}}^{2} \\eta_{\\mathit{66}} \\eta_{\\mathit{19}}^{2} \\eta_{\\mathit{69}}^{2} \\eta_{\\mathit{99}}$"
      ],
      "text/plain": [
       "<IPython.core.display.Math object>"
      ]
     },
     "metadata": {},
     "output_type": "display_data"
    },
    {
     "data": {
      "text/latex": [
       "$\\displaystyle 78 : 2 \\kappa_{\\mathit{1}}^{2} \\kappa_{\\mathit{6}}^{2} \\kappa_{\\mathit{7}} \\kappa_{\\mathit{9}}^{2} \\eta_{\\mathit{11}} \\eta_{\\mathit{16}}^{2} \\eta_{\\mathit{66}} \\eta_{\\mathit{17}} \\eta_{\\mathit{67}} \\eta_{\\mathit{19}}^{2} \\eta_{\\mathit{69}}^{2} \\eta_{\\mathit{79}} \\eta_{\\mathit{99}}$"
      ],
      "text/plain": [
       "<IPython.core.display.Math object>"
      ]
     },
     "metadata": {},
     "output_type": "display_data"
    },
    {
     "data": {
      "text/latex": [
       "$\\displaystyle 79 : 2 \\kappa_{\\mathit{1}}^{2} \\kappa_{\\mathit{2}} \\kappa_{\\mathit{3}} \\kappa_{\\mathit{6}} \\kappa_{\\mathit{8}} \\kappa_{\\mathit{9}} \\eta_{\\mathit{11}} \\eta_{\\mathit{12}} \\eta_{\\mathit{13}} \\eta_{\\mathit{16}} \\eta_{\\mathit{26}} \\eta_{\\mathit{36}} \\eta_{\\mathit{18}} \\eta_{\\mathit{68}} \\eta_{\\mathit{19}} \\eta_{\\mathit{29}} \\eta_{\\mathit{39}} \\eta_{\\mathit{89}}$"
      ],
      "text/plain": [
       "<IPython.core.display.Math object>"
      ]
     },
     "metadata": {},
     "output_type": "display_data"
    },
    {
     "data": {
      "text/latex": [
       "$\\displaystyle 88 : \\kappa_{\\mathit{1}}^{2} \\kappa_{\\mathit{6}}^{2} \\kappa_{\\mathit{7}}^{2} \\kappa_{\\mathit{9}}^{2} \\eta_{\\mathit{11}} \\eta_{\\mathit{16}}^{2} \\eta_{\\mathit{66}} \\eta_{\\mathit{17}}^{2} \\eta_{\\mathit{67}}^{2} \\eta_{\\mathit{77}} \\eta_{\\mathit{19}}^{2} \\eta_{\\mathit{69}}^{2} \\eta_{\\mathit{79}}^{2} \\eta_{\\mathit{99}}$"
      ],
      "text/plain": [
       "<IPython.core.display.Math object>"
      ]
     },
     "metadata": {},
     "output_type": "display_data"
    },
    {
     "data": {
      "text/latex": [
       "$\\displaystyle 89 : 2 \\kappa_{\\mathit{1}}^{2} \\kappa_{\\mathit{2}} \\kappa_{\\mathit{3}} \\kappa_{\\mathit{6}} \\kappa_{\\mathit{7}} \\kappa_{\\mathit{8}} \\kappa_{\\mathit{9}} \\eta_{\\mathit{11}} \\eta_{\\mathit{12}} \\eta_{\\mathit{13}} \\eta_{\\mathit{16}} \\eta_{\\mathit{26}} \\eta_{\\mathit{36}} \\eta_{\\mathit{17}} \\eta_{\\mathit{27}} \\eta_{\\mathit{37}} \\eta_{\\mathit{18}} \\eta_{\\mathit{68}} \\eta_{\\mathit{78}} \\eta_{\\mathit{19}} \\eta_{\\mathit{29}} \\eta_{\\mathit{39}} \\eta_{\\mathit{89}}$"
      ],
      "text/plain": [
       "<IPython.core.display.Math object>"
      ]
     },
     "metadata": {},
     "output_type": "display_data"
    },
    {
     "data": {
      "text/latex": [
       "$\\displaystyle 99 : \\kappa_{\\mathit{1}}^{2} \\kappa_{\\mathit{2}}^{2} \\kappa_{\\mathit{3}}^{2} \\kappa_{\\mathit{8}}^{2} \\eta_{\\mathit{11}} \\eta_{\\mathit{12}}^{2} \\eta_{\\mathit{22}} \\eta_{\\mathit{13}}^{2} \\eta_{\\mathit{23}}^{2} \\eta_{\\mathit{33}} \\eta_{\\mathit{18}}^{2} \\eta_{\\mathit{28}}^{2} \\eta_{\\mathit{38}}^{2} \\eta_{\\mathit{88}}$"
      ],
      "text/plain": [
       "<IPython.core.display.Math object>"
      ]
     },
     "metadata": {},
     "output_type": "display_data"
    }
   ],
   "source": [
    "from IPython.display import display, Math\n",
    "for i,k in enumerate(flatten(KappaEta)):\n",
    "    if k != 0:\n",
    "        display(Math(latex(i)+':'+latex(k)))"
   ]
  },
  {
   "cell_type": "code",
   "execution_count": 0,
   "metadata": {
    "collapsed": false
   },
   "outputs": [],
   "source": []
  }
 ],
 "metadata": {
  "interpreter": {
   "hash": "31f2aee4e71d21fbe5cf8b01ff0e069b9275f58929596ceb00d14d90e3e16cd6"
  },
  "kernelspec": {
   "argv": [
    "sage-10.0",
    "--python",
    "-m",
    "sage.repl.ipython_kernel",
    "--matplotlib=inline",
    "-f",
    "{connection_file}"
   ],
   "display_name": "SageMath 10.0",
   "env": {},
   "language": "sagemath",
   "metadata": {
    "cocalc": {
     "description": "Open-source mathematical software system",
     "priority": 1,
     "url": "https://www.sagemath.org/"
    }
   },
   "name": "sage-10.0",
   "resource_dir": "/ext/jupyter/kernels/sage-10.0"
  },
  "language_info": {
   "codemirror_mode": {
    "name": "ipython",
    "version": 3
   },
   "file_extension": ".py",
   "mimetype": "text/x-python",
   "name": "python",
   "nbconvert_exporter": "python",
   "pygments_lexer": "ipython3",
   "version": "3.11.1"
  }
 },
 "nbformat": 4,
 "nbformat_minor": 4
}