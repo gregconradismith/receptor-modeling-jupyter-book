{
 "cells": [
  {
   "cell_type": "markdown",
   "id": "6894e854",
   "metadata": {},
   "source": [
    "```{math}\n",
    "\\def\\b{\\mathsf{b}}\n",
    "\\def\\c{\\mathsf{c}}\n",
    "\\def\\kappab{\\kappa_{\\b}}\n",
    "\\def\\kappac{\\kappa_{\\c}}\n",
    "\\def\\kappabstar{k_{\\b}}\n",
    "\\def\\kappacstar{k_{\\c}}\n",
    "```\n",
    "\n",
    "% Does this get parsed?\n",
    "% def\\kappabstar{\\hat{\\kappa}_{\\b}}\n",
    "% \\def\\kappacstar{\\hat{\\kappa}_{\\c}}\n",
    "\n",
    "(equilibrium_formalism)=\n",
    "# Equilibrium formalism  \n",
    "\n",
    "To illustrate the equilibrium formalism for receptor models, we will repeat our analysis of sequential binding using a standard notation. We begin with the weighted rooted spanning tree that specifies the equilibrium receptor model."
   ]
  },
  {
   "cell_type": "code",
   "execution_count": null,
   "id": "02efe63a",
   "metadata": {},
   "outputs": [],
   "source": [
    "var('a b c kappa_b kappa_c')\n",
    "T = DiGraph([[a,b,c],[(b,a),(c,b)]])\n",
    "T.set_edge_label(b,a,kappa_b)\n",
    "T.set_edge_label(c,b,kappa_c)\n",
    "T.plot(figsize=6,pos={a:(0,0),b:(2,0),c:(4,0)},edge_labels=True,graph_border=True,vertex_size=1000)"
   ]
  },
  {
   "cell_type": "markdown",
   "id": "0d53c6a2",
   "metadata": {},
   "source": [
    "In the diagram above, {math}`\\kappab` and {math}`\\kappac` are dimensionless equilibrium constants.  \n",
    "\n",
    "The edges of the spanning tree are directed backwards, i.e., the forward reaction is against the direction of the arrow.  For example, the reaction labelled with the equilibrium constant {math}`\\kappab` has {math}`a` as reactant and {math}`b` as product; consequently, increasing {math}`\\kappab` decreases the equilibrium probability (relative fraction) of state {math}`a` and increases the probability of state {math}`b`.\n",
    "\n",
    "The three states are labelled so that the reactant comes before the product in dictionary order ({math}`a` to {math}`b` to {math}`c`).  The subscript of the equilibrium constants {math}`\\kappab` and {math}`\\kappac` are chosen to match the label of the _products_.\n",
    "\n",
    "The dependence on ligand concentration is encorporated by defining {math}`\\kappab = \\kappabstar x` and {math}`\\kappac = \\kappacstar x` where {math}`\\kappabstar` and {math}`\\kappacstar` are association constants with physical dimension of inverse concentration, and {math}`x` is ligand concentration."
   ]
  },
  {
   "cell_type": "code",
   "execution_count": null,
   "id": "68637fa4",
   "metadata": {},
   "outputs": [],
   "source": [
    "var('a b c x kb kc')\n",
    "T = DiGraph([[a,b,c],[(b,a),(c,b)]])\n",
    "T.set_edge_label(b,a,kb*x)\n",
    "T.set_edge_label(c,b,kc*x)\n",
    "T.plot(figsize=6,pos={a:(0,0),b:(4,0),c:(6,0)},edge_labels=True,graph_border=True,vertex_size=1000)"
   ]
  },
  {
   "cell_type": "markdown",
   "id": "4f957f5a",
   "metadata": {},
   "source": [
    "## Probability of each state \n",
    "\n",
    "For the equilibrium receptor model above, the probability of state {math}`i` is given by\n",
    "{math}`\\pi_i = z_i / z_T` where  {math}`z_T= \\textstyle \\sum_i z_i`,\n",
    "{math}`z_a = 1`,\n",
    "{math}`z_b = \\kappab = \\kappabstar x`, and\n",
    "{math}`z_c =\\kappab \\kappac = \\kappabstar \\kappacstar x^2`. That is,\n",
    "\n",
    "\\begin{equation}\n",
    "\\pi_a =  \\frac{1}{1+ \\kappabstar x  +  \\kappabstar \\kappacstar x^2} \\, ,  \\quad \\pi_b =  \\frac{\\kappabstar x}{1+ \\kappabstar x +  \\kappabstar  \\kappacstar x^2}   \\quad \\mbox{and}  \\quad \\pi_c = \\frac{\\kappabstar  \\kappacstar x^2 }{1+ \\kappabstar x +  \\kappabstar \\kappacstar x^2 }  \\, .\n",
    "\\end{equation}\n",
    "\n",
    "It is helpful to  present this set of rational functions using the following compact notation:\n",
    "\\begin{equation}\n",
    " [ \\pi_a  :  \\pi_b :  \\pi_c ] = [1 :\\kappab : \\kappab \\kappac ]  = [1 : \\kappabstar x :\\kappabstar \\kappacstar x^2  ] \\,  .\n",
    "\\end{equation}\n",
    "\n",
    "In expressions of this kind,  it is understood that\n",
    "\\begin{equation}\n",
    "[ z_1 \\! : \\! z_2 : \\! \\cdots \\! : \\! z_n ] = [ \\lambda z_1 \\! : \\! \\lambda  z_2 : \\! \\cdots \\! : \\! \\lambda  z_n ]\n",
    "\\end{equation}\n",
    "for any {math}`\\lambda \\neq 0`.  Furthermore, {math}`\\lambda = 1/\\sum_i x_n` gives the probability distribution {math}`\\pi = (\\pi_1, \\pi_2, \\ldots, \\pi_n)` where {math}`1=\\sum_i \\pi_i`.  Prior to normalization, we will refer to {math}`[ z_1 \\! : \\! z_2 : \\! \\cdots \\! : \\! z_n ]` as _relative probabilites_ for each receptor state.\n",
    "\n",
    "\n",
    "## From spanning tree to relative probabilities\n",
    "\n",
    "By using a spanning tree as the specification for the receptor model, it is straightforward to extract symbolic expressions for the fraction of receptors in each state."
   ]
  },
  {
   "cell_type": "code",
   "execution_count": null,
   "id": "ed01fde7",
   "metadata": {},
   "outputs": [],
   "source": [
    "paths = T.all_simple_paths(starting_vertices=[a,b,c],ending_vertices=[a],trivial=True)\n",
    "print(paths)"
   ]
  },
  {
   "cell_type": "markdown",
   "id": "3a85af95",
   "metadata": {},
   "source": [
    "The list `paths` has length 3. `paths[0]=[a]`.  `paths[1]=[b,a]`.  `paths[2]=[c,b,a]`.  These are vertices encountered in paths beginning at vertex 0 (`a`), 1 (`b`), and 2 (`c`) and (in each case) ending at vertex `a`.\n",
    "\n",
    "The relative probability of each state is obtained as the product of the edge weights in each path, with the trivial path yielding 1 (an empty product)."
   ]
  },
  {
   "cell_type": "code",
   "execution_count": null,
   "id": "3dd5c7b5",
   "metadata": {},
   "outputs": [],
   "source": [
    "z = []\n",
    "for p in paths:\n",
    "    w = 1\n",
    "    for i in range(len(p)-1):\n",
    "       w = w*T.edge_label(p[i],p[i+1])\n",
    "    z.append(w)\n",
    "print(z)"
   ]
  },
  {
   "cell_type": "markdown",
   "id": "25ff1258",
   "metadata": {},
   "source": [
    "The list `z` also has length 3.  `z[0]` is 1.  `z[1]=kb*x`.  `z[2]=kb*kc*x^2`.  These are the relative probabilities `z_a`, `z_b`, and `z_c`.\n",
    "\n",
    "Symbolic expressions for the normalized probabilities are found as follows."
   ]
  },
  {
   "cell_type": "code",
   "execution_count": null,
   "id": "8dee2b18",
   "metadata": {},
   "outputs": [],
   "source": [
    "ztot = sum(z);\n",
    "prob = []\n",
    "for i in range(len(z)):\n",
    "    prob.append(z[i]/ztot)\n",
    "print(prob)"
   ]
  },
  {
   "cell_type": "markdown",
   "id": "e099c26e",
   "metadata": {},
   "source": [
    "## References\n",
    "\n",
    "```{bibliography}\n",
    ":filter: docname in docnames\n",
    "```"
   ]
  }
 ],
 "metadata": {
  "jupytext": {
   "cell_metadata_filter": "-all",
   "formats": "md:myst",
   "text_representation": {
    "extension": ".md",
    "format_name": "myst",
    "format_version": 0.13,
    "jupytext_version": "1.10.3"
   }
  },
  "kernelspec": {
   "display_name": "SageMath 10",
   "language": "sage",
   "name": "sage-10.0"
  },
  "source_map": [
   14,
   34,
   40,
   50,
   56,
   86,
   89,
   94,
   102,
   107,
   113
  ]
 },
 "nbformat": 4,
 "nbformat_minor": 5
}