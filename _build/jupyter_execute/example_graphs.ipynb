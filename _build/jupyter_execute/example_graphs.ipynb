{
 "cells": [
  {
   "cell_type": "markdown",
   "id": "83a24379",
   "metadata": {},
   "source": [
    "# Example graphs\n",
    "\n",
    "(example_graphs:path_graph)=\n",
    "## The path graph {math}`P_n`\n",
    "\n",
    "A `path graph` is a graph whose {math}`n` vertices can be listed in the order {math}`0, 1, \\ldots , n-1` such that the edges are {math}`(i, i+1)` for {math}`i = 0, 1 \\ldots , n-2`.  For example, the undirected graphs {math}`P_3` and {math}`P_6` are shown below."
   ]
  },
  {
   "cell_type": "code",
   "execution_count": null,
   "id": "aec23ad4",
   "metadata": {
    "tags": [
     "hide-input"
    ]
   },
   "outputs": [],
   "source": [
    "for n in [3,6]:\n",
    "  G=graphs.PathGraph(n)\n",
    "  G.show(figsize=4,graph_border=True,title=f'P{n}')"
   ]
  },
  {
   "cell_type": "markdown",
   "id": "c4c1119a",
   "metadata": {},
   "source": [
    "(example_graphs:cycle_graph)=\n",
    "## The cycle graph {math}`C_n`\n",
    "\n",
    "The  `cycle graph` {math}`C_n` is a graph whose $n$ vertices can be listed in the order {math}`0, 1, \\ldots , n` such that the edges are {math}`(i, i+1)` for {math}`i = 0, 1, \\ldots , n-2`, \n",
    "and also {math}`(0,n-1)`.  For example, {math}`C_3`, {math}`C_5`, and {math}`C_{12}` are"
   ]
  },
  {
   "cell_type": "code",
   "execution_count": null,
   "id": "c14eb190",
   "metadata": {
    "tags": [
     "hide-input"
    ]
   },
   "outputs": [],
   "source": [
    "for n in [3,5,12]:\n",
    "    graphs.CycleGraph(n).show(figsize=3,title='C%s:' %(n))"
   ]
  },
  {
   "cell_type": "markdown",
   "id": "d1a7ee71",
   "metadata": {},
   "source": [
    "(example_graphs:complete_graph)=\n",
    "## The complete graph {math}`K_n` \n",
    "\n",
    "The   `complete graph` {math}`K_n` is a graph with {math}`n` vertices and {math}`|E(K_n)|=\\binom{n}{2}` edges.  \n",
    "For example, {math}`K_2`, {math}`K_4`, and {math}`K_7` are"
   ]
  },
  {
   "cell_type": "code",
   "execution_count": null,
   "id": "fef87543",
   "metadata": {
    "tags": [
     "hide-input"
    ]
   },
   "outputs": [],
   "source": [
    "for n in [2,4,7]:\n",
    "    graphs.CompleteGraph(n).show(figsize=3,title='K%s:' %(n))"
   ]
  },
  {
   "cell_type": "markdown",
   "id": "4673cd25",
   "metadata": {},
   "source": [
    "(example_graphs:hypercube_graph)=\n",
    "## The hypercube graph {math}`Q_n`\n",
    "\n",
    "The `hypercube graph`  {math}`Q_n` has {math}`|V(Q_n)|=2^n` vertices and {math}`|E(Q_n)|=2^{n-1}n` edges.  For example, {math}`Q_2` and {math}`Q_5` are"
   ]
  },
  {
   "cell_type": "code",
   "execution_count": null,
   "id": "7e3e7283",
   "metadata": {
    "tags": [
     "hide-input"
    ]
   },
   "outputs": [],
   "source": [
    "for n in [2,5,9]:\n",
    "    if n>3:\n",
    "        graphs.CubeGraph(n).show(figsize=3,vertex_size=20,vertex_labels=false,title='Q%s:' %(n))\n",
    "    else:\n",
    "        graphs.CubeGraph(n).show(figsize=3,title='Q%s:' %(n))"
   ]
  },
  {
   "cell_type": "markdown",
   "id": "b95237d4",
   "metadata": {},
   "source": [
    "Here is a 3D image of {math}`Q_4`:"
   ]
  },
  {
   "cell_type": "code",
   "execution_count": null,
   "id": "519de4a0",
   "metadata": {
    "tags": [
     "hide-input"
    ]
   },
   "outputs": [],
   "source": [
    "n=4\n",
    "graphs.CubeGraph(n).show3d(title='Q%s:' %(n))"
   ]
  },
  {
   "cell_type": "markdown",
   "id": "b785a3b5",
   "metadata": {},
   "source": [
    "Here is a 3D image of {math}`Q_3` and {math}`Q_4`:"
   ]
  },
  {
   "cell_type": "code",
   "execution_count": null,
   "id": "8b3777e1",
   "metadata": {
    "tags": [
     "hide-input"
    ]
   },
   "outputs": [],
   "source": [
    "for n in [3,4]:\n",
    "    graphs.CubeGraph(n).show3d(title='Q%s:' %(n))"
   ]
  }
 ],
 "metadata": {
  "jupytext": {
   "cell_metadata_filter": "-all",
   "formats": "md:myst",
   "text_representation": {
    "extension": ".md",
    "format_name": "myst",
    "format_version": 0.13,
    "jupytext_version": "1.10.3"
   }
  },
  "kernelspec": {
   "display_name": "SageMath 10",
   "language": "sage",
   "name": "sage-10.0"
  },
  "source_map": [
   14,
   23,
   28,
   36,
   41,
   49,
   54,
   61,
   69,
   72,
   77,
   80
  ]
 },
 "nbformat": 4,
 "nbformat_minor": 5
}