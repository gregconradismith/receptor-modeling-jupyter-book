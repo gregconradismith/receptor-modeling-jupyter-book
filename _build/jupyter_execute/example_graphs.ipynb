{
 "cells": [
  {
   "cell_type": "markdown",
   "id": "e4efda24",
   "metadata": {},
   "source": [
    "# Example graphs\n",
    "\n",
    "(example_graphs:path_graph)=\n",
    "## The path graph {math}`P_n`\n",
    "\n",
    "A `path graph` is a graph whose {math}`n` vertices can be listed in the order {math}`0, 1, \\ldots , n-1` such that the edges are {math}`(i, i+1)` for {math}`i = 0, 1 \\ldots , n-2`.  For example, the undirected graphs {math}`P_2` through {math}`P_6` are shown below."
   ]
  },
  {
   "cell_type": "code",
   "execution_count": null,
   "id": "31c45f68",
   "metadata": {},
   "outputs": [],
   "source": [
    "for n in range(2,7):\n",
    "  G=graphs.PathGraph(n)\n",
    "  G.show(figsize=4,graph_border=True,title=f'P{n}')"
   ]
  }
 ],
 "metadata": {
  "jupytext": {
   "cell_metadata_filter": "-all",
   "formats": "md:myst",
   "text_representation": {
    "extension": ".md",
    "format_name": "myst",
    "format_version": 0.13,
    "jupytext_version": "1.10.3"
   }
  },
  "kernelspec": {
   "display_name": "SageMath 10",
   "language": "sage",
   "name": "sage-10.0"
  },
  "source_map": [
   14,
   23
  ]
 },
 "nbformat": 4,
 "nbformat_minor": 5
}