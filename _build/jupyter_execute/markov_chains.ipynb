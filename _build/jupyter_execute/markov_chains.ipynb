{
 "cells": [
  {
   "cell_type": "markdown",
   "id": "7b5e357c",
   "metadata": {},
   "source": [
    "# Markov chain receptor models \n",
    "\n",
    "## Symbolic vertex and edge labels\n",
    "\n",
    "Recall the three-state receptor model [three-state receptor model](receptors:three_state_model) discussed earlier."
   ]
  },
  {
   "cell_type": "code",
   "execution_count": 1,
   "id": "3842d091",
   "metadata": {},
   "outputs": [
    {
     "data": {
      "image/png": "[encoded data removed]",
      "text/plain": [
       "Graphics object consisting of 14 graphics primitives"
      ]
     },
     "metadata": {},
     "output_type": "display_data"
    }
   ],
   "source": [
    "var('p0 p1 p2 a01 a10 a12 a21')\n",
    "G=graphs.PathGraph(3).to_directed()\n",
    "G.relabel({0:p0,1:p1,2:p2})\n",
    "G.set_edge_label(p0,p1,a01)\n",
    "G.set_edge_label(p1,p0,a10)\n",
    "G.set_edge_label(p1,p2,a12)\n",
    "G.set_edge_label(p2,p1,a21)\n",
    "G.show(figsize=4,edge_labels=True,talk=True)"
   ]
  },
  {
   "cell_type": "markdown",
   "id": "0377a0b1",
   "metadata": {},
   "source": [
    "We assign symbolic variables to the vertices and edges of $G$ because this allows us to produce symbolic expressions important quantities using methods available in `Sagemath`'s [module for graphs and digraphs](https://doc.sagemath.org/html/en/reference/graphs/index.html). For example, the weighted adjacency matrix associated with graph $G$ above is"
   ]
  },
  {
   "cell_type": "code",
   "execution_count": 2,
   "id": "05e083af",
   "metadata": {},
   "outputs": [],
   "source": [
    "A = G.weighted_adjacency_matrix()"
   ]
  },
  {
   "cell_type": "markdown",
   "id": "55a67162",
   "metadata": {},
   "source": [
    "The combinatorial Laplacian matrix is $L=D-A$ where $D$ is a diagonal matrix given by the column sum of $A$."
   ]
  },
  {
   "cell_type": "code",
   "execution_count": 3,
   "id": "7def89f1",
   "metadata": {},
   "outputs": [
    {
     "data": {
      "text/html": [
       "<html>\\(\\displaystyle \\left(\\begin{array}{rrr}\n",
       "a_{01} & -a_{01} & 0 \\\\\n",
       "-a_{10} & a_{10} + a_{12} & -a_{12} \\\\\n",
       "0 & -a_{21} & a_{21}\n",
       "\\end{array}\\right)\\)</html>"
      ],
      "text/latex": [
       "$\\displaystyle \\left(\\begin{array}{rrr}\n",
       "a_{01} & -a_{01} & 0 \\\\\n",
       "-a_{10} & a_{10} + a_{12} & -a_{12} \\\\\n",
       "0 & -a_{21} & a_{21}\n",
       "\\end{array}\\right)$"
      ],
      "text/plain": [
       "[      a01      -a01         0]\n",
       "[     -a10 a10 + a12      -a12]\n",
       "[        0      -a21       a21]"
      ]
     },
     "metadata": {},
     "output_type": "display_data"
    }
   ],
   "source": [
    "L = diagonal_matrix(sum(A.T))-A\n",
    "show(L)"
   ]
  },
  {
   "cell_type": "markdown",
   "id": "4fab3cf1",
   "metadata": {},
   "source": [
    "```{note}\n",
    "In the code block above, I prefer to write ```sum(A.T)``` rather than ```sum(A.columns())```, but these are equal.\n",
    "```"
   ]
  },
  {
   "cell_type": "code",
   "execution_count": 4,
   "id": "622e3143",
   "metadata": {},
   "outputs": [
    {
     "data": {
      "text/plain": [
       "True"
      ]
     },
     "execution_count": 4,
     "metadata": {},
     "output_type": "execute_result"
    }
   ],
   "source": [
    "sum(A.T) == sum(A.columns())"
   ]
  },
  {
   "cell_type": "markdown",
   "id": "2c90aec9",
   "metadata": {},
   "source": [
    "## Generator matrix of Markov chain \n",
    "\n",
    "The Markov chain with states and transistions of $G$ has a generator matrix $Q$ that is the opposite (additive inverse) of the Laplacian matrix ($L$). That is, $Q=-L=A-D$. We define a function that calculates the symbolic generator matrix $Q$ from the weighted adjacency matrix $A$."
   ]
  },
  {
   "cell_type": "code",
   "execution_count": 5,
   "id": "0a37f856",
   "metadata": {},
   "outputs": [],
   "source": [
    "def generator(A):\n",
    "    return A-diagonal_matrix(sum(A.T))"
   ]
  },
  {
   "cell_type": "markdown",
   "id": "3b4820d6",
   "metadata": {},
   "source": [
    "Calling the function ```generator()``` gives the result we expect:"
   ]
  },
  {
   "cell_type": "code",
   "execution_count": 6,
   "id": "62ae5d18",
   "metadata": {},
   "outputs": [
    {
     "data": {
      "text/html": [
       "<html>\\(\\displaystyle \\left(\\begin{array}{rrr}\n",
       "-a_{01} & a_{01} & 0 \\\\\n",
       "a_{10} & -a_{10} - a_{12} & a_{12} \\\\\n",
       "0 & a_{21} & -a_{21}\n",
       "\\end{array}\\right)\\)</html>"
      ],
      "text/latex": [
       "$\\displaystyle \\left(\\begin{array}{rrr}\n",
       "-a_{01} & a_{01} & 0 \\\\\n",
       "a_{10} & -a_{10} - a_{12} & a_{12} \\\\\n",
       "0 & a_{21} & -a_{21}\n",
       "\\end{array}\\right)$"
      ],
      "text/plain": [
       "[      -a01        a01          0]\n",
       "[       a10 -a10 - a12        a12]\n",
       "[         0        a21       -a21]"
      ]
     },
     "metadata": {},
     "output_type": "display_data"
    }
   ],
   "source": [
    "Q = generator(A)\n",
    "show(Q)"
   ]
  },
  {
   "cell_type": "markdown",
   "id": "e3fc5f79",
   "metadata": {},
   "source": [
    "Note that the sums of the columns are zero, reflecting the conservation of probability."
   ]
  },
  {
   "cell_type": "code",
   "execution_count": 7,
   "id": "44cfcd3e",
   "metadata": {},
   "outputs": [
    {
     "data": {
      "text/plain": [
       "True"
      ]
     },
     "execution_count": 7,
     "metadata": {},
     "output_type": "execute_result"
    }
   ],
   "source": [
    "sum(Q.columns()) == sum(Q.T)"
   ]
  },
  {
   "cell_type": "markdown",
   "id": "efdb09b9",
   "metadata": {},
   "source": [
    "## Markov chain tree theorem (Hill's diagrammatic method)\n",
    "\n",
    "Using the Markov chain tree theorem \\(CHECK\\), it is straightforward to find symbolic expressions for the steady\\-state probabilities of each state \\(p0,p1,p2\\).  The relative probabilities are:"
   ]
  },
  {
   "cell_type": "code",
   "execution_count": 8,
   "id": "dc22b118",
   "metadata": {},
   "outputs": [
    {
     "name": "stdout",
     "output_type": "stream",
     "text": [
      "[ a10*a21 : a01*a21 : a01*a12]\n"
     ]
    }
   ],
   "source": [
    "z0 = Q[[1,2],[1,2]].determinant().simplify_full()\n",
    "z1 = Q[[0,2],[0,2]].determinant().simplify_full()\n",
    "z2 = Q[[0,1],[0,1]].determinant().simplify_full()\n",
    "print(f'[ {z0} : {z1} : {z2}]')"
   ]
  },
  {
   "cell_type": "markdown",
   "id": "0a94b086",
   "metadata": {},
   "source": [
    "The normalized probabilities are:"
   ]
  },
  {
   "cell_type": "code",
   "execution_count": 9,
   "id": "9b425f44",
   "metadata": {},
   "outputs": [
    {
     "data": {
      "text/html": [
       "<div class=\"notruncate\">\n",
       "<table  class=\"table_form\">\n",
       "<tbody>\n",
       "<tr class =\"row-a\">\n",
       "<td style=\"text-align:left\">p0=a10*a21/(a01*a12 + a01*a21 + a10*a21)</td>\n",
       "</tr>\n",
       "<tr class =\"row-b\">\n",
       "<td style=\"text-align:left\">p1=a01*a21/(a01*a12 + a01*a21 + a10*a21)</td>\n",
       "</tr>\n",
       "<tr class =\"row-a\">\n",
       "<td style=\"text-align:left\">p2=a01*a12/(a01*a12 + a01*a21 + a10*a21)</td>\n",
       "</tr>\n",
       "</tbody>\n",
       "</table>\n",
       "</div>"
      ],
      "text/plain": [
       "  p0=a10*a21/(a01*a12 + a01*a21 + a10*a21)\n",
       "  p1=a01*a21/(a01*a12 + a01*a21 + a10*a21)\n",
       "  p2=a01*a12/(a01*a12 + a01*a21 + a10*a21)"
      ]
     },
     "metadata": {},
     "output_type": "display_data"
    }
   ],
   "source": [
    "zT = z0+z1+z2\n",
    "p0 = z0/zT\n",
    "p1 = z1/zT\n",
    "p2 = z2/zT\n",
    "show(table([[f'{p0=}'],[f'{p1=}'],[f'{p2=}']]))"
   ]
  },
  {
   "cell_type": "markdown",
   "id": "b6c40204",
   "metadata": {},
   "source": [
    "This calculation can be peformed for a Markov chain whose topology is a simple directed graph (connected, no loops) that is also symmetric."
   ]
  },
  {
   "cell_type": "code",
   "execution_count": 10,
   "id": "01d67302",
   "metadata": {},
   "outputs": [
    {
     "name": "stdout",
     "output_type": "stream",
     "text": [
      "[a10*a21, a01*a21, a01*a12]\n"
     ]
    }
   ],
   "source": [
    "def hill_diagramatic_method(Q):\n",
    "    n = Q.nrows()\n",
    "    if Q.ncols() != n:\n",
    "        raise ValueError\n",
    "    z = [0]*n\n",
    "    for i in range(n):\n",
    "        a = [ j for j in range(n) ]\n",
    "        a.remove(i)\n",
    "        z[i] = Q[a,a].determinant().simplify_full()\n",
    "    return z\n",
    "\n",
    "G=graphs.HouseGraph().to_directed()\n",
    "# put values on each edge ... \n",
    "zz = hill_diagramatic_method(Q)\n",
    "print(zz)"
   ]
  },
  {
   "cell_type": "code",
   "execution_count": 11,
   "id": "f041430e",
   "metadata": {},
   "outputs": [],
   "source": [
    "# define this? G.weighted_laplacian_matrix()"
   ]
  }
 ],
 "metadata": {
  "jupytext": {
   "cell_metadata_filter": "-all",
   "formats": "md:myst",
   "text_representation": {
    "extension": ".md",
    "format_name": "myst",
    "format_version": 0.13,
    "jupytext_version": "1.10.3"
   }
  },
  "kernelspec": {
   "display_name": "SageMath 10",
   "language": "sage",
   "name": "sage-10.0"
  },
  "language_info": {
   "codemirror_mode": {
    "name": "ipython",
    "version": 3
   },
   "file_extension": ".py",
   "mimetype": "text/x-python",
   "name": "python",
   "nbconvert_exporter": "python",
   "pygments_lexer": "ipython3",
   "version": "3.11.1"
  },
  "source_map": [
   14,
   21,
   30,
   34,
   36,
   40,
   43,
   49,
   51,
   57,
   60,
   64,
   67,
   71,
   73,
   79,
   84,
   88,
   94,
   98,
   116
  ]
 },
 "nbformat": 4,
 "nbformat_minor": 5
}