{
 "cells": [
  {
   "cell_type": "markdown",
   "id": "90a6beaa",
   "metadata": {},
   "source": [
    "# Markov chain receptor models \n",
    "\n",
    "## Symbolic vertex and edge labels\n",
    "\n",
    "Recall the [three state model](ligands:three_state_model) discussed above ([Ligands](ligands)).  Using generic notation for the [path graph](example_graphs:path_graph) on three vertices,"
   ]
  },
  {
   "cell_type": "code",
   "execution_count": null,
   "id": "54332f80",
   "metadata": {},
   "outputs": [],
   "source": [
    "var('p0 p1 p2 a01 a10 a12 a21')\n",
    "G=graphs.PathGraph(3).to_directed()\n",
    "G.relabel({0:p0,1:p1,2:p2})\n",
    "G.set_edge_label(p0,p1,a01)\n",
    "G.set_edge_label(p1,p0,a10)\n",
    "G.set_edge_label(p1,p2,a12)\n",
    "G.set_edge_label(p2,p1,a21)\n",
    "G.show(figsize=4,edge_labels=True)"
   ]
  },
  {
   "cell_type": "markdown",
   "id": "5fa23477",
   "metadata": {},
   "source": [
    "We assign symbolic variables to the vertices and edges of {math}`G` because this allows us to produce symbolic expressions important quantities using methods available in `Sagemath`'s [module for graphs and digraphs](https://doc.sagemath.org/html/en/reference/graphs/index.html). For example, the weighted adjacency matrix associated with graph $G$ above is"
   ]
  },
  {
   "cell_type": "code",
   "execution_count": null,
   "id": "ee0a2bf3",
   "metadata": {},
   "outputs": [],
   "source": [
    "A = G.weighted_adjacency_matrix()"
   ]
  },
  {
   "cell_type": "markdown",
   "id": "84836d7d",
   "metadata": {},
   "source": [
    "The combinatorial Laplacian matrix is {math}`L=D-A` where {math}`D` is a diagonal matrix given by the column sum of {math}`A`."
   ]
  },
  {
   "cell_type": "code",
   "execution_count": null,
   "id": "871734a3",
   "metadata": {},
   "outputs": [],
   "source": [
    "L = diagonal_matrix(sum(A.T))-A\n",
    "show(L)"
   ]
  },
  {
   "cell_type": "markdown",
   "id": "e2f9ed8f",
   "metadata": {},
   "source": [
    "```{note}\n",
    "In the code block above, I prefer to write ```sum(A.T)``` rather than ```sum(A.columns())```, but these are equal.\n",
    "```"
   ]
  },
  {
   "cell_type": "code",
   "execution_count": null,
   "id": "6ba8280c",
   "metadata": {},
   "outputs": [],
   "source": [
    "sum(A.T) == sum(A.columns())"
   ]
  },
  {
   "cell_type": "markdown",
   "id": "e163e6c4",
   "metadata": {},
   "source": [
    "## Generator matrix of Markov chain \n",
    "\n",
    "The Markov chain with states and transistions of {math}`G` has a generator matrix {math}`Q` that is the opposite (additive inverse) of the Laplacian matrix ({math}`L`). That is, {math}`Q=-L=A-D`. We define a function that calculates the symbolic generator matrix $Q$ from the weighted adjacency matrix {math}`A`."
   ]
  },
  {
   "cell_type": "code",
   "execution_count": null,
   "id": "65c79faf",
   "metadata": {},
   "outputs": [],
   "source": [
    "def generator(A):\n",
    "    return A-diagonal_matrix(sum(A.T))"
   ]
  },
  {
   "cell_type": "markdown",
   "id": "eb1ebde4",
   "metadata": {},
   "source": [
    "Calling the function ```generator()``` gives the result we expect:"
   ]
  },
  {
   "cell_type": "code",
   "execution_count": null,
   "id": "706c5e56",
   "metadata": {},
   "outputs": [],
   "source": [
    "Q = generator(A)\n",
    "show(Q)"
   ]
  },
  {
   "cell_type": "markdown",
   "id": "4c28440c",
   "metadata": {},
   "source": [
    "Note that the sums of the columns are zero, reflecting the conservation of probability."
   ]
  },
  {
   "cell_type": "code",
   "execution_count": null,
   "id": "55e1cd9c",
   "metadata": {},
   "outputs": [],
   "source": [
    "sum(Q.columns()) == sum(Q.T)"
   ]
  },
  {
   "cell_type": "markdown",
   "id": "36475921",
   "metadata": {},
   "source": [
    "(markov_chain_tree_theorem_intro)=\n",
    "## Markov chain tree theorem\n",
    "\n",
    "Using the [Markov chain tree theorem](https://en.wikipedia.org/wiki/Markov_chain_tree_theorem), it is straightforward to find symbolic expressions for the steady-state probabilities of each receptor state (`p0`, `p1`, `p2`). The relative probabilities are given by the sum of the weights of all the spanning trees rooted in vertex `i`. Because this three-state receptor model has no cycles, there is only one directed spanning tree rooted in each vertex (shown below)."
   ]
  },
  {
   "cell_type": "code",
   "execution_count": null,
   "id": "77317cb5",
   "metadata": {
    "tags": [
     "hide-input"
    ]
   },
   "outputs": [],
   "source": [
    "T0 = G.copy()\n",
    "T1 = G.copy()\n",
    "T2 = G.copy()\n",
    "\n",
    "T0.delete_edge(p0,p1)\n",
    "T0.delete_edge(p1,p2)\n",
    "\n",
    "T1.delete_edge(p1,p0)\n",
    "T1.delete_edge(p1,p2)\n",
    "\n",
    "T2.delete_edge(p1,p0)\n",
    "T2.delete_edge(p2,p1)\n",
    "\n",
    "T0.show(figsize=4,edge_labels=True,title='root = p0',graph_border=True)\n",
    "T1.show(figsize=4,edge_labels=True,title='root = p1',graph_border=True)\n",
    "T2.show(figsize=4,edge_labels=True,title='root = p2',graph_border=True)"
   ]
  },
  {
   "cell_type": "markdown",
   "id": "a459e9b6",
   "metadata": {},
   "source": [
    "The relative probability of state `i` is given by the determinant of the Laplacian matrix with row `i` and column `i` removed. \n",
    "In this case, each relative probability is a monomial with two factors."
   ]
  },
  {
   "cell_type": "code",
   "execution_count": null,
   "id": "d487c62a",
   "metadata": {},
   "outputs": [],
   "source": [
    "z0 = Q[[1,2],[1,2]].determinant().simplify_full()\n",
    "z1 = Q[[0,2],[0,2]].determinant().simplify_full()\n",
    "z2 = Q[[0,1],[0,1]].determinant().simplify_full()\n",
    "print(f'[ z0 : z1 : z2 ] = [ {z0} : {z1} : {z2} ]')"
   ]
  },
  {
   "cell_type": "markdown",
   "id": "77a6de34",
   "metadata": {},
   "source": [
    "The normalized probabilities are:"
   ]
  },
  {
   "cell_type": "code",
   "execution_count": null,
   "id": "d97748c8",
   "metadata": {},
   "outputs": [],
   "source": [
    "zT = z0+z1+z2\n",
    "p0 = z0/zT\n",
    "p1 = z1/zT\n",
    "p2 = z2/zT\n",
    "show(table([[f'{p0=}'],[f'{p1=}'],[f'{p2=}']]))"
   ]
  },
  {
   "cell_type": "markdown",
   "id": "6110cff7",
   "metadata": {},
   "source": [
    "This three-state receptor model has no cycles.  For this reason the steady-state probabilities will satisfy detailed balance. This  implies that the steady-state probability distribution can be written in terms of equilibrium constants (as opposed to rate constants).  Define equilibrium constants as {math}`\\kappa_{j}=a_{ij}/a_{ji}` for {math}`i < j` whenever vertex {math}`i` and {math}`j` are adjacent. \n",
    "Dividing the numerator and denominator of each {math}`p_i` by {math}`a_{10}a_{21}` yields\n",
    "\n",
    "\\begin{equation}\n",
    "p_0 = \\frac{1}{1+\\kappa_1+\\kappa_1\\kappa_2} \\quad p_1 = \\frac{\\kappa_1}{1+\\kappa_1+\\kappa_1\\kappa_2} \\quad p_2 = \\frac{\\kappa_1 \\kappa_2}{1+\\kappa_1+\\kappa_1\\kappa_2}\n",
    "\\end{equation}\n",
    "\n",
    "This confirms that the steady-state probabilities of this three-state receptor model can be written in terms of equilibrium constants."
   ]
  }
 ],
 "metadata": {
  "jupytext": {
   "cell_metadata_filter": "-all",
   "formats": "md:myst",
   "text_representation": {
    "extension": ".md",
    "format_name": "myst",
    "format_version": 0.13,
    "jupytext_version": "1.10.3"
   }
  },
  "kernelspec": {
   "display_name": "SageMath 10",
   "language": "sage",
   "name": "sage-10.0"
  },
  "source_map": [
   14,
   21,
   30,
   34,
   36,
   40,
   43,
   49,
   51,
   57,
   60,
   64,
   67,
   71,
   73,
   81,
   99,
   104,
   109,
   113,
   119
  ]
 },
 "nbformat": 4,
 "nbformat_minor": 5
}