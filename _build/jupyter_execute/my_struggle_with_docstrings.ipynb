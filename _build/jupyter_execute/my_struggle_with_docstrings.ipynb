{
 "cells": [
  {
   "cell_type": "markdown",
   "metadata": {
    "collapsed": false
   },
   "source": [
    "# My struggle with docstrings\n"
   ]
  },
  {
   "cell_type": "code",
   "execution_count": 329,
   "metadata": {
    "collapsed": false
   },
   "outputs": [],
   "source": [
    "%run MyTools.ipynb"
   ]
  },
  {
   "cell_type": "code",
   "execution_count": 331,
   "metadata": {
    "collapsed": false
   },
   "outputs": [
    {
     "data": {
      "text/plain": [
       "\u001b[0;31mSignature:\u001b[0m       \u001b[0madd_vertex_monomials\u001b[0m\u001b[0;34m(\u001b[0m\u001b[0mG\u001b[0m\u001b[0;34m=\u001b[0m\u001b[0mGraph\u001b[0m \u001b[0mon\u001b[0m \u001b[0;36m0\u001b[0m \u001b[0mvertices\u001b[0m\u001b[0;34m,\u001b[0m \u001b[0mmethod\u001b[0m\u001b[0;34m=\u001b[0m\u001b[0;34m'integer'\u001b[0m\u001b[0;34m,\u001b[0m \u001b[0mring\u001b[0m\u001b[0;34m=\u001b[0m\u001b[0;32mFalse\u001b[0m\u001b[0;34m)\u001b[0m\u001b[0;34m\u001b[0m\u001b[0;34m\u001b[0m\u001b[0m\n",
       "\u001b[0;31mDocstring:\u001b[0m     \n",
       "   Add monomials to vertices of a graph.\n",
       "\n",
       "   The add_vertex_monomials function takes a graph G, as well as\n",
       "   optional parameters method and ring. The function creates a new\n",
       "   graph H with vertices labeled by monomials. The monomials are\n",
       "   chosen based on the number of vertices in G. If the method\n",
       "   parameter is set to 'alpha' and the number of vertices in G is less\n",
       "   than or equal to 10, the monomials are chosen as alphabetical\n",
       "   letters ('a' to 'k'). Otherwise, the monomials are chosen as\n",
       "   strings of the form 'a0', 'a1', ..., 'an-1', where n is the number\n",
       "   of vertices in G. The function then adds the vertices from G to H\n",
       "   using the monomials as labels, and adds the edges from G to H using\n",
       "   the monomials as endpoints. If the ring parameter is set to True,\n",
       "   the function also creates a polynomial ring V with the chosen\n",
       "   monomials and 'invlex' order, and returns both H and V. Otherwise,\n",
       "   it returns only H.\n",
       "\n",
       "   INPUT:\n",
       "\n",
       "   * \"G\" -- graph object (default: Graph());\n",
       "\n",
       "   * \"method\" -- integer (default: \"integer\");\n",
       "\n",
       "   OUTPUT: The graph with monomials as vertices\n",
       "\n",
       "   EXAMPLES:\n",
       "\n",
       "   This example illustrates ...\n",
       "\n",
       "      sage: A = ModuliSpace()\n",
       "      sage: A.point(2,3)\n",
       "      xxx\n",
       "\u001b[0;31mInit docstring:\u001b[0m Initialize self.  See help(type(self)) for accurate signature.\n",
       "\u001b[0;31mFile:\u001b[0m           /tmp/ipykernel_501/3605400856.py\n",
       "\u001b[0;31mType:\u001b[0m           function\n"
      ]
     },
     "execution_count": 331,
     "metadata": {},
     "output_type": "execute_result",
     "start": 0
    }
   ],
   "source": [
    "? add_vertex_monomials"
   ]
  },
  {
   "cell_type": "code",
   "execution_count": 332,
   "metadata": {
    "collapsed": false
   },
   "outputs": [
    {
     "name": "stdout",
     "output_type": "stream",
     "text": [
      " \u001b[0madd_vertex_monomials\u001b[0m\u001b[0;34m(\u001b[0m\u001b[0mG\u001b[0m\u001b[0;34m=\u001b[0m\u001b[0mGraph\u001b[0m \u001b[0mon\u001b[0m \u001b[0;36m0\u001b[0m \u001b[0mvertices\u001b[0m\u001b[0;34m,\u001b[0m \u001b[0mmethod\u001b[0m\u001b[0;34m=\u001b[0m\u001b[0;34m'integer'\u001b[0m\u001b[0;34m,\u001b[0m \u001b[0mring\u001b[0m\u001b[0;34m=\u001b[0m\u001b[0;32mFalse\u001b[0m\u001b[0;34m)\u001b[0m\u001b[0;34m\u001b[0m\u001b[0;34m\u001b[0m\u001b[0m\n",
      " "
     ]
    }
   ],
   "source": [
    "%pdef add_vertex_monomials"
   ]
  },
  {
   "cell_type": "code",
   "execution_count": 333,
   "metadata": {
    "collapsed": false
   },
   "outputs": [
    {
     "data": {
      "text/plain": [
       "\u001b[0;31mClass docstring:\u001b[0m\n",
       "       Add monomials to vertices of a graph.\n",
       "    \n",
       "       The add_vertex_monomials function takes a graph G, as well as\n",
       "       optional parameters method and ring. The function creates a new\n",
       "       graph H with vertices labeled by monomials. The monomials are\n",
       "       chosen based on the number of vertices in G. If the method\n",
       "       parameter is set to 'alpha' and the number of vertices in G is less\n",
       "       than or equal to 10, the monomials are chosen as alphabetical\n",
       "       letters ('a' to 'k'). Otherwise, the monomials are chosen as\n",
       "       strings of the form 'a0', 'a1', ..., 'an-1', where n is the number\n",
       "       of vertices in G. The function then adds the vertices from G to H\n",
       "       using the monomials as labels, and adds the edges from G to H using\n",
       "       the monomials as endpoints. If the ring parameter is set to True,\n",
       "       the function also creates a polynomial ring V with the chosen\n",
       "       monomials and 'invlex' order, and returns both H and V. Otherwise,\n",
       "       it returns only H.\n",
       "    \n",
       "       INPUT:\n",
       "    \n",
       "       * \"G\" -- graph object (default: Graph());\n",
       "    \n",
       "       * \"method\" -- integer (default: \"integer\");\n",
       "    \n",
       "       OUTPUT: The graph with monomials as vertices\n",
       "    \n",
       "       EXAMPLES:\n",
       "    \n",
       "       This example illustrates ...\n",
       "    \n",
       "          sage: A = ModuliSpace()\n",
       "          sage: A.point(2,3)\n",
       "          xxx\n",
       "\n",
       "\u001b[0;31mCall docstring:\u001b[0m\n",
       "    Call self as a function.\n"
      ]
     },
     "execution_count": 333,
     "metadata": {},
     "output_type": "execute_result",
     "start": 0
    }
   ],
   "source": [
    "%pdoc add_vertex_monomials"
   ]
  },
  {
   "cell_type": "code",
   "execution_count": 334,
   "metadata": {
    "collapsed": false
   },
   "outputs": [
    {
     "name": "stdout",
     "output_type": "stream",
     "text": [
      "Help on function add_vertex_monomials in module __main__:\n",
      "\n",
      "add_vertex_monomials(G=Graph on 0 vertices, method='integer', ring=False)\n",
      "    Add monomials to vertices of a graph. \n",
      "    \n",
      "    The add_vertex_monomials function takes a graph G, as well as optional parameters method and ring. The function creates a new graph H with vertices labeled by monomials. The monomials are chosen based on the number of vertices in G. If the method parameter is set to 'alpha' and the number of vertices in G is less than or equal to 10, the monomials are chosen as alphabetical letters ('a' to 'k'). Otherwise, the monomials are chosen as strings of the form 'a0', 'a1', ..., 'an-1', where n is the number of vertices in G. The function then adds the vertices from G to H using the monomials as labels, and adds the edges from G to H using the monomials as endpoints. If the ring parameter is set to True, the function also creates a polynomial ring V with the chosen monomials and 'invlex' order, and returns both H and V. Otherwise, it returns only H.\n",
      "    \n",
      "    INPUT:\n",
      "    \n",
      "    - ``G`` -- graph object (default: `Graph()`);\n",
      "    \n",
      "    - ``method`` -- integer (default: ``integer``);\n",
      "    \n",
      "    OUTPUT: The graph with monomials as vertices\n",
      "    \n",
      "    EXAMPLES:\n",
      "    \n",
      "    This example illustrates ... ::\n",
      "    \n",
      "        sage: A = ModuliSpace()\n",
      "        sage: A.point(2,3)\n",
      "        xxx\n",
      "\n"
     ]
    }
   ],
   "source": [
    "help(add_vertex_monomials)"
   ]
  }
 ],
 "metadata": {
  "interpreter": {
   "hash": "31f2aee4e71d21fbe5cf8b01ff0e069b9275f58929596ceb00d14d90e3e16cd6"
  },
  "kernelspec": {
   "argv": [
    "sage-10.0",
    "--python",
    "-m",
    "sage.repl.ipython_kernel",
    "--matplotlib=inline",
    "-f",
    "{connection_file}"
   ],
   "display_name": "SageMath 10.0",
   "env": {},
   "language": "sagemath",
   "metadata": {
    "cocalc": {
     "description": "Open-source mathematical software system",
     "priority": 1,
     "url": "https://www.sagemath.org/"
    }
   },
   "name": "sage-10.0",
   "resource_dir": "/ext/jupyter/kernels/sage-10.0"
  },
  "language_info": {
   "codemirror_mode": {
    "name": "ipython",
    "version": 3
   },
   "file_extension": ".py",
   "mimetype": "text/x-python",
   "name": "python",
   "nbconvert_exporter": "python",
   "pygments_lexer": "ipython3",
   "version": "3.11.1"
  }
 },
 "nbformat": 4,
 "nbformat_minor": 4
}