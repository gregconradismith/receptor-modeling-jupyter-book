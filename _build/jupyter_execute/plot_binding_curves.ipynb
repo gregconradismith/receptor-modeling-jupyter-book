{
 "cells": [
  {
   "cell_type": "markdown",
   "metadata": {
    "collapsed": false
   },
   "source": [
    "# Plot Binding Curves\n",
    "\n"
   ]
  },
  {
   "cell_type": "code",
   "execution_count": 1,
   "metadata": {
    "collapsed": false
   },
   "outputs": [
    {
     "data": {
      "text/markdown": [
       "**`mydoc(myfun, method='both')`**"
      ],
      "text/plain": [
       "<IPython.core.display.Markdown object>"
      ]
     },
     "metadata": {},
     "output_type": "display_data"
    },
    {
     "data": {
      "text/markdown": [
       "Display the **signature** of `myfun` followed by the **docstring** of `myfun`.\n",
       "Set `method ='signature'` or `'method = 'docstring'` or `'method = 'both'`"
      ],
      "text/plain": [
       "<IPython.core.display.Markdown object>"
      ]
     },
     "metadata": {},
     "output_type": "display_data"
    },
    {
     "data": {
      "text/markdown": [
       "**`print_graph(G)`**"
      ],
      "text/plain": [
       "<IPython.core.display.Markdown object>"
      ]
     },
     "metadata": {},
     "output_type": "display_data"
    },
    {
     "data": {
      "text/markdown": [
       "Prints the vertices and edges of the graph `G`.\n",
       "    "
      ],
      "text/plain": [
       "<IPython.core.display.Markdown object>"
      ]
     },
     "metadata": {},
     "output_type": "display_data"
    },
    {
     "data": {
      "text/markdown": [
       "**`generator(A, rowsum=True)`**"
      ],
      "text/plain": [
       "<IPython.core.display.Markdown object>"
      ]
     },
     "metadata": {},
     "output_type": "display_data"
    },
    {
     "data": {
      "text/markdown": [
       "Creates the generator matrix 'Q' from the adjacency matrix 'A'. By default the sum along each row of 'Q' is zero ('rowsum=True').  For the sum along each column of 'Q' to be zero, set 'rowsum=False'.\n",
       "    "
      ],
      "text/plain": [
       "<IPython.core.display.Markdown object>"
      ]
     },
     "metadata": {},
     "output_type": "display_data"
    },
    {
     "data": {
      "text/markdown": [
       "**`hill_diagramatic_method(Q)`**"
      ],
      "text/plain": [
       "<IPython.core.display.Markdown object>"
      ]
     },
     "metadata": {},
     "output_type": "display_data"
    },
    {
     "data": {
      "text/markdown": [
       "Returns the spanning tree polynomials rooted in each vertex."
      ],
      "text/plain": [
       "<IPython.core.display.Markdown object>"
      ]
     },
     "metadata": {},
     "output_type": "display_data"
    },
    {
     "data": {
      "text/markdown": [
       "**`add_vertex_monomials(G=Graph on 0 vertices, method='integer', ring=False)`**"
      ],
      "text/plain": [
       "<IPython.core.display.Markdown object>"
      ]
     },
     "metadata": {},
     "output_type": "display_data"
    },
    {
     "data": {
      "text/markdown": [
       "Add monomials to vertices of a graph. \n",
       "\n",
       "The add_vertex_monomials function takes a graph G, as well as optional parameters method and ring. The function creates a new graph H with vertices labeled by monomials. The monomials are chosen based on the number of vertices in G. If the method parameter is set to 'alpha' and the number of vertices in G is less than or equal to 10, the monomials are chosen as alphabetical letters ('a' to 'k'). Otherwise, the monomials are chosen as strings of the form 'a0', 'a1', ..., 'an-1', where n is the number of vertices in G. The function then adds the vertices from G to H using the monomials as labels, and adds the edges from G to H using the monomials as endpoints. If the ring parameter is set to True, the function also creates a polynomial ring V with the chosen monomials and 'invlex' order, and returns both H and V. Otherwise, it returns only H.\n",
       "\n",
       "INPUT:\n",
       "\n",
       "- ``G`` -- graph object (default: `Graph()`);\n",
       "\n",
       "- ``method`` -- integer (default: ``integer``);\n",
       "\n",
       "OUTPUT: \n",
       "\n",
       "- The graph with monomials as vertices"
      ],
      "text/plain": [
       "<IPython.core.display.Markdown object>"
      ]
     },
     "metadata": {},
     "output_type": "display_data"
    },
    {
     "data": {
      "text/markdown": [
       "**`add_edge_monomials(G0, method='integer', edge_vars=['b', 'c', 'd', 'e', 'f', 'g', 'h', 'i', 'j', 'k', 'l', 'm', 'n', 'o', 'p', 'q', 'r', 's', 't', 'u', 'v', 'w', 'x', 'y', 'z'], ring=False, short_name=False)`**"
      ],
      "text/plain": [
       "<IPython.core.display.Markdown object>"
      ]
     },
     "metadata": {},
     "output_type": "display_data"
    },
    {
     "data": {
      "text/markdown": [
       "Add monomials to edges of a graph.\n",
       "\n",
       "The add_edge_monomials function takes a graph G, as well as optional parameters method, edge_vars, ring, and short_name. If method is set to 'integer', the function creates a polynomial ring using the given edge variables and assigns variables to the edges of the graph. The edge variables can be represented either as 'e' followed by the first vertex label or the first and second vertex labels concatenated. If the vertex labels are integers and the short_name parameter is set to True, the edge variables are created using only the first vertex label. If method is set to 'alpha', the function creates a polynomial ring using the given edge variables and assigns variables to the edges of the graph in reverse order. The number of edge variables used is determined by the size of the graph. The ring parameter, if set to True, injects the polynomial variables into the global namespace and returns the graph and the polynomial ring. Otherwise, it simply returns the graph.\n",
       "\n",
       "INPUT:\n",
       "\n",
       "- ``G`` -- graph object (default: `Graph()`);\n",
       "\n",
       "- ``method`` -- integer (default: ``integer``);\n",
       "\n",
       "OUTPUT: \n",
       "\n",
       "- The graph with monomials as edges"
      ],
      "text/plain": [
       "<IPython.core.display.Markdown object>"
      ]
     },
     "metadata": {},
     "output_type": "display_data"
    },
    {
     "data": {
      "text/markdown": [
       "**`add_edge_monomials_ver2(G, edge_labels='default', prefix='')`**"
      ],
      "text/plain": [
       "<IPython.core.display.Markdown object>"
      ]
     },
     "metadata": {},
     "output_type": "display_data"
    },
    {
     "data": {
      "text/markdown": [
       "Add monomials to edges of a graph. \n",
       "\n",
       "[NEED TO WRITE DESCRIPTION]"
      ],
      "text/plain": [
       "<IPython.core.display.Markdown object>"
      ]
     },
     "metadata": {},
     "output_type": "display_data"
    },
    {
     "data": {
      "text/markdown": [
       "**`enumerate_allosteric_parameters(G=House Graph: Graph on 5 vertices, **kwargs)`**"
      ],
      "text/plain": [
       "<IPython.core.display.Markdown object>"
      ]
     },
     "metadata": {},
     "output_type": "display_data"
    },
    {
     "data": {
      "text/markdown": [
       "Enumerate allosteric parameters of a receptor model.\n",
       "\n",
       "[NEED TO WRITE DESCRIPTION]\n",
       "\n",
       "INPUT:\n",
       "\n",
       "- ``G`` -- graph object (default: `Graph()`);\n",
       "\n",
       "- ``method`` -- integer (default: ``integer``);\n",
       "\n",
       "OUTPUT: \n",
       "\n",
       "- The graph with monomials as vertices"
      ],
      "text/plain": [
       "<IPython.core.display.Markdown object>"
      ]
     },
     "metadata": {},
     "output_type": "display_data"
    },
    {
     "data": {
      "text/markdown": [
       "**`cartesian_power(G, k=2, edge_labels='cannonical')`**"
      ],
      "text/plain": [
       "<IPython.core.display.Markdown object>"
      ]
     },
     "metadata": {},
     "output_type": "display_data"
    },
    {
     "data": {
      "text/markdown": [
       "Construct Cartesian power of a graph.\n",
       "\n",
       "[NEED TO WRITE DESCRIPTION]"
      ],
      "text/plain": [
       "<IPython.core.display.Markdown object>"
      ]
     },
     "metadata": {},
     "output_type": "display_data"
    },
    {
     "data": {
      "text/markdown": [
       "**`reduced_cartesian_power(G, k=2, edge_labels='cannonical', prefix='', independent=False)`**"
      ],
      "text/plain": [
       "<IPython.core.display.Markdown object>"
      ]
     },
     "metadata": {},
     "output_type": "display_data"
    },
    {
     "data": {
      "text/markdown": [
       "Construct reduced Cartesian power of a graph.\n",
       "\n",
       "[NEED TO WRITE DESCRIPTION]"
      ],
      "text/plain": [
       "<IPython.core.display.Markdown object>"
      ]
     },
     "metadata": {},
     "output_type": "display_data"
    },
    {
     "data": {
      "text/markdown": [
       "**`combinatorial_laplacian(G, combinatorial_coefficients=False)`**"
      ],
      "text/plain": [
       "<IPython.core.display.Markdown object>"
      ]
     },
     "metadata": {},
     "output_type": "display_data"
    },
    {
     "data": {
      "text/markdown": [
       "Construct the combinatorial Laplacian of a graph.\n",
       "\n",
       "[NEED TO WRITE DESCRIPTION]"
      ],
      "text/plain": [
       "<IPython.core.display.Markdown object>"
      ]
     },
     "metadata": {},
     "output_type": "display_data"
    },
    {
     "data": {
      "text/markdown": [
       "**`tree_polynomial(G, combinatorial_coefficients=False)`**"
      ],
      "text/plain": [
       "<IPython.core.display.Markdown object>"
      ]
     },
     "metadata": {},
     "output_type": "display_data"
    },
    {
     "data": {
      "text/markdown": [
       "Construct the tree polynomial of a graph.\n",
       "\n",
       "[NEED TO WRITE DESCRIPTION]"
      ],
      "text/plain": [
       "<IPython.core.display.Markdown object>"
      ]
     },
     "metadata": {},
     "output_type": "display_data"
    },
    {
     "data": {
      "image/png": "[encoded data removed]",
      "text/plain": [
       "Graphics object consisting of 8 graphics primitives"
      ]
     },
     "metadata": {},
     "output_type": "display_data"
    },
    {
     "data": {
      "image/png": "[encoded data removed]",
      "text/plain": [
       "Graphics object consisting of 11 graphics primitives"
      ]
     },
     "metadata": {},
     "output_type": "display_data"
    },
    {
     "data": {
      "text/html": [
       "<div class=\"notruncate\">\n",
       "<table  class=\"table_form\">\n",
       "<tbody>\n",
       "<tr class =\"row-a\">\n",
       "<td style=\"text-align:left\">\\(1\\)</td>\n",
       "<td style=\"text-align:left\">\\(2 \\kappa_{\\mathit{b}}\\)</td>\n",
       "<td style=\"text-align:left\">\\(2 \\kappa_{\\mathit{b}} \\kappa_{\\mathit{c}}\\)</td>\n",
       "<td style=\"text-align:left\">\\(2 \\kappa_{\\mathit{b}} \\kappa_{\\mathit{c}} \\kappa_{\\mathit{d}}\\)</td>\n",
       "</tr>\n",
       "<tr class =\"row-b\">\n",
       "<td style=\"text-align:left\">\\(0\\)</td>\n",
       "<td style=\"text-align:left\">\\(\\kappa_{\\mathit{b}}^{2} \\eta_{\\mathit{bb}}\\)</td>\n",
       "<td style=\"text-align:left\">\\(2 \\kappa_{\\mathit{b}}^{2} \\kappa_{\\mathit{c}} \\eta_{\\mathit{bb}} \\eta_{\\mathit{bc}}\\)</td>\n",
       "<td style=\"text-align:left\">\\(2 \\kappa_{\\mathit{b}}^{2} \\kappa_{\\mathit{c}} \\kappa_{\\mathit{d}} \\eta_{\\mathit{bb}} \\eta_{\\mathit{bc}} \\eta_{\\mathit{bd}}\\)</td>\n",
       "</tr>\n",
       "<tr class =\"row-a\">\n",
       "<td style=\"text-align:left\">\\(0\\)</td>\n",
       "<td style=\"text-align:left\">\\(0\\)</td>\n",
       "<td style=\"text-align:left\">\\(\\kappa_{\\mathit{b}}^{2} \\kappa_{\\mathit{c}}^{2} \\eta_{\\mathit{bb}} \\eta_{\\mathit{bc}}^{2} \\eta_{\\mathit{cc}}\\)</td>\n",
       "<td style=\"text-align:left\">\\(2 \\kappa_{\\mathit{b}}^{2} \\kappa_{\\mathit{c}}^{2} \\kappa_{\\mathit{d}} \\eta_{\\mathit{bb}} \\eta_{\\mathit{bc}}^{2} \\eta_{\\mathit{cc}} \\eta_{\\mathit{bd}} \\eta_{\\mathit{cd}}\\)</td>\n",
       "</tr>\n",
       "<tr class =\"row-b\">\n",
       "<td style=\"text-align:left\">\\(0\\)</td>\n",
       "<td style=\"text-align:left\">\\(0\\)</td>\n",
       "<td style=\"text-align:left\">\\(0\\)</td>\n",
       "<td style=\"text-align:left\">\\(\\kappa_{\\mathit{b}}^{2} \\kappa_{\\mathit{c}}^{2} \\kappa_{\\mathit{d}}^{2} \\eta_{\\mathit{bb}} \\eta_{\\mathit{bc}}^{2} \\eta_{\\mathit{cc}} \\eta_{\\mathit{bd}}^{2} \\eta_{\\mathit{cd}}^{2} \\eta_{\\mathit{dd}}\\)</td>\n",
       "</tr>\n",
       "</tbody>\n",
       "</table>\n",
       "</div>"
      ],
      "text/plain": [
       "  1   2*kappa_b          2*kappa_b*kappa_c                            2*kappa_b*kappa_c*kappa_d\n",
       "  0   kappa_b^2*eta_bb   2*kappa_b^2*kappa_c*eta_bb*eta_bc            2*kappa_b^2*kappa_c*kappa_d*eta_bb*eta_bc*eta_bd\n",
       "  0   0                  kappa_b^2*kappa_c^2*eta_bb*eta_bc^2*eta_cc   2*kappa_b^2*kappa_c^2*kappa_d*eta_bb*eta_bc^2*eta_cc*eta_bd*eta_cd\n",
       "  0   0                  0                                            kappa_b^2*kappa_c^2*kappa_d^2*eta_bb*eta_bc^2*eta_cc*eta_bd^2*eta_cd^2*eta_dd"
      ]
     },
     "metadata": {},
     "output_type": "display_data"
    },
    {
     "data": {
      "text/html": [
       "<html>\\(\\displaystyle \\newcommand{\\Bold}[1]{\\mathbf{#1}}\\Bold{Z}[\\kappa_{\\mathit{b}}, \\kappa_{\\mathit{c}}, \\kappa_{\\mathit{d}}, \\eta_{\\mathit{bb}}, \\eta_{\\mathit{bc}}, \\eta_{\\mathit{cc}}, \\eta_{\\mathit{bd}}, \\eta_{\\mathit{cd}}, \\eta_{\\mathit{dd}}]\\)</html>"
      ],
      "text/latex": [
       "$\\displaystyle \\newcommand{\\Bold}[1]{\\mathbf{#1}}\\Bold{Z}[\\kappa_{\\mathit{b}}, \\kappa_{\\mathit{c}}, \\kappa_{\\mathit{d}}, \\eta_{\\mathit{bb}}, \\eta_{\\mathit{bc}}, \\eta_{\\mathit{cc}}, \\eta_{\\mathit{bd}}, \\eta_{\\mathit{cd}}, \\eta_{\\mathit{dd}}]$"
      ],
      "text/plain": [
       "Multivariate Polynomial Ring in kappa_b, kappa_c, kappa_d, eta_bb, eta_bc, eta_cc, eta_bd, eta_cd, eta_dd over Integer Ring"
      ]
     },
     "metadata": {},
     "output_type": "display_data"
    }
   ],
   "source": [
    "%run receptor_tools.ipynb\n",
    "import numpy as np\n",
    "import random\n",
    "from matplotlib import pyplot as plt\n",
    "\n",
    "#G = graphs.HouseGraph()\n",
    "G = graphs.PathGraph(4)\n",
    "\n",
    "(G, T, KappaEta, A) = enumerate_allosteric_parameters(G,method='alpha',verbose=False)\n",
    "G.show(edge_labels=False)\n",
    "T.show(edge_labels=True)\n",
    "show(table(KappaEta))\n",
    "show(A)"
   ]
  },
  {
   "cell_type": "code",
   "execution_count": 2,
   "metadata": {
    "collapsed": false
   },
   "outputs": [
    {
     "name": "stdout",
     "output_type": "stream",
     "text": [
      "kappa_list = [kappa_b, kappa_c, kappa_d]\n",
      "eta_list = [eta_bb, eta_bc, eta_cc, eta_bd, eta_cd, eta_dd]\n",
      "phi = [0.5 0.5 0.  0. ]\n",
      "Phi = [[0.5, 0.25, 0.0, 0.0], [0, 0.5, 0.0, 0.0], [0, 0, 0.0, 0.0], [0, 0, 0, 0.0]]\n",
      "KappaEta = [[1, 2*kappa_b, 2*kappa_b*kappa_c, 2*kappa_b*kappa_c*kappa_d], [0, kappa_b^2*eta_bb, 2*kappa_b^2*kappa_c*eta_bb*eta_bc, 2*kappa_b^2*kappa_c*kappa_d*eta_bb*eta_bc*eta_bd], [0, 0, kappa_b^2*kappa_c^2*eta_bb*eta_bc^2*eta_cc, 2*kappa_b^2*kappa_c^2*kappa_d*eta_bb*eta_bc^2*eta_cc*eta_bd*eta_cd], [0, 0, 0, kappa_b^2*kappa_c^2*kappa_d^2*eta_bb*eta_bc^2*eta_cc*eta_bd^2*eta_cd^2*eta_dd]]\n"
     ]
    }
   ],
   "source": [
    "n_states=G.order()\n",
    "n_kappa=n_states-1\n",
    "n_kappa_plus_eta = A.ngens()\n",
    "n_eta=n_kappa_plus_eta-n_kappa\n",
    "kappa_list = [A.gen(k) for k in range(n_kappa)]\n",
    "print(f'kappa_list = {kappa_list}')\n",
    "\n",
    "eta_list = [A.gen(k) for k in range(n_kappa,n_kappa_plus_eta)]\n",
    "print(f'eta_list = {eta_list}')\n",
    "\n",
    "phi=normalize(random_binary_array(n_states))\n",
    "print(f'phi = {phi}')\n",
    "\n",
    "Phi = dimerize(phi)\n",
    "print(f'Phi = {Phi}')\n",
    "print(f'KappaEta = {KappaEta}')"
   ]
  },
  {
   "cell_type": "code",
   "execution_count": 3,
   "metadata": {
    "collapsed": false
   },
   "outputs": [
    {
     "data": {
      "text/html": [
       "<html>\\(\\displaystyle \\frac{0.5 \\kappa_{b}^{2} \\eta_{\\mathit{bb}} + 0.5 \\kappa_{b} + 0.5}{\\kappa_{b}^{2} \\kappa_{c}^{2} \\kappa_{d}^{2} \\eta_{\\mathit{bb}} \\eta_{\\mathit{bc}}^{2} \\eta_{\\mathit{cc}} \\eta_{\\mathit{bd}}^{2} \\eta_{\\mathit{cd}}^{2} \\eta_{\\mathit{dd}} + 2.0 \\kappa_{b}^{2} \\kappa_{c}^{2} \\kappa_{d} \\eta_{\\mathit{bb}} \\eta_{\\mathit{bc}}^{2} \\eta_{\\mathit{cc}} \\eta_{\\mathit{bd}} \\eta_{\\mathit{cd}} + \\kappa_{b}^{2} \\kappa_{c}^{2} \\eta_{\\mathit{bb}} \\eta_{\\mathit{bc}}^{2} \\eta_{\\mathit{cc}} + 2.0 \\kappa_{b}^{2} \\kappa_{c} \\kappa_{d} \\eta_{\\mathit{bb}} \\eta_{\\mathit{bc}} \\eta_{\\mathit{bd}} + 2.0 \\kappa_{b}^{2} \\kappa_{c} \\eta_{\\mathit{bb}} \\eta_{\\mathit{bc}} + 2.0 \\kappa_{b} \\kappa_{c} \\kappa_{d} + \\kappa_{b}^{2} \\eta_{\\mathit{bb}} + 2.0 \\kappa_{b} \\kappa_{c} + 2.0 \\kappa_{b} + 1.0}\\)</html>"
      ],
      "text/latex": [
       "$\\displaystyle \\frac{0.5 \\kappa_{b}^{2} \\eta_{\\mathit{bb}} + 0.5 \\kappa_{b} + 0.5}{\\kappa_{b}^{2} \\kappa_{c}^{2} \\kappa_{d}^{2} \\eta_{\\mathit{bb}} \\eta_{\\mathit{bc}}^{2} \\eta_{\\mathit{cc}} \\eta_{\\mathit{bd}}^{2} \\eta_{\\mathit{cd}}^{2} \\eta_{\\mathit{dd}} + 2.0 \\kappa_{b}^{2} \\kappa_{c}^{2} \\kappa_{d} \\eta_{\\mathit{bb}} \\eta_{\\mathit{bc}}^{2} \\eta_{\\mathit{cc}} \\eta_{\\mathit{bd}} \\eta_{\\mathit{cd}} + \\kappa_{b}^{2} \\kappa_{c}^{2} \\eta_{\\mathit{bb}} \\eta_{\\mathit{bc}}^{2} \\eta_{\\mathit{cc}} + 2.0 \\kappa_{b}^{2} \\kappa_{c} \\kappa_{d} \\eta_{\\mathit{bb}} \\eta_{\\mathit{bc}} \\eta_{\\mathit{bd}} + 2.0 \\kappa_{b}^{2} \\kappa_{c} \\eta_{\\mathit{bb}} \\eta_{\\mathit{bc}} + 2.0 \\kappa_{b} \\kappa_{c} \\kappa_{d} + \\kappa_{b}^{2} \\eta_{\\mathit{bb}} + 2.0 \\kappa_{b} \\kappa_{c} + 2.0 \\kappa_{b} + 1.0}$"
      ],
      "text/plain": [
       "(0.5*kappa_b^2*eta_bb + 0.5*kappa_b + 0.5)/(kappa_b^2*kappa_c^2*kappa_d^2*eta_bb*eta_bc^2*eta_cc*eta_bd^2*eta_cd^2*eta_dd + 2.0*kappa_b^2*kappa_c^2*kappa_d*eta_bb*eta_bc^2*eta_cc*eta_bd*eta_cd + kappa_b^2*kappa_c^2*eta_bb*eta_bc^2*eta_cc + 2.0*kappa_b^2*kappa_c*kappa_d*eta_bb*eta_bc*eta_bd + 2.0*kappa_b^2*kappa_c*eta_bb*eta_bc + 2.0*kappa_b*kappa_c*kappa_d + kappa_b^2*eta_bb + 2.0*kappa_b*kappa_c + 2.0*kappa_b + 1.0)"
      ]
     },
     "metadata": {},
     "output_type": "display_data"
    }
   ],
   "source": [
    "# create the symbolic binding curve \n",
    "FBindingKappaEta=make_symbolic_dimer_binding_curve(Phi,KappaEta)\n",
    "show(FBindingKappaEta)"
   ]
  },
  {
   "cell_type": "code",
   "execution_count": 4,
   "metadata": {
    "collapsed": false
   },
   "outputs": [
    {
     "name": "stdout",
     "output_type": "stream",
     "text": [
      "{kappa_b: 0.806*X, kappa_c: 0.269, kappa_d: 0.249*X}\n"
     ]
    },
    {
     "data": {
      "text/html": [
       "<html>\\(\\displaystyle \\frac{0.32481800000000005 \\, X^{2} \\eta_{\\mathit{bb}} + 0.403 \\, X + 0.5}{0.0029145622652625965 \\, X^{4} \\eta_{\\mathit{bb}} \\eta_{\\mathit{bc}}^{2} \\eta_{\\mathit{bd}}^{2} \\eta_{\\mathit{cc}} \\eta_{\\mathit{cd}}^{2} \\eta_{\\mathit{dd}} + 0.023410138676808006 \\, X^{3} \\eta_{\\mathit{bb}} \\eta_{\\mathit{bc}}^{2} \\eta_{\\mathit{bd}} \\eta_{\\mathit{cc}} \\eta_{\\mathit{cd}} + 0.08702653783200001 \\, X^{3} \\eta_{\\mathit{bb}} \\eta_{\\mathit{bc}} \\eta_{\\mathit{bd}} + 0.04700831059600001 \\, X^{2} \\eta_{\\mathit{bb}} \\eta_{\\mathit{bc}}^{2} \\eta_{\\mathit{cc}} + 0.34950416800000006 \\, X^{2} \\eta_{\\mathit{bb}} \\eta_{\\mathit{bc}} + 0.6496360000000001 \\, X^{2} \\eta_{\\mathit{bb}} + 0.10797337200000001 \\, X^{2} + 2.0456280000000002 \\, X + 1.0}\\)</html>"
      ],
      "text/latex": [
       "$\\displaystyle \\frac{0.32481800000000005 \\, X^{2} \\eta_{\\mathit{bb}} + 0.403 \\, X + 0.5}{0.0029145622652625965 \\, X^{4} \\eta_{\\mathit{bb}} \\eta_{\\mathit{bc}}^{2} \\eta_{\\mathit{bd}}^{2} \\eta_{\\mathit{cc}} \\eta_{\\mathit{cd}}^{2} \\eta_{\\mathit{dd}} + 0.023410138676808006 \\, X^{3} \\eta_{\\mathit{bb}} \\eta_{\\mathit{bc}}^{2} \\eta_{\\mathit{bd}} \\eta_{\\mathit{cc}} \\eta_{\\mathit{cd}} + 0.08702653783200001 \\, X^{3} \\eta_{\\mathit{bb}} \\eta_{\\mathit{bc}} \\eta_{\\mathit{bd}} + 0.04700831059600001 \\, X^{2} \\eta_{\\mathit{bb}} \\eta_{\\mathit{bc}}^{2} \\eta_{\\mathit{cc}} + 0.34950416800000006 \\, X^{2} \\eta_{\\mathit{bb}} \\eta_{\\mathit{bc}} + 0.6496360000000001 \\, X^{2} \\eta_{\\mathit{bb}} + 0.10797337200000001 \\, X^{2} + 2.0456280000000002 \\, X + 1.0}$"
      ],
      "text/plain": [
       "(0.32481800000000005*X^2*eta_bb + 0.403*X + 0.5)/(0.0029145622652625965*X^4*eta_bb*eta_bc^2*eta_bd^2*eta_cc*eta_cd^2*eta_dd + 0.023410138676808006*X^3*eta_bb*eta_bc^2*eta_bd*eta_cc*eta_cd + 0.08702653783200001*X^3*eta_bb*eta_bc*eta_bd + 0.04700831059600001*X^2*eta_bb*eta_bc^2*eta_cc + 0.34950416800000006*X^2*eta_bb*eta_bc + 0.6496360000000001*X^2*eta_bb + 0.10797337200000001*X^2 + 2.0456280000000002*X + 1.0)"
      ]
     },
     "metadata": {},
     "output_type": "display_data"
    }
   ],
   "source": [
    "# add ligand dependencies randomly or manually\n",
    "manual = False\n",
    "var('X')\n",
    "if manual:\n",
    "    d_kappa_X = dict({kappa_b: kappa_b*X, kappa_c: kappa_c*X})\n",
    "else:\n",
    "    def Round_To_n(x, n):\n",
    "        return round(x, -int(np.floor(np.sign(x) * np.log10(abs(x)))) + n)\n",
    "    d_kappa_X=dict()\n",
    "    num_X = 0\n",
    "    while num_X == 0: # make sure there is at least one ligand binding edge (kappa*X)\n",
    "        for kappa in kappa_list:\n",
    "            k=Round_To_n(np.random.exponential(scale=1.0),2)\n",
    "            ligand_prob = 0.4\n",
    "            if np.random.random() <= ligand_prob:\n",
    "                d_kappa_X[kappa]=k*X\n",
    "                num_X += 1\n",
    "            else:\n",
    "                d_kappa_X[kappa]=k\n",
    "print(d_kappa_X)\n",
    "FBindingEtaX=FBindingKappaEta.subs(d_kappa_X)\n",
    "show(FBindingEtaX)"
   ]
  },
  {
   "cell_type": "code",
   "execution_count": 5,
   "metadata": {
    "collapsed": false
   },
   "outputs": [],
   "source": [
    "FastCallableFBindingEtaX = fast_callable(FBindingEtaX, vars=['X']+eta_list)"
   ]
  },
  {
   "cell_type": "code",
   "execution_count": 6,
   "metadata": {
    "collapsed": false
   },
   "outputs": [],
   "source": [
    "from scipy.optimize import minimize\n",
    "import random\n",
    "from matplotlib import pyplot as plt\n",
    "\n",
    "# construct target function\n",
    "# xrange and values x for data, x0 for smooth plots\n",
    "xlogmin=-3\n",
    "xlogmax=3\n",
    "x = np.logspace(xlogmin,xlogmax,20)\n",
    "x0 = np.logspace(xlogmin,xlogmax,1000)\n",
    "\n",
    "\n",
    "# choose random eta's with 50% change of being 1 (unused)\n",
    "eta_prob_one = 0.5\n",
    "eta = np.random.exponential(scale=1.0,size=n_eta)\n",
    "for i in range(n_eta):\n",
    "    if np.random.random() <= eta_prob_one:\n",
    "        eta[i]=1.0\n",
    "y = FastCallableFBindingEtaX(x,*eta) + np.random.normal(size=x.size, scale=0.005) # w/ noise\n",
    "y0 = FastCallableFBindingEtaX(x0,*eta)"
   ]
  },
  {
   "cell_type": "code",
   "execution_count": 7,
   "metadata": {
    "collapsed": false
   },
   "outputs": [],
   "source": [
    "# create hypercube and flip left/right\n",
    "Q = graphs.CubeGraph(n_eta, embedding=2)\n",
    "pos = Q.get_pos()\n",
    "for v in Q.vertices(sort=False):\n",
    "    xpos,ypos = pos[v] # do not use x,y here! These are needed below\n",
    "    pos[v]=(n_eta-xpos,ypos)\n",
    "    # pos[v]=(ypos,xpos) this didn't look good \n",
    "#Q.show(figsize=6,edge_labels=False,vertex_labels=True, vertex_size=100,edge_thickness=0.5,vertex_colors='white')"
   ]
  },
  {
   "cell_type": "code",
   "execution_count": 8,
   "metadata": {
    "collapsed": false
   },
   "outputs": [
    {
     "name": "stdout",
     "output_type": "stream",
     "text": [
      "{'111111': 0, '011111': 1, '101111': 1, '110111': 1, '111011': 1, '111101': 1, '111110': 1, '001111': 2, '010111': 2, '011011': 2, '011101': 2, '011110': 2, '100111': 2, '101011': 2, '101101': 2, '101110': 2, '110011': 2, '110101': 2, '110110': 2, '111001': 2, '111010': 2, '111100': 2, '000111': 3, '001011': 3, '001101': 3, '001110': 3, '010011': 3, '010101': 3, '010110': 3, '011001': 3, '011010': 3, '011100': 3, '100011': 3, '100101': 3, '100110': 3, '101001': 3, '101010': 3, '101100': 3, '110001': 3, '110010': 3, '110100': 3, '111000': 3, '000011': 4, '000101': 4, '000110': 4, '001001': 4, '001010': 4, '001100': 4, '010001': 4, '010010': 4, '010100': 4, '011000': 4, '100001': 4, '100010': 4, '100100': 4, '101000': 4, '110000': 4, '000001': 5, '000010': 5, '000100': 5, '001000': 5, '010000': 5, '100000': 5, '000000': 6}\n"
     ]
    }
   ],
   "source": [
    "root = \"1\" * n_eta\n",
    "d_level = dict()\n",
    "for level in range(n_eta+1):\n",
    "    for v in Q.vertices(sort=True):\n",
    "        if level == Q.distance(v,root):\n",
    "            d_level[v]=level\n",
    "print(d_level)"
   ]
  },
  {
   "cell_type": "code",
   "execution_count": 9,
   "metadata": {
    "collapsed": false
   },
   "outputs": [],
   "source": [
    "def do_eta_fit(eta_list):\n",
    "\n",
    "    # Define the objective function\n",
    "    def objective_function(params):\n",
    "        eta = params\n",
    "        residuals = y - FastCallableFBindingEtaX(x,*eta)\n",
    "        return np.sum(residuals ** 2)\n",
    "\n",
    "    # Initial guess for parameters\n",
    "    initial_guess = np.ones(n_eta)\n",
    "    # this loop makes elements of the tuple bnds\n",
    "    bnds = ()\n",
    "    k = 0 # nparams\n",
    "    for i in range(n_eta):\n",
    "        if eta_list[i]==1.0:\n",
    "            bnds += ((1, 1),) # eta = 1, not used\n",
    "        else:\n",
    "            bnds += ((0, None),) # eta non-negative\n",
    "            k += 1\n",
    "\n",
    "    # Perform optimization\n",
    "    result = minimize(objective_function, initial_guess, bounds=bnds)\n",
    "\n",
    "    # Extract and print optimized eta's\n",
    "    optimal_eta = result.x\n",
    "    np.set_printoptions(precision=2)\n",
    "    print( optimal_eta )\n",
    "    #print(f'{optimal_eta=}')\n",
    "\n",
    "    # Evaluate result\n",
    "    y0_result = FastCallableFBindingEtaX(x0,*optimal_eta)\n",
    "\n",
    "    res = y - FastCallableFBindingEtaX(x,*optimal_eta)\n",
    "    ssr = np.sum(res ** 2)\n",
    "    n = len(y)\n",
    "    aic = 2*(k+2)+n*np.log(ssr/(n-k))\n",
    "\n",
    "    # Plot result\n",
    "    plot_results = False\n",
    "    if plot_results:\n",
    "        plt.semilogx(x0,y0,linewidth=4,color='yellow',label='exact')\n",
    "        plt.semilogx(x,y,'+',color='black',label='sim data')\n",
    "        plt.semilogx(x0,y0_result,color='red',linestyle='dashed',label='fit')\n",
    "        np.set_printoptions(precision=2)\n",
    "        plt.title(f'aic={aic=},\\ntarget eta={eta},\\noptimal eta={optimal_eta}')\n",
    "        plt.xlabel('x')\n",
    "        plt.ylabel('phi',rotation = 0)\n",
    "        plt.legend()\n",
    "        plt.grid()\n",
    "        plt.show()\n",
    "\n",
    "    return aic"
   ]
  },
  {
   "cell_type": "code",
   "execution_count": 10,
   "metadata": {
    "collapsed": false
   },
   "outputs": [],
   "source": [
    "# make arcs point rightward to \"lower\" levels only (fewer parameters used, more 1's)\n",
    "Q_directed = Q.to_directed()\n",
    "for e in Q_directed.edges(sort=False):\n",
    "    if d_level[e[0]]<d_level[e[1]]:\n",
    "        Q_directed.delete_edge(e)\n",
    "#show(Q_directed)"
   ]
  },
  {
   "cell_type": "code",
   "execution_count": 11,
   "metadata": {
    "collapsed": false
   },
   "outputs": [
    {
     "name": "stdout",
     "output_type": "stream",
     "text": [
      "[1. 1. 1. 1. 1. 1.]\n",
      "[1. 1. 1. 1. 1. 1.]\n",
      "[1.   0.79 1.   1.   1.   1.  ]\n",
      "[1.   1.   0.26 1.   1.   1.  ]\n",
      "[1.  1.  1.  0.7 1.  1. ]\n",
      "[1.   1.   1.   1.   0.42 1.  ]\n",
      "[1.   1.   1.   1.   1.   0.08]\n",
      "[0.51 0.76 1.   1.   1.   1.  ]\n",
      "[1.14 1.   0.27 1.   1.   1.  ]\n"
     ]
    },
    {
     "name": "stdout",
     "output_type": "stream",
     "text": [
      "[1.02 1.   1.   0.7  1.   1.  ]\n",
      "[1.43 1.   1.   1.   0.43 1.  ]\n",
      "[1.56 1.   1.   1.   1.   0.08]\n",
      "[1.   0.93 0.41 1.   1.   1.  ]"
     ]
    },
    {
     "name": "stdout",
     "output_type": "stream",
     "text": [
      "\n",
      "[1.   0.98 1.   0.72 1.   1.  ]\n",
      "[1.   0.88 1.   1.   0.68 1.  ]\n",
      "[1.   0.86 1.   1.   1.   0.46]\n",
      "[1.   1.   0.93 0.72 1.   1.  ]\n"
     ]
    },
    {
     "name": "stdout",
     "output_type": "stream",
     "text": [
      "[1.00e+00 1.00e+00 6.05e-04 1.00e+00 2.51e+01 1.00e+00]\n",
      "[ 1.    1.    0.02  1.    1.   17.73]\n",
      "[1.   1.   1.   0.68 1.05 1.  ]\n",
      "[1.   1.   1.   0.69 1.   1.08]\n"
     ]
    },
    {
     "name": "stdout",
     "output_type": "stream",
     "text": [
      "[1.00e+00 1.00e+00 1.00e+00 1.00e+00 1.01e-02 3.31e+03]\n",
      "[0.76 0.89 0.51 1.   1.   1.  ]\n",
      "[0.92 0.96 1.   0.74 1.   1.  ]\n",
      "[0.77 0.85 1.   1.   0.74 1.  ]\n",
      "[0.71 0.82 1.   1.   1.   0.59]\n",
      "[1.01 1.   0.93 0.72 1.   1.  ]\n"
     ]
    },
    {
     "name": "stdout",
     "output_type": "stream",
     "text": [
      "[9.08e-01 1.00e+00 2.08e-03 1.00e+00 1.34e+01 1.00e+00]\n",
      "[ 0.91  1.    0.02  1.    1.   18.68]\n",
      "[0.99 1.   1.   0.68 1.06 1.  ]\n",
      "[0.99 1.   1.   0.69 1.   1.09]\n"
     ]
    },
    {
     "name": "stdout",
     "output_type": "stream",
     "text": [
      "[1.25e+00 1.00e+00 1.00e+00 1.00e+00 7.25e-03 6.60e+03]\n",
      "[1.   0.98 0.91 0.75 1.   1.  ]\n",
      "[1.   0.89 0.87 1.   0.72 1.  ]\n",
      "[1.   0.89 0.68 1.   1.   0.63]\n",
      "[1.   0.95 1.   0.81 0.86 1.  ]\n",
      "[1.   0.96 1.   0.75 1.   0.9 ]\n",
      "[1.   0.88 1.   1.   0.72 0.87]\n",
      "[1.   1.   0.67 0.76 1.1  1.  ]\n",
      "[1.   1.   0.83 0.73 1.   1.14]\n"
     ]
    },
    {
     "name": "stdout",
     "output_type": "stream",
     "text": [
      "[1.   1.   0.01 1.   3.62 5.2 ]\n",
      "[1.   1.   1.   0.69 1.02 1.05]\n",
      "[0.93 0.97 0.92 0.76 1.   1.  ]\n",
      "[0.77 0.86 0.9  1.   0.78 1.  ]\n",
      "[0.75 0.86 0.75 1.   1.   0.72]\n",
      "[0.9  0.94 1.   0.79 0.92 1.  ]\n"
     ]
    },
    {
     "name": "stdout",
     "output_type": "stream",
     "text": [
      "[0.93 0.95 1.   0.76 1.   0.91]\n",
      "[0.76 0.85 1.   1.   0.78 0.93]\n",
      "[0.92 1.   0.57 0.77 1.18 1.  ]\n",
      "[0.91 1.   0.5  0.81 1.   1.46]\n"
     ]
    },
    {
     "name": "stdout",
     "output_type": "stream",
     "text": [
      "[8.92e-01 1.00e+00 1.16e-03 1.00e+00 5.81e+00 9.75e+00]\n",
      "[0.98 1.   1.   0.68 1.02 1.06]\n",
      "[1.   0.96 0.97 0.77 0.94 1.  ]\n",
      "[1.   0.97 0.92 0.77 1.   0.91]\n",
      "[1.   0.89 0.89 1.   0.75 0.89]\n",
      "[1.   0.96 1.   0.76 0.94 0.99]\n"
     ]
    },
    {
     "name": "stdout",
     "output_type": "stream",
     "text": [
      "[1.   1.   0.64 0.77 1.07 1.07]\n"
     ]
    }
   ],
   "source": [
    "max_depth = 4\n",
    "d_aic = dict();\n",
    "Q_aic = copy(Q_directed)\n",
    "for level in range(max_depth+1,n_eta+1): # delete levels not used\n",
    "    #print(f'{max_depth=} so deleting {level=}')\n",
    "    for vert, lev in d_level.items():\n",
    "        if lev == level:\n",
    "            Q_aic.delete_vertex(vert)\n",
    "for level in range(0,max_depth+1):\n",
    "    for vert, lev in d_level.items():\n",
    "        if lev == level:\n",
    "            if Q_aic.has_vertex(vert):\n",
    "                #print(type(vert))\n",
    "                aic = do_eta_fit([int(char) for char in vert])\n",
    "                d_aic[vert]=str(f'{aic:.3f}')\n",
    "                Q_aic.set_vertex(vert,aic)\n",
    "                #print(f\"level {lev} : eta_mask={vert} {aic=:.2f}\")\n",
    "                hang = 0\n",
    "                for nv in Q_aic.neighbors_out(vert):\n",
    "                    #print(f'looking at vert {vert} --> {nv}')\n",
    "                    if float(d_aic[vert])>=float(d_aic[nv]): # float from str\n",
    "                        #print(f'deleted edge {vert=} {d_aic[vert]=} -> {nv=} {d_aic[nv]=}')\n",
    "                        Q_aic.delete_edge(vert,nv)\n",
    "                    else:\n",
    "                        hang+=1\n",
    "                if hang==0 and vert != root:\n",
    "                    Q_aic.delete_vertex(vert)"
   ]
  },
  {
   "cell_type": "code",
   "execution_count": 12,
   "metadata": {
    "collapsed": false
   },
   "outputs": [
    {
     "name": "stdout",
     "output_type": "stream",
     "text": [
      "{'111111': '-172.845', '011111': '-169.819', '101111': '-198.881', '110111': '-202.797', '111011': '-204.419', '111101': '-197.993', '111110': '-190.481', '001111': '-200.162', '010111': '-199.867', '011011': '-201.340', '011101': '-195.822', '011110': '-188.316', '100111': '-200.886', '101011': '-201.449', '101101': '-200.940', '101110': '-200.577', '110011': '-201.372', '110101': '-201.098', '110110': '-201.105', '111001': '-201.359', '111010': '-201.360', '111100': '-199.367', '000111': '-198.041', '001011': '-198.354', '001101': '-198.059', '001110': '-197.928', '010011': '-198.230', '010101': '-198.035', '010110': '-198.049', '011001': '-198.218', '011010': '-198.218', '011100': '-196.694', '100011': '-198.326', '100101': '-197.781', '100110': '-197.593', '101001': '-198.309', '101010': '-198.332', '101100': '-197.747', '110001': '-198.331', '110010': '-198.297', '110100': '-197.954', '111000': '-198.216', '000011': '-195.157', '000101': '-194.841', '000110': '-194.767', '001001': '-195.166', '001010': '-195.162', '001100': '-194.830', '010001': '-195.161', '010010': '-195.167', '010100': '-194.868', '011000': '-195.005', '100001': '-195.120', '100010': '-195.119', '100100': '-194.529', '101000': '-195.120', '110000': '-195.120'}\n"
     ]
    }
   ],
   "source": [
    "print(d_aic)"
   ]
  },
  {
   "cell_type": "code",
   "execution_count": 13,
   "metadata": {
    "collapsed": false
   },
   "outputs": [
    {
     "data": {
      "image/png": "[encoded data removed]",
      "text/plain": [
       "Graphics object consisting of 35 graphics primitives"
      ]
     },
     "metadata": {},
     "output_type": "display_data"
    },
    {
     "data": {
      "image/png": "[encoded data removed]",
      "text/plain": [
       "Graphics object consisting of 35 graphics primitives"
      ]
     },
     "metadata": {},
     "output_type": "display_data"
    }
   ],
   "source": [
    "Q_aic_undirected = Q_aic.to_undirected()\n",
    "Q_aic_undirected.show(figsize=6,edge_labels=False,vertex_labels=d_aic, vertex_size=0,edge_thickness=0.3,vertex_colors='white',title='AIC pruned')\n",
    "Q_aic_undirected.show(figsize=6,edge_labels=False, vertex_size=0,edge_thickness=0.3,vertex_colors='white',title='eta\\'s used')"
   ]
  },
  {
   "cell_type": "code",
   "execution_count": 0,
   "metadata": {
    "collapsed": false
   },
   "outputs": [],
   "source": []
  }
 ],
 "metadata": {
  "interpreter": {
   "hash": "31f2aee4e71d21fbe5cf8b01ff0e069b9275f58929596ceb00d14d90e3e16cd6"
  },
  "kernelspec": {
   "argv": [
    "sage-10.0",
    "--python",
    "-m",
    "sage.repl.ipython_kernel",
    "--matplotlib=inline",
    "-f",
    "{connection_file}"
   ],
   "display_name": "SageMath 10.0",
   "env": {},
   "language": "sagemath",
   "metadata": {
    "cocalc": {
     "description": "Open-source mathematical software system",
     "priority": 1,
     "url": "https://www.sagemath.org/"
    }
   },
   "name": "sage-10.0",
   "resource_dir": "/ext/jupyter/kernels/sage-10.0"
  },
  "language_info": {
   "codemirror_mode": {
    "name": "ipython",
    "version": 3
   },
   "file_extension": ".py",
   "mimetype": "text/x-python",
   "name": "python",
   "nbconvert_exporter": "python",
   "pygments_lexer": "ipython3",
   "version": "3.11.1"
  }
 },
 "nbformat": 4,
 "nbformat_minor": 4
}