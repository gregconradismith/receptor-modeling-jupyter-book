{
 "cells": [
  {
   "cell_type": "markdown",
   "id": "fa83efde",
   "metadata": {},
   "source": [
    "# Receptor models\n",
    "\n",
    "```{math}\n",
    "\\def\\b{\\mathsf{b}}\n",
    "\\def\\c{\\mathsf{c}}\n",
    "\\def\\kappab{\\kappa_{\\b}}\n",
    "\\def\\kappac{\\kappa_{\\c}}\n",
    "\\def\\kappabstar{\\hat{\\kappa}_{\\b}}\n",
    "\\def\\kappacstar{\\hat{\\kappa}_{\\c}}\n",
    "```\n",
    "\n",
    "Quantitative pharmacologists construct models of relationship between ligand concentration and the fraction of cell surface receptors in each of several molecular conformations. These models give insight into the action of natural ligands and drugs on receptor-mediated cell responses.\n",
    "\n",
    "The modeling process begings by specifying the molecular conformations (states) to be considered and the transitions between these states.\n",
    "\n",
    "(receptors:three_state_model)=\n",
    "## A three-state receptor model\n",
    "\n",
    "As a simple example, consider a receptor model with three states arranged as follows."
   ]
  },
  {
   "cell_type": "code",
   "execution_count": null,
   "id": "d95bbf44",
   "metadata": {},
   "outputs": [],
   "source": [
    "G = DiGraph({0: {1:'a01'}, 1: {0:'a10', 2:'a12'}, 2: {1:'a21'}})\n",
    "pos = {0: (0, 0), 1: (1, 0), 2: (2, 0)}\n",
    "G.plot(figsize=4,edge_labels=True,pos=pos,graph_border=True)"
   ]
  },
  {
   "cell_type": "code",
   "execution_count": null,
   "id": "df7d257d",
   "metadata": {},
   "outputs": [],
   "source": [
    "G = DiGraph({'R': {'RL':'kap*L'}, 'RL': {'R':'kam', 'RLL':'kbp*L'}, 'RLL': {'RL':'kbm'}})\n",
    "pos = {'R': (0, 0), 'RL': (1, 0), 'RLL': (2, 0)}\n",
    "G.plot(figsize=4,edge_labels=True,pos=pos,graph_border=True,vertex_size=1000)"
   ]
  },
  {
   "cell_type": "markdown",
   "id": "738a5819",
   "metadata": {},
   "source": [
    "    \n",
    "    \n",
    "When both forward and reverse transitions are explicit, the state-transition diagram has the topology of a symmetric directed version of the [path graph](example_graphs:path_graph) with 3 vertices.\n",
    "\n",
    "Here is the (undirected) path graph {math}`P_3`:"
   ]
  },
  {
   "cell_type": "code",
   "execution_count": null,
   "id": "05f5cee1",
   "metadata": {},
   "outputs": [],
   "source": [
    "G = Graph({0: [1], 1: [2]})\n",
    "G.plot(figsize=4)"
   ]
  },
  {
   "cell_type": "markdown",
   "id": "53391c2a",
   "metadata": {},
   "source": [
    "The symmetric directed version is"
   ]
  },
  {
   "cell_type": "code",
   "execution_count": null,
   "id": "874ad09f",
   "metadata": {
    "tags": [
     "hide-input"
    ]
   },
   "outputs": [],
   "source": [
    "G = DiGraph({0: [1], 1: [0,2], 2: [1]})\n",
    "G.plot(figsize=4)"
   ]
  },
  {
   "cell_type": "markdown",
   "id": "2a61b0eb",
   "metadata": {},
   "source": [
    "Our practice will be to define symbolic variables and put these on the vertices and edges."
   ]
  },
  {
   "cell_type": "code",
   "execution_count": null,
   "id": "fad73d1d",
   "metadata": {},
   "outputs": [],
   "source": [
    "var('a b c kappa_b_plus kappa_b_minus kappa_c_plus kappa_c_minus')\n",
    "G = DiGraph([[a,b,c],[(a,b),(b,a),(b,c),(c,b)]])\n",
    "G.set_edge_label(a,b,kappa_b_plus)\n",
    "G.set_edge_label(b,a,kappa_b_minus)\n",
    "G.set_edge_label(b,c,kappa_c_plus)\n",
    "G.set_edge_label(c,b,kappa_c_minus)\n",
    "G.plot(figsize=4,edge_labels=True)"
   ]
  },
  {
   "cell_type": "markdown",
   "id": "bacdfede",
   "metadata": {},
   "source": [
    "In the state-transition diagram shown above, {math}`\\kappab` and {math}`\\kappac` are dimensionless equilibrium constants, {math}`\\kappabstar` and {math}`\\kappacstar` are association constants with physical dimension of inverse concentration, and {math}`x` is ligand concentration.  The solid harpoons indicate the forward reaction direction.  For example, the reaction labelled {math}`\\kappab` has {math}`a` as reactant and {math}`b` as product; consequently, increasing {math}`\\kappab` decreases the equilibrium probability (relative fraction) of state {math}`a` and increases the probability of state {math}`b`.\n",
    "The three states of Equation XXX are labelled so that the reactant comes before the product in dictionary order ({math}`a` to {math}`b` to {math}`c`).  The subscript of the equilibrium constants {math}`\\kappab` and {math}`\\kappac` are chosen to match the label of the reaction products.\n",
    "\n",
    "\n",
    "For an isolated monomer with a state-transition diagram given by Equation XXX, the probability of state {math}`i` is given by\n",
    "{math}`\\pi_i = z_i / z_T` where  {math}`z_T= \\textstyle \\sum_i z_i`,\n",
    "{math}`z_a = 1`,\n",
    "{math}`z_b = \\kappab = \\kappabstar x`, and\n",
    "{math}`z_c =\\kappab \\kappac = \\kappabstar \\kappacstar x^2`. That is,\n",
    "\n",
    "\\begin{equation}\n",
    "\\pi_a =  \\frac{1}{1+ \\kappabstar x  +  \\kappabstar \\kappacstar x^2} \\, ,  \\quad \\pi_b =  \\frac{\\kappabstar x}{1+ \\kappabstar x +  \\kappabstar  \\kappacstar x^2}   \\quad \\mbox{and}  \\quad \\pi_c = \\frac{\\kappabstar  \\kappacstar x^2 }{1+ \\kappabstar x +  \\kappabstar \\kappacstar x^2 }  \\, .\n",
    "\\end{equation}\n",
    "\n",
    "It is helpful to  present this set of rational functions using the following compact notation:\n",
    "\\begin{equation}\n",
    " [ \\pi_a  :  \\pi_b :  \\pi_c ] = [1 :\\kappab : \\kappab \\kappac ]  = [1 : \\kappabstar x :\\kappabstar \\kappacstar x^2  ] \\,  .\n",
    "\\end{equation}\n",
    "In expressions of this kind,  it is understood that\n",
    "\\begin{equation}\n",
    "[ x_1 \\! : \\! x_2 : \\! \\cdots \\! : \\! x_n ] = [ \\lambda x_1 \\! : \\! \\lambda  x_2 : \\! \\cdots \\! : \\! \\lambda  x_n ]\n",
    "\\end{equation}\n",
    "for any {math}`\\lambda \\neq 0`. Furthermore, {math}`\\lambda = 1/\\sum_i x_n` gives the probability distribution {math}`\\pi = (\\pi_1, \\pi_2, \\ldots, \\pi_n)` where {math}`1=\\sum_i \\pi_i`.\n",
    "\n",
    "One reason for using symbolic variables is that we can produce symbolic expressions important quantities using [module for graphs and digraphs](https://doc.sagemath.org/html/en/reference/graphs/index.html) available in `Sagemath`. For example, the weighted adjacency matrix associated with graph {math}`G$ above is"
   ]
  },
  {
   "cell_type": "code",
   "execution_count": null,
   "id": "1341f328",
   "metadata": {},
   "outputs": [],
   "source": [
    "A = G.weighted_adjacency_matrix()\n",
    "print(A)"
   ]
  },
  {
   "cell_type": "markdown",
   "id": "790c3a97",
   "metadata": {},
   "source": [
    "If we are interested in the equilibrium probability of each state of the receptor model, it is sufficient to consider the rooted spanning tree"
   ]
  },
  {
   "cell_type": "code",
   "execution_count": null,
   "id": "e6664af3",
   "metadata": {},
   "outputs": [],
   "source": [
    "var('a b c kappa_b kappa_c')\n",
    "T = DiGraph([[a,b,c],[(b,a),(c,b)]])\n",
    "T.set_edge_label(b,a,kappa_b)\n",
    "T.set_edge_label(c,b,kappa_c)\n",
    "T.plot(figsize=4,edge_labels=True)"
   ]
  },
  {
   "cell_type": "markdown",
   "id": "c611de09",
   "metadata": {},
   "source": [
    "[To be completed]\n",
    "\n",
    "\n",
    "# Scraps"
   ]
  },
  {
   "cell_type": "code",
   "execution_count": null,
   "id": "793a7fad",
   "metadata": {},
   "outputs": [],
   "source": [
    "B = T.weighted_adjacency_matrix()\n",
    "print(B)\n",
    "print(B**2)\n",
    "print(B**3)"
   ]
  },
  {
   "cell_type": "code",
   "execution_count": null,
   "id": "59127aa4",
   "metadata": {},
   "outputs": [],
   "source": [
    "print(B)\n",
    "print(B**2)\n",
    "print(B**3)"
   ]
  },
  {
   "cell_type": "code",
   "execution_count": null,
   "id": "94fe9643",
   "metadata": {},
   "outputs": [],
   "source": [
    "G=graphs.PathGraph(3)\n",
    "G.show(figsize=4)"
   ]
  },
  {
   "cell_type": "code",
   "execution_count": null,
   "id": "3a8a4144",
   "metadata": {},
   "outputs": [],
   "source": [
    "G.relabel(dict({0: 'a', 1: 'b', 2: 'c'}))\n",
    "G.show(figsize=4)"
   ]
  },
  {
   "cell_type": "code",
   "execution_count": null,
   "id": "d3d6d03e",
   "metadata": {},
   "outputs": [],
   "source": [
    "kappab = var(\"kappab\", latex_name=r\"\\kappa_b\")\n",
    "kappac = var(\"kappac\", latex_name=r\"\\kappa_c\")\n",
    "x = var(\"x\", latex_name=r\"x\")\n",
    "G.set_edge_label('a','b',kappab*x)\n",
    "G.set_edge_label('b','c',kappab*kappac*x^2)\n",
    "G.show(edge_labels=True,figsize=8)\n",
    "f=kappab*kappac*x^2\n",
    "f.show()\n",
    "show(f)\n",
    "print(f)"
   ]
  },
  {
   "cell_type": "code",
   "execution_count": null,
   "id": "f82c5fa3",
   "metadata": {},
   "outputs": [],
   "source": [
    "G=graphs.PathGraph(3).to_directed()\n",
    "G.relabel({0:'R',1:'LR',2:'LLR'})\n",
    "G.set_edge_label('R','LR','kap*L')\n",
    "G.set_edge_label('LR','R','kam')\n",
    "G.set_edge_label('LR','LLR','kbp*L')\n",
    "G.set_edge_label('LLR','LR','kbm')\n",
    "G.show(edge_labels=True,figsize=4,talk=True)\n",
    "G.plot(edge_labels=True,figsize=4,talk=True)"
   ]
  },
  {
   "cell_type": "markdown",
   "id": "440aa2c9",
   "metadata": {},
   "source": [
    "## References \n",
    "\n",
    "```{bibliography}\n",
    ":filter: docname in docnames\n",
    "```"
   ]
  }
 ],
 "metadata": {
  "jupytext": {
   "cell_metadata_filter": "-all",
   "formats": "md:myst",
   "text_representation": {
    "extension": ".md",
    "format_name": "myst",
    "format_version": 0.13,
    "jupytext_version": "1.10.3"
   }
  },
  "kernelspec": {
   "display_name": "SageMath 10",
   "language": "sage",
   "name": "sage-10.0"
  },
  "source_map": [
   14,
   37,
   43,
   47,
   56,
   59,
   63,
   67,
   71,
   79,
   107,
   110,
   114,
   120,
   128,
   135,
   143,
   148,
   153,
   166,
   175
  ]
 },
 "nbformat": 4,
 "nbformat_minor": 5
}