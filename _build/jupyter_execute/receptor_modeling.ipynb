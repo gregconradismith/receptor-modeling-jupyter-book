{
 "cells": [
  {
   "cell_type": "markdown",
   "id": "e1dc64b3",
   "metadata": {},
   "source": [
    "# Receptor models\n",
    "\n",
    "\n",
    "Quantitative pharmacologists construct models of relationship between ligand concentration and the fraction of cell surface receptors in each of several molecular conformations. These models give insight into the action of natural ligands and drugs on receptor-mediated cell responses.  A good starting point for review of receptor modeling is \n",
    "\n",
    "* Kenakin, T. P. (2018). [A Pharmacology Primer: Techniques for More Effective and Strategic Drug Discovery.](https://www.amazon.com/Pharmacology-Primer-Techniques-Effective-Strategic/dp/0128139579/) Academic Press. {cite}`Kenakin2018`\n",
    "\n",
    "An introction to this topic for undergraduate neuroscienc majors is __Ligands, Receptors, and Rate Laws__, Chapter 4 of [Cellular Biophysics \\& Modeling: a primer on the computational biology of excitable cells](https://www.cambridge.org/core/books/cellular-biophysics-and-modeling/0C728F4C44D89D8F3BA62E41A0D7336F). Cambridge University Press, 2019.\n",
    "\n",
    "## States and transitions\n",
    "\n",
    "The process of receptor modeling often begins by specifying the molecular conformations (states) to be considered and the transitions between these states.  For example, the following graph may represent a receptor model that has four states:"
   ]
  },
  {
   "cell_type": "code",
   "execution_count": null,
   "id": "f6396f69",
   "metadata": {},
   "outputs": [],
   "source": [
    "G_undirected = Graph({1: [2, 3], 2: [3], 3: [4]})\n",
    "vertex_positions = {1: (0, 0), 2: (1, 1.41), 3: (2, 0), 4: (4,0)}\n",
    "G_undirected.plot(figsize=8,pos=vertex_positions,graph_border=True)"
   ]
  },
  {
   "cell_type": "markdown",
   "id": "fd2de3bb",
   "metadata": {},
   "source": [
    "This graph `G_undirected` is constructed by calling the Sagemath command [`Graph()`](https://doc.sagemath.org/html/en/reference/graphs/sage/graphs/graph.html#supported-formats) with a dictionary that associates neighbors to each vertex.  The vertices of the graph `G` are the integers 1, 2, 3, and 4.  The method `plot()` shows the graph `G_undirected` using a dictionary `vertex_positions` that specifies the locations of each vertex.\n",
    "\n",
    "The adjacency matrix of this graph is"
   ]
  },
  {
   "cell_type": "code",
   "execution_count": null,
   "id": "3a672e9d",
   "metadata": {},
   "outputs": [],
   "source": [
    "A = G_undirected.adjacency_matrix()"
   ]
  },
  {
   "cell_type": "markdown",
   "id": "cccdec99",
   "metadata": {},
   "source": [
    "The incidence matrix of this graph is"
   ]
  },
  {
   "cell_type": "code",
   "execution_count": null,
   "id": "7b5bbef1",
   "metadata": {},
   "outputs": [],
   "source": [
    "E = G_undirected.incidence_matrix()"
   ]
  },
  {
   "cell_type": "markdown",
   "id": "bc887b75",
   "metadata": {},
   "source": [
    "```{note}\n",
    "The graphs used here to represent receptor states and transitions will be both connected and simple.\n",
    "* _Connected_: at least one path joins every pair of vertices.\n",
    "* _Simple_: no loops or multiple edges.\n",
    "```\n",
    "\n",
    "In the context of receptor modeling, the undirected graph above is interpreted as a short-hand for the following _directed_ graph."
   ]
  },
  {
   "cell_type": "code",
   "execution_count": null,
   "id": "099ab52c",
   "metadata": {},
   "outputs": [],
   "source": [
    "G_directed = G_undirected.to_directed()\n",
    "G_directed.plot(figsize=8,edge_labels=True,pos=vertex_positions,graph_border=True)"
   ]
  },
  {
   "cell_type": "markdown",
   "id": "2b108727",
   "metadata": {},
   "source": [
    "The method `to_directed()` produces `G_directed` as the _symmetric_ digraph associated to `G_undirected`, in which adjacent vertices are  connected in both directions.\n",
    "\n",
    "```{note}\n",
    "Receptor state-transition diagrams  will always be symmetric directed graphs, that is, for every edge from vertex `i` to vertex `j`, there is also an edge from vertex `j` to vertex `i`.  Thus, the state-transtion diagrams for a receptor model may, for simplicity, be illustrated as an undirected graph.\n",
    "```\n",
    "\n",
    "## Transition rate constants \n",
    "\n",
    "In the context of receptor modeling, state-transition diagrams are usually _weighted_, as shown here."
   ]
  },
  {
   "cell_type": "code",
   "execution_count": null,
   "id": "5b73174f",
   "metadata": {},
   "outputs": [],
   "source": [
    "var('a12, a21, a13, a31, a23, a32, a34, a43')\n",
    "d = {1: {2:a12, 3:a13}, 2: {1:a21, 3:a23}, 3: {2:a32, 1:a31, 4:a34}, 4: {3:a43}};\n",
    "G = DiGraph(d,weighted=True)\n",
    "G.plot(figsize=8,edge_labels=True,pos=vertex_positions,graph_border=True)"
   ]
  },
  {
   "cell_type": "markdown",
   "id": "2a4b7bf9",
   "metadata": {},
   "source": [
    "In the code above, a directed graph `G` is constructed by calling the Sagemath command [`DiGraph()`](https://doc.sagemath.org/html/en/reference/graphs/sage/graphs/digraph.html#methods).  The input argument `d` is a [Python dictionary](https://doc.sagemath.org/html/en/thematic_tutorials/tutorial-programming-python.html) that assigns out-neighbors to each vertex and corresponding edge labels.\n",
    "The edge labels are not _strings_, but _symbolic variables_ defined using Sagemath's `var` command.\n",
    "For example, the symbolic variable `a12` stands for the rate of transition between state 1 and 2. \n",
    "\n",
    "Because these rate constants are symbolic variables, Sagemath will evaluate expressions such as"
   ]
  },
  {
   "cell_type": "code",
   "execution_count": null,
   "id": "5bdf57d9",
   "metadata": {},
   "outputs": [],
   "source": [
    "f = a12 * (a21 + a13)^2 / a13\n",
    "f.expand()"
   ]
  },
  {
   "cell_type": "markdown",
   "id": "290126b9",
   "metadata": {},
   "source": [
    "The weighted adjacency matrix for `G` is"
   ]
  },
  {
   "cell_type": "code",
   "execution_count": null,
   "id": "619c2042",
   "metadata": {},
   "outputs": [],
   "source": [
    "G.weighted_adjacency_matrix()"
   ]
  },
  {
   "cell_type": "markdown",
   "id": "8521fd8c",
   "metadata": {},
   "source": [
    "The Laplacian of `G` is:"
   ]
  },
  {
   "cell_type": "code",
   "execution_count": null,
   "id": "00a44660",
   "metadata": {},
   "outputs": [],
   "source": [
    "G.laplacian_matrix()"
   ]
  },
  {
   "cell_type": "markdown",
   "id": "4584d382",
   "metadata": {},
   "source": [
    "This matrix is sometimes referred to as the `combinatorial Laplacian matrix` of the weighted directed graph `G`.\n",
    "\n",
    "\n",
    "\n",
    "\n",
    "The generator matrix `Q` for the Markov chain associated to `G` can be constructed from the weighted adjacency matrix `A` as folows."
   ]
  },
  {
   "cell_type": "code",
   "execution_count": null,
   "id": "41613ab6",
   "metadata": {},
   "outputs": [],
   "source": [
    "Q = A - diagonal_matrix(sum(A.T))"
   ]
  },
  {
   "cell_type": "markdown",
   "id": "aaa67a4f",
   "metadata": {},
   "source": [
    "The following code defines `e` to be column vector of ones.  This is used to show that each row of `Q` sums to zero."
   ]
  },
  {
   "cell_type": "code",
   "execution_count": null,
   "id": "a6e2bf4f",
   "metadata": {},
   "outputs": [],
   "source": [
    "e = matrix([1,1,1,1]).T"
   ]
  },
  {
   "cell_type": "code",
   "execution_count": null,
   "id": "b7e1066d",
   "metadata": {},
   "outputs": [],
   "source": [
    "print(Q*e)"
   ]
  },
  {
   "cell_type": "markdown",
   "id": "8d76ad80",
   "metadata": {},
   "source": [
    "Multiplying on the left by the transpose of `e`, given by `e.T`, we see that each column of `Q` does not sum to zero."
   ]
  },
  {
   "cell_type": "code",
   "execution_count": null,
   "id": "9b88ec42",
   "metadata": {},
   "outputs": [],
   "source": [
    "print(e.T*Q)"
   ]
  },
  {
   "cell_type": "markdown",
   "id": "675283bd",
   "metadata": {},
   "source": [
    "(receptors:three_state_model)=\n",
    "## A three-state receptor model\n",
    "\n",
    "As a simple example, consider a receptor model with three states arranged as follows."
   ]
  },
  {
   "cell_type": "code",
   "execution_count": null,
   "id": "8691fa70",
   "metadata": {},
   "outputs": [],
   "source": [
    "G = DiGraph({0: {1:'a01'}, 1: {0:'a10', 2:'a12'}, 2: {1:'a21'}})\n",
    "pos = {0: (0, 0), 1: (1, 0), 2: (2, 0)}\n",
    "G.plot(figsize=4,edge_labels=True,pos=pos,graph_border=True)"
   ]
  },
  {
   "cell_type": "code",
   "execution_count": null,
   "id": "01d66eab",
   "metadata": {},
   "outputs": [],
   "source": [
    "G = DiGraph({'R': {'RL':'kap*L'}, 'RL': {'R':'kam', 'RLL':'kbp*L'}, 'RLL': {'RL':'kbm'}})\n",
    "pos = {'R': (0, 0), 'RL': (1, 0), 'RLL': (2, 0)}\n",
    "G.plot(figsize=4,edge_labels=True,pos=pos,graph_border=True,vertex_size=1000)"
   ]
  },
  {
   "cell_type": "markdown",
   "id": "3bfbac1a",
   "metadata": {},
   "source": [
    "    \n",
    "    \n",
    "When both forward and reverse transitions are explicit, the state-transition diagram has the topology of a symmetric directed version of the [path graph](example_graphs:path_graph) with 3 vertices.\n",
    "\n",
    "Here is the (undirected) path graph {math}`P_3`:"
   ]
  },
  {
   "cell_type": "code",
   "execution_count": null,
   "id": "4880dce2",
   "metadata": {},
   "outputs": [],
   "source": [
    "G = Graph({0: [1], 1: [2]})\n",
    "G.plot(figsize=4)"
   ]
  },
  {
   "cell_type": "markdown",
   "id": "49eeefdc",
   "metadata": {},
   "source": [
    "The symmetric directed version is"
   ]
  },
  {
   "cell_type": "code",
   "execution_count": null,
   "id": "116258e4",
   "metadata": {
    "tags": [
     "hide-input"
    ]
   },
   "outputs": [],
   "source": [
    "G = DiGraph({0: [1], 1: [0,2], 2: [1]})\n",
    "G.plot(figsize=4)"
   ]
  },
  {
   "cell_type": "markdown",
   "id": "e28692c3",
   "metadata": {},
   "source": [
    "Our practice will be to define symbolic variables and put these on the vertices and edges."
   ]
  },
  {
   "cell_type": "code",
   "execution_count": null,
   "id": "27177ae4",
   "metadata": {},
   "outputs": [],
   "source": [
    "var('a b c kappa_b_plus kappa_b_minus kappa_c_plus kappa_c_minus')\n",
    "G = DiGraph([[a,b,c],[(a,b),(b,a),(b,c),(c,b)]])\n",
    "G.set_edge_label(a,b,kappa_b_plus)\n",
    "G.set_edge_label(b,a,kappa_b_minus)\n",
    "G.set_edge_label(b,c,kappa_c_plus)\n",
    "G.set_edge_label(c,b,kappa_c_minus)\n",
    "G.plot(figsize=4,edge_labels=True)"
   ]
  },
  {
   "cell_type": "markdown",
   "id": "77c4dd18",
   "metadata": {},
   "source": [
    "In the state-transition diagram shown above, {math}`\\kappab` and {math}`\\kappac` are dimensionless equilibrium constants, {math}`\\kappabstar` and {math}`\\kappacstar` are association constants with physical dimension of inverse concentration, and {math}`x` is ligand concentration.  The solid harpoons indicate the forward reaction direction.  For example, the reaction labelled {math}`\\kappab` has {math}`a` as reactant and {math}`b` as product; consequently, increasing {math}`\\kappab` decreases the equilibrium probability (relative fraction) of state {math}`a` and increases the probability of state {math}`b`.\n",
    "The three states of Equation XXX are labelled so that the reactant comes before the product in dictionary order ({math}`a` to {math}`b` to {math}`c`).  The subscript of the equilibrium constants {math}`\\kappab` and {math}`\\kappac` are chosen to match the label of the reaction products.\n",
    "\n",
    "\n",
    "For an isolated monomer with a state-transition diagram given by Equation XXX, the probability of state {math}`i` is given by\n",
    "{math}`\\pi_i = z_i / z_T` where  {math}`z_T= \\textstyle \\sum_i z_i`,\n",
    "{math}`z_a = 1`,\n",
    "{math}`z_b = \\kappab = \\kappabstar x`, and\n",
    "{math}`z_c =\\kappab \\kappac = \\kappabstar \\kappacstar x^2`. That is,\n",
    "\n",
    "\\begin{equation}\n",
    "\\pi_a =  \\frac{1}{1+ \\kappabstar x  +  \\kappabstar \\kappacstar x^2} \\, ,  \\quad \\pi_b =  \\frac{\\kappabstar x}{1+ \\kappabstar x +  \\kappabstar  \\kappacstar x^2}   \\quad \\mbox{and}  \\quad \\pi_c = \\frac{\\kappabstar  \\kappacstar x^2 }{1+ \\kappabstar x +  \\kappabstar \\kappacstar x^2 }  \\, .\n",
    "\\end{equation}\n",
    "\n",
    "It is helpful to  present this set of rational functions using the following compact notation:\n",
    "\\begin{equation}\n",
    " [ \\pi_a  :  \\pi_b :  \\pi_c ] = [1 :\\kappab : \\kappab \\kappac ]  = [1 : \\kappabstar x :\\kappabstar \\kappacstar x^2  ] \\,  .\n",
    "\\end{equation}\n",
    "In expressions of this kind,  it is understood that\n",
    "\\begin{equation}\n",
    "[ x_1 \\! : \\! x_2 : \\! \\cdots \\! : \\! x_n ] = [ \\lambda x_1 \\! : \\! \\lambda  x_2 : \\! \\cdots \\! : \\! \\lambda  x_n ]\n",
    "\\end{equation}\n",
    "for any {math}`\\lambda \\neq 0`. Furthermore, {math}`\\lambda = 1/\\sum_i x_n` gives the probability distribution {math}`\\pi = (\\pi_1, \\pi_2, \\ldots, \\pi_n)` where {math}`1=\\sum_i \\pi_i`.\n",
    "\n",
    "One reason for using symbolic variables is that we can produce symbolic expressions important quantities using [module for graphs and digraphs](https://doc.sagemath.org/html/en/reference/graphs/index.html) available in `Sagemath`. For example, the weighted adjacency matrix associated with graph {math}`G$ above is"
   ]
  },
  {
   "cell_type": "code",
   "execution_count": null,
   "id": "ea02bcec",
   "metadata": {},
   "outputs": [],
   "source": [
    "A = G.weighted_adjacency_matrix()\n",
    "print(A)"
   ]
  },
  {
   "cell_type": "markdown",
   "id": "c5e58d55",
   "metadata": {},
   "source": [
    "If we are interested in the equilibrium probability of each state of the receptor model, it is sufficient to consider the rooted spanning tree"
   ]
  },
  {
   "cell_type": "code",
   "execution_count": null,
   "id": "765a3fb7",
   "metadata": {},
   "outputs": [],
   "source": [
    "var('a b c kappa_b kappa_c')\n",
    "T = DiGraph([[a,b,c],[(b,a),(c,b)]])\n",
    "T.set_edge_label(b,a,kappa_b)\n",
    "T.set_edge_label(c,b,kappa_c)\n",
    "T.plot(figsize=4,edge_labels=True)"
   ]
  },
  {
   "cell_type": "markdown",
   "id": "24d686a1",
   "metadata": {},
   "source": [
    "[To be completed]\n",
    "\n",
    "\n",
    "# Scraps"
   ]
  },
  {
   "cell_type": "code",
   "execution_count": null,
   "id": "2721ff1c",
   "metadata": {},
   "outputs": [],
   "source": [
    "B = T.weighted_adjacency_matrix()\n",
    "print(B)\n",
    "print(B**2)\n",
    "print(B**3)"
   ]
  },
  {
   "cell_type": "code",
   "execution_count": null,
   "id": "3a4da554",
   "metadata": {},
   "outputs": [],
   "source": [
    "print(B)\n",
    "print(B**2)\n",
    "print(B**3)"
   ]
  },
  {
   "cell_type": "code",
   "execution_count": null,
   "id": "5e2e88ba",
   "metadata": {},
   "outputs": [],
   "source": [
    "G=graphs.PathGraph(3)\n",
    "G.show(figsize=4)"
   ]
  },
  {
   "cell_type": "code",
   "execution_count": null,
   "id": "d861deee",
   "metadata": {},
   "outputs": [],
   "source": [
    "G.relabel(dict({0: 'a', 1: 'b', 2: 'c'}))\n",
    "G.show(figsize=4)"
   ]
  },
  {
   "cell_type": "code",
   "execution_count": null,
   "id": "1829b56a",
   "metadata": {},
   "outputs": [],
   "source": [
    "kappab = var(\"kappab\", latex_name=r\"\\kappa_b\")\n",
    "kappac = var(\"kappac\", latex_name=r\"\\kappa_c\")\n",
    "x = var(\"x\", latex_name=r\"x\")\n",
    "G.set_edge_label('a','b',kappab*x)\n",
    "G.set_edge_label('b','c',kappab*kappac*x^2)\n",
    "G.show(edge_labels=True,figsize=8)\n",
    "f=kappab*kappac*x^2\n",
    "f.show()\n",
    "show(f)\n",
    "print(f)"
   ]
  },
  {
   "cell_type": "code",
   "execution_count": null,
   "id": "fce796f0",
   "metadata": {},
   "outputs": [],
   "source": [
    "G=graphs.PathGraph(3).to_directed()\n",
    "G.relabel({0:'R',1:'LR',2:'LLR'})\n",
    "G.set_edge_label('R','LR','kap*L')\n",
    "G.set_edge_label('LR','R','kam')\n",
    "G.set_edge_label('LR','LLR','kbp*L')\n",
    "G.set_edge_label('LLR','LR','kbm')\n",
    "G.show(edge_labels=True,figsize=4,talk=True)\n",
    "G.plot(edge_labels=True,figsize=4,talk=True)"
   ]
  },
  {
   "cell_type": "markdown",
   "id": "7272fca9",
   "metadata": {},
   "source": [
    "## References \n",
    "\n",
    "```{bibliography}\n",
    ":filter: docname in docnames\n",
    "```"
   ]
  }
 ],
 "metadata": {
  "jupytext": {
   "cell_metadata_filter": "-all",
   "formats": "md:myst",
   "text_representation": {
    "extension": ".md",
    "format_name": "myst",
    "format_version": 0.13,
    "jupytext_version": "1.10.3"
   }
  },
  "kernelspec": {
   "display_name": "SageMath 10",
   "language": "sage",
   "name": "sage-10.0"
  },
  "source_map": [
   14,
   30,
   34,
   39,
   41,
   44,
   46,
   56,
   59,
   71,
   76,
   83,
   86,
   90,
   92,
   95,
   97,
   104,
   106,
   109,
   113,
   115,
   119,
   121,
   131,
   137,
   141,
   150,
   153,
   157,
   161,
   165,
   173,
   201,
   204,
   208,
   214,
   222,
   229,
   237,
   242,
   247,
   260,
   269
  ]
 },
 "nbformat": 4,
 "nbformat_minor": 5
}