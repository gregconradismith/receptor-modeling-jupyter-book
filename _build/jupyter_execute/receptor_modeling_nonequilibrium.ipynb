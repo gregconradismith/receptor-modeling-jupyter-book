{
 "cells": [
  {
   "cell_type": "markdown",
   "id": "f537b11d",
   "metadata": {},
   "source": [
    "```{math}\n",
    "\\def\\bpi{\\boldsymbol{\\pi}}\n",
    "\\def\\bpit{\\boldsymbol{\\pi}^{\\,T}}\n",
    "\\def\\bzero{\\boldsymbol{0}}\n",
    "\\def\\be{\\boldsymbol{e}}\n",
    "```\n",
    "\n",
    "# Non-equilibrium steady states\n",
    "\n",
    "The equilibrium formulation assumes detailed balance. However, when the state-transition diagram of a receptor model includes cycles, the steady-state probability distribution may not satisfy detailed balance.\n",
    "\n",
    "Let us consider again the following state-transition diagram."
   ]
  },
  {
   "cell_type": "code",
   "execution_count": null,
   "id": "4f8278b3",
   "metadata": {},
   "outputs": [],
   "source": [
    "var('a12, a21, a13, a31, a23, a32, a34, a43')\n",
    "d = {1: {2:a12, 3:a13}, 2: {1:a21, 3:a23}, 3: {2:a32, 1:a31, 4:a34}, 4: {3:a43}};\n",
    "G = DiGraph(d,weighted=True)\n",
    "vertex_positions = {1: (0, 0), 2: (1, 1.41), 3: (2, 0), 4: (4,0)}\n",
    "G.plot(figsize=8,edge_labels=True,pos=vertex_positions,graph_border=True)"
   ]
  },
  {
   "cell_type": "markdown",
   "id": "edbc12ad",
   "metadata": {},
   "source": [
    "## Generator matrix \n",
    "\n",
    "The generator matrix {math}`Q` for the Markov chain associated to {math}`G` can be constructed from the weighted adjacency matrix {math}`A`, given by"
   ]
  },
  {
   "cell_type": "code",
   "execution_count": null,
   "id": "0b401035",
   "metadata": {},
   "outputs": [],
   "source": [
    "A = matrix(SR,G.weighted_adjacency_matrix())\n",
    "print(A)\n",
    "print(A.rank())\n",
    "type(A)"
   ]
  },
  {
   "cell_type": "markdown",
   "id": "6ebaa3e5",
   "metadata": {},
   "source": [
    "```{warning}\n",
    "I'm not sure why the above code doesn't work. I changed it to explicitly use SR.\n",
    "```"
   ]
  },
  {
   "cell_type": "code",
   "execution_count": null,
   "id": "b386479a",
   "metadata": {},
   "outputs": [],
   "source": [
    "A = matrix(SR,[[0,a12,a13,0],[a21,0,a23,0],[a31,a32,0,a34],[0,0,a43,0]])\n",
    "print(A)\n",
    "print(A.rank())\n",
    "type(A)"
   ]
  },
  {
   "cell_type": "code",
   "execution_count": null,
   "id": "580c6442",
   "metadata": {},
   "outputs": [],
   "source": [
    "var('a12, a21, a13, a31, a23, a32, a34, a43')\n",
    "d = {1: {2:a12, 3:a13}, 2: {1:a21, 3:a23}, 3: {2:a32, 1:a31, 4:a34}, 4: {3:a43}};\n",
    "G = DiGraph(d,weighted=True)\n",
    "Q = A - diagonal_matrix(sum(A.T))\n",
    "print(Q)\n",
    "print('The rank of Q is',Q.rank())\n",
    "type(Q)"
   ]
  },
  {
   "cell_type": "markdown",
   "id": "4cfa95ea",
   "metadata": {},
   "source": [
    "Another way to write this is {math}`Q = A - \\text{diag}(A\\be)` where {math}`\\be` is a commensurate column vector of 1s. The following code confirms that {math}`Q \\be = \\bzero`, i.e., each row of {math}`Q` sums to zero."
   ]
  },
  {
   "cell_type": "code",
   "execution_count": null,
   "id": "ac628e35",
   "metadata": {},
   "outputs": [],
   "source": [
    "e = matrix([1,1,1,1]).T\n",
    "print(Q*e)"
   ]
  },
  {
   "cell_type": "markdown",
   "id": "00b40582",
   "metadata": {},
   "source": [
    "The matrix \n",
    "{math}`Q` is referred to as the generator matrix for the Markov chain because the probability distribution {math}`\\bpit` solves {math}`d\\bpit/dt = \\bpit Q`.  \n",
    "\n",
    "```{note}\n",
    "The probability distribution {math}`\\bpit` is a row vector.\n",
    "```\n",
    "\n",
    "The steady-state probability distribution solves {math}`\\bpit Q = \\bzero` subject to {math}`\\bpit \\be = 1`.  This expression is equivalent to {math}`\\sum_i \\pi_i = 1` (conservation of probability).\n",
    "\n",
    "\n",
    "## Symbolic solution\n",
    "\n",
    "\n",
    "We will symbolically solve {math}`\\bpit Q = \\bzero` subject to {math}`\\bpit \\be = 1`.  \n",
    "\n",
    "To begin, we will unpack the four linear equations of {math}`\\bpit Q = \\bzero`, which is compact notation for four linear equations."
   ]
  },
  {
   "cell_type": "code",
   "execution_count": null,
   "id": "b0e89efe",
   "metadata": {},
   "outputs": [],
   "source": [
    "var('p1 p2 p3 p4')\n",
    "p = vector([p1, p2, p3, p4])\n",
    "pQ = p*Q\n",
    "eq =[]\n",
    "for lhs in pQ:\n",
    "    print(lhs == 0)\n",
    "    eq.append(lhs == 0)"
   ]
  },
  {
   "cell_type": "markdown",
   "id": "e9efe533",
   "metadata": {},
   "source": [
    "Note that {math}`Q` is rank 3, in spite of being {math}`4\\times 4`."
   ]
  },
  {
   "cell_type": "code",
   "execution_count": null,
   "id": "cab3f9c5",
   "metadata": {},
   "outputs": [],
   "source": [
    "print(Q.rank())"
   ]
  },
  {
   "cell_type": "markdown",
   "id": "37857360",
   "metadata": {},
   "source": [
    "This means that the fourth equation (`a34*p3 - a43*p4 == 0`) is superfluous because {math}`Q` is rank 3, in spite of being {math}`4\\times 4`.  We will replace this equation by the condition `p1+p2+p3+p4 == 1`."
   ]
  },
  {
   "cell_type": "code",
   "execution_count": null,
   "id": "8093bc43",
   "metadata": {},
   "outputs": [],
   "source": [
    "eq[-1] = p1+p2+p3+p4 == 1\n",
    "for q in eq:\n",
    "    print(q)"
   ]
  },
  {
   "cell_type": "markdown",
   "id": "405d2951",
   "metadata": {},
   "source": [
    "This system of four linear equations can now be solved to obtain the steady-state probability distribution."
   ]
  },
  {
   "cell_type": "code",
   "execution_count": null,
   "id": "7f5bb77f",
   "metadata": {},
   "outputs": [],
   "source": [
    "z = solve(eq,list(p))\n",
    "for i in range(4):\n",
    "    f = z[0][i].rhs()\n",
    "    print('p%s' % (i+1),'=',f.expand().factor())"
   ]
  },
  {
   "cell_type": "markdown",
   "id": "41e133cb",
   "metadata": {},
   "source": [
    "This solution can be written more compactly as follows.\n",
    "\n",
    "```{math}\n",
    ":label: Eq:P1234\n",
    "p_1 & = \\frac{z_1}{z_1+z_2+z_3+z_4}\\\\\n",
    "p_2 & = \\frac{z_2}{z_1+z_2+z_3+z_4}\\\\\n",
    "p_3 & = \\frac{z_3}{z_1+z_2+z_3+z_4}\\\\\n",
    "p_4 & = \\frac{z_4}{z_1+z_2+z_3+z_4}\n",
    "```\n",
    "where\n",
    "\\begin{align*}\n",
    "z_1 & = (a_{21} a_{31} + a_{23} a_{31} + a_{21} a_{32} ) a_{43}\\\\\n",
    "z_2 & = (a_{12} a_{31} + a_{12} a_{32} + a_{13} a_{32} ) a_{43}\\\\\n",
    "z_3 & = (a_{13} a_{21} + a_{12} a_{23} + a_{13} a_{23} ) a_{43}\\\\\n",
    "z_4 & = (a_{13} a_{21} + a_{12} a_{23} + a_{13} a_{23} ) a_{34} \\, .\n",
    "\\end{align*}\n",
    "\n",
    "\n",
    "This probability distribution is a _non-equilibrium steady state_.  To see this, check to see if the distribution satisfies detailed balance, i.e., {math}`a_{ij} \\pi_i = a_{ji} \\pi_j`. Using the note above, we see that detailed balance implies {math}`a_{ij} z_i = a_{ji} z_j`, but {math}`a_{01} z_0 \\neq a_{10} z_1`.\n",
    "\n",
    "\n",
    "## [Komolgorov's criterion](https://en.wikipedia.org/wiki/Kolmogorov%27s_criterion) and equilibrium\n",
    "\n",
    "If the product of rate constants around the cycle is the same in both directions, i.e., `a12*a23*a31=a13*a32*a21` [Komolgorov's criterion](https://en.wikipedia.org/wiki/Kolmogorov%27s_criterion) is satisfied.  In this case, the steady-state probability distribution is guaranteed to satisfy detailed balance.  The code below usings this condition to repace `a12` by `a13*a32*a21/(a23*a31)`."
   ]
  },
  {
   "cell_type": "code",
   "execution_count": null,
   "id": "512535da",
   "metadata": {
    "tags": [
     "hide-cell"
    ]
   },
   "outputs": [],
   "source": [
    "def mysolve(p,Q):\n",
    "    pQ = p*Q\n",
    "    eq =[]\n",
    "    for lhs in pQ:\n",
    "       eq.append(lhs == 0)\n",
    "    eq[-1] = p1+p2+p3+p4 == 1\n",
    "    z = solve(eq,list(p))\n",
    "    for i in range(4):\n",
    "        f = z[0][i].rhs()\n",
    "        print('p%s' % (i+1),'=',f.expand().factor())"
   ]
  },
  {
   "cell_type": "markdown",
   "id": "3614417e",
   "metadata": {},
   "source": [
    "The equilibrium steady-state probability distribution assuming the Komolgorov condition is"
   ]
  },
  {
   "cell_type": "code",
   "execution_count": null,
   "id": "65384543",
   "metadata": {},
   "outputs": [],
   "source": [
    "Q = Q.subs(a31=a13*a32*a21/(a12*a23))\n",
    "mysolve(p,Q)"
   ]
  },
  {
   "cell_type": "markdown",
   "id": "8c70fa11",
   "metadata": {},
   "source": [
    "which can be written more compactly using {eq}`Eq:P1234` and\n",
    "\\begin{align*}\n",
    "z_1 & = a_{21} a_{32} a_{43}\\\\\n",
    "z_2 & = a_{12} a_{32} a_{43}\\\\\n",
    "z_3 & = a_{12} a_{23} a_{43}\\\\\n",
    "z_4 & = a_{12} a_{23} a_{34} \\, .\n",
    "\\end{align*}\n",
    "\n",
    "As required, this distribution satisfies detailed balance, i.e., {math}`a_{ij} \\pi_i = a_{ji} \\pi_j`. \n",
    "\n",
    "Detailed balance implies that the steady-state probability distribution can be written in terms of equilibrium constants (as opposed to rate constants).  Define {math}`\\kappa_{j}=a_{ij}/a{ji}` for {math}`i < j` whenever vertex {math}`i` and {math}`j` are adjacent.\n",
    "\n",
    "Dividing the numerator and denominator of each {math}`\\pi_i` by {math}`a_{12}a_{23}a_{34}` yields {math}`z_1 = 1`,   {math}`z_2 = \\kappa_{2}`,  {math}`z_3 = \\kappa_{2}\\kappa_{3}`, and {math}`z_4 =  \\kappa_{2} \\kappa_{3} \\kappa_{4}`.\n",
    "\n",
    "\n",
    "In the notation of the [equilibrium formulation](receptor_modeling_equilibrium_formalism), this corresponds to the spanning tree"
   ]
  },
  {
   "cell_type": "code",
   "execution_count": null,
   "id": "019fc415",
   "metadata": {},
   "outputs": [],
   "source": [
    "var('kappa_2, kappa_3, kappa_4')\n",
    "d = {2: {1:kappa_2}, 3: {2:kappa_3}, 4: {3:kappa_4}};\n",
    "G = DiGraph(d,weighted=True)\n",
    "vertex_positions = {1: (0, 0), 2: (1, 1.41), 3: (2, 0), 4: (4,0)}\n",
    "G.plot(figsize=8,edge_labels=True,pos=vertex_positions,graph_border=True)"
   ]
  },
  {
   "cell_type": "markdown",
   "id": "c128006f",
   "metadata": {},
   "source": [
    "and its associated relative probabilities:\n",
    "\n",
    "\\begin{equation}\n",
    " [ \\pi_1  :  \\pi_2 :  \\pi_3 :  \\pi_4] = [1 :\\kappa_{2} : \\kappa_{2} \\kappa_{3} :  \\kappa_{2} \\kappa_{3} \\kappa_{4} ] \\,  .\n",
    "\\end{equation}"
   ]
  }
 ],
 "metadata": {
  "jupytext": {
   "cell_metadata_filter": "-all",
   "formats": "md:myst",
   "text_representation": {
    "extension": ".md",
    "format_name": "myst",
    "format_version": 0.13,
    "jupytext_version": "1.10.3"
   }
  },
  "kernelspec": {
   "display_name": "SageMath 10",
   "language": "sage",
   "name": "sage-10.0"
  },
  "source_map": [
   14,
   29,
   35,
   40,
   45,
   50,
   57,
   65,
   69,
   72,
   91,
   99,
   102,
   104,
   108,
   112,
   116,
   121,
   148,
   160,
   163,
   166,
   183,
   189
  ]
 },
 "nbformat": 4,
 "nbformat_minor": 5
}