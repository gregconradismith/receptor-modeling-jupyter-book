{
 "cells": [
  {
   "cell_type": "markdown",
   "id": "2a1b2fad",
   "metadata": {},
   "source": [
    "# Receptor models\n",
    "\n",
    "\n",
    "Quantitative pharmacologists construct models of relationship between ligand concentration and the fraction of cell surface receptors in each of several molecular conformations. These models give insight into the action of natural ligands and drugs on receptor-mediated cell responses.  A good starting point for review of receptor modeling is \n",
    "\n",
    "* Kenakin, T. P. (2018). [A Pharmacology Primer: Techniques for More Effective and Strategic Drug Discovery.](https://www.amazon.com/Pharmacology-Primer-Techniques-Effective-Strategic/dp/0128139579/) Academic Press. {cite}`Kenakin2018`\n",
    "\n",
    "An introction to this topic for undergraduate neuroscienc majors is __Ligands, Receptors, and Rate Laws__, Chapter 4 of [Cellular Biophysics \\& Modeling: a primer on the computational biology of excitable cells](https://www.cambridge.org/core/books/cellular-biophysics-and-modeling/0C728F4C44D89D8F3BA62E41A0D7336F). Cambridge University Press, 2019.\n",
    "\n",
    "## States and transitions\n",
    "\n",
    "The process of receptor modeling often begins by specifying the molecular conformations (states) to be considered and the transitions between these states.  \n",
    "\n",
    "### Undirected graphs as state-transition diagrams\n",
    "\n",
    "For example, the following graph may represent a receptor model that has four states:"
   ]
  },
  {
   "cell_type": "code",
   "execution_count": null,
   "id": "a2932101",
   "metadata": {},
   "outputs": [],
   "source": [
    "G_undirected = Graph({1: [2, 3], 2: [3], 3: [4]})\n",
    "vertex_positions = {1: (0, 0), 2: (1, 1.41), 3: (2, 0), 4: (4,0)}\n",
    "G_undirected.plot(figsize=8,pos=vertex_positions,graph_border=True)"
   ]
  },
  {
   "cell_type": "markdown",
   "id": "732523ef",
   "metadata": {},
   "source": [
    "The graph `G_undirected` is constructed by calling the Sagemath command [`Graph()`](https://doc.sagemath.org/html/en/reference/graphs/sage/graphs/graph.html#supported-formats) with a dictionary that associates neighbors to each vertex.  The vertices of the graph `G` are the integers 1, 2, 3, and 4.  The method `plot()` shows the graph `G_undirected` using a dictionary `vertex_positions` that specifies the locations of each vertex.\n",
    "\n",
    "The adjacency matrix of this graph is"
   ]
  },
  {
   "cell_type": "code",
   "execution_count": null,
   "id": "34ef8516",
   "metadata": {},
   "outputs": [],
   "source": [
    "G_undirected.adjacency_matrix()"
   ]
  },
  {
   "cell_type": "markdown",
   "id": "a23ad1e7",
   "metadata": {},
   "source": [
    "The incidence matrix of this graph is"
   ]
  },
  {
   "cell_type": "code",
   "execution_count": null,
   "id": "6b591097",
   "metadata": {},
   "outputs": [],
   "source": [
    "G_undirected.incidence_matrix()"
   ]
  },
  {
   "cell_type": "markdown",
   "id": "e3faab68",
   "metadata": {},
   "source": [
    "```{note}\n",
    "The graphs used here to represent receptor states and transitions will be both connected and simple.\n",
    "* _Connected_: at least one path joins every pair of vertices.\n",
    "* _Simple_: no loops or multiple edges.\n",
    "```\n",
    "\n",
    "### Directed graphs as state-transition diagrams \n",
    "\n",
    "In the context of receptor modeling, the undirected graph above is interpreted as a short-hand for the following _directed_ graph."
   ]
  },
  {
   "cell_type": "code",
   "execution_count": null,
   "id": "a26b9e4b",
   "metadata": {},
   "outputs": [],
   "source": [
    "G_directed = G_undirected.to_directed()\n",
    "G_directed.plot(figsize=8,edge_labels=True,pos=vertex_positions,graph_border=True)"
   ]
  },
  {
   "cell_type": "markdown",
   "id": "49c6d1dc",
   "metadata": {},
   "source": [
    "The method `to_directed()` produces `G_directed` as the _symmetric_ digraph associated to `G_undirected`, in which adjacent vertices are  connected in both directions.\n",
    "\n",
    "```{note}\n",
    "Receptor state-transition diagrams  will always be symmetric directed graphs, that is, for every edge from vertex `i` to vertex `j`, there is also an edge from vertex `j` to vertex `i`.  Thus, the state-transtion diagrams for a receptor model may, for simplicity, be illustrated as an undirected graph.\n",
    "```\n",
    "\n",
    "## Transition rate constants \n",
    "\n",
    "In the context of receptor modeling, state-transition diagrams are usually _weighted_, as shown here."
   ]
  },
  {
   "cell_type": "code",
   "execution_count": null,
   "id": "b716f3a9",
   "metadata": {},
   "outputs": [],
   "source": [
    "var('a12, a21, a13, a31, a23, a32, a34, a43')\n",
    "d = {1: {2:a12, 3:a13}, 2: {1:a21, 3:a23}, 3: {2:a32, 1:a31, 4:a34}, 4: {3:a43}};\n",
    "G = DiGraph(d,weighted=True)\n",
    "G.plot(figsize=8,edge_labels=True,pos=vertex_positions,graph_border=True)"
   ]
  },
  {
   "cell_type": "markdown",
   "id": "c6fa127a",
   "metadata": {},
   "source": [
    "In the code above, a directed graph `G` is constructed by calling the Sagemath command [`DiGraph()`](https://doc.sagemath.org/html/en/reference/graphs/sage/graphs/digraph.html#methods).  The input argument `d` is a [Python dictionary](https://doc.sagemath.org/html/en/thematic_tutorials/tutorial-programming-python.html) that assigns out-neighbors to each vertex and corresponding edge labels.\n",
    "The edge labels are not _strings_, but _symbolic variables_ defined using Sagemath's `var` command.\n",
    "For example, the symbolic variable `a12` stands for the rate of transition between state 1 and 2. \n",
    "\n",
    "Because these rate constants are symbolic variables, Sagemath will evaluate expressions such as"
   ]
  },
  {
   "cell_type": "code",
   "execution_count": null,
   "id": "fc739664",
   "metadata": {},
   "outputs": [],
   "source": [
    "f = a12 * (a21 + a13)^2 / a13\n",
    "f.expand()"
   ]
  },
  {
   "cell_type": "markdown",
   "id": "4047d137",
   "metadata": {},
   "source": [
    "One reason for using symbolic variables is that we can produce symbolic expressions important quantities using [module for graphs and digraphs](https://doc.sagemath.org/html/en/reference/graphs/index.html) available in `Sagemath`. For example, the weighted adjacency matrix for `G` is"
   ]
  },
  {
   "cell_type": "code",
   "execution_count": null,
   "id": "96bce9e6",
   "metadata": {},
   "outputs": [],
   "source": [
    "G.weighted_adjacency_matrix()"
   ]
  },
  {
   "cell_type": "markdown",
   "id": "985bc1b6",
   "metadata": {},
   "source": [
    "The Laplacian of `G` is"
   ]
  },
  {
   "cell_type": "code",
   "execution_count": null,
   "id": "3bc901e0",
   "metadata": {},
   "outputs": [],
   "source": [
    "G.laplacian_matrix()"
   ]
  },
  {
   "cell_type": "markdown",
   "id": "f23d2a79",
   "metadata": {},
   "source": [
    "This matrix is sometimes referred to as the `combinatorial Laplacian matrix` of the weighted directed graph `G`."
   ]
  }
 ],
 "metadata": {
  "jupytext": {
   "cell_metadata_filter": "-all",
   "formats": "md:myst",
   "text_representation": {
    "extension": ".md",
    "format_name": "myst",
    "format_version": 0.13,
    "jupytext_version": "1.10.3"
   }
  },
  "kernelspec": {
   "display_name": "SageMath 10",
   "language": "sage",
   "name": "sage-10.0"
  },
  "source_map": [
   14,
   34,
   38,
   43,
   45,
   48,
   50,
   62,
   65,
   77,
   82,
   89,
   92,
   96,
   98,
   101,
   103
  ]
 },
 "nbformat": 4,
 "nbformat_minor": 5
}