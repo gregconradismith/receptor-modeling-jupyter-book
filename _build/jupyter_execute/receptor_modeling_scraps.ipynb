{
 "cells": [
  {
   "cell_type": "markdown",
   "id": "921dfbe7",
   "metadata": {},
   "source": [
    "# Non-equilibrium steady states\n",
    "\n",
    "The equilibrium formulation assumes detailed balance. However, when the state-transition diagram of a receptor model includes cycles, the steady-state probability distribution may not satisfy detailed balance.\n",
    "\n",
    "Let us consider again the following state-transition diagram."
   ]
  },
  {
   "cell_type": "code",
   "execution_count": 1,
   "id": "2865c6f5",
   "metadata": {},
   "outputs": [
    {
     "ename": "NameError",
     "evalue": "name 'vertex_positions' is not defined",
     "output_type": "error",
     "traceback": [
      "\u001b[0;31m---------------------------------------------------------------------------\u001b[0m",
      "\u001b[0;31mNameError\u001b[0m                                 Traceback (most recent call last)",
      "Cell \u001b[0;32mIn [1], line 4\u001b[0m\n\u001b[1;32m      2\u001b[0m d \u001b[38;5;241m=\u001b[39m {Integer(\u001b[38;5;241m1\u001b[39m): {Integer(\u001b[38;5;241m2\u001b[39m):a12, Integer(\u001b[38;5;241m3\u001b[39m):a13}, Integer(\u001b[38;5;241m2\u001b[39m): {Integer(\u001b[38;5;241m1\u001b[39m):a21, Integer(\u001b[38;5;241m3\u001b[39m):a23}, Integer(\u001b[38;5;241m3\u001b[39m): {Integer(\u001b[38;5;241m2\u001b[39m):a32, Integer(\u001b[38;5;241m1\u001b[39m):a31, Integer(\u001b[38;5;241m4\u001b[39m):a34}, Integer(\u001b[38;5;241m4\u001b[39m): {Integer(\u001b[38;5;241m3\u001b[39m):a43}};\n\u001b[1;32m      3\u001b[0m G \u001b[38;5;241m=\u001b[39m DiGraph(d,weighted\u001b[38;5;241m=\u001b[39m\u001b[38;5;28;01mTrue\u001b[39;00m)\n\u001b[0;32m----> 4\u001b[0m G\u001b[38;5;241m.\u001b[39mplot(figsize\u001b[38;5;241m=\u001b[39mInteger(\u001b[38;5;241m8\u001b[39m),edge_labels\u001b[38;5;241m=\u001b[39m\u001b[38;5;28;01mTrue\u001b[39;00m,pos\u001b[38;5;241m=\u001b[39m\u001b[43mvertex_positions\u001b[49m,graph_border\u001b[38;5;241m=\u001b[39m\u001b[38;5;28;01mTrue\u001b[39;00m)\n",
      "\u001b[0;31mNameError\u001b[0m: name 'vertex_positions' is not defined"
     ]
    }
   ],
   "source": [
    "var('a12, a21, a13, a31, a23, a32, a34, a43')\n",
    "d = {1: {2:a12, 3:a13}, 2: {1:a21, 3:a23}, 3: {2:a32, 1:a31, 4:a34}, 4: {3:a43}};\n",
    "G = DiGraph(d,weighted=True)\n",
    "G.plot(figsize=8,edge_labels=True,pos=vertex_positions,graph_border=True)"
   ]
  },
  {
   "cell_type": "markdown",
   "id": "69571e6d",
   "metadata": {},
   "source": [
    "The weighted adjacency matrix for `G` is"
   ]
  },
  {
   "cell_type": "code",
   "execution_count": null,
   "id": "938ee6b7",
   "metadata": {},
   "outputs": [],
   "source": [
    "A = G.weighted_adjacency_matrix()\n",
    "A"
   ]
  },
  {
   "cell_type": "markdown",
   "id": "ae821f80",
   "metadata": {},
   "source": [
    "## Generator matrix and Laplacian \n",
    "\n",
    "The generator matrix `Q` for the Markov chain associated to `G` can be constructed from the weighted adjacency matrix `A` as folows."
   ]
  },
  {
   "cell_type": "code",
   "execution_count": null,
   "id": "c6e9a569",
   "metadata": {},
   "outputs": [],
   "source": [
    "Q = A - diagonal_matrix(sum(A.T))"
   ]
  },
  {
   "cell_type": "markdown",
   "id": "7f1056a5",
   "metadata": {},
   "source": [
    "Equivalently, the generator matrix `Q` is the opposite of the Laplacian matrix `L` ({math}`Q=-L`). The Laplacian of `G` is"
   ]
  },
  {
   "cell_type": "code",
   "execution_count": null,
   "id": "cc836834",
   "metadata": {},
   "outputs": [],
   "source": [
    "L = G.laplacian_matrix()\n",
    "L"
   ]
  },
  {
   "cell_type": "markdown",
   "id": "823f542a",
   "metadata": {},
   "source": [
    "## Scraps\n",
    "\n",
    "The following code defines `e` to be column vector of ones.  This is used to show that each row of `Q` sums to zero."
   ]
  },
  {
   "cell_type": "code",
   "execution_count": null,
   "id": "32f1f73a",
   "metadata": {},
   "outputs": [],
   "source": [
    "e = matrix([1,1,1,1]).T"
   ]
  },
  {
   "cell_type": "code",
   "execution_count": null,
   "id": "5fdf3465",
   "metadata": {},
   "outputs": [],
   "source": [
    "print(Q*e)"
   ]
  },
  {
   "cell_type": "markdown",
   "id": "d5157458",
   "metadata": {},
   "source": [
    "Multiplying on the left by the transpose of `e`, given by `e.T`, we see that each column of `Q` does not sum to zero."
   ]
  },
  {
   "cell_type": "code",
   "execution_count": null,
   "id": "96b4653a",
   "metadata": {},
   "outputs": [],
   "source": [
    "print(e.T*Q)"
   ]
  }
 ],
 "metadata": {
  "jupytext": {
   "cell_metadata_filter": "-all",
   "formats": "md:myst",
   "text_representation": {
    "extension": ".md",
    "format_name": "myst",
    "format_version": 0.13,
    "jupytext_version": "1.10.3"
   }
  },
  "kernelspec": {
   "display_name": "SageMath 10",
   "language": "sage",
   "name": "sage-10.0"
  },
  "language_info": {
   "codemirror_mode": {
    "name": "ipython",
    "version": 3
   },
   "file_extension": ".py",
   "mimetype": "text/x-python",
   "name": "python",
   "nbconvert_exporter": "python",
   "pygments_lexer": "ipython3",
   "version": "3.11.1"
  },
  "source_map": [
   14,
   23,
   28,
   32,
   35,
   42,
   44,
   47,
   50,
   60,
   64,
   66,
   70
  ]
 },
 "nbformat": 4,
 "nbformat_minor": 5
}