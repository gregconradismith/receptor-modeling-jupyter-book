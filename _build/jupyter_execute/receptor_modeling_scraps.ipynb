{
 "cells": [
  {
   "cell_type": "markdown",
   "id": "4d67ab80",
   "metadata": {},
   "source": [
    "# Receptor modeling - scraps"
   ]
  },
  {
   "cell_type": "code",
   "execution_count": 1,
   "id": "c6d74cc7",
   "metadata": {},
   "outputs": [
    {
     "ename": "NameError",
     "evalue": "name 'vertex_positions' is not defined",
     "output_type": "error",
     "traceback": [
      "\u001b[0;31m---------------------------------------------------------------------------\u001b[0m",
      "\u001b[0;31mNameError\u001b[0m                                 Traceback (most recent call last)",
      "Cell \u001b[0;32mIn [1], line 4\u001b[0m\n\u001b[1;32m      2\u001b[0m d \u001b[38;5;241m=\u001b[39m {Integer(\u001b[38;5;241m1\u001b[39m): {Integer(\u001b[38;5;241m2\u001b[39m):a12, Integer(\u001b[38;5;241m3\u001b[39m):a13}, Integer(\u001b[38;5;241m2\u001b[39m): {Integer(\u001b[38;5;241m1\u001b[39m):a21, Integer(\u001b[38;5;241m3\u001b[39m):a23}, Integer(\u001b[38;5;241m3\u001b[39m): {Integer(\u001b[38;5;241m2\u001b[39m):a32, Integer(\u001b[38;5;241m1\u001b[39m):a31, Integer(\u001b[38;5;241m4\u001b[39m):a34}, Integer(\u001b[38;5;241m4\u001b[39m): {Integer(\u001b[38;5;241m3\u001b[39m):a43}};\n\u001b[1;32m      3\u001b[0m G \u001b[38;5;241m=\u001b[39m DiGraph(d,weighted\u001b[38;5;241m=\u001b[39m\u001b[38;5;28;01mTrue\u001b[39;00m)\n\u001b[0;32m----> 4\u001b[0m G\u001b[38;5;241m.\u001b[39mplot(figsize\u001b[38;5;241m=\u001b[39mInteger(\u001b[38;5;241m8\u001b[39m),edge_labels\u001b[38;5;241m=\u001b[39m\u001b[38;5;28;01mTrue\u001b[39;00m,pos\u001b[38;5;241m=\u001b[39m\u001b[43mvertex_positions\u001b[49m,graph_border\u001b[38;5;241m=\u001b[39m\u001b[38;5;28;01mTrue\u001b[39;00m)\n",
      "\u001b[0;31mNameError\u001b[0m: name 'vertex_positions' is not defined"
     ]
    }
   ],
   "source": [
    "var('a12, a21, a13, a31, a23, a32, a34, a43')\n",
    "d = {1: {2:a12, 3:a13}, 2: {1:a21, 3:a23}, 3: {2:a32, 1:a31, 4:a34}, 4: {3:a43}};\n",
    "G = DiGraph(d,weighted=True)\n",
    "G.plot(figsize=8,edge_labels=True,pos=vertex_positions,graph_border=True)"
   ]
  },
  {
   "cell_type": "markdown",
   "id": "57e6e3ec",
   "metadata": {},
   "source": [
    "The weighted adjacency matrix for `G` is"
   ]
  },
  {
   "cell_type": "code",
   "execution_count": null,
   "id": "cee142d2",
   "metadata": {},
   "outputs": [],
   "source": [
    "A = G.weighted_adjacency_matrix()\n",
    "A"
   ]
  },
  {
   "cell_type": "markdown",
   "id": "5f7a5a96",
   "metadata": {},
   "source": [
    "The Laplacian of `G` is:"
   ]
  },
  {
   "cell_type": "code",
   "execution_count": null,
   "id": "e48c7223",
   "metadata": {},
   "outputs": [],
   "source": [
    "L = G.laplacian_matrix()\n",
    "L"
   ]
  },
  {
   "cell_type": "markdown",
   "id": "b66a4d79",
   "metadata": {},
   "source": [
    "This matrix is sometimes referred to as the `combinatorial Laplacian matrix` of the weighted directed graph `G`.\n",
    "\n",
    "\n",
    "## Generator matrix and Laplacian \n",
    "\n",
    "The generator matrix `Q` for the Markov chain associated to `G` can be constructed from the weighted adjacency matrix `A` as folows."
   ]
  },
  {
   "cell_type": "code",
   "execution_count": null,
   "id": "9a480401",
   "metadata": {},
   "outputs": [],
   "source": [
    "Q = A - diagonal_matrix(sum(A.T))"
   ]
  },
  {
   "cell_type": "markdown",
   "id": "b4c4ab01",
   "metadata": {},
   "source": [
    "The following code defines `e` to be column vector of ones.  This is used to show that each row of `Q` sums to zero."
   ]
  },
  {
   "cell_type": "code",
   "execution_count": null,
   "id": "1e2ba976",
   "metadata": {},
   "outputs": [],
   "source": [
    "e = matrix([1,1,1,1]).T"
   ]
  },
  {
   "cell_type": "code",
   "execution_count": null,
   "id": "6c11b9c2",
   "metadata": {},
   "outputs": [],
   "source": [
    "print(Q*e)"
   ]
  },
  {
   "cell_type": "markdown",
   "id": "42db96ef",
   "metadata": {},
   "source": [
    "Multiplying on the left by the transpose of `e`, given by `e.T`, we see that each column of `Q` does not sum to zero."
   ]
  },
  {
   "cell_type": "code",
   "execution_count": null,
   "id": "1056f405",
   "metadata": {},
   "outputs": [],
   "source": [
    "print(e.T*Q)"
   ]
  },
  {
   "cell_type": "markdown",
   "id": "1b68c27d",
   "metadata": {},
   "source": [
    "## Three state model\n",
    "\n",
    "\n",
    "As a simple example, consider a receptor model with three states arranged as follows."
   ]
  },
  {
   "cell_type": "code",
   "execution_count": null,
   "id": "b04c7c28",
   "metadata": {},
   "outputs": [],
   "source": [
    "G = DiGraph({0: {1:'a01'}, 1: {0:'a10', 2:'a12'}, 2: {1:'a21'}})\n",
    "pos = {0: (0, 0), 1: (1, 0), 2: (2, 0)}\n",
    "G.plot(figsize=4,edge_labels=True,pos=pos,graph_border=True)"
   ]
  },
  {
   "cell_type": "code",
   "execution_count": null,
   "id": "1f71232f",
   "metadata": {},
   "outputs": [],
   "source": [
    "G = DiGraph({'R': {'RL':'kap*L'}, 'RL': {'R':'kam', 'RLL':'kbp*L'}, 'RLL': {'RL':'kbm'}})\n",
    "pos = {'R': (0, 0), 'RL': (1, 0), 'RLL': (2, 0)}\n",
    "G.plot(figsize=4,edge_labels=True,pos=pos,graph_border=True,vertex_size=1000)"
   ]
  },
  {
   "cell_type": "markdown",
   "id": "2593d52d",
   "metadata": {},
   "source": [
    "When both forward and reverse transitions are explicit, the state-transition diagram has the topology of a symmetric directed version of the [path graph](example_graphs:path_graph) with 3 vertices.\n",
    "\n",
    "Here is the (undirected) path graph {math}`P_3`:"
   ]
  },
  {
   "cell_type": "code",
   "execution_count": null,
   "id": "f6f8589a",
   "metadata": {},
   "outputs": [],
   "source": [
    "G = Graph({0: [1], 1: [2]})\n",
    "G.plot(figsize=4)"
   ]
  },
  {
   "cell_type": "markdown",
   "id": "71861fe0",
   "metadata": {},
   "source": [
    "The symmetric directed version is"
   ]
  },
  {
   "cell_type": "code",
   "execution_count": null,
   "id": "eff746f1",
   "metadata": {
    "tags": [
     "hide-input"
    ]
   },
   "outputs": [],
   "source": [
    "G = DiGraph({0: [1], 1: [0,2], 2: [1]})\n",
    "G.plot(figsize=4)"
   ]
  }
 ],
 "metadata": {
  "jupytext": {
   "cell_metadata_filter": "-all",
   "formats": "md:myst",
   "text_representation": {
    "extension": ".md",
    "format_name": "myst",
    "format_version": 0.13,
    "jupytext_version": "1.10.3"
   }
  },
  "kernelspec": {
   "display_name": "SageMath 10",
   "language": "sage",
   "name": "sage-10.0"
  },
  "language_info": {
   "codemirror_mode": {
    "name": "ipython",
    "version": 3
   },
   "file_extension": ".py",
   "mimetype": "text/x-python",
   "name": "python",
   "nbconvert_exporter": "python",
   "pygments_lexer": "ipython3",
   "version": "3.11.1"
  },
  "source_map": [
   14,
   19,
   24,
   28,
   31,
   34,
   37,
   44,
   46,
   49,
   53,
   55,
   59,
   61,
   71,
   77,
   81,
   88,
   91,
   95
  ]
 },
 "nbformat": 4,
 "nbformat_minor": 5
}