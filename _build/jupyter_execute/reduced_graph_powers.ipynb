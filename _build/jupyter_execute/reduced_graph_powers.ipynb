{
 "cells": [
  {
   "cell_type": "markdown",
   "id": "6a412578",
   "metadata": {},
   "source": [
    "# Reduced graph powers\n",
    "\n",
    "The Sagemath `Graph()` object will be used for the topology of receptor models.\n",
    "\n",
    "## Simple graphs\n",
    "\n",
    "For a simple graph {math}`G=(V,E)`, we will sometimes write {math}`|V(G)|` and {math}`|E(G)|`\n",
    "for the number of vertices and edges of {math}`G`.  We assume the graph {math}`G` is connected, so the Betti number is given by\n",
    "\n",
    "```{math}\n",
    "\\beta(G)=|E(G)|-|V(G)|+1 \\, .\n",
    "```\n",
    "\n",
    "When the graph {math}`G` is understood from context, we will often use {math}`v(G)` and {math}`e(G)`, or simply {math}`v` and {math}`e`, for the number of vertices and edges of {math}`G`.\n",
    "\n",
    "The number of vertices in the reduced graph power {math}`G^{(k)}` is\n",
    "\n",
    "```{math}\n",
    "|V(G^{(k)})|=\\binom{v+k-1}{k}\n",
    "```\n",
    "\n",
    "where {math}`v=|V(G)|`. The number of edges in the reduced graph power {math}`G^{(k)}` is\n",
    "\n",
    "```{math}\n",
    ":label: number_of_edges\n",
    "|E(G^{(k)})|=e\\binom{v+k-2}{k-1}\n",
    "```\n",
    "\n",
    "where {math}`e=|E(G)|`.\n",
    "When the graph {math}`G` is understood, will sometimes abbreviate the number of vertices and edges in its reduced graph power by {math}`v^{(k)} = |V(G^{(k)})|` and {math}`e^{(k)} = |E(G^{(k)})|`.\n",
    "\n",
    "## Common named graphs\n",
    "\n",
    "### The path graph {math}`P_n`\n",
    "\n",
    "A `path graph` is a graph whose {math}`n` vertices can be listed in the order {math}`0, 1, \\ldots , n-1` such that the edges are {math}`(i, i+1)` for {math}`i = 0, 1 \\ldots , n-2`.  For example,"
   ]
  },
  {
   "cell_type": "code",
   "execution_count": null,
   "id": "dd584cf0",
   "metadata": {},
   "outputs": [],
   "source": [
    "for n in [2,4,7]:\n",
    "    graphs.PathGraph(n).show(figsize=3,graph_border=True,title='P%s:' %(n))"
   ]
  },
  {
   "cell_type": "markdown",
   "id": "ea3b8b02",
   "metadata": {},
   "source": [
    "Evidently, {math}`|V(P_n)|=n`, {math}`|E(P_n)|=n-1`, and {math}`\\beta(P_n)=0`. The number of vertices of the reduced graph power {math}`P_n^{(k)}` is {math}`|V(P_n^{(k)})|=\\binom{n+k-1}{k}`. The number of edges is {math}`|E(P_n^{(k)})|=(n-1)\\binom{n+k-2}{k-1}`. Consequently, the Betti number of the path graph on {math}`n` vertices is\n",
    "\n",
    "```{math}\n",
    "\\begin{equation}\n",
    "\\beta(P_n^{(k)}) = (n-1)\\binom{n+k-2}{k-1}-\\binom{n+k-1}{k}+1 \\, .\n",
    "\\end{equation}\n",
    "```\n",
    "\n",
    "Specializing to the case of a dimer ({math}`k=2`), we have {math}`|V(P_n^{(2)})|=\\binom{n+1}{2}`,  {math}`|E(P_n^{(2)})|=n(n-1)`, and {math}`\\beta(P_n^{(2)}) = \\binom{n-1}{2}`.\n",
    "\n",
    "```{math}\n",
    ":label: beta_for_path_graph\n",
    "\\beta(P_n^{(k)}) = (n-1)\\binom{n+k-2}{k-1}-\\binom{n+k-1}{k}+1 \\, .\n",
    "```\n",
    "\n",
    "### The cycle graph {math}`C_n`\n",
    "\n",
    "The  `cycle graph` {math}`C_n` is a graph whose {math}`n` vertices can be listed in the order {math}`0, 1, \\ldots , n` such that the edges are {math}`(i, i+1)` for {math}`i = 0, 1, \\ldots , n-2`, and also {math}`(0,n-1)`.  For example, {math}`C_5` is"
   ]
  },
  {
   "cell_type": "code",
   "execution_count": null,
   "id": "04878b19",
   "metadata": {
    "tags": [
     "hide-input"
    ]
   },
   "outputs": [],
   "source": [
    "for n in [3,5,12]:\n",
    "    graphs.CycleGraph(n).show(figsize=3,title='K%s:' %(n))"
   ]
  },
  {
   "cell_type": "markdown",
   "id": "01e6a807",
   "metadata": {},
   "source": [
    "For the cycle graph {math}`|E(C_n)|=n` and {math}`\\beta(C_n)=1`.\n",
    "\n",
    "The number of vertices of the reduced graph power {math}`C_n^{(k)}` is {math}`|V(C_n^{(k)})|=\\binom{n+k-1}{k}`. The number of edges is {math}`|E(C_n^{(k)})|=n\\binom{n+k-2}{k-1}`. The Betti number is\n",
    "\n",
    "```{math}\n",
    "\\beta(C_n^{(k)}) = n\\binom{n+k-2}{k-1}-\\binom{n+k-1}{k}+1 \\, .\n",
    "```\n",
    "\n",
    "Specializing to the case of a dimer ({math}`k=2`), we have {math}`v^{(2)}=\\binom{n+1}{2}`,  {math}`e^{(2)}=n^2`, and\n",
    "\n",
    "```{math}\n",
    "\\beta(C_n^{(2)}) =  \\binom{n}{2}+1 \n",
    "= n(n-1)/2+1 \\,.\n",
    "```\n",
    "\n",
    "### The complete graph {math}`K_n`\n",
    "\n",
    "The   `complete graph` {math}`K_n` is a graph with {math}`n` vertices and {math}`|E(K_n)|=\\binom{n}{2}` edges.\n",
    "For example, $K_5$ is"
   ]
  },
  {
   "cell_type": "code",
   "execution_count": null,
   "id": "43a1cd4f",
   "metadata": {
    "tags": [
     "hide-input"
    ]
   },
   "outputs": [],
   "source": [
    "for n in [2,4,7]:\n",
    "    graphs.CompleteGraph(n).show(figsize=3,title='C%s:' %(n))"
   ]
  },
  {
   "cell_type": "markdown",
   "id": "0d7b8ba8",
   "metadata": {},
   "source": [
    "For the complete graph, {math}`\\beta(K_n)=\\binom{n-1}{2}=(n-1)(n-2)/2`.\n",
    "\n",
    "The number of vertices of the reduced graph power ${math}`K_n^{(k)}` is {math}`|V(K_n^{(k)})|=\\binom{n+k-1}{k}`, the number of edges is {math}`|E(K_n^{(k)})|=\\binom{n}{2}\\binom{n+k-2}{k-1}`, and the Betti number is\n",
    "\n",
    "```{math}\n",
    "\\beta(K_n^{(k)}) = \\binom{n}{2}\\binom{n+k-2}{k-1}-\\binom{n+k-1}{k}+1 \\, .\n",
    "```\n",
    "\n",
    "For a dimer ({math}`k=2`), we have {math}`v^{(2)}=\\binom{n+1}{2}`,  {math}`e^{(2)}=\\binom{n}{2} n = n^2(n-1)/2`, and\n",
    "\n",
    "```{math}\n",
    "\\beta(K_n^{(2)}) = (n+1)(n-1)(n-2)/2 \\, .\n",
    "```\n",
    "\n",
    "### The hypercube graph {math}`Q_n`\n",
    "\n",
    "The `hypercube graph`  {math}`Q_n` has {math}`|V(Q_n)|=2^n` vertices and {math}`|E(Q_n)|=2^{n-1}n` edges.  For example, {math}`Q_4` is"
   ]
  },
  {
   "cell_type": "code",
   "execution_count": null,
   "id": "457aec89",
   "metadata": {
    "tags": [
     "hide-input"
    ]
   },
   "outputs": [],
   "source": [
    "for n in [2,4,5]:\n",
    "    if n>3:\n",
    "        graphs.CubeGraph(n).show(figsize=3,vertex_size=20,vertex_labels=false,title='Q%s:' %(n))\n",
    "    else:\n",
    "        graphs.CubeGraph(n).show(figsize=3,title='Q%s:' %(n))"
   ]
  },
  {
   "cell_type": "code",
   "execution_count": null,
   "id": "e3b2a49e",
   "metadata": {
    "tags": [
     "hide-input"
    ]
   },
   "outputs": [],
   "source": [
    "n=3\n",
    "graphs.CubeGraph(n).show3d(title='Q%s:' %(n))"
   ]
  },
  {
   "cell_type": "markdown",
   "id": "548c5483",
   "metadata": {},
   "source": [
    "For the hypercube graph, {math}`\\beta(Q_n)= 2^{n-1} (n-2)+1`.\n",
    "\n",
    "The number of vertices of the reduced graph power {math}`Q_n^{(k)}` is {math}`|V(Q_n^{(k)})|=\\binom{2^n+k-1}{k}`.  The number of edges is {math}`|E(Q_n^{(k)})|=2^{n-1} n \\binom{2^n+k-2}{k-1}`. The Betti number is\n",
    "\n",
    "```{math}\n",
    "\\beta(Q_n^{(k)}) =2^{n-1} n \\binom{2^n+k-2}{k-1}-\\binom{2^n+k-1}{k}+1 \\, .\n",
    "```\n",
    "\n",
    "The reduced graph product of two hypercube graphs, has {math}`|V(Q_n^{(2)})|=2^{n-1} (2^n+1)` vertices,  {math}`|E(Q_n^{(2)})| = 2^{2n-1} n` edges, and Betti number\n",
    "\n",
    "```{math}\n",
    "\\beta(Q_n^{(2)}) =  2^{2n-1} (n-1) - 2^{n-1}+1 \\, . \n",
    "```\n",
    "\n",
    "In particular, {math}`\\beta(Q_2^{(2)}) = 7` and  {math}`\\beta(Q_3^{(2)}) = 61`.\n",
    "\n",
    "An excellent resource on hypergraphs is {cite}`Harary1988`\n",
    "[{PDF}](https://www.sciencedirect.com/science/article/pii/0898122188902131).\n",
    "\n",
    "\n",
    "## References \n",
    "\n",
    "```{bibliography}\n",
    ":filter: docname in docnames\n",
    "```"
   ]
  }
 ],
 "metadata": {
  "jupytext": {
   "cell_metadata_filter": "-all",
   "formats": "md:myst",
   "text_representation": {
    "extension": ".md",
    "format_name": "myst",
    "format_version": 0.13,
    "jupytext_version": "1.10.3"
   }
  },
  "kernelspec": {
   "display_name": "SageMath 10",
   "language": "sage",
   "name": "sage-10.0"
  },
  "source_map": [
   14,
   53,
   56,
   77,
   81,
   103,
   108,
   128,
   138,
   143
  ]
 },
 "nbformat": 4,
 "nbformat_minor": 5
}