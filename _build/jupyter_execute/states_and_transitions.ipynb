{
 "cells": [
  {
   "cell_type": "markdown",
   "id": "2c183260",
   "metadata": {},
   "source": [
    "# States and transitions\n",
    "\n",
    "The process of receptor modeling often begins by specifying the molecular conformations (states) to be considered and the transitions between these states."
   ]
  },
  {
   "cell_type": "code",
   "execution_count": null,
   "id": "e577fa47",
   "metadata": {
    "tags": [
     "hide-input"
    ]
   },
   "outputs": [],
   "source": [
    "# This code block sets some default options for plotting graphs in SageMath.\n",
    "# It sets the default figure size, makes the plots transparent, displays \n",
    "# edge labels, uses the spring layout algorithm for graph layouts, and sets\n",
    "# the background color for edge labels.\n",
    "#\n",
    "# See https://doc.sagemath.org/html/en/reference/graphs/sage/graphs/graph_plot.html\n",
    "#\n",
    "\n",
    "import sage.graphs.graph_plot\n",
    "\n",
    "# Set the default figure size for plots\n",
    "sage.graphs.graph_plot.DEFAULT_PLOT_OPTIONS['figsize'] = [3,3]\n",
    "\n",
    "# Make the plots transparent\n",
    "sage.graphs.graph_plot.DEFAULT_PLOT_OPTIONS['transparent'] = True\n",
    "\n",
    "# Display edge labels in the plots\n",
    "sage.graphs.graph_plot.DEFAULT_PLOT_OPTIONS['edge_labels'] = False\n",
    "\n",
    "# Set the background color for edge labels to cyan\n",
    "sage.graphs.graph_plot.DEFAULT_PLOT_OPTIONS['edge_labels_background'] = 'cyan'"
   ]
  },
  {
   "cell_type": "markdown",
   "id": "1ef988ad",
   "metadata": {},
   "source": [
    "## Undirected graphs as state-transition diagrams\n",
    "\n",
    "For example, the following graph may represent a receptor model that has four states:"
   ]
  },
  {
   "cell_type": "code",
   "execution_count": null,
   "id": "76a5ee8b",
   "metadata": {},
   "outputs": [],
   "source": [
    "G_undirected = Graph({1: [2, 3], 2: [3], 3: [4]})\n",
    "vertex_positions = {1: (0, 0), 2: (1, 1.41), 3: (2, 0), 4: (4,0)}\n",
    "G_undirected.plot(figsize=8,pos=vertex_positions,graph_border=True)"
   ]
  },
  {
   "cell_type": "markdown",
   "id": "668205cd",
   "metadata": {},
   "source": [
    "The graph `G_undirected` is constructed by calling the Sagemath command [`Graph()`](https://doc.sagemath.org/html/en/reference/graphs/sage/graphs/graph.html#supported-formats) with a dictionary that associates neighbors to each vertex.  The vertices of the graph `G` are the integers 1, 2, 3, and 4.  The method `plot()` shows the graph `G_undirected` using a dictionary `vertex_positions` that specifies the locations of each vertex.\n",
    "\n",
    "The adjacency matrix of this graph is"
   ]
  },
  {
   "cell_type": "code",
   "execution_count": null,
   "id": "69905c6a",
   "metadata": {},
   "outputs": [],
   "source": [
    "G_undirected.adjacency_matrix()"
   ]
  },
  {
   "cell_type": "markdown",
   "id": "b0fc0af0",
   "metadata": {},
   "source": [
    "The incidence matrix of this graph is"
   ]
  },
  {
   "cell_type": "code",
   "execution_count": null,
   "id": "8afccff7",
   "metadata": {},
   "outputs": [],
   "source": [
    "G_undirected.incidence_matrix()"
   ]
  },
  {
   "cell_type": "markdown",
   "id": "da48eb0b",
   "metadata": {},
   "source": [
    "```{note}\n",
    "The graphs used here to represent receptor states and transitions will be both connected and simple.\n",
    "* _Connected_: at least one path joins every pair of vertices.\n",
    "* _Simple_: no loops or multiple edges.\n",
    "```\n",
    "\n",
    "## Directed graphs as state-transition diagrams \n",
    "\n",
    "In the context of receptor modeling, the undirected graph above is interpreted as a short-hand for the following _directed_ graph."
   ]
  },
  {
   "cell_type": "code",
   "execution_count": null,
   "id": "bc64e78e",
   "metadata": {},
   "outputs": [],
   "source": [
    "G_directed = G_undirected.to_directed()\n",
    "G_directed.plot(figsize=8,edge_labels=True,pos=vertex_positions,graph_border=True)"
   ]
  },
  {
   "cell_type": "markdown",
   "id": "4d829733",
   "metadata": {},
   "source": [
    "The method `to_directed()` produces `G_directed` as the _symmetric_ digraph associated to `G_undirected`, in which adjacent vertices are  connected in both directions.\n",
    "\n",
    "```{note}\n",
    "Receptor state-transition diagrams  will always be symmetric directed graphs, that is, for every edge from vertex `i` to vertex `j`, there is also an edge from vertex `j` to vertex `i`.  Thus, the state-transtion diagrams for a receptor model may, for simplicity, be illustrated as an undirected graph. We will refer to such undirected graphs as the _topology_ of the receptor model.\n",
    "```\n",
    "\n",
    "## Transition rate constants \n",
    "\n",
    "In the context of receptor modeling, state-transition diagrams are usually _weighted_, as shown here."
   ]
  },
  {
   "cell_type": "code",
   "execution_count": null,
   "id": "c12a5da9",
   "metadata": {},
   "outputs": [],
   "source": [
    "var('a12, a21, a13, a31, a23, a32, a34, a43')\n",
    "d = {1: {2:a12, 3:a13}, 2: {1:a21, 3:a23}, 3: {2:a32, 1:a31, 4:a34}, 4: {3:a43}};\n",
    "G = DiGraph(d,weighted=True)\n",
    "G.plot(figsize=8,edge_labels=True,pos=vertex_positions,graph_border=True)"
   ]
  },
  {
   "cell_type": "markdown",
   "id": "ace2e45a",
   "metadata": {},
   "source": [
    "In the code above, a directed graph `G` is constructed by calling the Sagemath command [`DiGraph()`](https://doc.sagemath.org/html/en/reference/graphs/sage/graphs/digraph.html#methods).  The input argument `d` is a [Python dictionary](https://doc.sagemath.org/html/en/thematic_tutorials/tutorial-programming-python.html) that assigns out-neighbors to each vertex and corresponding edge labels.\n",
    "The edge labels are not _strings_, but _symbolic variables_ defined using Sagemath's `var` command.\n",
    "For example, the symbolic variable `a12` stands for the rate of transition between state 1 and 2. \n",
    "\n",
    "Because these rate constants are symbolic variables, Sagemath will evaluate expressions such as"
   ]
  },
  {
   "cell_type": "code",
   "execution_count": null,
   "id": "6caeac5d",
   "metadata": {},
   "outputs": [],
   "source": [
    "f = a12 * (a21 + a13)^2 / a13\n",
    "f.expand()"
   ]
  },
  {
   "cell_type": "markdown",
   "id": "19ea06f7",
   "metadata": {},
   "source": [
    "One reason for using symbolic variables is that we can produce symbolic expressions important quantities using the [module for graphs and digraphs](https://doc.sagemath.org/html/en/reference/graphs/index.html) available in `Sagemath`. For example, the weighted adjacency matrix for `G` is"
   ]
  },
  {
   "cell_type": "code",
   "execution_count": null,
   "id": "11ad7042",
   "metadata": {},
   "outputs": [],
   "source": [
    "G.weighted_adjacency_matrix()"
   ]
  },
  {
   "cell_type": "markdown",
   "id": "4f62ccf8",
   "metadata": {},
   "source": [
    "The Laplacian of `G` is"
   ]
  },
  {
   "cell_type": "code",
   "execution_count": null,
   "id": "cbc7eaf0",
   "metadata": {},
   "outputs": [],
   "source": [
    "G.laplacian_matrix()"
   ]
  },
  {
   "cell_type": "markdown",
   "id": "67be82da",
   "metadata": {},
   "source": [
    "This matrix is sometimes referred to as the `combinatorial Laplacian matrix` of the weighted directed graph `G`."
   ]
  }
 ],
 "metadata": {
  "jupytext": {
   "cell_metadata_filter": "-all",
   "formats": "md:myst",
   "text_representation": {
    "extension": ".md",
    "format_name": "myst",
    "format_version": 0.13,
    "jupytext_version": "1.10.3"
   }
  },
  "kernelspec": {
   "display_name": "SageMath 10",
   "language": "sage",
   "name": "sage-10.0"
  },
  "source_map": [
   14,
   21,
   44,
   50,
   54,
   59,
   61,
   64,
   66,
   78,
   81,
   93,
   98,
   105,
   108,
   112,
   114,
   117,
   119
  ]
 },
 "nbformat": 4,
 "nbformat_minor": 5
}