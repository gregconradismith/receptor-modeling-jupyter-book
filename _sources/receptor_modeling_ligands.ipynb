{
 "cells": [
  {
   "cell_type": "markdown",
   "id": "a3f26a7b",
   "metadata": {},
   "source": [
    "# Ligand binding\n",
    "\n",
    "Usually one or more of the transitions in receptor model involve ligand binding.  For example,\n",
    "consider a receptor model with two sequential ligand binding transitions.\n",
    "\n",
    "(receptor_modeling_ligands:three_state_model)="
   ]
  },
  {
   "cell_type": "code",
   "execution_count": null,
   "id": "ae3108e4",
   "metadata": {
    "label": "my_three_state_model_code"
   },
   "outputs": [],
   "source": [
    "var('R RL RLL L kap kam kbp kbm')\n",
    "G = DiGraph({R: {RL:kap*L}, RL: {R:kam, RLL:kbp*L}, RLL: {RL:kbm}})\n",
    "pos = {R: (0, 0), RL: (2, 0), RLL: (4, 0)}\n",
    "G.plot(figsize=8,edge_labels=True,pos=pos,graph_border=True,vertex_size=1000)"
   ]
  },
  {
   "cell_type": "markdown",
   "id": "054e9c00",
   "metadata": {},
   "source": [
    "This state-transition diagram has the topology of a symmetric directed [path graph](example_graphs:path_graph) on 3 vertices.  It can be shown that the steady-state fraction of receptors in each of these three states is given by"
   ]
  },
  {
   "cell_type": "code",
   "execution_count": null,
   "id": "7d77c96d",
   "metadata": {},
   "outputs": [],
   "source": [
    "z_R = kam*kbm; z_RL = kap*L*kbm; z_RLL = kap*L*kbp*L\n",
    "z_T = z_R+z_RL+z_RLL\n",
    "R = z_R/z_T; RL = z_RL/z_T; RLL = z_RLL/z_T\n",
    "\n",
    "print('R   =',R); print('RL  =',RL); print('RLL =',RLL)"
   ]
  },
  {
   "cell_type": "markdown",
   "id": "4101cc19",
   "metadata": {},
   "source": [
    "Next we substitute values for the four rate constants and plot the resulting binding curve(s).  Each binding curve gives the fraction of receptors in a particular state (`R`, `RL`, `RLL`) as a function of ligand concentration (`L`)"
   ]
  },
  {
   "cell_type": "code",
   "execution_count": null,
   "id": "4e242ec6",
   "metadata": {},
   "outputs": [],
   "source": [
    "params = {kap:1,kam:1,kbp:10,kbm:1}\n",
    "R = R.subs(params); RL = RL.subs(params); RLL = RLL.subs(params)\n",
    "print('R   =',R); print('RL  =',RL); print('RLL =',RLL)\n",
    "\n",
    "Lmin=0.01; Lmax=100;\n",
    "\n",
    "pR   = plot_semilogx(R,  (L, Lmin, Lmax), rgbcolor=(1,0,0))\n",
    "pRL  = plot_semilogx(RL, (L, Lmin, Lmax), rgbcolor=(0,1,0))\n",
    "pRLL = plot_semilogx(RLL,(L, Lmin, Lmax), rgbcolor=(0,0,1), axes_labels=['L', 'Fraction'])\n",
    "\n",
    "show(pR+pRL+pRLL)"
   ]
  },
  {
   "cell_type": "markdown",
   "id": "4c2b231c",
   "metadata": {},
   "source": [
    "At low ligand concentration most receptors are in the unbound form (`R`, red). At high concentrations most receptors are in the doubly bound form (`RLL`, blue).\n",
    "\n",
    "For any given ligand concentration, the fraction of receptors in each of the three states sums to 1."
   ]
  },
  {
   "cell_type": "code",
   "execution_count": null,
   "id": "e2b9c61d",
   "metadata": {},
   "outputs": [],
   "source": [
    "solve(R+RL+RLL == 1,L)"
   ]
  },
  {
   "cell_type": "markdown",
   "id": "d844b418",
   "metadata": {},
   "source": [
    "## Equilibrium association constants\n",
    "\n",
    "The receptor model presented above has the property that the fraction of receptors in each state satisfy detailed balance.  As a consequence, the fraction of receptors in each state can be written in terms of the equilibrium association constants `ka=kap/kam` and `kb=kbp/kbm`.\n",
    "\n",
    "To see this, divide the numberator and denominator of the expressions for `R`, `RL`, `RLL` by `kam*kbm` to obtain"
   ]
  },
  {
   "cell_type": "code",
   "execution_count": null,
   "id": "76828c80",
   "metadata": {},
   "outputs": [],
   "source": [
    "var('ka kb')\n",
    "\n",
    "z_R = 1; z_RL = ka*L; z_RLL = ka*L*kb*L; z_T = z_R+z_RL+z_RLL\n",
    "R = z_R/z_T; RL = z_RL/z_T; RLL = z_RLL/z_T\n",
    "\n",
    "print('R =',R,'','RL =',RL,'','RLL =',RLL)"
   ]
  },
  {
   "cell_type": "markdown",
   "id": "cee5ed84",
   "metadata": {},
   "source": [
    "The filled circles on the plot below show that these expressions give the same three binding curves for `R`, `RL`, and `RLL` as a function of `L`."
   ]
  },
  {
   "cell_type": "code",
   "execution_count": null,
   "id": "53079036",
   "metadata": {},
   "outputs": [],
   "source": [
    "params = {ka:1,kb:10}\n",
    "R = R.subs(params); RL = RL.subs(params); RLL = RLL.subs(params)\n",
    "print('R   =',R); print('RL  =',RL); print('RLL =',RLL)\n",
    "\n",
    "X = [0.01,0.03,0.1,0.3,1,3,10,30,100]\n",
    "vReq = [(x, R(L=x)) for x in X]\n",
    "pReq = points(vReq, rgbcolor=(0.5,0,0), pointsize=50)\n",
    "\n",
    "vRLeq = [(x, RL(L=x)) for x in X]\n",
    "pRLeq = points(vRLeq, rgbcolor=(0.5,0.5,0), pointsize=50)\n",
    "\n",
    "vRLLeq = [(x, RLL(L=x)) for x in X]\n",
    "pRLLeq = points(vRLLeq, rgbcolor=(0,0,0.5), pointsize=50)\n",
    "\n",
    "show(pR + pRL + pRLL + pReq + pRLeq + pRLLeq)"
   ]
  },
  {
   "cell_type": "markdown",
   "id": "6db747e2",
   "metadata": {},
   "source": [
    "## Equilibrium binding curves and branchings\n",
    "\n",
    "Equilibrium binding curves can be compactly specified as a _branching_ with association constants and ligand concentrations weighting the edges.  The branching is essentially a rooted spanning tree with arrows reversed."
   ]
  },
  {
   "cell_type": "code",
   "execution_count": null,
   "id": "4bec1be7",
   "metadata": {},
   "outputs": [],
   "source": [
    "T = DiGraph({'R': {'RL':ka*L}, 'RL': {'RLL':kb*L}})\n",
    "pos = {'R': (0, 0), 'RL': (2, 0), 'RLL': (4, 0)}\n",
    "T.plot(figsize=8,edge_labels=True,pos=pos,graph_border=True,vertex_size=1000)\n"
   ]
  },
  {
   "cell_type": "markdown",
   "id": "aee51c89",
   "metadata": {},
   "source": [
    "The arrows indicate the direction of the forward reaction.  The labels on the arrow are equilibrium constants or the product of equilibrium association constant and ligand concentration. \n",
    "\n",
    "The following section presents this viewpoint in detail."
   ]
  }
 ],
 "metadata": {
  "jupytext": {
   "cell_metadata_filter": "-all",
   "formats": "md:myst",
   "text_representation": {
    "extension": ".md",
    "format_name": "myst",
    "format_version": 0.13,
    "jupytext_version": "1.10.3"
   }
  },
  "kernelspec": {
   "display_name": "SageMath 10",
   "language": "sage",
   "name": "sage-10.0"
  },
  "source_map": [
   14,
   24,
   30,
   35,
   41,
   45,
   57,
   62,
   64,
   72,
   79,
   83,
   99,
   105,
   110
  ]
 },
 "nbformat": 4,
 "nbformat_minor": 5
}