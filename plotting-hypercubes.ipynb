{
 "cells": [
  {
   "cell_type": "markdown",
   "metadata": {
    "collapsed": false
   },
   "source": [
    "# Plotting hypercube graphs\n",
    "\n"
   ]
  },
  {
   "cell_type": "code",
   "execution_count": 6,
   "metadata": {
    "collapsed": false
   },
   "outputs": [
    {
     "data": {
      "image/png": "[encoded data removed]",
      "text/plain": "Graphics object consisting of 257 graphics primitives"
     },
     "output_type": "execute_result"
    }
   ],
   "source": [
    "n=6\n",
    "g = graphs.CubeGraph(n, embedding=2)\n",
    "g.show(figsize=[12,12],vertex_labels=True, vertex_size=0,vertex_color='white',edge_thickness=0.5)"
   ]
  },
  {
   "cell_type": "code",
   "execution_count": 7,
   "metadata": {
    "collapsed": false
   },
   "outputs": [
    {
     "data": {
      "image/png": "[encoded data removed]",
      "text/plain": "Graphics object consisting of 128 graphics primitives"
     },
     "output_type": "execute_result"
    },
    {
     "name": "stdout",
     "output_type": "stream",
     "text": [
      "['000000', '010000', '001000', '000001', '000100', '000010', '100000', '011000', '010001', '010100', '010010', '110000', '001001', '001100', '001010', '101000', '000101', '000011', '100001', '000110', '100100', '100010', '011001', '011100', '011010', '111000', '010101', '010011', '110001', '010110', '110100', '110010', '001101', '001011', '101001', '001110', '101100', '101010', '000111', '100101', '100011', '100110', '011101', '011011', '111001', '011110', '111100', '111010', '010111', '110101', '110011', '110110', '001111', '101101', '101011', '101110', '100111', '011111', '111101', '111011', '111110', '110111', '101111', '111111']\n",
      "{'000000': 0, '010000': 1, '001000': 2, '000001': 3, '000100': 4, '000010': 5, '100000': 6, '011000': 7, '010001': 8, '010100': 9, '010010': 10, '110000': 11, '001001': 12, '001100': 13, '001010': 14, '101000': 15, '000101': 16, '000011': 17, '100001': 18, '000110': 19, '100100': 20, '100010': 21, '011001': 22, '011100': 23, '011010': 24, '111000': 25, '010101': 26, '010011': 27, '110001': 28, '010110': 29, '110100': 30, '110010': 31, '001101': 32, '001011': 33, '101001': 34, '001110': 35, '101100': 36, '101010': 37, '000111': 38, '100101': 39, '100011': 40, '100110': 41, '011101': 42, '011011': 43, '111001': 44, '011110': 45, '111100': 46, '111010': 47, '010111': 48, '110101': 49, '110011': 50, '110110': 51, '001111': 52, '101101': 53, '101011': 54, '101110': 55, '100111': 56, '011111': 57, '111101': 58, '111011': 59, '111110': 60, '110111': 61, '101111': 62, '111111': 63}\n"
     ]
    }
   ],
   "source": [
    "(BFSVertexList,BFSTree) = g.lex_BFS(tree=True,initial_vertex=\"0\" * n)\n",
    "BFSTree = BFSTree.to_undirected()\n",
    "BFSTree.show(figsize=[12,12], vertex_labels=True, \n",
    "             vertex_size=0, vertex_color='white', edge_thickness=0.4, pos=g.get_pos())\n",
    "print(BFSVertexList)\n",
    "d = dict((BFSVertexList[i],i) for i in range(len(BFSVertexList)))\n",
    "print(d)"
   ]
  },
  {
   "cell_type": "code",
   "execution_count": 8,
   "metadata": {
    "collapsed": false
   },
   "outputs": [
    {
     "name": "stdout",
     "output_type": "stream",
     "text": [
      "[1, 0, 1, 0, 1, 0]\n"
     ]
    }
   ],
   "source": [
    "binary_string = \"101010\"  # Replace this with your binary string\n",
    "binary_list = [int(bit) for bit in binary_string]\n",
    "print(binary_list)"
   ]
  },
  {
   "cell_type": "code",
   "execution_count": 0,
   "metadata": {
    "collapsed": false
   },
   "outputs": [
   ],
   "source": [
   ]
  }
 ],
 "metadata": {
  "kernelspec": {
   "argv": [
    "sage-10.0",
    "--python",
    "-m",
    "sage.repl.ipython_kernel",
    "--matplotlib=inline",
    "-f",
    "{connection_file}"
   ],
   "display_name": "SageMath 10.0",
   "env": {
   },
   "language": "sagemath",
   "metadata": {
    "cocalc": {
     "description": "Open-source mathematical software system",
     "priority": 1,
     "url": "https://www.sagemath.org/"
    }
   },
   "name": "sage-10.0",
   "resource_dir": "/ext/jupyter/kernels/sage-10.0"
  },
  "language_info": {
   "codemirror_mode": {
    "name": "ipython",
    "version": 3
   },
   "file_extension": ".py",
   "mimetype": "text/x-python",
   "name": "python",
   "nbconvert_exporter": "python",
   "pygments_lexer": "ipython3",
   "version": "3.11.1"
  }
 },
 "nbformat": 4,
 "nbformat_minor": 4
}