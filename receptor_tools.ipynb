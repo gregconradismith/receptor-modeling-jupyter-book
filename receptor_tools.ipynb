{
 "cells": [
  {
   "cell_type": "markdown",
   "metadata": {
    "collapsed": false
   },
   "source": [
    "# Receptor Tools\n",
    "\n"
   ]
  },
  {
   "cell_type": "code",
   "execution_count": 55,
   "metadata": {
    "collapsed": false
   },
   "outputs": [
   ],
   "source": [
    "def mydoc(myfun,method='both'):\n",
    "    r\"\"\"\n",
    "    Display the **signature** of `myfun` followed by the **docstring** of `myfun`.\n",
    "    Set `method ='signature'` or `'method = 'docstring'` or `'method = 'both'`\n",
    "    \"\"\"\n",
    "    import inspect\n",
    "    from IPython.display import display, Markdown, Latex, display_markdown\n",
    "\n",
    "    if method == 'signature' or method == 'both':\n",
    "        from inspect import signature\n",
    "        display(Markdown(\"**`\"+str(myfun.__name__)+str(signature(myfun))+\"`**\"))\n",
    "    if method == 'docstring' or method == 'both': \n",
    "        display(Markdown(inspect.getdoc(myfun)))"
   ]
  },
  {
   "cell_type": "code",
   "execution_count": 56,
   "metadata": {
    "collapsed": false,
    "tags": [
     "remove-input"
    ]
   },
   "outputs": [
    {
     "data": {
      "text/markdown": [
       "**`mydoc(myfun, method='both')`**"
      ],
      "text/plain": [
       "<IPython.core.display.Markdown object>"
      ]
     },
     "execution_count": 56,
     "metadata": {
     },
     "output_type": "execute_result"
    },
    {
     "data": {
      "text/markdown": [
       "Display the **signature** of `myfun` followed by the **docstring** of `myfun`.\n",
       "Set `method ='signature'` or `'method = 'docstring'` or `'method = 'both'`"
      ],
      "text/plain": [
       "<IPython.core.display.Markdown object>"
      ]
     },
     "execution_count": 56,
     "metadata": {
     },
     "output_type": "execute_result"
    }
   ],
   "source": [
    "mydoc(mydoc)"
   ]
  },
  {
   "cell_type": "markdown",
   "metadata": {
    "collapsed": false
   },
   "source": [
    "---"
   ]
  },
  {
   "cell_type": "code",
   "execution_count": 57,
   "metadata": {
    "collapsed": false
   },
   "outputs": [
    {
     "data": {
      "text/markdown": [
       "**`print_graph(G)`**"
      ],
      "text/plain": [
       "<IPython.core.display.Markdown object>"
      ]
     },
     "execution_count": 57,
     "metadata": {
     },
     "output_type": "execute_result"
    },
    {
     "data": {
      "text/markdown": [
       "Prints the vertices and edges of the graph `G`.\n",
       "    "
      ],
      "text/plain": [
       "<IPython.core.display.Markdown object>"
      ]
     },
     "execution_count": 57,
     "metadata": {
     },
     "output_type": "execute_result"
    }
   ],
   "source": [
    "def print_graph(G):\n",
    "    r\"\"\"Prints the vertices and edges of the graph `G`.\n",
    "    \"\"\"\n",
    "    print('vertices:',G.vertices(sort=True))\n",
    "    print('edges:',G.edges(sort=True))\n",
    "\n",
    "mydoc(print_graph)"
   ]
  },
  {
   "cell_type": "markdown",
   "metadata": {
    "collapsed": false
   },
   "source": [
    "---"
   ]
  },
  {
   "cell_type": "code",
   "execution_count": 82,
   "metadata": {
    "collapsed": false
   },
   "outputs": [
    {
     "data": {
      "text/markdown": [
       "**`generator(A, rowsum=True)`**"
      ],
      "text/plain": [
       "<IPython.core.display.Markdown object>"
      ]
     },
     "execution_count": 82,
     "metadata": {
     },
     "output_type": "execute_result"
    },
    {
     "data": {
      "text/markdown": [
       "Creates the generator matrix 'Q' from the adjacency matrix 'A'. By default the sum along each row of 'Q' is zero ('rowsum=True').  For the sum along each column of 'Q' to be zero, set 'rowsum=False'.\n",
       "    "
      ],
      "text/plain": [
       "<IPython.core.display.Markdown object>"
      ]
     },
     "execution_count": 82,
     "metadata": {
     },
     "output_type": "execute_result"
    }
   ],
   "source": [
    "def generator(A,rowsum=True):\n",
    "    r\"\"\"Creates the generator matrix 'Q' from the adjacency matrix 'A'. By default the sum along each row of 'Q' is zero ('rowsum=True').  For the sum along each column of 'Q' to be zero, set 'rowsum=False'.\n",
    "    \"\"\"\n",
    "    if rowsum:\n",
    "        return A-diagonal_matrix(sum(A.T))\n",
    "    else:\n",
    "        return A-diagonal_matrix(sum(A))\n",
    "    \n",
    "mydoc(generator)"
   ]
  },
  {
   "cell_type": "markdown",
   "metadata": {
    "collapsed": false
   },
   "source": [
    "---"
   ]
  },
  {
   "cell_type": "code",
   "execution_count": 85,
   "metadata": {
    "collapsed": false
   },
   "outputs": [
    {
     "data": {
      "text/markdown": [
       "**`hill_diagramatic_method(Q)`**"
      ],
      "text/plain": [
       "<IPython.core.display.Markdown object>"
      ]
     },
     "execution_count": 85,
     "metadata": {
     },
     "output_type": "execute_result"
    },
    {
     "data": {
      "text/markdown": [
       "Returns the spanning tree polynomials rooted in each vertex."
      ],
      "text/plain": [
       "<IPython.core.display.Markdown object>"
      ]
     },
     "execution_count": 85,
     "metadata": {
     },
     "output_type": "execute_result"
    }
   ],
   "source": [
    "def hill_diagramatic_method(Q):\n",
    "    r\"\"\"Returns the spanning tree polynomials rooted in each vertex.\"\"\"\n",
    "    n = Q.nrows()\n",
    "    if Q.ncols() != n:\n",
    "        raise ValueError\n",
    "    z = [0]*n\n",
    "    for i in range(n):\n",
    "        a = [ j for j in range(n) ]\n",
    "        a.remove(i)\n",
    "        z[i] = (-1)^(n-1)*Q[a,a].determinant().simplify_full()\n",
    "    return z\n",
    "\n",
    "mydoc(hill_diagramatic_method)"
   ]
  },
  {
   "cell_type": "code",
   "execution_count": 58,
   "metadata": {
    "collapsed": false,
    "tags": [
     "hide-input"
    ]
   },
   "outputs": [
    {
     "data": {
      "text/markdown": [
       "**`add_vertex_monomials(G=Graph on 0 vertices, method='integer', ring=False)`**"
      ],
      "text/plain": [
       "<IPython.core.display.Markdown object>"
      ]
     },
     "execution_count": 58,
     "metadata": {
     },
     "output_type": "execute_result"
    },
    {
     "data": {
      "text/markdown": [
       "Add monomials to vertices of a graph. \n",
       "\n",
       "The add_vertex_monomials function takes a graph G, as well as optional parameters method and ring. The function creates a new graph H with vertices labeled by monomials. The monomials are chosen based on the number of vertices in G. If the method parameter is set to 'alpha' and the number of vertices in G is less than or equal to 10, the monomials are chosen as alphabetical letters ('a' to 'k'). Otherwise, the monomials are chosen as strings of the form 'a0', 'a1', ..., 'an-1', where n is the number of vertices in G. The function then adds the vertices from G to H using the monomials as labels, and adds the edges from G to H using the monomials as endpoints. If the ring parameter is set to True, the function also creates a polynomial ring V with the chosen monomials and 'invlex' order, and returns both H and V. Otherwise, it returns only H.\n",
       "\n",
       "INPUT:\n",
       "\n",
       "- ``G`` -- graph object (default: `Graph()`);\n",
       "\n",
       "- ``method`` -- integer (default: ``integer``);\n",
       "\n",
       "OUTPUT: \n",
       "\n",
       "- The graph with monomials as vertices"
      ],
      "text/plain": [
       "<IPython.core.display.Markdown object>"
      ]
     },
     "execution_count": 58,
     "metadata": {
     },
     "output_type": "execute_result"
    }
   ],
   "source": [
    "def add_vertex_monomials(G=Graph(),method='integer',ring=False):\n",
    "    r\"\"\"\n",
    "    Add monomials to vertices of a graph. \n",
    "\n",
    "    The add_vertex_monomials function takes a graph G, as well as optional parameters method and ring. The function creates a new graph H with vertices labeled by monomials. The monomials are chosen based on the number of vertices in G. If the method parameter is set to 'alpha' and the number of vertices in G is less than or equal to 10, the monomials are chosen as alphabetical letters ('a' to 'k'). Otherwise, the monomials are chosen as strings of the form 'a0', 'a1', ..., 'an-1', where n is the number of vertices in G. The function then adds the vertices from G to H using the monomials as labels, and adds the edges from G to H using the monomials as endpoints. If the ring parameter is set to True, the function also creates a polynomial ring V with the chosen monomials and 'invlex' order, and returns both H and V. Otherwise, it returns only H.\n",
    "\n",
    "    INPUT:\n",
    "    \n",
    "    - ``G`` -- graph object (default: `Graph()`);\n",
    "    \n",
    "    - ``method`` -- integer (default: ``integer``);\n",
    "    \n",
    "    OUTPUT: \n",
    "    \n",
    "    - The graph with monomials as vertices\n",
    "    \"\"\"\n",
    "    # define a list of possible monomials as strings\n",
    "    monomials_integer=['A','B','C','D','E','F','G','H','I','J','K','L','M','N','O','P','Q','R','S','T','U','V','W','X','Y','Z']\n",
    "    if method=='alpha' and G.order() <= len(monomials_integer):\n",
    "        monomials=monomials_integer[:G.order()]  # use only a subset of the monomials\n",
    "    else: # method='integer' or too many alpha\n",
    "        monomials=['a%s' %(i) for i in range(G.order())]\n",
    "\n",
    "    # create a polynomial ring with names as specified monomials\n",
    "    V=PolynomialRing(ZZ,names=monomials,order='invlex')\n",
    "\n",
    "    # create a new graph H of the same type (directed or undirected) as G\n",
    "    if G.is_directed():\n",
    "        H = DiGraph()\n",
    "    else:\n",
    "        H = Graph()\n",
    "\n",
    "    # add vertices to H as generators of the polynomial ring V\n",
    "    if G.get_pos():\n",
    "        d_pos_G = G.get_pos()\n",
    "        d_pos_H = dict()\n",
    "        for v in G.vertices(sort=True):\n",
    "            H.add_vertex(V.gen(v))\n",
    "            d_pos_H[V.gen(v)]=d_pos_G[v]\n",
    "        H.set_pos(d_pos_H)\n",
    "    else:\n",
    "        for v in G.vertices(sort=True):\n",
    "            H.add_vertex(V.gen(v))\n",
    "            \n",
    "    # add edges to H while mapping the vertices to their corresponding generators in V\n",
    "    for e in G.edges(sort=True):\n",
    "        H.add_edge(V.gen(e[0]),V.gen(e[1]),e[2])\n",
    "\n",
    "    # optionally inject the variable names as symbols in the current namespace\n",
    "    if ring:\n",
    "        # V.inject_variables()\n",
    "        return (H, V)  # return both the created graph H and the polynomial ring V\n",
    "        #var_names = [str(var) for var in V]\n",
    "        #inject_variables(\",\".join(var_names))\n",
    "        #return H, var_names  # return both the created graph H and the variable names\n",
    "    else:\n",
    "        return H  # only return the created graph H\n",
    "\n",
    "mydoc(add_vertex_monomials)"
   ]
  },
  {
   "cell_type": "markdown",
   "metadata": {
    "collapsed": false
   },
   "source": [
    "---"
   ]
  },
  {
   "cell_type": "code",
   "execution_count": 59,
   "metadata": {
    "collapsed": false
   },
   "outputs": [
    {
     "data": {
      "text/markdown": [
       "**`add_edge_monomials(G0, method='integer', edge_vars=['b', 'c', 'd', 'e', 'f', 'g', 'h', 'i', 'j', 'k', 'l', 'm', 'n', 'o', 'p', 'q', 'r', 's', 't', 'u', 'v', 'w', 'x', 'y', 'z'], ring=False, short_name=False)`**"
      ],
      "text/plain": [
       "<IPython.core.display.Markdown object>"
      ]
     },
     "execution_count": 59,
     "metadata": {
     },
     "output_type": "execute_result"
    },
    {
     "data": {
      "text/markdown": [
       "Add monomials to edges of a graph.\n",
       "\n",
       "The add_edge_monomials function takes a graph G, as well as optional parameters method, edge_vars, ring, and short_name. If method is set to 'integer', the function creates a polynomial ring using the given edge variables and assigns variables to the edges of the graph. The edge variables can be represented either as 'e' followed by the first vertex label or the first and second vertex labels concatenated. If the vertex labels are integers and the short_name parameter is set to True, the edge variables are created using only the first vertex label. If method is set to 'alpha', the function creates a polynomial ring using the given edge variables and assigns variables to the edges of the graph in reverse order. The number of edge variables used is determined by the size of the graph. The ring parameter, if set to True, injects the polynomial variables into the global namespace and returns the graph and the polynomial ring. Otherwise, it simply returns the graph.\n",
       "\n",
       "INPUT:\n",
       "\n",
       "- ``G`` -- graph object (default: `Graph()`);\n",
       "\n",
       "- ``method`` -- integer (default: ``integer``);\n",
       "\n",
       "OUTPUT: \n",
       "\n",
       "- The graph with monomials as edges"
      ],
      "text/plain": [
       "<IPython.core.display.Markdown object>"
      ]
     },
     "execution_count": 59,
     "metadata": {
     },
     "output_type": "execute_result"
    }
   ],
   "source": [
    "def add_edge_monomials(G0,method='integer',\n",
    "                       edge_vars=['b','c','d','e','f','g','h','i','j','k','l','m','n','o','p','q','r','s','t','u','v','w','x','y','z'], # no \"a\" here!\n",
    "                       ring=False,short_name=False):\n",
    "    r\"\"\"\n",
    "    Add monomials to edges of a graph.\n",
    "    \n",
    "    The add_edge_monomials function takes a graph G, as well as optional parameters method, edge_vars, ring, and short_name. If method is set to 'integer', the function creates a polynomial ring using the given edge variables and assigns variables to the edges of the graph. The edge variables can be represented either as 'e' followed by the first vertex label or the first and second vertex labels concatenated. If the vertex labels are integers and the short_name parameter is set to True, the edge variables are created using only the first vertex label. If method is set to 'alpha', the function creates a polynomial ring using the given edge variables and assigns variables to the edges of the graph in reverse order. The number of edge variables used is determined by the size of the graph. The ring parameter, if set to True, injects the polynomial variables into the global namespace and returns the graph and the polynomial ring. Otherwise, it simply returns the graph.\n",
    "\n",
    "    INPUT:\n",
    "    \n",
    "    - ``G`` -- graph object (default: `Graph()`);\n",
    "    \n",
    "    - ``method`` -- integer (default: ``integer``);\n",
    "    \n",
    "    OUTPUT: \n",
    "    \n",
    "    - The graph with monomials as edges\n",
    "    \"\"\"\n",
    "    G = G0.copy()\n",
    "    if method=='integer': # method parameter is set to 'integer'\n",
    "        if G.vertices(sort=True)[0]==0: # checking if the vertex labels are integers\n",
    "            if short_name:\n",
    "                edge_vars = ['e%s' %e[0] for e in G.edges(sort=True)] # create a list of edge variables using the first vertex label\n",
    "            else:\n",
    "                edge_vars = ['e%s%s' %(e[0],e[1]) for e in G.edges(sort=True)] # create a list of edge variables using both vertex labels\n",
    "            E=PolynomialRing(ZZ,names=edge_vars,order='invlex') # create a polynomial ring using the edge variables\n",
    "        else:\n",
    "            if short_name:\n",
    "                edge_vars = ['e%s' %e[0] for e in G.edges(sort=True)] # create a list of edge variables using the first vertex label\n",
    "                edge_vars = [ ev.replace('a','') for ev in edge_vars ] # remove 'a' from the edge variables\n",
    "                edge_subscripts = ['%s' %(e[0],e[1]) for e in G.edges(sort=True)] # create a list of edge subscripts using both vertex labels\n",
    "                edge_subscripts = [ ss.replace('a','') for ss in edge_subscripts ] # remove 'a' from edge subscripts\n",
    "            else:\n",
    "                edge_vars = ['e_%s%s' %(e[0],e[1]) for e in G.edges(sort=True)] # create a list of edge variables using both vertex labels\n",
    "                edge_subscripts = ['%s%s' %(e[0],e[1]) for e in G.edges(sort=True)] # create a list of edge subscripts using both vertex labels\n",
    "            edge_names = []\n",
    "            for sub in edge_subscripts:\n",
    "                edge_names.append('e_{\\\\mathit{' + sub.replace('e','e_') + '}}') # create a list of latex names for the edge variables\n",
    "            E=PolynomialRing(ZZ,names=edge_vars,order='invlex') # create a polynomial ring using the edge variables\n",
    "            E._latex_names = edge_names # assign latex names to the polynomial variables\n",
    "        gen=0;\n",
    "        for e in G.edges(sort=True):\n",
    "            G.add_edge(e[0],e[1],E.gen(gen)) # add an edge with the corresponding variable to the graph\n",
    "            gen=gen+1\n",
    "    else: # method parameter is set to 'alpha'\n",
    "        edge_vars = edge_vars[:G.size()] # get the first G.size() edge variables\n",
    "        E=PolynomialRing(ZZ,names=edge_vars,order='invlex') # create a polynomial ring using the edge variables\n",
    "        evars = list(E.gens()[:G.size()]) # create a list of the polynomial variables\n",
    "        evars.reverse()\n",
    "        for e in G.edges(sort=True):\n",
    "            G.add_edge(e[0],e[1],evars.pop()) # add an edge with the corresponding variable to the graph\n",
    "    if ring:\n",
    "        # E.inject_variables() # inject the polynomial variables into the global namespace\n",
    "        return (G, E) # return the graph and the polynomial ring\n",
    "    else:\n",
    "        return G # return the graph\n",
    "    \n",
    "mydoc(add_edge_monomials)"
   ]
  },
  {
   "cell_type": "markdown",
   "metadata": {
    "collapsed": false
   },
   "source": [
    "---"
   ]
  },
  {
   "cell_type": "code",
   "execution_count": 60,
   "metadata": {
    "collapsed": false
   },
   "outputs": [
    {
     "data": {
      "text/markdown": [
       "**`add_edge_monomials_ver2(G, edge_labels='default', prefix='')`**"
      ],
      "text/plain": [
       "<IPython.core.display.Markdown object>"
      ]
     },
     "execution_count": 60,
     "metadata": {
     },
     "output_type": "execute_result"
    },
    {
     "data": {
      "text/markdown": [
       "Add monomials to edges of a graph. \n",
       "\n",
       "[NEED TO WRITE DESCRIPTION]"
      ],
      "text/plain": [
       "<IPython.core.display.Markdown object>"
      ]
     },
     "execution_count": 60,
     "metadata": {
     },
     "output_type": "execute_result"
    }
   ],
   "source": [
    "def add_edge_monomials_ver2(G,edge_labels='default',prefix=''):\n",
    "    r\"\"\"\n",
    "    Add monomials to edges of a graph. \n",
    "\n",
    "    [NEED TO WRITE DESCRIPTION]\n",
    "\n",
    "    \"\"\"\n",
    "    if edge_labels=='default':\n",
    "        if G.to_simple().size() <= 26:\n",
    "            edge_labels=['a','b','c','d','e','f','g','h','i','j','k','l','m','n','o','p','q','r','s','t','u','v','w','x','y','z']\n",
    "        else:\n",
    "            edge_labels=['e%s' %(i) for i in range(G.to_simple().size())]\n",
    "    remaining_edge_labels=edge_labels\n",
    "    for e in G.edges(sort=True):\n",
    "        if edge_labels=='cannonical':\n",
    "            if G.order() <= 9:\n",
    "                if prefix=='':\n",
    "                    G.set_edge_label(e[0],e[1],'(%s,%s)' %(e[0],e[1]))\n",
    "                else:\n",
    "                    G.set_edge_label(e[0],e[1],'%s%s%s' %(prefix,e[0],e[1]))\n",
    "            else:\n",
    "                if prefix=='':\n",
    "                    G.set_edge_label(e[0],e[1],'(%s,%s)' %(e[0],e[1]))\n",
    "                else:\n",
    "                    G.set_edge_label(e[0],e[1],'%s_%s_%s' %(prefix,e[0],e[1]))\n",
    "        else:\n",
    "            if G.is_directed():\n",
    "                if e[0]<e[1]:\n",
    "                    edge_label=remaining_edge_labels.pop(0)\n",
    "                    G.set_edge_label(e[0],e[1],edge_label)\n",
    "                    G.set_edge_label(e[1],e[0],edge_label+'bar')\n",
    "            else:\n",
    "                edge_label=remaining_edge_labels.pop(0)\n",
    "                G.set_edge_label(e[0],e[1],edge_label)\n",
    "    return G\n",
    "\n",
    "mydoc(add_edge_monomials_ver2)"
   ]
  },
  {
   "cell_type": "markdown",
   "metadata": {
    "collapsed": false
   },
   "source": [
    "---"
   ]
  },
  {
   "cell_type": "code",
   "execution_count": 61,
   "metadata": {
    "collapsed": false
   },
   "outputs": [
    {
     "data": {
      "text/markdown": [
       "**`enumerate_allosteric_parameters(G=House Graph: Graph on 5 vertices, **kwargs)`**"
      ],
      "text/plain": [
       "<IPython.core.display.Markdown object>"
      ]
     },
     "execution_count": 61,
     "metadata": {
     },
     "output_type": "execute_result"
    },
    {
     "data": {
      "text/markdown": [
       "Enumerate allosteric parameters of a receptor model.\n",
       "\n",
       "[NEED TO WRITE DESCRIPTION]\n",
       "\n",
       "INPUT:\n",
       "\n",
       "- ``G`` -- graph object (default: `Graph()`);\n",
       "\n",
       "- ``method`` -- integer (default: ``integer``);\n",
       "\n",
       "OUTPUT: \n",
       "\n",
       "- The graph with monomials as vertices"
      ],
      "text/plain": [
       "<IPython.core.display.Markdown object>"
      ]
     },
     "execution_count": 61,
     "metadata": {
     },
     "output_type": "execute_result"
    }
   ],
   "source": [
    "def enumerate_allosteric_parameters(G=graphs.HouseGraph(),**kwargs):\n",
    "    r\"\"\"\n",
    "    Enumerate allosteric parameters of a receptor model.\n",
    "\n",
    "    [NEED TO WRITE DESCRIPTION]\n",
    "\n",
    "    INPUT:\n",
    "    \n",
    "    - ``G`` -- graph object (default: `Graph()`);\n",
    "    \n",
    "    - ``method`` -- integer (default: ``integer``);\n",
    "    \n",
    "    OUTPUT: \n",
    "    \n",
    "    - The graph with monomials as vertices\n",
    "    \"\"\"\n",
    "\n",
    "    defaultKwargs = { 'method': 'integer', 'verbose': False, 'show': False}\n",
    "    kwargs = { **defaultKwargs, **kwargs }\n",
    "    #print(kwargs)\n",
    "\n",
    "    my_method = kwargs['method']\n",
    "    if my_method not in ['integer','alpha']:\n",
    "        raise ValueError(\"enumerate_allosteric_parameters says: method must be 'integer' or 'alpha'.\")\n",
    "\n",
    "    verbose = kwargs['verbose']\n",
    "    myshow = kwargs['show']\n",
    "\n",
    "    if my_method=='alpha':\n",
    "        (G, V) = add_vertex_monomials(G,method='alpha',ring=True)\n",
    "        Groot=V.gen(0)\n",
    "    else:\n",
    "        Groot=0\n",
    "\n",
    "    if verbose or myshow:\n",
    "        G.show(edge_labels=False)\n",
    "\n",
    "    (BFSVertexList,BFSTree) = G.lex_BFS(tree=True,initial_vertex=Groot)\n",
    "    (T,E)=add_edge_monomials(BFSTree,method=my_method,ring=True,short_name=True)\n",
    "    T.set_pos(G.get_pos())\n",
    "\n",
    "    if verbose or myshow:\n",
    "        T.show(edge_labels=True)\n",
    "    if verbose:\n",
    "        show(E)\n",
    "\n",
    "    F = [E(0)]\n",
    "    for v in BFSVertexList[1:]: # every element except the first (the root 0, which has been set to E(0))\n",
    "        P = T.all_paths(v, BFSVertexList[0], use_multiedges=False, report_edges=True, labels=True)\n",
    "        P = P[0] # there is only one path, so take the first\n",
    "        f=0\n",
    "        for p in P:\n",
    "            f = f+p[2]\n",
    "        F.append(f)\n",
    "    nf = len(F) # this should be equal to G.order()\n",
    "\n",
    "    if verbose:\n",
    "        show(F)\n",
    "\n",
    "    KappaVars = []; KappaNames = []\n",
    "    for e in E.gens():\n",
    "        estr = str(e)\n",
    "        if len(estr)!=1:\n",
    "            estr=estr.replace('e','')\n",
    "        KappaVars.append('kappa_'+estr)\n",
    "        KappaNames.append('\\\\kappa_{\\\\mathit{' + estr + '}}')\n",
    "\n",
    "    if verbose:\n",
    "        print(KappaVars)\n",
    "        print(KappaNames)\n",
    "\n",
    "    EtaProb = zeros(nf); EtaMons = zeros(nf); EtaCoef = zeros(nf)\n",
    "    for i0 in range(len(F)):\n",
    "        for i1 in range(len(F)):\n",
    "            fprod=F[i0]*F[i1]\n",
    "            EtaProb[i0][i1]=fprod\n",
    "            EtaMons[i0][i1]=fprod.monomials()\n",
    "            EtaCoef[i0][i1]=fprod.coefficients()\n",
    "\n",
    "    if verbose:\n",
    "        show(table(EtaProb))\n",
    "        show(table(EtaMons))\n",
    "        show(table(EtaCoef))\n",
    "\n",
    "    UniqueMons = []\n",
    "    for mon in sorted(set(flatten(EtaMons))):\n",
    "        UniqueMons.append(mon)\n",
    "\n",
    "    if verbose:\n",
    "        show(UniqueMons)\n",
    "\n",
    "    EtaVars = []; EtaNames = []\n",
    "    for mon in UniqueMons:\n",
    "        vvar = str(mon)\n",
    "        vvar = vvar.replace('*', '')\n",
    "\n",
    "        if my_method=='alpha':\n",
    "            nchar=1\n",
    "        else:\n",
    "            nchar=2\n",
    "        vvar = replace_powers(vvar,nchar)\n",
    "\n",
    "        if my_method=='integer':\n",
    "            vvar = vvar.replace('e','')\n",
    "        EtaVars.append('eta_'+vvar)\n",
    "        EtaNames.append('\\\\eta_{\\\\mathit{' + vvar + '}}')\n",
    "\n",
    "    if verbose:\n",
    "        print(EtaVars)\n",
    "        print(EtaNames)\n",
    "\n",
    "    A=PolynomialRing(ZZ,names=KappaVars+EtaVars,order='invlex')\n",
    "    # A.inject_variables()\n",
    "    A._latex_names = KappaNames+EtaNames\n",
    "    # https://ask.sagemath.org/question/8202/how-to-give-latex-names-to-generators-of-polynomial-rings/\n",
    "\n",
    "    d_vars=dict(zip(list(E.gens())+UniqueMons,list(A.gens())))\n",
    "    d_vars[E(1)]=1\n",
    "\n",
    "    if verbose:\n",
    "        print(d_vars)\n",
    "\n",
    "    KappaProb = zeros(nf); KappaMons = zeros(nf); KappaCoef = zeros(nf);\n",
    "    Kappa = repmat(A(1),nf)\n",
    "    for i0 in range(len(F)):\n",
    "        for i1 in range(0,i0):\n",
    "            Kappa[i0][i1]=0\n",
    "        for i1 in range(i0,len(F)):\n",
    "            fsum = F[i0]+F[i1]\n",
    "            KappaProb[i0][i1]=fsum\n",
    "            KappaMons[i0][i1]=fsum.monomials()\n",
    "            KappaCoef[i0][i1]=fsum.coefficients()\n",
    "            for m in range(len(KappaMons[i0][i1])):\n",
    "                mon = KappaMons[i0][i1][m]\n",
    "                Kappa[i0][i1]*= d_vars[mon]^KappaCoef[i0][i1][m]\n",
    "            if i0!=i1:\n",
    "                Kappa[i0][i1]*=2\n",
    "\n",
    "    if verbose:\n",
    "        print(KappaProb)\n",
    "        print(KappaMons)\n",
    "        print(KappaCoef)\n",
    "        print(Kappa)\n",
    "\n",
    "    Eta = repmat(A(1),nf)\n",
    "    for i0 in range(len(F)):\n",
    "        for i1 in range(0, i0):\n",
    "            Eta[i0][i1] = 0\n",
    "        for i1 in range(i0, len(F)):\n",
    "            for m in range(len(EtaMons[i0][i1])):\n",
    "                mon = EtaMons[i0][i1][m]\n",
    "                Eta[i0][i1] *= d_vars[mon] ** EtaCoef[i0][i1][m]\n",
    "\n",
    "    if verbose:\n",
    "        print(Eta)\n",
    "\n",
    "    KappaEta = table_multiply(Kappa,Eta)\n",
    "\n",
    "    if verbose or myshow:\n",
    "        show(table(KappaEta))\n",
    "\n",
    "    return (G, T, KappaEta, A)\n",
    "\n",
    "mydoc(enumerate_allosteric_parameters)"
   ]
  },
  {
   "cell_type": "markdown",
   "metadata": {
    "collapsed": false
   },
   "source": [
    "---"
   ]
  },
  {
   "cell_type": "code",
   "execution_count": 62,
   "metadata": {
    "collapsed": false
   },
   "outputs": [
   ],
   "source": [
    "def replace_powers(s,nchar=1):\n",
    "    result=''\n",
    "    i=0\n",
    "    while i<len(s):\n",
    "        if s[i:i+2]=='^2':\n",
    "            result+=s[i-nchar:i]\n",
    "            i+=2\n",
    "        else:\n",
    "            result+=s[i]\n",
    "            i+=1\n",
    "    return result"
   ]
  },
  {
   "cell_type": "markdown",
   "metadata": {
    "collapsed": false
   },
   "source": [
    "---"
   ]
  },
  {
   "cell_type": "code",
   "execution_count": 63,
   "metadata": {
    "collapsed": false
   },
   "outputs": [
   ],
   "source": [
    "def table_multiply(Alpha,Beta):\n",
    "    AlphaBeta=[]\n",
    "    for A,B in zip(Alpha,Beta):\n",
    "        AlphaBeta.append([a*b for a,b in zip(A,B)])\n",
    "    return AlphaBeta"
   ]
  },
  {
   "cell_type": "markdown",
   "metadata": {
    "collapsed": false
   },
   "source": [
    "---"
   ]
  },
  {
   "cell_type": "code",
   "execution_count": 64,
   "metadata": {
    "collapsed": false
   },
   "outputs": [
   ],
   "source": [
    "def repmat(value,n,*args):\n",
    "    # n rows and m columns\n",
    "    if args:\n",
    "        m=args[0]\n",
    "    else:\n",
    "        m=n\n",
    "    return [[value] * m for _ in range(n)]"
   ]
  },
  {
   "cell_type": "markdown",
   "metadata": {
    "collapsed": false
   },
   "source": [
    "---"
   ]
  },
  {
   "cell_type": "code",
   "execution_count": 65,
   "metadata": {
    "collapsed": false
   },
   "outputs": [
   ],
   "source": [
    "def zeros(n,*args):\n",
    "    if args:\n",
    "        m=args[0]\n",
    "    else:\n",
    "        m=n\n",
    "    return repmat(0,n,m)"
   ]
  },
  {
   "cell_type": "markdown",
   "metadata": {
    "collapsed": false
   },
   "source": [
    "---"
   ]
  },
  {
   "cell_type": "code",
   "execution_count": 66,
   "metadata": {
    "collapsed": false
   },
   "outputs": [
   ],
   "source": [
    "def ones(n,*args):\n",
    "    if args:\n",
    "        m=args[0]\n",
    "    else:\n",
    "        m=n\n",
    "    return repmat(1,n,m)"
   ]
  },
  {
   "cell_type": "markdown",
   "metadata": {
    "collapsed": false
   },
   "source": [
    "---"
   ]
  },
  {
   "cell_type": "code",
   "execution_count": 67,
   "metadata": {
    "collapsed": false
   },
   "outputs": [
   ],
   "source": [
    "def normalize(phi):\n",
    "    import numpy as np\n",
    "    phi_sum = np.sum(phi)\n",
    "    return np.array([np.divide(p,phi_sum) for p in phi])"
   ]
  },
  {
   "cell_type": "markdown",
   "metadata": {
    "collapsed": false
   },
   "source": [
    "---"
   ]
  },
  {
   "cell_type": "code",
   "execution_count": 68,
   "metadata": {
    "collapsed": false
   },
   "outputs": [
   ],
   "source": [
    "def random_binary_array(n_states):\n",
    "    import numpy as np\n",
    "    import random\n",
    "    return np.random.randint(2, size=n_states)"
   ]
  },
  {
   "cell_type": "markdown",
   "metadata": {
    "collapsed": false
   },
   "source": [
    "---"
   ]
  },
  {
   "cell_type": "code",
   "execution_count": 69,
   "metadata": {
    "collapsed": false
   },
   "outputs": [
   ],
   "source": [
    "def make_random_q(n_states):\n",
    "    import numpy as np\n",
    "    import random\n",
    "    q = np.random.uniform(low=0,high=10,size=n_states)\n",
    "    q[0]=1\n",
    "    return q"
   ]
  },
  {
   "cell_type": "markdown",
   "metadata": {
    "collapsed": false
   },
   "source": [
    "---"
   ]
  },
  {
   "cell_type": "code",
   "execution_count": 70,
   "metadata": {
    "collapsed": false
   },
   "outputs": [
   ],
   "source": [
    "def pade(phi_list,q_list,x_list):\n",
    "    import numpy as np\n",
    "\n",
    "    num = np.zeros(x_list.size)\n",
    "    den = np.zeros(x_list.size)\n",
    "    for i, (phi, q) in enumerate(zip(phi_list,q_list)):\n",
    "        num = np.add(num,[phi*q*x**i for x in x_list])\n",
    "        den = np.add(den,[q*x**i for x in x_list])\n",
    "    return np.divide(num,den)"
   ]
  },
  {
   "cell_type": "markdown",
   "metadata": {
    "collapsed": false
   },
   "source": [
    "---"
   ]
  },
  {
   "cell_type": "code",
   "execution_count": 71,
   "metadata": {
    "collapsed": false
   },
   "outputs": [
   ],
   "source": [
    "def make_simulated_data(phi,q,xlogmin=-3,xlogmax=3,xnum=20,noise=0):\n",
    "    import numpy as np\n",
    "    import random\n",
    "\n",
    "    if len(q)!=len(phi):\n",
    "        raise ValueError(\"make_simulated_data says: phi and q are not the same length.\")\n",
    "    if q[0]!=1:\n",
    "        print('Warning: Setting q0 to 1.')\n",
    "        q[0]=1\n",
    "\n",
    "    x = np.logspace(xlogmin,xlogmax,xnum)\n",
    "    y = pade(phi,q,x) + np.random.normal(size=x.size, scale=noise)\n",
    "    return (x,y)"
   ]
  },
  {
   "cell_type": "markdown",
   "metadata": {
    "collapsed": false
   },
   "source": [
    "---"
   ]
  },
  {
   "cell_type": "code",
   "execution_count": 72,
   "metadata": {
    "collapsed": false
   },
   "outputs": [
   ],
   "source": [
    "def dimerize(phi):\n",
    "    n = len(phi)\n",
    "    Phi = zeros(n)\n",
    "    for i0 in range(n):\n",
    "        for i1 in range(i0,n):\n",
    "            Phi[i0][i1] = phi[i0]*phi[i1]\n",
    "            if i0==i1:\n",
    "                Phi[i0][i1]*=2\n",
    "    return Phi"
   ]
  },
  {
   "cell_type": "markdown",
   "metadata": {
    "collapsed": false
   },
   "source": [
    "---"
   ]
  },
  {
   "cell_type": "code",
   "execution_count": 73,
   "metadata": {
    "collapsed": false
   },
   "outputs": [
   ],
   "source": [
    "def make_symbolic_dimer_binding_curve(Phi,KappaEta):\n",
    "    n=len(Phi)\n",
    "    num=0; den = 0;\n",
    "    for i0 in range(n):\n",
    "        for i1 in range(i0,n):\n",
    "            num += Phi[i0][i1]*KappaEta[i0][i1]\n",
    "            den += KappaEta[i0][i1]\n",
    "    return num/den"
   ]
  },
  {
   "cell_type": "markdown",
   "metadata": {
    "collapsed": false
   },
   "source": [
    "---"
   ]
  },
  {
   "cell_type": "code",
   "execution_count": 74,
   "metadata": {
    "collapsed": false
   },
   "outputs": [
   ],
   "source": [
    "def transition_and_context(f,t):\n",
    "    # f=from tuple, t=to tuple\n",
    "    if len(f)!=len(t):\n",
    "        raise ValueError('Tuples must be the same size.')\n",
    "    f=sorted(list(f));\n",
    "    t=sorted(list(t));\n",
    "    def remove_common_item():\n",
    "        for tt in t:\n",
    "            for ff in f:\n",
    "                if ff==tt:\n",
    "                    f.remove(ff)\n",
    "                    t.remove(ff)\n",
    "                    return ff\n",
    "        return []\n",
    "    context=[];\n",
    "    while 1:\n",
    "        c=remove_common_item()\n",
    "        if c==[]:\n",
    "            return f[0],t[0],context\n",
    "        else:\n",
    "            context.append(c)\n",
    "    end"
   ]
  },
  {
   "cell_type": "markdown",
   "metadata": {
    "collapsed": false
   },
   "source": [
    "---"
   ]
  },
  {
   "cell_type": "code",
   "execution_count": 75,
   "metadata": {
    "collapsed": false
   },
   "outputs": [
   ],
   "source": [
    "def combinatorial_coefficient(f,t):\n",
    "    # f=from tuple, t=to tuple\n",
    "    ff,tt,context=transition_and_context(f,t)\n",
    "    coeff=1\n",
    "    for c in context:\n",
    "        if c==ff:\n",
    "            coeff=coeff+1;\n",
    "    return coeff"
   ]
  },
  {
   "cell_type": "markdown",
   "metadata": {
    "collapsed": false
   },
   "source": [
    "---"
   ]
  },
  {
   "cell_type": "code",
   "execution_count": 76,
   "metadata": {
    "collapsed": false
   },
   "outputs": [
    {
     "data": {
      "text/markdown": [
       "**`cartesian_power(G, k=2, edge_labels='cannonical')`**"
      ],
      "text/plain": [
       "<IPython.core.display.Markdown object>"
      ]
     },
     "execution_count": 76,
     "metadata": {
     },
     "output_type": "execute_result"
    },
    {
     "data": {
      "text/markdown": [
       "Construct Cartesian power of a graph.\n",
       "\n",
       "[NEED TO WRITE DESCRIPTION]"
      ],
      "text/plain": [
       "<IPython.core.display.Markdown object>"
      ]
     },
     "execution_count": 76,
     "metadata": {
     },
     "output_type": "execute_result"
    }
   ],
   "source": [
    "def cartesian_power(G, k=2, edge_labels='cannonical'):\n",
    "    r\"\"\"\n",
    "    Construct Cartesian power of a graph.\n",
    "\n",
    "    [NEED TO WRITE DESCRIPTION]\n",
    "\n",
    "    \"\"\"\n",
    "    # Make Cartesian power G^k (unreduced)\n",
    "    Gk=G\n",
    "    for i in range(k-1):\n",
    "        Gk = Gk.cartesian_product(G)\n",
    "    # Make each vertex a tuple\n",
    "    vflat=list(range(Gk.order()));\n",
    "    for i in range(Gk.order()):\n",
    "        v=Gk.vertices(sort=True)[i]\n",
    "        #print(i,v,flatten(v))\n",
    "        vflat[i]=tuple(flatten(v))\n",
    "    Gk.relabel(vflat)\n",
    "    if edge_labels=='cannonical':\n",
    "        Gk = add_edge_monomials_ver2(Gk,edge_labels='cannonical')\n",
    "        #Gk = add_edge_monomials(Gk)\n",
    "    return Gk\n",
    "\n",
    "mydoc(cartesian_power)"
   ]
  },
  {
   "cell_type": "markdown",
   "metadata": {
    "collapsed": false
   },
   "source": [
    "---"
   ]
  },
  {
   "cell_type": "code",
   "execution_count": 0,
   "metadata": {
    "collapsed": false
   },
   "outputs": [
   ],
   "source": [
   ]
  },
  {
   "cell_type": "code",
   "execution_count": 77,
   "metadata": {
    "collapsed": false
   },
   "outputs": [
    {
     "data": {
      "text/markdown": [
       "**`reduced_cartesian_power(G, k=2, edge_labels='cannonical', prefix='', independent=False)`**"
      ],
      "text/plain": [
       "<IPython.core.display.Markdown object>"
      ]
     },
     "execution_count": 77,
     "metadata": {
     },
     "output_type": "execute_result"
    },
    {
     "data": {
      "text/markdown": [
       "Construct reduced Cartesian power of a graph.\n",
       "\n",
       "[NEED TO WRITE DESCRIPTION]"
      ],
      "text/plain": [
       "<IPython.core.display.Markdown object>"
      ]
     },
     "execution_count": 77,
     "metadata": {
     },
     "output_type": "execute_result"
    }
   ],
   "source": [
    "def reduced_cartesian_power(G, k=2, edge_labels='cannonical',prefix='',independent=false):\n",
    "    r\"\"\"\n",
    "    Construct reduced Cartesian power of a graph.\n",
    "\n",
    "    [NEED TO WRITE DESCRIPTION]\n",
    "    \n",
    "    \"\"\"\n",
    "    Gk = cartesian_power(G, k, edge_labels)\n",
    "    for v in Gk.vertices(sort=True):\n",
    "        for u in Gk.vertices(sort=True):\n",
    "            sv=tuple(sorted(v))\n",
    "            su=tuple(sorted(u))\n",
    "            if v!=u and sv==su and v<u and Gk.has_vertex(v) and Gk.has_vertex(u):\n",
    "                Gk.merge_vertices([v,u])\n",
    "    if edge_labels=='induced':\n",
    "        for e in Gk.edges(sort=True):\n",
    "            fr,to,context=transition_and_context(e[0],e[1])\n",
    "            if prefix=='':\n",
    "                Gk.set_edge_label(e[0],e[1],'(%s,%s)%s' %(fr,to,context))\n",
    "            else:\n",
    "                if independent:\n",
    "                    Gk.set_edge_label(e[0],e[1],prefix+'%s%s' %(fr,to))\n",
    "                else:\n",
    "                    ctxt=''\n",
    "                    for k in context:\n",
    "                        if G.order() <= 9:\n",
    "                            ctxt=ctxt+str(k)\n",
    "                        else:\n",
    "                            ctxt=ctxt+'_'+str(k)\n",
    "                        Gk.set_edge_label(e[0],e[1],prefix+'%s%s_%s' %(fr,to,ctxt))\n",
    "    return Gk\n",
    "\n",
    "mydoc(reduced_cartesian_power)"
   ]
  },
  {
   "cell_type": "markdown",
   "metadata": {
    "collapsed": false
   },
   "source": [
    "---"
   ]
  },
  {
   "cell_type": "code",
   "execution_count": 0,
   "metadata": {
    "collapsed": false
   },
   "outputs": [
   ],
   "source": [
    "def reduced_cartesian_power_ver2(G, k, contexts=True, edge_labels=True):\n",
    "    V=G.vertices(sort=True)\n",
    "    if V[0]!=0: # construct reduced Cartesian power using monomials\n",
    "        f=1\n",
    "        for kk in range(k):\n",
    "            f=f*sum(G.vertices(sort=True))\n",
    "        fmon = f.monomials()\n",
    "        fmon.reverse()\n",
    "        if G.is_directed():\n",
    "            Gk = DiGraph()\n",
    "        else: \n",
    "            Gk = Graph()\n",
    "        for fi in fmon: \n",
    "            for fj in fmon:\n",
    "                df=fj/fi\n",
    "                aj=df.numerator()\n",
    "                ai=df.denominator()\n",
    "                if G.has_edge(ai,aj):\n",
    "                    if G.is_directed():\n",
    "                        coeff=fi.degree(ai)\n",
    "                    else:\n",
    "                        coeff=1\n",
    "                    if G.edge_label(ai,aj):\n",
    "                        # tuple\n",
    "                        # Gk.add_edge(fi,fj,(coeff,G.edge_label(ai,aj),fj.gcd(fi)))\n",
    "                        # product \n",
    "                        if contexts:\n",
    "                            Gk.add_edge(fi,fj,coeff*G.edge_label(ai,aj)*fj.gcd(fi))\n",
    "                        else:\n",
    "                            Gk.add_edge(fi,fj,coeff*G.edge_label(ai,aj))\n",
    "                    else:\n",
    "                        Gk.add_edge(fi,fj,(coeff,(ai,aj),fj.gcd(fi)))\n",
    "                        #print(fi,fj,(ai,aj),fj.gcd(fi))\n",
    "    else: # construct reduced Cartesian power using tuples of integers \n",
    "        Gk = cartesian_power(G,k) \n",
    "        for v in Gk.vertices(sort=True): # do reduction by merging vertices  \n",
    "            for u in Gk.vertices(sort=True):\n",
    "                sv=tuple(sorted(v))\n",
    "                su=tuple(sorted(u))\n",
    "                if v!=u and sv==su and v<u and Gk.has_vertex(v) and Gk.has_vertex(u):\n",
    "                    Gk.merge_vertices([v,u])\n",
    "        vcount=[0]*Gk.order()\n",
    "        for i in range(Gk.order()):\n",
    "            vc=[0]*G.order() # yes, G, not Gk, the number of vertices in monomial model \n",
    "            for x in Gk.vertices(sort=True)[i]:\n",
    "                vc[x]=vc[x]+1\n",
    "            vcount[i]=tuple(vc) \n",
    "        Gk.relabel(vcount)\n",
    "        if edge_labels:\n",
    "            for e in Gk.edges(sort=True):\n",
    "                #print(e[0],e[1],coefficient_transition_context_from_tuple(e[0],e[1]))\n",
    "                Gk.set_edge_label(e[0],e[1],coefficient_transition_context_from_tuple(e[0],e[1]))\n",
    "    return Gk\n",
    "\n",
    "mydoc(reduced_cartesian_power_ver2)"
   ]
  },
  {
   "cell_type": "markdown",
   "metadata": {
    "collapsed": false
   },
   "source": [
    "---"
   ]
  },
  {
   "cell_type": "code",
   "execution_count": 78,
   "metadata": {
    "collapsed": false
   },
   "outputs": [
    {
     "data": {
      "text/markdown": [
       "**`combinatorial_laplacian(G, combinatorial_coefficients=False)`**"
      ],
      "text/plain": [
       "<IPython.core.display.Markdown object>"
      ]
     },
     "execution_count": 78,
     "metadata": {
     },
     "output_type": "execute_result"
    },
    {
     "data": {
      "text/markdown": [
       "Construct the combinatorial Laplacian of a graph.\n",
       "\n",
       "[NEED TO WRITE DESCRIPTION]"
      ],
      "text/plain": [
       "<IPython.core.display.Markdown object>"
      ]
     },
     "execution_count": 78,
     "metadata": {
     },
     "output_type": "execute_result"
    }
   ],
   "source": [
    "def combinatorial_laplacian(G,combinatorial_coefficients=false):\n",
    "    r\"\"\"Construct the combinatorial Laplacian of a graph.\n",
    "    \n",
    "    [NEED TO WRITE DESCRIPTION]\n",
    "    \n",
    "    \"\"\"\n",
    "    v=G.vertices(sort=True)\n",
    "    A = matrix(SR, G.order(), lambda i,j: G.edge_label(v[i],v[j]) if G.has_edge(v[i],v[j]) else 0)\n",
    "    if combinatorial_coefficients:\n",
    "        for i in range(G.order()):\n",
    "            for j in range(G.order()):\n",
    "                if G.has_edge(v[i],v[j]):\n",
    "                    A[i,j]=combinatorial_coefficient(v[i],v[j])*A[i,j]\n",
    "    D = diagonal_matrix(sum(A.transpose()))\n",
    "    L=D-A\n",
    "    return L\n",
    "\n",
    "mydoc(combinatorial_laplacian)"
   ]
  },
  {
   "cell_type": "markdown",
   "metadata": {
    "collapsed": false
   },
   "source": [
    "---"
   ]
  },
  {
   "cell_type": "code",
   "execution_count": 79,
   "metadata": {
    "collapsed": false
   },
   "outputs": [
    {
     "data": {
      "text/markdown": [
       "**`tree_polynomial(G, combinatorial_coefficients=False)`**"
      ],
      "text/plain": [
       "<IPython.core.display.Markdown object>"
      ]
     },
     "execution_count": 79,
     "metadata": {
     },
     "output_type": "execute_result"
    },
    {
     "data": {
      "text/markdown": [
       "Construct the tree polynomial of a graph.\n",
       "\n",
       "[NEED TO WRITE DESCRIPTION]"
      ],
      "text/plain": [
       "<IPython.core.display.Markdown object>"
      ]
     },
     "execution_count": 79,
     "metadata": {
     },
     "output_type": "execute_result"
    }
   ],
   "source": [
    "def tree_polynomial(G,combinatorial_coefficients=false):\n",
    "    r\"\"\"\n",
    "    Construct the tree polynomial of a graph.\n",
    "\n",
    "    [NEED TO WRITE DESCRIPTION]\n",
    "    \"\"\"\n",
    "    L=combinatorial_laplacian(G,combinatorial_coefficients)\n",
    "    T=det(L[1:,1:]).expand()\n",
    "    return T\n",
    "\n",
    "mydoc(tree_polynomial)"
   ]
  },
  {
   "cell_type": "markdown",
   "metadata": {
    "collapsed": false
   },
   "source": [
    "---"
   ]
  },
  {
   "cell_type": "code",
   "execution_count": 80,
   "metadata": {
    "collapsed": false
   },
   "outputs": [
   ],
   "source": [
    "def symmetric_directed(G):\n",
    "    D = G.to_directed()\n",
    "    for e in D.edges(sort=True):\n",
    "        if e[2]!=None and e[0]>e[1]:\n",
    "            D.set_edge_label(e[0],e[1],e[2]+'bar')\n",
    "    return D"
   ]
  }
 ],
 "metadata": {
  "interpreter": {
   "hash": "31f2aee4e71d21fbe5cf8b01ff0e069b9275f58929596ceb00d14d90e3e16cd6"
  },
  "kernelspec": {
   "argv": [
    "sage-10.0",
    "--python",
    "-m",
    "sage.repl.ipython_kernel",
    "--matplotlib=inline",
    "-f",
    "{connection_file}"
   ],
   "display_name": "SageMath 10.0",
   "env": {
   },
   "language": "sagemath",
   "metadata": {
    "cocalc": {
     "description": "Open-source mathematical software system",
     "priority": 1,
     "url": "https://www.sagemath.org/"
    }
   },
   "name": "sage-10.0",
   "resource_dir": "/ext/jupyter/kernels/sage-10.0"
  },
  "language_info": {
   "codemirror_mode": {
    "name": "ipython",
    "version": 3
   },
   "file_extension": ".py",
   "mimetype": "text/x-python",
   "name": "python",
   "nbconvert_exporter": "python",
   "pygments_lexer": "ipython3",
   "version": "3.11.1"
  }
 },
 "nbformat": 4,
 "nbformat_minor": 4
}