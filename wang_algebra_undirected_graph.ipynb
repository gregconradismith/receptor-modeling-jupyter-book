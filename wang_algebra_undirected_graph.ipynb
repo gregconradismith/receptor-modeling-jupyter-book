{
 "cells": [
  {
   "cell_type": "markdown",
   "metadata": {
    "collapsed": false
   },
   "source": [
    "# Wang algebra \\- undirected graph\n",
    "\n"
   ]
  },
  {
   "cell_type": "markdown",
   "metadata": {
    "collapsed": false
   },
   "source": [
    "### user provides undirected graph\n",
    "\n"
   ]
  },
  {
   "cell_type": "code",
   "execution_count": 12,
   "metadata": {
    "collapsed": false
   },
   "outputs": [
    {
     "name": "stdout",
     "output_type": "stream",
     "text": [
      "Defining a, b, c, d, e, f\n"
     ]
    },
    {
     "data": {
      "image/png": "[encoded data removed]",
      "text/plain": [
       "Graphics object consisting of 19 graphics primitives"
      ]
     },
     "execution_count": 12,
     "metadata": {
     },
     "output_type": "execute_result"
    }
   ],
   "source": [
    "# Construct Wang ring S with indeterminants corresponding to edges of G\n",
    "way = 1\n",
    "if way == 1:\n",
    "    R=PolynomialRing(GF(2),names=['a','b','c','d','e','f'],order='invlex')\n",
    "    R.inject_variables()\n",
    "    dG = {0: {1:a, 2:c, 4:f}, 1: {2:b}, 2: {3:d}, 3: {4:e}} # House graph\n",
    "    G = Graph(dG,weighted=True)\n",
    "else: # way 2 \n",
    "    #G = graphs.HouseGraph()\n",
    "    #G = graphs.PetersenGraph()\n",
    "    G = graphs.CompleteGraph(5)\n",
    "    R = PolynomialRing(GF(2), ['e%s%s'%(edge[0],edge[1]) for edge in G.edges()]) # over F2\n",
    "    R.inject_variables()\n",
    "    for edge in G.edges(sort=True):\n",
    "        G.set_edge_label(edge[0],edge[1],R('e%s%s'%(edge[0],edge[1])))\n",
    "G.show(edge_labels=True,figsize=5,graph_border=True)"
   ]
  },
  {
   "cell_type": "markdown",
   "metadata": {
    "collapsed": false
   },
   "source": [
    "### code should be autonomous from here"
   ]
  },
  {
   "cell_type": "code",
   "execution_count": 13,
   "metadata": {
    "collapsed": false
   },
   "outputs": [
   ],
   "source": [
    "def shorten(t,max=20,prefix=4,suffix=4):\n",
    "    if len(t.monomials())<=max:\n",
    "        return str(t)\n",
    "    else:\n",
    "        return str(sum(t.monomials()[:prefix])) + '+ ... +' + str(sum(t.monomials()[-suffix:]))"
   ]
  },
  {
   "cell_type": "code",
   "execution_count": 14,
   "metadata": {
    "collapsed": false,
    "scrolled": true
   },
   "outputs": [
    {
     "name": "stdout",
     "output_type": "stream",
     "text": [
      "S is Quotient of Multivariate Polynomial Ring in a, b, c, d, e, f over Finite Field of size 2 by the ideal (a^2, b^2, c^2, d^2, e^2, f^2)\n"
     ]
    }
   ],
   "source": [
    "# Construct Wang ring S with indeterminants corresponding to edges of G\n",
    "I = R.ideal([ e^2 for e in R.gens() ])\n",
    "S = R.quotient(I,names=list(R.gens()))\n",
    "S.inject_variables(verbose=0)\n",
    "print('S is', S)"
   ]
  },
  {
   "cell_type": "code",
   "execution_count": 15,
   "metadata": {
    "collapsed": false
   },
   "outputs": [
    {
     "name": "stdout",
     "output_type": "stream",
     "text": [
      "0 : f + c + a\n",
      "1 : b + a\n",
      "2 : d + c + b\n",
      "3 : e + d\n",
      "4 : f + e\n"
     ]
    }
   ],
   "source": [
    "# Construct polynomial corresonding to edges adjacent to each vertex\n",
    "h=[]\n",
    "for v in G.vertices(sort=True):\n",
    "    h0 = S(0)\n",
    "    for u in G.neighbors(v):\n",
    "        h0 += G.edge_label(v,u)\n",
    "    h.append(h0)\n",
    "    print(v,':',h0)"
   ]
  },
  {
   "cell_type": "code",
   "execution_count": 16,
   "metadata": {
    "collapsed": false
   },
   "outputs": [
    {
     "name": "stdout",
     "output_type": "stream",
     "text": [
      "0 : f + c + a\n",
      "1 : b*f + a*f + b*c + a*c + a*b\n",
      "2 : b*d*f + a*d*f + b*c*f + a*c*f + a*b*f + b*c*d + a*c*d + a*b*d\n",
      "3 : b*d*e*f + a*d*e*f+ ... +a*c*d*e + a*b*d*e\n",
      "4 : 0\n"
     ]
    }
   ],
   "source": [
    "# Calculate products of these polynomials in Wang ring S\n",
    "hprod = [1]\n",
    "for v in range(G.order()):\n",
    "    hprod.append(hprod[-1]*h[v])\n",
    "    print(v,':',shorten(hprod[-1],10,2,2))"
   ]
  },
  {
   "cell_type": "code",
   "execution_count": 17,
   "metadata": {
    "collapsed": false,
    "scrolled": true
   },
   "outputs": [
    {
     "name": "stdout",
     "output_type": "stream",
     "text": [
      "tree polynomial of G has 11 terms\n",
      "\n",
      "b*d*e*f + a*d*e*f + b*c*e*f + a*c*e*f + a*b*e*f + b*c*d*f + a*c*d*f + a*b*d*f + b*c*d*e + a*c*d*e + a*b*d*e\n"
     ]
    }
   ],
   "source": [
    "t = hprod[-2]\n",
    "print('tree polynomial of G has', len(t.monomials()), 'terms\\n')\n",
    "print(shorten(t,20,4,4))"
   ]
  },
  {
   "cell_type": "code",
   "execution_count": 20,
   "metadata": {
    "collapsed": false
   },
   "outputs": [
    {
     "data": {
      "text/plain": [
       "True"
      ]
     },
     "execution_count": 20,
     "metadata": {
     },
     "output_type": "execute_result"
    }
   ],
   "source": [
    "G0 = copy(G)\n",
    "G0.weighted(False)\n",
    "G0.spanning_trees_count() == len(t.monomials())"
   ]
  },
  {
   "cell_type": "markdown",
   "metadata": {
    "collapsed": false
   },
   "source": [
   ]
  },
  {
   "cell_type": "code",
   "execution_count": 21,
   "metadata": {
    "collapsed": false
   },
   "outputs": [
    {
     "name": "stdout",
     "output_type": "stream",
     "text": [
      "b*d*e*f + a*d*e*f + b*c*e*f + a*c*e*f + a*b*e*f + b*c*d*f + a*c*d*f + a*b*d*f + b*c*d*e + a*c*d*e + a*b*d*e\n"
     ]
    }
   ],
   "source": [
    "print(G.spanning_trees_count()) # this sometimes works "
   ]
  },
  {
   "cell_type": "markdown",
   "metadata": {
    "collapsed": false
   },
   "source": [
    "#### "
   ]
  },
  {
   "cell_type": "code",
   "execution_count": 22,
   "metadata": {
    "collapsed": false
   },
   "outputs": [
    {
     "data": {
      "text/plain": [
       "<class 'sage.rings.polynomial.multi_polynomial_libsingular.MPolynomial_libsingular'>"
      ]
     },
     "execution_count": 22,
     "metadata": {
     },
     "output_type": "execute_result"
    }
   ],
   "source": [
   ]
  }
 ],
 "metadata": {
  "kernelspec": {
   "argv": [
    "sage-10.3",
    "--python",
    "-m",
    "sage.repl.ipython_kernel",
    "--matplotlib=inline",
    "-f",
    "{connection_file}"
   ],
   "display_name": "SageMath 10.3",
   "env": {
   },
   "language": "sagemath",
   "metadata": {
    "cocalc": {
     "description": "Open-source mathematical software system",
     "priority": 10,
     "url": "https://www.sagemath.org/"
    }
   },
   "name": "sage-10.3",
   "resource_dir": "/ext/jupyter/kernels/sage-10.3"
  },
  "language_info": {
   "codemirror_mode": {
    "name": "ipython",
    "version": 3
   },
   "file_extension": ".py",
   "mimetype": "text/x-python",
   "name": "python",
   "nbconvert_exporter": "python",
   "pygments_lexer": "ipython3",
   "version": "3.11.1"
  }
 },
 "nbformat": 4,
 "nbformat_minor": 4
}